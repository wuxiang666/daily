{
 "cells": [
  {
   "cell_type": "markdown",
   "metadata": {},
   "source": [
    "将原始文本转化为词袋"
   ]
  },
  {
   "cell_type": "code",
   "execution_count": 1,
   "metadata": {
    "collapsed": true
   },
   "outputs": [],
   "source": [
    "from sklearn.feature_extraction.text import CountVectorizer"
   ]
  },
  {
   "cell_type": "code",
   "execution_count": 2,
   "metadata": {
    "collapsed": true
   },
   "outputs": [],
   "source": [
    "vectorizer = CountVectorizer(min_df=1)"
   ]
  },
  {
   "cell_type": "code",
   "execution_count": 3,
   "metadata": {
    "collapsed": false
   },
   "outputs": [],
   "source": [
    "# vectorizer.build_analyzer()"
   ]
  },
  {
   "cell_type": "code",
   "execution_count": 4,
   "metadata": {
    "collapsed": false
   },
   "outputs": [],
   "source": [
    "content = ['how to format my hard disk.','hard disk format a problems.']"
   ]
  },
  {
   "cell_type": "code",
   "execution_count": 5,
   "metadata": {
    "collapsed": true
   },
   "outputs": [],
   "source": [
    "X = vectorizer.fit_transform(content)"
   ]
  },
  {
   "cell_type": "code",
   "execution_count": 6,
   "metadata": {
    "collapsed": false
   },
   "outputs": [
    {
     "data": {
      "text/plain": [
       "CountVectorizer(analyzer=u'word', binary=False, decode_error=u'strict',\n",
       "        dtype=<type 'numpy.int64'>, encoding=u'utf-8', input=u'content',\n",
       "        lowercase=True, max_df=1.0, max_features=None, min_df=1,\n",
       "        ngram_range=(1, 1), preprocessor=None, stop_words=None,\n",
       "        strip_accents=None, token_pattern=u'(?u)\\\\b\\\\w\\\\w+\\\\b',\n",
       "        tokenizer=None, vocabulary=None)"
      ]
     },
     "execution_count": 6,
     "metadata": {},
     "output_type": "execute_result"
    }
   ],
   "source": [
    "vectorizer"
   ]
  },
  {
   "cell_type": "code",
   "execution_count": 7,
   "metadata": {
    "collapsed": false
   },
   "outputs": [
    {
     "data": {
      "text/plain": [
       "array([[1, 1, 1, 1, 1, 0, 1],\n",
       "       [1, 1, 1, 0, 0, 1, 0]], dtype=int64)"
      ]
     },
     "execution_count": 7,
     "metadata": {},
     "output_type": "execute_result"
    }
   ],
   "source": [
    "X.toarray()"
   ]
  },
  {
   "cell_type": "code",
   "execution_count": 8,
   "metadata": {
    "collapsed": false
   },
   "outputs": [
    {
     "data": {
      "text/plain": [
       "[u'disk', u'format', u'hard', u'how', u'my', u'problems', u'to']"
      ]
     },
     "execution_count": 8,
     "metadata": {},
     "output_type": "execute_result"
    }
   ],
   "source": [
    "vectorizer.get_feature_names()"
   ]
  },
  {
   "cell_type": "code",
   "execution_count": 9,
   "metadata": {
    "collapsed": true
   },
   "outputs": [],
   "source": [
    "path = r'C:\\python\\BuildingMachineLearningSystemsWithPython-master\\ch03\\data\\toy'"
   ]
  },
  {
   "cell_type": "code",
   "execution_count": 10,
   "metadata": {
    "collapsed": true
   },
   "outputs": [],
   "source": [
    "import os"
   ]
  },
  {
   "cell_type": "code",
   "execution_count": 11,
   "metadata": {
    "collapsed": false
   },
   "outputs": [],
   "source": [
    "#获取文件夹下的所有文件信息\n",
    "path = r'C:\\python\\BuildingMachineLearningSystemsWithPython-master\\ch03\\data\\toy'\n",
    "posts = [open(os.path.join(path,i)).read() for i in os.listdir(path)]"
   ]
  },
  {
   "cell_type": "code",
   "execution_count": 12,
   "metadata": {
    "collapsed": false
   },
   "outputs": [
    {
     "data": {
      "text/plain": [
       "['This is a toy post about machine learning. Actually, it contains not much interesting stuff.',\n",
       " 'Imaging databases provide storage capabilities.',\n",
       " 'Most imaging databases save images permanently.\\n',\n",
       " 'Imaging databases store data.',\n",
       " 'Imaging databases store data. Imaging databases store data. Imaging databases store data.']"
      ]
     },
     "execution_count": 12,
     "metadata": {},
     "output_type": "execute_result"
    }
   ],
   "source": [
    "posts"
   ]
  },
  {
   "cell_type": "code",
   "execution_count": 13,
   "metadata": {
    "collapsed": false
   },
   "outputs": [],
   "source": [
    "vectorizer = CountVectorizer(min_df=1)"
   ]
  },
  {
   "cell_type": "code",
   "execution_count": 14,
   "metadata": {
    "collapsed": false
   },
   "outputs": [],
   "source": [
    "X_train = vectorizer.fit_transform(posts)"
   ]
  },
  {
   "cell_type": "code",
   "execution_count": 15,
   "metadata": {
    "collapsed": false
   },
   "outputs": [
    {
     "data": {
      "text/plain": [
       "array([[1, 1, 0, 1, 0, 0, 0, 0, 1, 1, 1, 1, 1, 0, 1, 1, 0, 1, 0, 0, 0, 0,\n",
       "        1, 1, 1],\n",
       "       [0, 0, 1, 0, 0, 1, 0, 1, 0, 0, 0, 0, 0, 0, 0, 0, 0, 0, 1, 0, 1, 0,\n",
       "        0, 0, 0],\n",
       "       [0, 0, 0, 0, 0, 1, 1, 1, 0, 0, 0, 0, 0, 1, 0, 0, 1, 0, 0, 1, 0, 0,\n",
       "        0, 0, 0],\n",
       "       [0, 0, 0, 0, 1, 1, 0, 1, 0, 0, 0, 0, 0, 0, 0, 0, 0, 0, 0, 0, 0, 1,\n",
       "        0, 0, 0],\n",
       "       [0, 0, 0, 0, 3, 3, 0, 3, 0, 0, 0, 0, 0, 0, 0, 0, 0, 0, 0, 0, 0, 3,\n",
       "        0, 0, 0]], dtype=int64)"
      ]
     },
     "execution_count": 15,
     "metadata": {},
     "output_type": "execute_result"
    }
   ],
   "source": [
    "X_train.toarray()"
   ]
  },
  {
   "cell_type": "code",
   "execution_count": 16,
   "metadata": {
    "collapsed": false
   },
   "outputs": [
    {
     "name": "stdout",
     "output_type": "stream",
     "text": [
      "[u'about', u'actually', u'capabilities', u'contains', u'data', u'databases', u'images', u'imaging', u'interesting', u'is', u'it', u'learning', u'machine', u'most', u'much', u'not', u'permanently', u'post', u'provide', u'save', u'storage', u'store', u'stuff', u'this', u'toy']\n"
     ]
    }
   ],
   "source": [
    "print vectorizer.get_feature_names()"
   ]
  },
  {
   "cell_type": "code",
   "execution_count": 17,
   "metadata": {
    "collapsed": false
   },
   "outputs": [
    {
     "name": "stdout",
     "output_type": "stream",
     "text": [
      "5 25\n"
     ]
    }
   ],
   "source": [
    "num_samples, num_features = X_train.shape\n",
    "print num_samples,num_features"
   ]
  },
  {
   "cell_type": "code",
   "execution_count": 18,
   "metadata": {
    "collapsed": true
   },
   "outputs": [],
   "source": [
    "#增加一个新帖子\n",
    "new_post = 'imaging databases'\n",
    "new_post_vec = vectorizer.transform([new_post])"
   ]
  },
  {
   "cell_type": "markdown",
   "metadata": {},
   "source": [
    "注意  在进行transform时候一定要加括号，因为不加括号，程序会人为是字符串中的每个字符。如果加括号就会被人为是一个帖子进行转化。"
   ]
  },
  {
   "cell_type": "code",
   "execution_count": 19,
   "metadata": {
    "collapsed": false
   },
   "outputs": [
    {
     "name": "stdout",
     "output_type": "stream",
     "text": [
      "  (0, 5)\t1\n",
      "  (0, 7)\t1\n"
     ]
    }
   ],
   "source": [
    "print new_post_vec"
   ]
  },
  {
   "cell_type": "code",
   "execution_count": 20,
   "metadata": {
    "collapsed": false
   },
   "outputs": [
    {
     "name": "stdout",
     "output_type": "stream",
     "text": [
      "[[0 0 0 0 0 1 0 1 0 0 0 0 0 0 0 0 0 0 0 0 0 0 0 0 0]]\n"
     ]
    }
   ],
   "source": [
    "print new_post_vec.toarray()"
   ]
  },
  {
   "cell_type": "code",
   "execution_count": 22,
   "metadata": {
    "collapsed": false
   },
   "outputs": [],
   "source": [
    "#计算两个向量之间的欧氏距离\n",
    "import scipy as sp\n",
    "def dist_raw(v1,v2):\n",
    "    delta = v1 - v2\n",
    "    return sp.linalg.norm(delta.toarray())"
   ]
  },
  {
   "cell_type": "markdown",
   "metadata": {},
   "source": [
    "norm()函数用于计算欧几里得范数"
   ]
  },
  {
   "cell_type": "code",
   "execution_count": 23,
   "metadata": {
    "collapsed": false
   },
   "outputs": [
    {
     "name": "stdout",
     "output_type": "stream",
     "text": [
      "imaging databases\n",
      "0 This is a toy post about machine learning. Actually, it contains not much interesting stuff. the simility to new post is: 4.00\n",
      "1 Imaging databases provide storage capabilities. the simility to new post is: 1.73\n",
      "2 Most imaging databases save images permanently.\n",
      "the simility to new post is: 2.00\n",
      "3 Imaging databases store data. the simility to new post is: 1.41\n",
      "4 Imaging databases store data. Imaging databases store data. Imaging databases store data. the simility to new post is: 5.10\n"
     ]
    }
   ],
   "source": [
    "result = [dist_raw(i,new_post_vec) for i in X_train]\n",
    "print new_post\n",
    "count = 0\n",
    "for i,v in zip(posts,result):\n",
    "    print count,i,\"the simility to new post is:\",\"%.2f\" % v\n",
    "    count+=1"
   ]
  },
  {
   "cell_type": "code",
   "execution_count": 24,
   "metadata": {
    "collapsed": false
   },
   "outputs": [
    {
     "name": "stdout",
     "output_type": "stream",
     "text": [
      "[[0 0 0 0 3 3 0 3 0 0 0 0 0 0 0 0 0 0 0 0 0 3 0 0 0]]\n",
      "[[0 0 0 0 1 1 0 1 0 0 0 0 0 0 0 0 0 0 0 0 0 1 0 0 0]]\n"
     ]
    }
   ],
   "source": [
    "#我们看到，帖子1和新帖子是非常相似的，但不是最相似，因为他比帖子3多了1个未出现在新帖子中的词语。然后，帖子三和帖子4内容一样，但重复了三次。\n",
    "print X_train[4].toarray()\n",
    "print X_train[3].toarray()"
   ]
  },
  {
   "cell_type": "markdown",
   "metadata": {},
   "source": [
    "很明显，如果只是统计词频的化太过于简单了，没有进行归一化的化虽然最后一个帖子是对第三个帖子进行的三次重复，但是计算相似性却差别非常大。所以有必要对帖子进行一次归一化，修改函数，不要再原始函数上进行，而是在归一化后的向量上进行，把各个维度上的向量都统一到单位向量上进行度量"
   ]
  },
  {
   "cell_type": "code",
   "execution_count": 25,
   "metadata": {
    "collapsed": true
   },
   "outputs": [],
   "source": [
    "def dist_norm(v1,v2):\n",
    "    v1_normalized = v1/sp.linalg.norm(v1.toarray())\n",
    "    v2_normalized = v2/sp.linalg.norm(v2.toarray())\n",
    "    delta = v1_normalized - v2_normalized\n",
    "    return sp.linalg.norm(delta.toarray())"
   ]
  },
  {
   "cell_type": "code",
   "execution_count": 26,
   "metadata": {
    "collapsed": false
   },
   "outputs": [
    {
     "name": "stdout",
     "output_type": "stream",
     "text": [
      "imaging databases\n",
      "0 This is a toy post about machine learning. Actually, it contains not much interesting stuff. the simility to new post is: 1.41\n",
      "1 Imaging databases provide storage capabilities. the simility to new post is: 0.86\n",
      "2 Most imaging databases save images permanently.\n",
      "the simility to new post is: 0.92\n",
      "3 Imaging databases store data. the simility to new post is: 0.77\n",
      "4 Imaging databases store data. Imaging databases store data. Imaging databases store data. the simility to new post is: 0.77\n"
     ]
    }
   ],
   "source": [
    "result = [dist_norm(i,new_post_vec) for i in X_train]\n",
    "print new_post\n",
    "count = 0\n",
    "for i,v in zip(posts,result):\n",
    "    print count,i,\"the simility to new post is:\",\"%.2f\" % v\n",
    "    count+=1"
   ]
  },
  {
   "cell_type": "markdown",
   "metadata": {},
   "source": [
    "对于帖子2，不包含在新帖子中的词语有most safe images permanently 事实上，他们在帖子中的重要性并不相同，想most这样的词语经常出现在各种不同文本中，这种词叫做停用词。他们并未承载很多信息量，因此不该赋予images这样不京城出现在各个文本中的词语一样的权重。最佳的选择应该是删除这样的高频词语"
   ]
  },
  {
   "cell_type": "code",
   "execution_count": 27,
   "metadata": {
    "collapsed": true
   },
   "outputs": [],
   "source": [
    "vectorizer = CountVectorizer(min_df=1)"
   ]
  },
  {
   "cell_type": "code",
   "execution_count": 28,
   "metadata": {
    "collapsed": false
   },
   "outputs": [],
   "source": [
    "words= [u'我，今天，非常的，开心',u'你，今天， 同样的 很 开心 你搜房搜房#对哦，你好 武']"
   ]
  },
  {
   "cell_type": "code",
   "execution_count": 29,
   "metadata": {
    "collapsed": false
   },
   "outputs": [
    {
     "name": "stdout",
     "output_type": "stream",
     "text": [
      "武\n"
     ]
    }
   ],
   "source": [
    "print u'\\u6b66'"
   ]
  },
  {
   "cell_type": "code",
   "execution_count": 30,
   "metadata": {
    "collapsed": false
   },
   "outputs": [],
   "source": [
    "train_x = vectorizer.fit_transform(words)"
   ]
  },
  {
   "cell_type": "code",
   "execution_count": 31,
   "metadata": {
    "collapsed": false
   },
   "outputs": [
    {
     "name": "stdout",
     "output_type": "stream",
     "text": [
      "今天\n",
      "你好\n",
      "你搜房搜房\n",
      "同样的\n",
      "对哦\n",
      "开心\n",
      "非常的\n"
     ]
    }
   ],
   "source": [
    "for i in vectorizer.get_feature_names():\n",
    "    print i"
   ]
  },
  {
   "cell_type": "code",
   "execution_count": 32,
   "metadata": {
    "collapsed": false
   },
   "outputs": [],
   "source": [
    "new_post_vec = vectorizer.transform([u'妈饿 就是 老子 开心'])"
   ]
  },
  {
   "cell_type": "code",
   "execution_count": 33,
   "metadata": {
    "collapsed": false
   },
   "outputs": [
    {
     "data": {
      "text/plain": [
       "array([[0, 0, 0, 0, 0, 1, 0]], dtype=int64)"
      ]
     },
     "execution_count": 33,
     "metadata": {},
     "output_type": "execute_result"
    }
   ],
   "source": [
    "new_post_vec.toarray()"
   ]
  },
  {
   "cell_type": "code",
   "execution_count": 34,
   "metadata": {
    "collapsed": false
   },
   "outputs": [
    {
     "name": "stdout",
     "output_type": "stream",
     "text": [
      "你搜房搜房\n"
     ]
    }
   ],
   "source": [
    "print vectorizer.get_feature_names()[2]"
   ]
  },
  {
   "cell_type": "code",
   "execution_count": 35,
   "metadata": {
    "collapsed": false
   },
   "outputs": [
    {
     "data": {
      "text/plain": [
       "[1.4142135623730951, 2.2360679774997898]"
      ]
     },
     "execution_count": 35,
     "metadata": {},
     "output_type": "execute_result"
    }
   ],
   "source": [
    "[dist_raw(i,new_post_vec) for i in train_x]"
   ]
  },
  {
   "cell_type": "markdown",
   "metadata": {},
   "source": [
    "经过实践证明，vectorizer分词既可以识别出空格，对于汉字一个字的会进行过滤，也可是识别出逗号。真牛逼！"
   ]
  },
  {
   "cell_type": "markdown",
   "metadata": {},
   "source": [
    "这里接着停用词部分继续"
   ]
  },
  {
   "cell_type": "code",
   "execution_count": 36,
   "metadata": {
    "collapsed": true
   },
   "outputs": [],
   "source": [
    "vectorizer = CountVectorizer(min_df=1,stop_words='english')"
   ]
  },
  {
   "cell_type": "code",
   "execution_count": 37,
   "metadata": {
    "collapsed": false
   },
   "outputs": [
    {
     "data": {
      "text/plain": [
       "['all',\n",
       " 'six',\n",
       " 'less',\n",
       " 'being',\n",
       " 'indeed',\n",
       " 'over',\n",
       " 'move',\n",
       " 'anyway',\n",
       " 'four',\n",
       " 'not',\n",
       " 'own',\n",
       " 'through',\n",
       " 'yourselves',\n",
       " 'fify',\n",
       " 'where',\n",
       " 'mill',\n",
       " 'only',\n",
       " 'find',\n",
       " 'before',\n",
       " 'one']"
      ]
     },
     "execution_count": 37,
     "metadata": {},
     "output_type": "execute_result"
    }
   ],
   "source": [
    "list(vectorizer.get_stop_words())[:20]"
   ]
  },
  {
   "cell_type": "code",
   "execution_count": 38,
   "metadata": {
    "collapsed": true
   },
   "outputs": [],
   "source": [
    "vectorizer = CountVectorizer(min_df=1,stop_words='english')"
   ]
  },
  {
   "cell_type": "code",
   "execution_count": 39,
   "metadata": {
    "collapsed": false
   },
   "outputs": [],
   "source": [
    "X_train = vectorizer.fit_transform(posts)"
   ]
  },
  {
   "cell_type": "code",
   "execution_count": 40,
   "metadata": {
    "collapsed": false
   },
   "outputs": [
    {
     "data": {
      "text/plain": [
       "18"
      ]
     },
     "execution_count": 40,
     "metadata": {},
     "output_type": "execute_result"
    }
   ],
   "source": [
    "len(vectorizer.get_feature_names())\n",
    "#加入停用词后，新词语列表就减少了7个词语"
   ]
  },
  {
   "cell_type": "code",
   "execution_count": 41,
   "metadata": {
    "collapsed": true
   },
   "outputs": [],
   "source": [
    "new_post = 'imaging databases'\n",
    "new_post_vec = vectorizer.transform([new_post])"
   ]
  },
  {
   "cell_type": "code",
   "execution_count": 42,
   "metadata": {
    "collapsed": true
   },
   "outputs": [],
   "source": [
    "def dist_norm(v1,v2):\n",
    "    v1_normalized = v1/sp.linalg.norm(v1.toarray())\n",
    "    v2_normalized = v2/sp.linalg.norm(v2.toarray())\n",
    "    delta = v1_normalized - v2_normalized\n",
    "    return sp.linalg.norm(delta.toarray())"
   ]
  },
  {
   "cell_type": "code",
   "execution_count": 43,
   "metadata": {
    "collapsed": false
   },
   "outputs": [
    {
     "name": "stdout",
     "output_type": "stream",
     "text": [
      "imaging databases\n",
      "0 This is a toy post about machine learning. Actually, it contains not much interesting stuff. the simility to new post is: 1.41\n",
      "1 Imaging databases provide storage capabilities. the simility to new post is: 0.86\n",
      "2 Most imaging databases save images permanently.\n",
      "the simility to new post is: 0.86\n",
      "3 Imaging databases store data. the simility to new post is: 0.77\n",
      "4 Imaging databases store data. Imaging databases store data. Imaging databases store data. the simility to new post is: 0.77\n"
     ]
    }
   ],
   "source": [
    "result = [dist_norm(i,new_post_vec) for i in X_train]\n",
    "print new_post\n",
    "count = 0\n",
    "for i,v in zip(posts,result):\n",
    "    print count,i,\"the simility to new post is:\",\"%.2f\" % v\n",
    "    count+=1"
   ]
  },
  {
   "cell_type": "markdown",
   "metadata": {},
   "source": [
    "第二篇和第三篇帖子看起来旗鼓相当，总和来说，效果并没有明显改变。但如果帖子很长 效果还是非常明显的。通过删除词语的方式，留下的词语的权重就都是一样的了"
   ]
  },
  {
   "cell_type": "code",
   "execution_count": 44,
   "metadata": {
    "collapsed": false
   },
   "outputs": [
    {
     "name": "stdout",
     "output_type": "stream",
     "text": [
      "[[0 0 0 0 1 0 1 0 0 0 0 0 0 0 0 0 0 0]]\n",
      "[[0 0 0 0 1 1 1 0 0 0 1 0 0 1 0 0 0 0]\n",
      " [0 0 0 1 1 0 1 0 0 0 0 0 0 0 0 1 0 0]]\n"
     ]
    }
   ],
   "source": [
    "print new_post_vec.toarray()\n",
    "print X_train.toarray()[[2,3]]"
   ]
  },
  {
   "cell_type": "markdown",
   "metadata": {},
   "source": [
    "语意分析，词干处理。例如对于计算机和电脑  应该归于一类做词频统计，这样更合理"
   ]
  },
  {
   "cell_type": "code",
   "execution_count": 69,
   "metadata": {
    "collapsed": true
   },
   "outputs": [],
   "source": [
    "import nltk.stem"
   ]
  },
  {
   "cell_type": "code",
   "execution_count": 71,
   "metadata": {
    "collapsed": false
   },
   "outputs": [],
   "source": [
    "s = nltk.stem.SnowballStemmer('english')"
   ]
  },
  {
   "cell_type": "code",
   "execution_count": 72,
   "metadata": {
    "collapsed": false
   },
   "outputs": [
    {
     "name": "stdout",
     "output_type": "stream",
     "text": [
      "graphic\n",
      "imag\n",
      "imag\n",
      "imagin\n"
     ]
    }
   ],
   "source": [
    "print s.stem('graphics')\n",
    "print s.stem('imaging')\n",
    "print s.stem('image')\n",
    "print s.stem('imagine')"
   ]
  },
  {
   "cell_type": "code",
   "execution_count": 122,
   "metadata": {
    "collapsed": false
   },
   "outputs": [],
   "source": [
    "import nltk.stem\n",
    "english_stemmer = nltk.stem.SnowballStemmer('english')\n",
    "class StemmedCountVectorizer(CountVectorizer):\n",
    "    def build_analyzer(self):\n",
    "        analyzer = super(StemmedCountVectorizer, self).build_analyzer()\n",
    "        return lambda doc: (english_stemmer.stem(w) for w in analyzer(doc))\n",
    "vectorizer = StemmedCountVectorizer(min_df=1,stop_words='english')"
   ]
  },
  {
   "cell_type": "code",
   "execution_count": 123,
   "metadata": {
    "collapsed": false
   },
   "outputs": [
    {
     "name": "stdout",
     "output_type": "stream",
     "text": [
      "<generator object <genexpr> at 0x000000000911F090>\n"
     ]
    },
    {
     "data": {
      "text/plain": [
       "'This is a toy post about machine learning. Actually, it contains not much interesting stuff.'"
      ]
     },
     "execution_count": 123,
     "metadata": {},
     "output_type": "execute_result"
    }
   ],
   "source": [
    "print vectorizer.build_analyzer()(posts[0])   #build_analyzer的作用是用于分词，并且去停用词\n",
    "posts[0]"
   ]
  },
  {
   "cell_type": "code",
   "execution_count": 124,
   "metadata": {
    "collapsed": false
   },
   "outputs": [],
   "source": [
    "X = vectorizer.fit_transform(posts)"
   ]
  },
  {
   "cell_type": "code",
   "execution_count": 125,
   "metadata": {
    "collapsed": false
   },
   "outputs": [
    {
     "name": "stdout",
     "output_type": "stream",
     "text": [
      "[[1 0 1 0 0 0 1 1 1 0 1 0 0 0 0 1 1]\n",
      " [0 1 0 0 1 1 0 0 0 0 0 1 0 1 0 0 0]\n",
      " [0 0 0 0 1 2 0 0 0 1 0 0 1 0 0 0 0]\n",
      " [0 0 0 1 1 1 0 0 0 0 0 0 0 0 1 0 0]\n",
      " [0 0 0 3 3 3 0 0 0 0 0 0 0 0 3 0 0]]\n"
     ]
    }
   ],
   "source": [
    "print X.toarray()"
   ]
  },
  {
   "cell_type": "code",
   "execution_count": 126,
   "metadata": {
    "collapsed": false
   },
   "outputs": [
    {
     "name": "stdout",
     "output_type": "stream",
     "text": [
      "[[1 0 1 0 0 0 0 1 1 1 0 1 0 0 0 0 1 1]\n",
      " [0 1 0 0 1 0 1 0 0 0 0 0 1 0 1 0 0 0]\n",
      " [0 0 0 0 1 1 1 0 0 0 1 0 0 1 0 0 0 0]\n",
      " [0 0 0 1 1 0 1 0 0 0 0 0 0 0 0 1 0 0]\n",
      " [0 0 0 3 3 0 3 0 0 0 0 0 0 0 0 3 0 0]]\n"
     ]
    }
   ],
   "source": [
    "print X_train.toarray()"
   ]
  },
  {
   "cell_type": "code",
   "execution_count": 127,
   "metadata": {
    "collapsed": false
   },
   "outputs": [
    {
     "data": {
      "text/plain": [
       "[u'actual',\n",
       " u'capabl',\n",
       " u'contain',\n",
       " u'data',\n",
       " u'databas',\n",
       " u'imag',\n",
       " u'interest',\n",
       " u'learn',\n",
       " u'machin',\n",
       " u'perman',\n",
       " u'post',\n",
       " u'provid',\n",
       " u'save',\n",
       " u'storag',\n",
       " u'store',\n",
       " u'stuff',\n",
       " u'toy']"
      ]
     },
     "execution_count": 127,
     "metadata": {},
     "output_type": "execute_result"
    }
   ],
   "source": [
    "vectorizer.get_feature_names()"
   ]
  },
  {
   "cell_type": "code",
   "execution_count": 129,
   "metadata": {
    "collapsed": false
   },
   "outputs": [],
   "source": [
    "new_post = 'imaging databases'\n",
    "new_post_vec = vectorizer.transform([new_post])"
   ]
  },
  {
   "cell_type": "code",
   "execution_count": 130,
   "metadata": {
    "collapsed": true
   },
   "outputs": [],
   "source": [
    "def dist_norm(v1,v2):\n",
    "    v1_normalized = v1/sp.linalg.norm(v1.toarray())\n",
    "    v2_normalized = v2/sp.linalg.norm(v2.toarray())\n",
    "    delta = v1_normalized - v2_normalized\n",
    "    return sp.linalg.norm(delta.toarray())"
   ]
  },
  {
   "cell_type": "code",
   "execution_count": 132,
   "metadata": {
    "collapsed": false
   },
   "outputs": [
    {
     "name": "stdout",
     "output_type": "stream",
     "text": [
      "imaging databases\n",
      "0 This is a toy post about machine learning. Actually, it contains not much interesting stuff. the simility to new post is: 1.41\n",
      "1 Imaging databases provide storage capabilities. the simility to new post is: 0.86\n",
      "2 Most imaging databases save images permanently.\n",
      "the simility to new post is: 0.63\n",
      "3 Imaging databases store data. the simility to new post is: 0.77\n",
      "4 Imaging databases store data. Imaging databases store data. Imaging databases store data. the simility to new post is: 0.77\n"
     ]
    }
   ],
   "source": [
    "result = [dist_norm(i,new_post_vec) for i in X]\n",
    "print new_post\n",
    "count = 0\n",
    "for i,v in zip(posts,result):\n",
    "    print count,i,\"the simility to new post is:\",\"%.2f\" % v\n",
    "    count+=1"
   ]
  },
  {
   "cell_type": "markdown",
   "metadata": {},
   "source": [
    "牛逼  通过词干的处理，我们找到了最终最为相似的帖子"
   ]
  },
  {
   "cell_type": "markdown",
   "metadata": {
    "collapsed": true
   },
   "source": [
    "Tf-Idf   词频-反文档频率\n",
    "- 词频是指在当前文档中该词出现的次数 比 所有文档中出现该词的次数\n",
    "- 反文档频率是指 所有文档数量 比 所有文档中出现该词文档的次数\n",
    "tf-idf的目的是赋予语料库中每个词语不同的权重，对于容易区分的词语赋予权重更大，总出现的词语赋予较低的权重。这样，如果索引词语出现了容易区分的词语，那么和有该词语的帖子就应该有更高的相似度"
   ]
  },
  {
   "cell_type": "code",
   "execution_count": 116,
   "metadata": {
    "collapsed": true
   },
   "outputs": [],
   "source": [
    "import scipy as sp\n",
    "import math\n",
    "def tfidf(term,doc,docset):\n",
    "    tf = float(doc.count(term))/sum(doc.count(term) for doc in docset)  #利用迭代器的方式  真牛鼻！\n",
    "    idf = math.log(float(len(docset))/ (len([doc for doc in docset if term in doc])))\n",
    "    print tf,idf\n",
    "    return tf*idf"
   ]
  },
  {
   "cell_type": "code",
   "execution_count": 115,
   "metadata": {
    "collapsed": false
   },
   "outputs": [
    {
     "data": {
      "text/plain": [
       "[['\\xe4\\xb8\\xad\\xe5\\x9b\\xbd'],\n",
       " ['\\xe4\\xb8\\xad\\xe5\\x9b\\xbd',\n",
       "  '\\xe7\\xbe\\x8e\\xe5\\x9b\\xbd',\n",
       "  '\\xe7\\xbe\\x8e\\xe5\\x9b\\xbd'],\n",
       " ['\\xe4\\xb8\\xad\\xe5\\x9b\\xbd',\n",
       "  '\\xe7\\xbe\\x8e\\xe5\\x9b\\xbd',\n",
       "  '\\xe5\\x8f\\xa4\\xe5\\xb7\\xb4']]"
      ]
     },
     "execution_count": 115,
     "metadata": {},
     "output_type": "execute_result"
    }
   ],
   "source": [
    "a,abb,abc = ['中国'],['中国','美国','美国'],['中国','美国','古巴']\n",
    "D = [a,abb,abc]\n",
    "D"
   ]
  },
  {
   "cell_type": "code",
   "execution_count": 120,
   "metadata": {
    "collapsed": false
   },
   "outputs": [
    {
     "name": "stdout",
     "output_type": "stream",
     "text": [
      "1.0 1.09861228867\n",
      "1.09861228867\n"
     ]
    }
   ],
   "source": [
    "print tfidf('古巴',abc,D)\n",
    "#這个例子很恰当啊"
   ]
  },
  {
   "cell_type": "code",
   "execution_count": 121,
   "metadata": {
    "collapsed": true
   },
   "outputs": [],
   "source": [
    "from sklearn.feature_extraction.text import CountVectorizer\n",
    "from sklearn.feature_extraction.text import TfidfVectorizer"
   ]
  },
  {
   "cell_type": "code",
   "execution_count": 166,
   "metadata": {
    "collapsed": true
   },
   "outputs": [],
   "source": [
    "class StemmedTfidfVectorizer(TfidfVectorizer):\n",
    "    def build_aualyzer(self):\n",
    "        analyzer = supper(TfidfVectorizer,self).build_aualyzer()  #前半句是和自己实例化\n",
    "        return lambda doc:(english_stemmer.stem(w) for w in analyzer(doc))"
   ]
  },
  {
   "cell_type": "code",
   "execution_count": 167,
   "metadata": {
    "collapsed": false
   },
   "outputs": [],
   "source": [
    "vectorizer = StemmedTfidfVectorizer(min_df=1,stop_words='english')"
   ]
  },
  {
   "cell_type": "code",
   "execution_count": 169,
   "metadata": {
    "collapsed": false
   },
   "outputs": [],
   "source": [
    "X_train = vectorizer.fit_transform(posts)"
   ]
  },
  {
   "cell_type": "code",
   "execution_count": 170,
   "metadata": {
    "collapsed": true
   },
   "outputs": [],
   "source": [
    "new_post = 'imaging databases'\n",
    "new_post_vec = vectorizer.transform([new_post])"
   ]
  },
  {
   "cell_type": "code",
   "execution_count": 180,
   "metadata": {
    "collapsed": false
   },
   "outputs": [
    {
     "name": "stdout",
     "output_type": "stream",
     "text": [
      "[[ 0.35355339  0.          0.35355339  0.          0.          0.          0.\n",
      "   0.35355339  0.35355339  0.35355339  0.          0.35355339  0.          0.\n",
      "   0.          0.          0.35355339  0.35355339]\n",
      " [ 0.          0.52451722  0.          0.          0.29550385  0.\n",
      "   0.29550385  0.          0.          0.          0.          0.\n",
      "   0.52451722  0.          0.52451722  0.          0.          0.        ]\n",
      " [ 0.          0.          0.          0.          0.29550385  0.52451722\n",
      "   0.29550385  0.          0.          0.          0.52451722  0.          0.\n",
      "   0.52451722  0.          0.          0.          0.        ]\n",
      " [ 0.          0.          0.          0.57974759  0.40483667  0.\n",
      "   0.40483667  0.          0.          0.          0.          0.          0.\n",
      "   0.          0.          0.57974759  0.          0.        ]\n",
      " [ 0.          0.          0.          0.57974759  0.40483667  0.\n",
      "   0.40483667  0.          0.          0.          0.          0.          0.\n",
      "   0.          0.          0.57974759  0.          0.        ]]\n",
      "------------------------------------------------------------------------------------------------------------\n",
      "[[ 0.          0.          0.          0.          0.70710678  0.\n",
      "   0.70710678  0.          0.          0.          0.          0.          0.\n",
      "   0.          0.          0.          0.          0.        ]]\n"
     ]
    }
   ],
   "source": [
    "print X_train.toarray()\n",
    "print '---'*36\n",
    "print new_post_vec.toarray()"
   ]
  },
  {
   "cell_type": "code",
   "execution_count": 171,
   "metadata": {
    "collapsed": true
   },
   "outputs": [],
   "source": [
    "def dist_norm(v1,v2):\n",
    "    v1_normalized = v1/sp.linalg.norm(v1.toarray())\n",
    "    v2_normalized = v2/sp.linalg.norm(v2.toarray())\n",
    "    delta = v1_normalized - v2_normalized\n",
    "    return sp.linalg.norm(delta.toarray())"
   ]
  },
  {
   "cell_type": "code",
   "execution_count": 172,
   "metadata": {
    "collapsed": false
   },
   "outputs": [
    {
     "name": "stdout",
     "output_type": "stream",
     "text": [
      "imaging databases\n",
      "0 This is a toy post about machine learning. Actually, it contains not much interesting stuff. the simility to new post is: 1.41\n",
      "1 Imaging databases provide storage capabilities. the simility to new post is: 1.08\n",
      "2 Most imaging databases save images permanently.\n",
      "the simility to new post is: 1.08\n",
      "3 Imaging databases store data. the simility to new post is: 0.92\n",
      "4 Imaging databases store data. Imaging databases store data. Imaging databases store data. the simility to new post is: 0.92\n"
     ]
    }
   ],
   "source": [
    "result = [dist_norm(i,new_post_vec) for i in X_train]\n",
    "print new_post\n",
    "count = 0\n",
    "for i,v in zip(posts,result):\n",
    "    print count,i,\"the simility to new post is:\",\"%.2f\" % v\n",
    "    count+=1"
   ]
  },
  {
   "cell_type": "markdown",
   "metadata": {
    "collapsed": true
   },
   "source": [
    "如果不进行词干处理，直接通过tf-idf进行运算，结果会怎样呢？"
   ]
  },
  {
   "cell_type": "code",
   "execution_count": null,
   "metadata": {
    "collapsed": true
   },
   "outputs": [],
   "source": [
    "from sklearn.feature_extraction.text import CountVectorizer\n",
    "from sklearn.feature_extraction.text import TfidfVectorizer"
   ]
  },
  {
   "cell_type": "code",
   "execution_count": 187,
   "metadata": {
    "collapsed": true
   },
   "outputs": [],
   "source": [
    "vectorizer = TfidfVectorizer(min_df=1,stop_words='english')\n",
    "X_train = vectorizer.fit_transform(posts)"
   ]
  },
  {
   "cell_type": "code",
   "execution_count": 188,
   "metadata": {
    "collapsed": false
   },
   "outputs": [],
   "source": [
    "new_post = 'imaging databases'\n",
    "new_post_vec = vectorizer.transform([new_post])"
   ]
  },
  {
   "cell_type": "code",
   "execution_count": 189,
   "metadata": {
    "collapsed": true
   },
   "outputs": [],
   "source": [
    "def dist_norm(v1,v2):\n",
    "    v1_normalized = v1/sp.linalg.norm(v1.toarray())\n",
    "    v2_normalized = v2/sp.linalg.norm(v2.toarray())\n",
    "    delta = v1_normalized - v2_normalized\n",
    "    return sp.linalg.norm(delta.toarray())"
   ]
  },
  {
   "cell_type": "code",
   "execution_count": 186,
   "metadata": {
    "collapsed": false
   },
   "outputs": [
    {
     "name": "stdout",
     "output_type": "stream",
     "text": [
      "imaging databases\n",
      "0 This is a toy post about machine learning. Actually, it contains not much interesting stuff. the simility to new post is: 1.41\n",
      "1 Imaging databases provide storage capabilities. the simility to new post is: 1.08\n",
      "2 Most imaging databases save images permanently.\n",
      "the simility to new post is: 1.08\n",
      "3 Imaging databases store data. the simility to new post is: 0.92\n",
      "4 Imaging databases store data. Imaging databases store data. Imaging databases store data. the simility to new post is: 0.92\n"
     ]
    }
   ],
   "source": [
    "result = [dist_norm(i,new_post_vec) for i in X_train]\n",
    "print new_post\n",
    "count = 0\n",
    "for i,v in zip(posts,result):\n",
    "    print count,i,\"the simility to new post is:\",\"%.2f\" % v\n",
    "    count+=1"
   ]
  },
  {
   "cell_type": "markdown",
   "metadata": {},
   "source": [
    "文本预处理，包含以下步骤：\n",
    "1. 切分文本；\n",
    "2. 扔掉出现频率过于频繁而又对检测相关帖子没有帮助的词语\n",
    "3. 扔掉出现频率过于低，只有很小可能出现在未来帖子中的词语\n",
    "4. 统计剩余词语\n",
    "5. 考虑整个语料库集合，从词频统计中计算tf-idf值"
   ]
  },
  {
   "cell_type": "markdown",
   "metadata": {},
   "source": [
    "词袋模型的缺点：\n",
    "1. 它不涵盖词语之间的关联关系\n",
    "2. 无法正确捕捉否定关系\n",
    "3. 对于拼写错误的词语会处理失败"
   ]
  },
  {
   "cell_type": "markdown",
   "metadata": {},
   "source": [
    "### 聚类"
   ]
  },
  {
   "cell_type": "code",
   "execution_count": 45,
   "metadata": {
    "collapsed": true
   },
   "outputs": [],
   "source": [
    "import os\n",
    "import scipy as sp\n",
    "from scipy.stats import norm\n",
    "from matplotlib import pylab\n",
    "from sklearn.cluster import KMeans\n",
    "import matplotlib.pyplot as plt\n",
    "import seaborn as sns"
   ]
  },
  {
   "cell_type": "code",
   "execution_count": 49,
   "metadata": {
    "collapsed": true
   },
   "outputs": [],
   "source": []
  },
  {
   "cell_type": "code",
   "execution_count": 50,
   "metadata": {
    "collapsed": true
   },
   "outputs": [],
   "source": [
    "%matplotlib inline"
   ]
  },
  {
   "cell_type": "code",
   "execution_count": 51,
   "metadata": {
    "collapsed": false
   },
   "outputs": [
    {
     "data": {
      "text/plain": [
       "<matplotlib.collections.PathCollection at 0xc523630>"
      ]
     },
     "execution_count": 51,
     "metadata": {},
     "output_type": "execute_result"
    },
    {
     "data": {
      "image/png": "[encoded data removed]",
      "text/plain": [
       "<matplotlib.figure.Figure at 0xc36c940>"
      ]
     },
     "metadata": {},
     "output_type": "display_data"
    }
   ],
   "source": [
    "plt.scatter(xw1,yw1,c = 'g')\n",
    "plt.scatter(xw2,yw2,c='r')\n",
    "plt.scatter(xw3,yw3,c='b')"
   ]
  },
  {
   "cell_type": "markdown",
   "metadata": {},
   "source": [
    "关于画图的几个练习"
   ]
  },
  {
   "cell_type": "code",
   "execution_count": 53,
   "metadata": {
    "collapsed": false
   },
   "outputs": [
    {
     "data": {
      "text/html": [
       "<div>\n",
       "<table border=\"1\" class=\"dataframe\">\n",
       "  <thead>\n",
       "    <tr style=\"text-align: right;\">\n",
       "      <th></th>\n",
       "      <th>total_bill</th>\n",
       "      <th>tip</th>\n",
       "      <th>sex</th>\n",
       "      <th>smoker</th>\n",
       "      <th>day</th>\n",
       "      <th>time</th>\n",
       "      <th>size</th>\n",
       "    </tr>\n",
       "  </thead>\n",
       "  <tbody>\n",
       "    <tr>\n",
       "      <th>0</th>\n",
       "      <td>16.99</td>\n",
       "      <td>1.01</td>\n",
       "      <td>Female</td>\n",
       "      <td>No</td>\n",
       "      <td>Sun</td>\n",
       "      <td>Dinner</td>\n",
       "      <td>2</td>\n",
       "    </tr>\n",
       "    <tr>\n",
       "      <th>1</th>\n",
       "      <td>10.34</td>\n",
       "      <td>1.66</td>\n",
       "      <td>Male</td>\n",
       "      <td>No</td>\n",
       "      <td>Sun</td>\n",
       "      <td>Dinner</td>\n",
       "      <td>3</td>\n",
       "    </tr>\n",
       "    <tr>\n",
       "      <th>2</th>\n",
       "      <td>21.01</td>\n",
       "      <td>3.50</td>\n",
       "      <td>Male</td>\n",
       "      <td>No</td>\n",
       "      <td>Sun</td>\n",
       "      <td>Dinner</td>\n",
       "      <td>3</td>\n",
       "    </tr>\n",
       "    <tr>\n",
       "      <th>3</th>\n",
       "      <td>23.68</td>\n",
       "      <td>3.31</td>\n",
       "      <td>Male</td>\n",
       "      <td>No</td>\n",
       "      <td>Sun</td>\n",
       "      <td>Dinner</td>\n",
       "      <td>2</td>\n",
       "    </tr>\n",
       "    <tr>\n",
       "      <th>4</th>\n",
       "      <td>24.59</td>\n",
       "      <td>3.61</td>\n",
       "      <td>Female</td>\n",
       "      <td>No</td>\n",
       "      <td>Sun</td>\n",
       "      <td>Dinner</td>\n",
       "      <td>4</td>\n",
       "    </tr>\n",
       "  </tbody>\n",
       "</table>\n",
       "</div>"
      ],
      "text/plain": [
       "   total_bill   tip     sex smoker  day    time  size\n",
       "0       16.99  1.01  Female     No  Sun  Dinner     2\n",
       "1       10.34  1.66    Male     No  Sun  Dinner     3\n",
       "2       21.01  3.50    Male     No  Sun  Dinner     3\n",
       "3       23.68  3.31    Male     No  Sun  Dinner     2\n",
       "4       24.59  3.61  Female     No  Sun  Dinner     4"
      ]
     },
     "execution_count": 53,
     "metadata": {},
     "output_type": "execute_result"
    }
   ],
   "source": [
    "tips = sns.load_dataset(\"tips\")\n",
    "tips.head()"
   ]
  },
  {
   "cell_type": "code",
   "execution_count": 54,
   "metadata": {
    "collapsed": false
   },
   "outputs": [
    {
     "data": {
      "text/plain": [
       "<matplotlib.axes._subplots.AxesSubplot at 0x79d6eb8>"
      ]
     },
     "execution_count": 54,
     "metadata": {},
     "output_type": "execute_result"
    },
    {
     "data": {
      "image/png": "[encoded data removed]",
      "text/plain": [
       "<matplotlib.figure.Figure at 0xc49e0b8>"
      ]
     },
     "metadata": {},
     "output_type": "display_data"
    }
   ],
   "source": [
    "# sns.set(style=\"white\", color_codes=True)\n",
    "#单变量画图\n",
    "sns.stripplot(tips['total_bill'])"
   ]
  },
  {
   "cell_type": "code",
   "execution_count": 56,
   "metadata": {
    "collapsed": false
   },
   "outputs": [
    {
     "data": {
      "text/plain": [
       "<matplotlib.axes._subplots.AxesSubplot at 0xcbd3f28>"
      ]
     },
     "execution_count": 56,
     "metadata": {},
     "output_type": "execute_result"
    },
    {
     "data": {
      "image/png": "[encoded data removed]",
      "text/plain": [
       "<matplotlib.figure.Figure at 0xd234a20>"
      ]
     },
     "metadata": {},
     "output_type": "display_data"
    }
   ],
   "source": [
    "#分类变量和数值变量画图\n",
    "sns.stripplot(x='day',y='total_bill',data=tips)"
   ]
  },
  {
   "cell_type": "code",
   "execution_count": 61,
   "metadata": {
    "collapsed": false
   },
   "outputs": [
    {
     "data": {
      "image/png": "[encoded data removed]",
      "text/plain": [
       "<matplotlib.figure.Figure at 0xd651240>"
      ]
     },
     "metadata": {},
     "output_type": "display_data"
    }
   ],
   "source": [
    "#上图增加抖动效果\n",
    "ax = sns.stripplot(x='day',y='total_bill',data=tips,jitter=True)"
   ]
  },
  {
   "cell_type": "code",
   "execution_count": 58,
   "metadata": {
    "collapsed": false
   },
   "outputs": [
    {
     "data": {
      "text/plain": [
       "<matplotlib.axes._subplots.AxesSubplot at 0xd33d5c0>"
      ]
     },
     "execution_count": 58,
     "metadata": {},
     "output_type": "execute_result"
    },
    {
     "data": {
      "image/png": "[encoded data removed]",
      "text/plain": [
       "<matplotlib.figure.Figure at 0xd219518>"
      ]
     },
     "metadata": {},
     "output_type": "display_data"
    }
   ],
   "source": [
    "#数值和分类变量位置互换就可以转换为平行坐标图\n",
    "sns.stripplot(y='day',x='total_bill',data=tips,jitter=True)"
   ]
  },
  {
   "cell_type": "code",
   "execution_count": 63,
   "metadata": {
    "collapsed": false
   },
   "outputs": [
    {
     "data": {
      "text/plain": [
       "<matplotlib.axes._subplots.AxesSubplot at 0xde121d0>"
      ]
     },
     "execution_count": 63,
     "metadata": {},
     "output_type": "execute_result"
    },
    {
     "data": {
      "image/png": "[encoded data removed]",
      "text/plain": [
       "<matplotlib.figure.Figure at 0xdd13ef0>"
      ]
     },
     "metadata": {},
     "output_type": "display_data"
    }
   ],
   "source": [
    "#颜色用hue表示\n",
    "sns.stripplot(x=\"sex\", y=\"total_bill\", hue=\"day\",data=tips, jitter=True)"
   ]
  },
  {
   "cell_type": "code",
   "execution_count": 67,
   "metadata": {
    "collapsed": false
   },
   "outputs": [
    {
     "data": {
      "image/png": "[encoded data removed]",
      "text/plain": [
       "<matplotlib.figure.Figure at 0xe015b70>"
      ]
     },
     "metadata": {},
     "output_type": "display_data"
    }
   ],
   "source": [
    "#合并两张图，看整体效果。这张图很重要。\n",
    "ax = sns.violinplot(x=\"day\", y=\"total_bill\", data=tips,inner=None, color=\".8\")\n",
    "ax = sns.stripplot(x=\"day\", y=\"total_bill\", data=tips, jitter=True)"
   ]
  },
  {
   "cell_type": "code",
   "execution_count": 287,
   "metadata": {
    "collapsed": true
   },
   "outputs": [],
   "source": [
    "import seaborn as sns\n",
    "import numpy as np\n",
    "from numpy.random import randn\n",
    "import matplotlib as mpl\n",
    "import matplotlib.pyplot as plt\n",
    "from scipy import stats"
   ]
  },
  {
   "cell_type": "code",
   "execution_count": 288,
   "metadata": {
    "collapsed": true
   },
   "outputs": [],
   "source": [
    "sns.set_palette('deep', desat=.6)\n",
    "sns.set_context(rc={'figure.figsize': (8, 5) } )\n",
    "np.random.seed(1425)"
   ]
  },
  {
   "cell_type": "code",
   "execution_count": 289,
   "metadata": {
    "collapsed": false
   },
   "outputs": [
    {
     "data": {
      "text/plain": [
       "(array([  2.,   5.,   4.,  10.,  12.,  16.,   7.,   7.,   6.,   6.]),\n",
       " array([-2.04713616, -1.64185099, -1.23656582, -0.83128065, -0.42599548,\n",
       "        -0.02071031,  0.38457486,  0.78986003,  1.1951452 ,  1.60043037,\n",
       "         2.00571554]),\n",
       " <a list of 10 Patch objects>)"
      ]
     },
     "execution_count": 289,
     "metadata": {},
     "output_type": "execute_result"
    },
    {
     "data": {
      "image/png": "[encoded data removed]",
      "text/plain": [
       "<matplotlib.figure.Figure at 0xf726b70>"
      ]
     },
     "metadata": {},
     "output_type": "display_data"
    }
   ],
   "source": [
    "data = randn(75)\n",
    "plt.hist(data)"
   ]
  },
  {
   "cell_type": "code",
   "execution_count": 290,
   "metadata": {
    "collapsed": false
   },
   "outputs": [
    {
     "data": {
      "text/plain": [
       "(array([  3.,   6.,   8.,  10.,  14.,  15.,  15.,  11.,   7.,   7.,   2.,\n",
       "          2.]),\n",
       " array([-2.19974846, -1.78742423, -1.3751    , -0.96277576, -0.55045153,\n",
       "        -0.1381273 ,  0.27419693,  0.68652116,  1.09884539,  1.51116962,\n",
       "         1.92349385,  2.33581809,  2.74814232]),\n",
       " <a list of 12 Patch objects>)"
      ]
     },
     "execution_count": 290,
     "metadata": {},
     "output_type": "execute_result"
    },
    {
     "data": {
      "image/png": "[encoded data removed]",
      "text/plain": [
       "<matplotlib.figure.Figure at 0x10c1c518>"
      ]
     },
     "metadata": {},
     "output_type": "display_data"
    }
   ],
   "source": [
    "data = randn(100)\n",
    "plt.hist(data, bins=12, color=sns.desaturate(\"indianred\", .8), alpha=.4)\n"
   ]
  },
  {
   "cell_type": "code",
   "execution_count": 291,
   "metadata": {
    "collapsed": true
   },
   "outputs": [],
   "source": [
    "data1 = stats.poisson(2).rvs(100)\n",
    "data2 = stats.poisson(5).rvs(500)"
   ]
  },
  {
   "cell_type": "code",
   "execution_count": 292,
   "metadata": {
    "collapsed": true
   },
   "outputs": [],
   "source": [
    "max_data = np.r_[data1, data2].max()"
   ]
  },
  {
   "cell_type": "code",
   "execution_count": 311,
   "metadata": {
    "collapsed": false
   },
   "outputs": [
    {
     "data": {
      "text/plain": [
       "(array([ 0.012,  0.04 ,  0.074,  0.15 ,  0.164,  0.174,  0.15 ,  0.098,\n",
       "         0.074,  0.038,  0.012,  0.008,  0.002,  0.004]),\n",
       " array([  0.,   1.,   2.,   3.,   4.,   5.,   6.,   7.,   8.,   9.,  10.,\n",
       "         11.,  12.,  13.,  14.]),\n",
       " <a list of 14 Patch objects>)"
      ]
     },
     "execution_count": 311,
     "metadata": {},
     "output_type": "execute_result"
    },
    {
     "data": {
      "image/png": "[encoded data removed]",
      "text/plain": [
       "<matplotlib.figure.Figure at 0x125bb668>"
      ]
     },
     "metadata": {},
     "output_type": "display_data"
    },
    {
     "data": {
      "image/png": "[encoded data removed]",
      "text/plain": [
       "<matplotlib.figure.Figure at 0x125bb518>"
      ]
     },
     "metadata": {},
     "output_type": "display_data"
    }
   ],
   "source": [
    "bins = np.linspace(0, max_data, max_data+1)\n",
    "plt.hist(data1, bins, normed=True, color=\"#FF0000\", alpha=.9)\n",
    "plt.figure()\n",
    "plt.hist(data2, bins, normed=True, color=\"#C1F320\", alpha=.5)"
   ]
  },
  {
   "cell_type": "code",
   "execution_count": 308,
   "metadata": {
    "collapsed": false
   },
   "outputs": [],
   "source": [
    "bins = bins[:10]"
   ]
  },
  {
   "cell_type": "code",
   "execution_count": 312,
   "metadata": {
    "collapsed": false
   },
   "outputs": [
    {
     "data": {
      "text/plain": [
       "(array([ 0.012,  0.04 ,  0.074,  0.15 ,  0.164,  0.174,  0.15 ,  0.098,\n",
       "         0.074,  0.038,  0.012,  0.008,  0.002,  0.004]),\n",
       " array([  0.,   1.,   2.,   3.,   4.,   5.,   6.,   7.,   8.,   9.,  10.,\n",
       "         11.,  12.,  13.,  14.]),\n",
       " <a list of 14 Patch objects>)"
      ]
     },
     "execution_count": 312,
     "metadata": {},
     "output_type": "execute_result"
    },
    {
     "data": {
      "image/png": "[encoded data removed]",
      "text/plain": [
       "<matplotlib.figure.Figure at 0x106cef28>"
      ]
     },
     "metadata": {},
     "output_type": "display_data"
    }
   ],
   "source": [
    "plt.hist(data1, bins, normed=True, color=\"#FF0000\", alpha=.9)\n",
    "plt.hist(data2, bins, normed=True, color=\"#C1F320\", alpha=.5)"
   ]
  },
  {
   "cell_type": "code",
   "execution_count": 303,
   "metadata": {
    "collapsed": false
   },
   "outputs": [],
   "source": [
    "plt.hist?"
   ]
  },
  {
   "cell_type": "code",
   "execution_count": 313,
   "metadata": {
    "collapsed": true
   },
   "outputs": [],
   "source": [
    "x = stats.gamma(3).rvs(5000);"
   ]
  },
  {
   "cell_type": "code",
   "execution_count": 317,
   "metadata": {
    "collapsed": false
   },
   "outputs": [
    {
     "data": {
      "text/plain": [
       "(array([  19.,   54.,   74.,  127.,  145.,  219.,  190.,  227.,  268.,\n",
       "         236.,  274.,  224.,  254.,  246.,  222.,  208.,  214.,  171.,\n",
       "         183.,  152.,  161.,  117.,  117.,   99.,   87.,   82.,   71.,\n",
       "          64.,   68.,   60.,   43.,   40.,   34.,   27.,   28.,   31.,\n",
       "          21.,   15.,   14.,   15.,   13.,   11.,   10.,    9.,    7.,\n",
       "           8.,    6.,    4.,    3.,    2.,    5.,    1.,    2.,    2.,\n",
       "           0.,    1.,    0.,    2.,    2.,    2.,    1.,    0.,    0.,\n",
       "           1.,    2.,    1.,    0.,    0.,    2.,    0.,    0.,    0.,\n",
       "           0.,    1.,    0.,    0.,    0.,    0.,    0.,    1.]),\n",
       " array([  0.10465498,   0.29346305,   0.48227112,   0.67107919,\n",
       "          0.85988726,   1.04869533,   1.2375034 ,   1.42631148,\n",
       "          1.61511955,   1.80392762,   1.99273569,   2.18154376,\n",
       "          2.37035183,   2.5591599 ,   2.74796797,   2.93677604,\n",
       "          3.12558412,   3.31439219,   3.50320026,   3.69200833,\n",
       "          3.8808164 ,   4.06962447,   4.25843254,   4.44724061,\n",
       "          4.63604868,   4.82485676,   5.01366483,   5.2024729 ,\n",
       "          5.39128097,   5.58008904,   5.76889711,   5.95770518,\n",
       "          6.14651325,   6.33532132,   6.5241294 ,   6.71293747,\n",
       "          6.90174554,   7.09055361,   7.27936168,   7.46816975,\n",
       "          7.65697782,   7.84578589,   8.03459397,   8.22340204,\n",
       "          8.41221011,   8.60101818,   8.78982625,   8.97863432,\n",
       "          9.16744239,   9.35625046,   9.54505853,   9.73386661,\n",
       "          9.92267468,  10.11148275,  10.30029082,  10.48909889,\n",
       "         10.67790696,  10.86671503,  11.0555231 ,  11.24433117,\n",
       "         11.43313925,  11.62194732,  11.81075539,  11.99956346,\n",
       "         12.18837153,  12.3771796 ,  12.56598767,  12.75479574,\n",
       "         12.94360382,  13.13241189,  13.32121996,  13.51002803,\n",
       "         13.6988361 ,  13.88764417,  14.07645224,  14.26526031,\n",
       "         14.45406838,  14.64287646,  14.83168453,  15.0204926 ,  15.20930067]),\n",
       " <a list of 1 Patch objects>)"
      ]
     },
     "execution_count": 317,
     "metadata": {},
     "output_type": "execute_result"
    },
    {
     "data": {
      "image/png": "[encoded data removed]",
      "text/plain": [
       "<matplotlib.figure.Figure at 0xf7cedd8>"
      ]
     },
     "metadata": {},
     "output_type": "display_data"
    }
   ],
   "source": [
    "plt.hist(x, bins=80, histtype=\"stepfilled\", alpha=.8)"
   ]
  },
  {
   "cell_type": "markdown",
   "metadata": {
    "collapsed": true
   },
   "source": [
    "画k-means决策边界"
   ]
  },
  {
   "cell_type": "code",
   "execution_count": 68,
   "metadata": {
    "collapsed": true
   },
   "outputs": [],
   "source": [
    "xw1 = norm(loc=0.3, scale=.15).rvs(20)\n",
    "yw1 = norm(loc=0.3, scale=.15).rvs(20)  #均值0.3，方差0.15\n",
    "\n",
    "xw2 = norm(loc=0.7, scale=.15).rvs(20)\n",
    "yw2 = norm(loc=0.7, scale=.15).rvs(20)\n",
    "\n",
    "xw3 = norm(loc=0.2, scale=.15).rvs(20)\n",
    "yw3 = norm(loc=0.8, scale=.15).rvs(20)\n",
    "\n",
    "x = sp.append(sp.append(xw1, xw2), xw3)\n",
    "y = sp.append(sp.append(yw1, yw2), yw3)"
   ]
  },
  {
   "cell_type": "code",
   "execution_count": 72,
   "metadata": {
    "collapsed": false
   },
   "outputs": [],
   "source": [
    "def plot_clustering(x, y, title, mx=None, ymax=None, xmin=None, km=None):\n",
    "    pylab.figure(num=None, figsize=(8, 6))\n",
    "    if km:\n",
    "        pylab.scatter(x, y, s=50, c=km.predict(list(zip(x, y))))\n",
    "    else:\n",
    "        pylab.scatter(x, y, s=50)\n",
    "\n",
    "    pylab.title(title)\n",
    "    pylab.xlabel(\"Occurrence word 1\")\n",
    "    pylab.ylabel(\"Occurrence word 2\")\n",
    "\n",
    "    pylab.autoscale(tight=True)\n",
    "    pylab.ylim(ymin=0, ymax=1)\n",
    "    pylab.xlim(xmin=0, xmax=1)\n",
    "    pylab.grid(True, linestyle='-', color='0.75')\n",
    "\n",
    "    return pylab"
   ]
  },
  {
   "cell_type": "code",
   "execution_count": 73,
   "metadata": {
    "collapsed": true
   },
   "outputs": [],
   "source": [
    "x = sp.append(sp.append(xw1, xw2), xw3)\n",
    "y = sp.append(sp.append(yw1, yw2), yw3)"
   ]
  },
  {
   "cell_type": "code",
   "execution_count": 74,
   "metadata": {
    "collapsed": false
   },
   "outputs": [
    {
     "data": {
      "text/plain": [
       "<module 'matplotlib.pylab' from 'C:\\Anaconda2\\lib\\site-packages\\matplotlib\\pylab.pyc'>"
      ]
     },
     "execution_count": 74,
     "metadata": {},
     "output_type": "execute_result"
    },
    {
     "data": {
      "image/png": "[encoded data removed]",
      "text/plain": [
       "<matplotlib.figure.Figure at 0xe4765c0>"
      ]
     },
     "metadata": {},
     "output_type": "display_data"
    }
   ],
   "source": [
    "plot_clustering(x, y, \"Vectors\")"
   ]
  },
  {
   "cell_type": "code",
   "execution_count": 80,
   "metadata": {
    "collapsed": true
   },
   "outputs": [],
   "source": [
    "seed = 2\n",
    "sp.random.seed(seed)  # to reproduce the data later on\n",
    "\n",
    "num_clusters = 3"
   ]
  },
  {
   "cell_type": "code",
   "execution_count": 81,
   "metadata": {
    "collapsed": true
   },
   "outputs": [],
   "source": [
    "mx, my = sp.meshgrid(sp.arange(0, 1, 0.001), sp.arange(0, 1, 0.001))"
   ]
  },
  {
   "cell_type": "code",
   "execution_count": 82,
   "metadata": {
    "collapsed": false
   },
   "outputs": [],
   "source": [
    "km = KMeans(init='random', n_clusters=num_clusters, verbose=1,\n",
    "            n_init=1, max_iter=1,\n",
    "            random_state=seed)"
   ]
  },
  {
   "cell_type": "code",
   "execution_count": 83,
   "metadata": {
    "collapsed": false
   },
   "outputs": [
    {
     "name": "stdout",
     "output_type": "stream",
     "text": [
      "Initialization complete\n",
      "Iteration  0, inertia 3.405\n"
     ]
    },
    {
     "data": {
      "text/plain": [
       "KMeans(copy_x=True, init='random', max_iter=1, n_clusters=3, n_init=1,\n",
       "    n_jobs=1, precompute_distances='auto', random_state=2, tol=0.0001,\n",
       "    verbose=1)"
      ]
     },
     "execution_count": 83,
     "metadata": {},
     "output_type": "execute_result"
    }
   ],
   "source": [
    "km.fit(sp.array(list(zip(x, y))))"
   ]
  },
  {
   "cell_type": "code",
   "execution_count": 84,
   "metadata": {
    "collapsed": true
   },
   "outputs": [],
   "source": [
    "Z = km.predict(sp.c_[mx.ravel(), my.ravel()]).reshape(mx.shape)\n"
   ]
  },
  {
   "cell_type": "code",
   "execution_count": 87,
   "metadata": {
    "collapsed": false
   },
   "outputs": [
    {
     "data": {
      "text/plain": [
       "<module 'matplotlib.pylab' from 'C:\\Anaconda2\\lib\\site-packages\\matplotlib\\pylab.pyc'>"
      ]
     },
     "execution_count": 87,
     "metadata": {},
     "output_type": "execute_result"
    },
    {
     "data": {
      "image/png": "[encoded data removed]",
      "text/plain": [
       "<matplotlib.figure.Figure at 0xe61e0f0>"
      ]
     },
     "metadata": {},
     "output_type": "display_data"
    }
   ],
   "source": [
    "plot_clustering(x, y, \"Clustering iteration 1\", km=km)"
   ]
  },
  {
   "cell_type": "code",
   "execution_count": 88,
   "metadata": {
    "collapsed": false
   },
   "outputs": [
    {
     "data": {
      "text/plain": [
       "<matplotlib.image.AxesImage at 0xe83b748>"
      ]
     },
     "execution_count": 88,
     "metadata": {},
     "output_type": "execute_result"
    },
    {
     "data": {
      "image/png": "[encoded data removed]",
      "text/plain": [
       "<matplotlib.figure.Figure at 0xce676d8>"
      ]
     },
     "metadata": {},
     "output_type": "display_data"
    }
   ],
   "source": [
    "pylab.imshow(Z, interpolation='nearest',\n",
    "             extent=(mx.min(), mx.max(), my.min(), my.max()),\n",
    "             cmap=pylab.cm.Blues,\n",
    "             aspect='auto', origin='lower')\n"
   ]
  },
  {
   "cell_type": "code",
   "execution_count": 89,
   "metadata": {
    "collapsed": true
   },
   "outputs": [],
   "source": [
    "c1a, c1b, c1c = km.cluster_centers_"
   ]
  },
  {
   "cell_type": "code",
   "execution_count": 91,
   "metadata": {
    "collapsed": false
   },
   "outputs": [
    {
     "data": {
      "text/plain": [
       "array([[ 0.64620597,  0.74739603],\n",
       "       [ 0.40897156,  0.32805598],\n",
       "       [ 0.07388637,  0.67524985]])"
      ]
     },
     "execution_count": 91,
     "metadata": {},
     "output_type": "execute_result"
    }
   ],
   "source": [
    "km.cluster_centers_"
   ]
  },
  {
   "cell_type": "code",
   "execution_count": null,
   "metadata": {
    "collapsed": true
   },
   "outputs": [],
   "source": []
  },
  {
   "cell_type": "markdown",
   "metadata": {
    "collapsed": true
   },
   "source": [
    "读取新闻数据集并进行分组"
   ]
  },
  {
   "cell_type": "code",
   "execution_count": 6,
   "metadata": {
    "collapsed": true
   },
   "outputs": [],
   "source": [
    "import sklearn.datasets"
   ]
  },
  {
   "cell_type": "code",
   "execution_count": 7,
   "metadata": {
    "collapsed": false
   },
   "outputs": [],
   "source": [
    "path = u'C:\\机器学习与数据处理\\机器学习与系统设计\\ch03\\data'\n",
    "data = sklearn.datasets.load_mlcomp('20news-18828',mlcomp_root=path)"
   ]
  },
  {
   "cell_type": "code",
   "execution_count": 12,
   "metadata": {
    "collapsed": false
   },
   "outputs": [
    {
     "name": "stdout",
     "output_type": "stream",
     "text": [
      "18828\n"
     ]
    }
   ],
   "source": [
    "print len(data.filenames)"
   ]
  },
  {
   "cell_type": "code",
   "execution_count": 13,
   "metadata": {
    "collapsed": false
   },
   "outputs": [
    {
     "data": {
      "text/plain": [
       "[u'alt.atheism',\n",
       " u'comp.graphics',\n",
       " u'comp.os.ms-windows.misc',\n",
       " u'comp.sys.ibm.pc.hardware',\n",
       " u'comp.sys.mac.hardware',\n",
       " u'comp.windows.x',\n",
       " u'misc.forsale',\n",
       " u'rec.autos',\n",
       " u'rec.motorcycles',\n",
       " u'rec.sport.baseball',\n",
       " u'rec.sport.hockey',\n",
       " u'sci.crypt',\n",
       " u'sci.electronics',\n",
       " u'sci.med',\n",
       " u'sci.space',\n",
       " u'soc.religion.christian',\n",
       " u'talk.politics.guns',\n",
       " u'talk.politics.mideast',\n",
       " u'talk.politics.misc',\n",
       " u'talk.religion.misc']"
      ]
     },
     "execution_count": 13,
     "metadata": {},
     "output_type": "execute_result"
    }
   ],
   "source": [
    "data.target_names"
   ]
  },
  {
   "cell_type": "code",
   "execution_count": 15,
   "metadata": {
    "collapsed": false
   },
   "outputs": [],
   "source": [
    "train_data = sklearn.datasets.load_mlcomp('20news-18828','train',mlcomp_root=path)"
   ]
  },
  {
   "cell_type": "code",
   "execution_count": 16,
   "metadata": {
    "collapsed": false
   },
   "outputs": [
    {
     "name": "stdout",
     "output_type": "stream",
     "text": [
      "13180\n"
     ]
    }
   ],
   "source": [
    "print len(train_data.filenames)"
   ]
  },
  {
   "cell_type": "code",
   "execution_count": 17,
   "metadata": {
    "collapsed": true
   },
   "outputs": [],
   "source": [
    "test_data = sklearn.datasets.load_mlcomp('20news-18828','test',mlcomp_root=path)"
   ]
  },
  {
   "cell_type": "code",
   "execution_count": 18,
   "metadata": {
    "collapsed": false
   },
   "outputs": [
    {
     "name": "stdout",
     "output_type": "stream",
     "text": [
      "5648\n"
     ]
    }
   ],
   "source": [
    "print len(test_data.filenames)"
   ]
  },
  {
   "cell_type": "code",
   "execution_count": 19,
   "metadata": {
    "collapsed": true
   },
   "outputs": [],
   "source": [
    "import nltk.stem\n",
    "from sklearn.feature_extraction.text import TfidfVectorizer"
   ]
  },
  {
   "cell_type": "code",
   "execution_count": 20,
   "metadata": {
    "collapsed": true
   },
   "outputs": [],
   "source": [
    "english_stemmer = nltk.stem.SnowballStemmer('english')"
   ]
  },
  {
   "cell_type": "code",
   "execution_count": 21,
   "metadata": {
    "collapsed": true
   },
   "outputs": [],
   "source": [
    "class StemmedTfidfVectorizer(TfidfVectorizer):\n",
    "\n",
    "    def build_analyzer(self):\n",
    "        analyzer = super(TfidfVectorizer, self).build_analyzer()\n",
    "        return lambda doc: (english_stemmer.stem(w) for w in analyzer(doc))\n",
    "\n",
    "vectorizer = StemmedTfidfVectorizer(min_df=10, max_df=0.5,\n",
    "                                    stop_words='english', decode_error='ignore'\n",
    "                                    )\n"
   ]
  },
  {
   "cell_type": "code",
   "execution_count": 22,
   "metadata": {
    "collapsed": true
   },
   "outputs": [],
   "source": [
    "vectorized = vectorizer.fit_transform(train_data.data)"
   ]
  },
  {
   "cell_type": "code",
   "execution_count": 23,
   "metadata": {
    "collapsed": true
   },
   "outputs": [],
   "source": [
    "num_samples, num_features = vectorized.shape"
   ]
  },
  {
   "cell_type": "code",
   "execution_count": 24,
   "metadata": {
    "collapsed": false
   },
   "outputs": [
    {
     "name": "stdout",
     "output_type": "stream",
     "text": [
      "#samples: 13180, #features: 12338\n"
     ]
    }
   ],
   "source": [
    "print(\"#samples: %d, #features: %d\" % (num_samples, num_features))"
   ]
  },
  {
   "cell_type": "code",
   "execution_count": 25,
   "metadata": {
    "collapsed": true
   },
   "outputs": [],
   "source": [
    "from sklearn.cluster import KMeans"
   ]
  },
  {
   "cell_type": "code",
   "execution_count": 27,
   "metadata": {
    "collapsed": false
   },
   "outputs": [
    {
     "name": "stdout",
     "output_type": "stream",
     "text": [
      "Initialization complete\n",
      "Iteration  0, inertia 23110.737\n",
      "Iteration  1, inertia 12457.602\n",
      "Iteration  2, inertia 12348.871\n",
      "Iteration  3, inertia 12301.282\n",
      "Iteration  4, inertia 12277.129\n",
      "Iteration  5, inertia 12262.895\n",
      "Iteration  6, inertia 12251.589\n",
      "Iteration  7, inertia 12243.136\n",
      "Iteration  8, inertia 12236.952\n",
      "Iteration  9, inertia 12231.831\n",
      "Iteration 10, inertia 12227.847\n",
      "Iteration 11, inertia 12224.328\n",
      "Iteration 12, inertia 12220.367\n",
      "Iteration 13, inertia 12216.699\n",
      "Iteration 14, inertia 12215.231\n",
      "Iteration 15, inertia 12213.638\n",
      "Iteration 16, inertia 12212.046\n",
      "Iteration 17, inertia 12210.770\n",
      "Iteration 18, inertia 12210.024\n",
      "Iteration 19, inertia 12209.485\n",
      "Iteration 20, inertia 12209.067\n",
      "Iteration 21, inertia 12208.819\n",
      "Iteration 22, inertia 12208.640\n",
      "Iteration 23, inertia 12208.529\n",
      "Iteration 24, inertia 12208.466\n",
      "Iteration 25, inertia 12208.448\n",
      "Iteration 26, inertia 12208.444\n",
      "Converged at iteration 26\n"
     ]
    }
   ],
   "source": [
    "num_clusters = 50 \n",
    "km = KMeans(n_clusters=num_clusters, n_init=1, verbose=1, random_state=3)\n",
    "clustered = km.fit(vectorized)"
   ]
  },
  {
   "cell_type": "code",
   "execution_count": 28,
   "metadata": {
    "collapsed": false
   },
   "outputs": [
    {
     "name": "stdout",
     "output_type": "stream",
     "text": [
      "km.labels_=[38 43 26 ...,  6  0 15]\n"
     ]
    }
   ],
   "source": [
    "print(\"km.labels_=%s\" % km.labels_)"
   ]
  },
  {
   "cell_type": "code",
   "execution_count": 29,
   "metadata": {
    "collapsed": false
   },
   "outputs": [
    {
     "name": "stdout",
     "output_type": "stream",
     "text": [
      "km.labels_.shape=13180\n"
     ]
    }
   ],
   "source": [
    "print(\"km.labels_.shape=%s\" % km.labels_.shape)"
   ]
  },
  {
   "cell_type": "code",
   "execution_count": 30,
   "metadata": {
    "collapsed": true
   },
   "outputs": [],
   "source": [
    "from sklearn import metrics"
   ]
  },
  {
   "cell_type": "code",
   "execution_count": 32,
   "metadata": {
    "collapsed": true
   },
   "outputs": [],
   "source": [
    "labels = train_data.target"
   ]
  },
  {
   "cell_type": "code",
   "execution_count": 33,
   "metadata": {
    "collapsed": false
   },
   "outputs": [
    {
     "name": "stdout",
     "output_type": "stream",
     "text": [
      "Homogeneity: 0.528\n"
     ]
    }
   ],
   "source": [
    "print(\"Homogeneity: %0.3f\" % metrics.homogeneity_score(labels, km.labels_))"
   ]
  },
  {
   "cell_type": "code",
   "execution_count": 34,
   "metadata": {
    "collapsed": false
   },
   "outputs": [
    {
     "name": "stdout",
     "output_type": "stream",
     "text": [
      "Completeness: 0.460\n"
     ]
    }
   ],
   "source": [
    "print(\"Completeness: %0.3f\" % metrics.completeness_score(labels, km.labels_))"
   ]
  },
  {
   "cell_type": "code",
   "execution_count": 35,
   "metadata": {
    "collapsed": false
   },
   "outputs": [
    {
     "name": "stdout",
     "output_type": "stream",
     "text": [
      "V-measure: 0.492\n"
     ]
    }
   ],
   "source": [
    "print(\"V-measure: %0.3f\" % metrics.v_measure_score(labels, km.labels_))\n"
   ]
  },
  {
   "cell_type": "code",
   "execution_count": 36,
   "metadata": {
    "collapsed": false
   },
   "outputs": [
    {
     "name": "stdout",
     "output_type": "stream",
     "text": [
      "Silhouette Coefficient: 0.007\n"
     ]
    }
   ],
   "source": [
    "print((\"Silhouette Coefficient: %0.3f\" %\n",
    "       metrics.silhouette_score(vectorized, labels, sample_size=1000)))\n"
   ]
  },
  {
   "cell_type": "code",
   "execution_count": 37,
   "metadata": {
    "collapsed": true
   },
   "outputs": [],
   "source": [
    "new_post = \\\n",
    "    \"\"\"Disk drive problems. Hi, I have a problem with my hard disk.\n",
    "After 1 year it is working only sporadically now.\n",
    "I tried to format it, but now it doesn't boot any more.\n",
    "Any ideas? Thanks.\n",
    "\"\"\""
   ]
  },
  {
   "cell_type": "code",
   "execution_count": 38,
   "metadata": {
    "collapsed": true
   },
   "outputs": [],
   "source": [
    "new_post_vec = vectorizer.transform([new_post])"
   ]
  },
  {
   "cell_type": "code",
   "execution_count": 39,
   "metadata": {
    "collapsed": false
   },
   "outputs": [
    {
     "data": {
      "text/plain": [
       "<1x12338 sparse matrix of type '<type 'numpy.float64'>'\n",
       "\twith 13 stored elements in Compressed Sparse Row format>"
      ]
     },
     "execution_count": 39,
     "metadata": {},
     "output_type": "execute_result"
    }
   ],
   "source": [
    "new_post_vec"
   ]
  },
  {
   "cell_type": "code",
   "execution_count": 41,
   "metadata": {
    "collapsed": false
   },
   "outputs": [],
   "source": [
    "new_post_label = km.predict(new_post_vec)[0]"
   ]
  },
  {
   "cell_type": "code",
   "execution_count": 45,
   "metadata": {
    "collapsed": true
   },
   "outputs": [],
   "source": [
    "similar_indices = (km.labels_ == new_post_label).nonzero()[0]"
   ]
  },
  {
   "cell_type": "code",
   "execution_count": 47,
   "metadata": {
    "collapsed": false
   },
   "outputs": [],
   "source": [
    "import scipy as sp\n",
    "similar = []\n",
    "for i in similar_indices:\n",
    "    dist = sp.linalg.norm((new_post_vec - vectorized[i]).toarray())\n",
    "    similar.append((dist, train_data.data[i]))"
   ]
  },
  {
   "cell_type": "code",
   "execution_count": 51,
   "metadata": {
    "collapsed": false
   },
   "outputs": [],
   "source": [
    "similar = sorted(similar)"
   ]
  },
  {
   "cell_type": "code",
   "execution_count": 52,
   "metadata": {
    "collapsed": false
   },
   "outputs": [
    {
     "name": "stdout",
     "output_type": "stream",
     "text": [
      "Count similar: 275\n"
     ]
    }
   ],
   "source": [
    "print(\"Count similar: %i\" % len(similar))"
   ]
  },
  {
   "cell_type": "code",
   "execution_count": 54,
   "metadata": {
    "collapsed": false
   },
   "outputs": [],
   "source": [
    "show_at_1 = similar[0]\n",
    "show_at_2 = similar[int(len(similar) / 10)]\n",
    "show_at_3 = similar[int(len(similar) / 2)]"
   ]
  },
  {
   "cell_type": "code",
   "execution_count": 55,
   "metadata": {
    "collapsed": false
   },
   "outputs": [
    {
     "name": "stdout",
     "output_type": "stream",
     "text": [
      "=== #1 ===\n",
      "(1.0006292085400637, \"From: rogntorb@idt.unit.no (Torbj|rn Rognes)\\nSubject: Adding int. hard disk drive to IIcx\\n\\nI haven't seen much info about how to add an extra internal disk to a\\nmac. We would like to try it, and I wonder if someone had some good\\nadvice.\\n\\nWe have a Mac IIcx with the original internal Quantum 40MB hard disk,\\nand an unusable floppy drive. We also have a new spare Connor 40MB\\ndisk which we would like to use. The idea is to replace the broken\\nfloppy drive with the new hard disk, but there seems to be some\\nproblems:\\n\\nThe internal SCSI cable and power cable inside the cx has only\\nconnectors for one single hard disk drive.\\n\\nIf I made a ribbon cable and a power cable with three connectors each\\n(1 for motherboard, 1 for each of the 2 disks), would it work?\\n\\nIs the IIcx able to supply the extra power to the extra disk?\\n\\nWhat about terminators? I suppose that i should remove the resistor\\npacks from the disk that is closest to the motherboard, but leave them\\ninstalled in the other disk.\\n\\nThe SCSI ID jumpers should also be changed so that the new disk gets\\nID #1. The old one should have ID #0.\\n\\nIt is no problem for us to remove the floppy drive, as we have an\\nexternal floppy that we can use if it won't boot of the hard disk.\\n\\nThank you!\\n\\n----------------------------------------------------------------------\\nTorbj|rn Rognes                            Email: rogntorb@idt.unit.no\\n\")\n",
      "()\n",
      "=== #2 ===\n",
      "(1.2185622388080233, 'From: nbb1424@dsacng1.dsac.dla.mil (Steve Hamilton)\\nSubject: STRANGE DISK BEHAVIOUR\\n\\nI have a 286 with a Western Digital WD-93044A hard drive. This drive is \\n782 cylinders with 4 read write heads PHYSICALLY, but LOGICALLY it is\\n977 cylinders with 5 read write heads (??!!).  In the CMOS setting\\nI am instructed to set it to type 17 (IBM 977 cyl. 5 read/write heads),\\n\\nTHE PROBLEM:  I was sent Western Digitals ISPFMT low level program from\\nthe manufacturer, and was instructed to run it on the hard drive with\\nthe CMOS setting set to type 17.  This worked \"o.k.\" and I verified the\\ndisk using the same program.  I then reloaded DOS which did a high\\nlevel format, again no errors, no bad sectors, etc.\\n\\nBUT.... when I run Norton Speedisk 6.01 (or any other disk optimizer)\\nwith the verify option set ON, I get ERROR verifying sector NNNN,\\nwhere NNNN can be any number (not the same all the time).\\n\\nANY IDEAS AS TO WHAT IS GOING ON HERE WOULD BE APPRECIATED!\\n\\nThank you!\\n\\nSteve Hamilton\\nnbb1424@dsacng1.dla.mil\\n')\n",
      "()\n",
      "=== #3 ===\n",
      "(1.3278543490079595, 'From: ph12hucg@sbusol.rz.uni-sb.de (Carsten Grammes)\\nSubject: List of IDE Harddisk specs (21/04/93)\\n\\n\\t\\t    Configuration of IDE Harddisks\\n\\t\\t    ==============================\\n\\n\\nlast update:\\t14.4.1993\\n\\ncollected by Carsten Grammes (ph12hucg@rz.uni-sb.de)\\nand published regularly on comp.sys.ibm.pc.hardware.\\n\\n\\n!!!!!!!!!!!!!!!!!!!!!!!!!!!!!!!!!!!!!!!!!!!!!!!!!!!!!!!!!!!!!!!!!!!!!!\\nThere is explicitly NO WARRANTY\\nthat the given settings are correct or harmless. (I only collect, I do\\nnot check for myself!!!). There is always the possibility that the\\nsettings may destroy your hardware!\\n!!!!!!!!!!!!!!!!!!!!!!!!!!!!!!!!!!!!!!!!!!!!!!!!!!!!!!!!!!!!!!!!!!!!!!\\n\\n\\nSince I hope however that only well-minded people undergo the effort of\\nposting their settings the chance of applicability exists. If you should\\nagree or disagree with some setting, let me know immediately in order\\nto update the list.\\n\\nIf you possess a HD not mentioned here of which you know BIOS and/or\\njumper settings, please mail them to me for the next update of the list!\\n\\nOnly IDE (AT-Bus) Harddisks will be accounted for.\\nIf not specified the Landing Zone should be set equal to the number of\\ncylinders. If not specified the \\'Write Precompensation\\' should be set\\n65535. (There are BIOSes that don\\'t even ask for it).\\n\\nAnother statement (maybe right):\\nIDE harddisk don\\'t have Precomp and LZone. The precomp is a built-in parameter\\nand lzone isn\\'t used because most if not every IDE disk has autopark.\\n\\nThe jumpers\\' names are given as printed on the HD\\'s board, often only a\\njumper number (JP12 means the jumper \\'12\\'). A zero means that the jumper\\nis left open, a one means that the jumper is closed.\\n\\n\\n\\n***************************   C O N N E R   ***************************\\n\\n\\n\\t\\tConner Peripherals Drive Geometry\\n\\nIDE/AT\\n\\nConner drives are low level formatted at the factory. It is only necessary\\nto run SETUP, FDISK, and DOS FORMAT.\\n\\nModel   Heads  Cylinders  Sectors   PComp   L-Zone  Type  Table    LED\\n\\nCP2034     2     823         38      0       823    *UT     3      N/A\\nCP2064     4     823         38      0       823    *UT     3      N/A\\nCP2084     8     548         38      0       548    *UT     3      N/A\\nCP3184     6     832         33      0       832    *UT     1       A\\nCP3104     8     776         33      0       776    *UT     1       A\\nCP3111     8     833         33      0       833    *UT     1       A(?)\\nCP3204    16     683         38      0       683    *UT     2       B\\nCP30064    4     762         39      0       762    *UT     2       B\\nCP30084    8     526         39      0       526    *UT     2       B\\nCP30104    8     762         39      0       762    *UT     2       B\\nCP30084E   4     903         46      0       903    *UT     3       C\\nCP30174E   8     903         46      0       903    *UT     3       C\\nCP30204   16     683         38      0       683    *UT     3       C\\nCP3304    16     659         63      0       659    *UT     3       D\\nCP3364    16     702         63      0       702    *UT     3       D\\nCP3504    16     987         63      0       987    *UT     3       D\\nCP3554    16    1054         63      0      1054    *UT     3       B\\n\\nTable 1                                  Table 2\\n\\n       Jumper Settings                          Jumper Settings\\n\\nSingle Drive = Jumper ACT and C/D        Single Drive = Jumper C/D\\nMaster Drive = Jumper ACT, C/D and DSP   Master Drive = Jumper C/D & DSP\\nSlave Drive = No jumpers installed       Slave Drive = No jumpers installed\\n\\n\\nTable 3\\n                                     All Conner 20 Mbyte drives use\\n        Jumper Settings              Drive type 2.  All Conner 40\\n                                     Mbyte drives use Drive type 17.\\nSingle & Master Drive = Jumper C/D\\nSlave Drive = No jumpers installed   *UT = Universal translate.\\n                                     Select a drive type that is\\n                                     close to but does not exceed\\n                                     the megabyte capacity of the\\n                                     drive.  The drive will\\n                                     translate to the megabyte\\n                                     capacity that you have\\n                                     selected.\\n\\n  LED\\n\\n  A:           B:                       C:         D:\\n  J-4          J-5                      J-5        J-3\\n  Pin 1 = +    Pin 3 = +                Pin 3 = -  Pin 3 = +\\n  Pin 2 = -    Pin 4 = -                Pin 4 = -  Pin 4 = -\\n\\n\\n> When I installed a Conner CP3204F (203 MB) as master and a WD Caviar 2200\\n> (203 MB) as slave, both with and without the \"CP\" jumper, the Caviar had\\n> seemingly normal behaviour. However, when doing writes to the Caviar, once\\n> in a while it would overwrite directories etc. Using FASTBACK was almost\\n> impossible.\\n> \\n> The workaround is to install the Caviar as the master, and the Conner\\n> as the slave.\\n\\n\\n\\n***************************    F U J I T S U      ***************************\\n\\nDETAILS OF FUJITSU DRIVES M261xT (Standard)\\n\\n                   M2614ET     M2613ET     M2612ET     M2611T\\n\\nHeads (physical)       8           6           4           2\\nCyl (physical)      1334        1334        1334        1334\\nSec/trk               33          33          33          33\\nSpeed (rpm)         3490        3490        3490        3490\\nCapacity           180MB       135MB        90MB        45MB\\n\\n\\n              +-----------------------------------------------+\\n              |                                               |\\n              +--+                                            |\\n        PSU   |  |      CNH-2                                 |\\n              +--+          1                                 |\\n            1 |  |          .                    LED          |\\n              |  | CNH-1    9      CNH-3      Connector       |\\n              |  |   1           6..1            o o          |\\n      40-way  |  |   .                           | |          |\\n        IDE   |  |   .                                        |\\n              |  |   .                                        |\\n              |  |  12                                        |\\n              +--+                                            |\\n              +-----------------------------------------------+\\n\\n\\n\\n                 Pin        Function\\n                 Position\\n\\n                 *  1- 2    Active mode\\n                    2- 3    Slave present mode\\n                    4- 5    Pin 27=IOCHRDY\\nCNH-1 JUMPERS    *  5- 6    Pin 27=RESERVED\\n                    7- 8    2 drive system\\n                 *  8- 9    1 drive system\\n                   10-11    Pin 29=IRQ14 : Pin 31=RESERVED\\n                 * 11-12    Pin 31=IRQ14 : Pin 29=RESERVED\\n\\n\\n                 Pin        Function\\n                 Position\\n\\n                    1- 2    SLAVE drive mode\\nCNH-2 JUMPERS    *  4- 5    MASTER drive mode\\n                    7- 8    ECC 4 bytes\\n                 *  8- 9    ECC 7 bytes\\n\\n\\n                 Pin        Function\\n                 Position\\n\\n                    1- 2    Write protect enabled\\nCNH-3 JUMPERS    *  2- 3    Write protect disabled\\n                    4- 5 -6 Reserved\\n\\nKey:  * (I guess!) marks factory default setting for jumper\\n\\n\\nBIOS SETTINGS\\n\\nBIOS setting for the M2614ET in my system is 667 cylinders, 33 sectors\\nand 16 heads.\\n\\n> I was trying to set my IDE drive in the subject above to a slave drive for\\n> A Conner 170MB drive and contacting the support company gave me this answer (which works). The factory default on SW2 is On Off Off Off Off Off (1-6). This sets the drive to be a single drive. Setting SW2 to Off On On Off Off Off makes it a slave drive. SW1 has been set to On Off Off On (1-4) all along.\\n\\n\\n\\nMODEL      CYLINDERS   HEADS    SECTORS   CAPACITY (Million bytes)\\n\\nM2622T      1013        10        63         326.75\\nM2623T      1002        13        63         420.16\\nM2624T      995         16        63         513.51\\n\\n\\nThere are 6 switches on the switch block on these drives.  Only 4 of \\nthem have a use that I am aware of (from my M2624T manual):\\n\\nMaster/Slave        Master (*)      SW1-5 OFF\\n                    Slave           SW1-5 ON\\nECC bytes           4 bytes (*)     SW1-4 OFF\\n                    7 bytes         SW1-4 ON\\nWrite Protect       Disabled (*)    SW1-3 OFF\\n                    Enabled         SW1-3 ON\\nIO Channel Ready    Disabled (*)    SW1-1 OFF\\n                    Enabled         SW1-1 ON\\n\\nI have no idea about the function of SW1-2 and SW1-6.  The values \\nlisted with a (*) are the factory default settings.\\n\\n\\n***************************   K A L O K     ***************************\\n\\nKALOK\\tKL3100\\t  105 MB\\nBIOS:\\tcyl 979     heads 6\\tsectors 35\\n\\nKALOK   KL3120    120 MB\\nBIOS:\\t Cyl 981     heads 6     sectors 40\\n\\nThe following jumper settings have been reported for KL3100 but are probably\\nalso valid for other Kalok drives.\\n\\nSingle HD:\\no o o o o\\n\\no o o o-o    <-- same row as pin 1 of the IDE connector.\\n\\nMaster (disk 1):\\no o o o o\\n    |\\no o o o o\\n\\nSlave:\\no o o o o\\n      |\\no o o o o\\n\\nThese 5 pairs of pins are at the righthand side of the disk.\\n\\n\\n\\n***************************   M A X T O R   ***************************\\n\\nModel           Cyls    Heads   Sectors Precomp Landing Zone\\n----------\\t-----\\t-----\\t-------\\t-------\\t------------\\nLXT-200A\\t816\\t15\\t32\\t0\\t816\\nLXT-213A\\t683\\t16\\t38\\t0\\t683\\nLXT-340A\\t654\\t16\\t63\\t0\\t654\\nLXT437A\\t\\t842\\t16\\t63\\t0\\t842\\nLXT535A\\t\\t1036\\t16\\t63\\t0\\t1024\\n\\nJumpers are as follows:\\n\\nThe bottom of the drive looks like this (well, sort of):\\n\\n|        o o 1-2             |\\n|        o o 3-4             |\\n|        o o 5-6             |\\n|        o o 7-8             |\\n|        o o 9-10            |\\n|                            |\\n+[POWER] [IDE CONNECTOR]-----+\\n\\n\\t\\t\\t\\tSingle drive\\t  Dual Drive System\\nPin numbers\\tJumper\\t\\tSystem\\t\\tMaster\\t\\tSlave\\n-----------\\t------\\t\\t------------\\t------\\t\\t-----\\n1-2\\t\\tSlave Drive\\tremove\\t\\tremove\\t\\tinstall\\n3-4\\t\\tActivity LED\\toptional\\toptional\\toptional\\n5-6\\t\\tSlave Present\\tremove\\t\\tremove\\t\\toptional\\n7-8\\t\\tMaster Drive\\tremove\\t\\tinstall\\t\\tremove\\n9-10\\t\\tSync Spindle\\tremove (n/a)\\toptional*\\tremove\\n\\n* only one drive (the master) in an array should have this jumper installed.\\n\\n\\n\\nMaxtor 7060A    16    467   17     62,0 J14 closed, J13 closed\\nMaxtor 7060A     7   1024   17     59,5 J14 open,   J13 open\\nMaxtor 7060A     4    762   39     58,0 J14 closed, J13 open\\nMaxtor 7060A     8    925   17     57,9 J14 open,   J13 closed\\n\\nMaxtor 7120A    16    936   17    124,3 J14 closed, J13 closed\\nMaxtor 7120A    14   1024   17    119,0 j14 open,   J13 open\\nMaxtor 7120A     8    762   39    116,0 J14 closed, J13 open\\nMaxtor 7120A    15    900   17    112,0 J14 open,   J13 closed\\nMaxtor 7120A     8    824   33    106,2 J14\\n\\nJumpers for the above 2 drives:\\n\\n                  J11  I/O-channel ready ( open: disabled; close: enabled )\\n                  J13  see above\\n                  J14  see above\\n                  J15  operation-status ( open: normal; close: factory )\\n       J J J J J            \\n       2 1 1 1 1\\n       0 9 8 7 6\\n\\nPower  data-cable\\n\\nJ16: Idle mode latch ( open: disabled; close: enabled )\\nJ17: drive model ( open: 7060A; close 7120A )\\nJ18: ECC Bytes ( open: 7 bytes; close: 4 bytes )\\n\\nMaster/Slave: drive is master and alone    : J20 closed, J19 closed\\n              drive is master of two drives: J20 closed, J19 open\\n              drive is slave of two drives : J20 open  , J19 closed\\n\\n\\nMaxtor 7213A\\n\\nDefault (power-up) AT BIOS Translation Parameters (others possible)\\nCyl   Hds  SpT  MBytes\\n683   16   38   212\\n\\nThere are two sets of jumpers. A set of 5 and a set of\\n4. With the power and IDE connector toward you, the set of 5 is\\nnumbered (left to right) J16 - J20  , and the set of 4 is numbered\\n(bottom to top) J22-J25. \\n\\nThe only jumper of normal interest is J20. Jumper it for only\\ndrive in a single drive system, or master drive in a dual drive\\nsystem.\\n \\nRemove the jumper J20 for slave drive in a dual drive system. \\n\\nJ19 is a dummy and may be used to store the spare shunt if the \\ndrive is configured for a slave mode.\\n\\nJumpers J17, J18, J24, J25 are factory reserved. Abnormal operation\\nmay occur if jumpered.\\n\\nJumper 22 is sync spindle enabled/disabled  (open=disabled)\\nJumper 23 is sync slave/master              (open=slave)\\nJumper 16 is I/O Channel Ready              (open=disabled)\\n\\n\\nMaxtor 7245A (245Mb IDE; self-parking; Universal Translate):\\nDrive type : User defineable\\nCyl    Hds    WPC    LZ     S/T\\n967    16     0      0      31      (WPC and LZ optional)\\n\\nMaster(2):  J20 closed\\nSlave(2):   J20 open (use J19 for shunt storage)\\nSingle:     J20 closed\\n\\n\\n**********************   M I C R O P O L I S   ****************************\\n\\n\\nDrive\\t\\t2105A\\t\\t2112A\\n----------------------------------------\\nUnformatted MB\\t647\\t\\t1220\\nFormatted MB\\t560\\t\\t1050\\nPlatters\\t5\\t\\t8\\nHeads\\t\\t8\\t\\t15\\nCylinders\\t1760\\t\\t1760\\n----------------------------------------\\n\\nPerformance (both):\\n\\n\\tTrack to track (read)\\t\\t1.5 msec\\n\\tTrack to track (write)\\t\\t2.5 msec\\n\\tAverage\\t\\t\\t\\t10 msec\\n\\tMax\\t\\t\\t\\t25 msec\\n\\tAvg Rotational Latency\\t\\t5.56 msec\\n\\tRotational speed\\t\\t5400 rpm (+/- 5%)\\n\\tData Transfer Rate\\t\\tupto 5Mbytes/sec\\n\\tInternal data rate\\t\\t24-40 Mbits/sec\\n\\nBIOS Settings:\\n\\n2105A\\t\\t1084 cyl\\t16 heads\\t63 sectors\\n2112A*\\tmaster\\t1024 cyl\\t16 heads\\t63 sectors\\n\\tslave\\t1010 cyl\\t16 heads\\t63 sectors\\n\\t\\t\\n* the 2112A emulates both master and slave\\n\\n\\nJumpers (labelled J6 on the drive)\\n\\n\\t----\\n\\t|oo| W1\\\\ only these 2 are used\\n\\t|oo| W2/\\n\\t|oo|\\n\\t|oo|\\n\\t|oo|\\n\\t----\\n\\n\\tW2\\tW1\\n\\t--\\t--\\n\\tin\\tin\\t2112A only - drive emulates both master + slave\\n\\tin\\tout\\tDrive is master, slave is present\\n\\tout\\tin\\tDrive is slave\\n\\tout\\tout\\tDrive is master, no slave present (ie single drive)\\n\\n\\n**********************   M I C R O S C I E N C E   ****************************\\n\\nMicroScience \\n\\nModel: 7100-00\\nHeads: 7\\nCylinders: 855\\nS/T: 35 (?)\\nSize: 105M\\n\\n\\nModel # 8040-00.\\nSize 40M  5hd/17sec/977cyl\\n\\n**********************   M I N I S C R I B E    ****************************\\n\\nMiniscribe\\n\\nMODEL   AT               CAP   CYC  H  RWC  WPC ENC  RATE ACCESS  SPT COMMENTS \\n8225AT            3.5\"    21   745  2  -    -        8    28 MS    28\\n8051AT            3.5\"    42   745  4  -    -        8    28 MS    28\\n8450AT            3.5\"    42   745  4  -    -        8    40 MS    28\\n\\nMaster(2):  5-6\\nSlave(2):   1-2\\nSingle:     1-3 (shunt storage)\\n\\n\\n***************************   N E C   *********************************\\n\\nNEC     D3735,  40 MB\\nBIOS:\\tCyl 537     Head 4\\tsect 41\\n\\nNEC\\tD3755,\\t105 MB\\nBIOS:\\tCyl 625     Head 8\\tsect 41\\n\\nNEC\\tD3741,\\t44 MB\\nBIOS:\\tCyl 423\\t    Head 8\\tsect 26\\t\\tWPcom 0\\t\\tLZone 424\\n \\n\\nJumper\\tJP12\\tJP13\\t    (for all above NEC drives)\\nSingle  0       0\\nMaster\\t1\\t0\\nSlave   1       1\\n\\nThere have been reported difficulties in using WD Caviar as Master and\\nNEC drives as slave - the other way it works.\\n\\n\\n\\n***************************   Q U A N T U M   *************************\\n\\nLogical Specs for Quantum AT Drives\\nCOMPLIMENTS OF COMPUTER BROKERS OF CANADA\\n\\n\\nModel       Cap     Avg Acc\\tCylinders     Heads    Sectors/Track\\n            (MB)     (ms)\\n\\n40AT        42        19           965          5            17\\n80AT        84        19           965         10            17\\n120AT       120       15           814          9            32\\n170AT       168       15           968         10            34\\n210AT       209       15           873         13            36\\n425AT       426       14          1021         16            51\\nLPS  52AT   52        17           751          8            17\\nLPS  80AT   83        17           611         16            17\\nLPS 105AT   105       17           755         16            17\\nLPS 120AT   122       16           901          5            53\\nLPS 240AT   245       16           723         13            51\\n\\n=================================================\\nLegend:  1=Jumper Installed  0=No Jumper\\n=================================================\\n\\n40 & 80 AT Jumpers\\n\\nDS  SS   Meaning\\n1   0    Single drive configuration\\n1   1    Master of dual drive\\n0   0    Slave of dual drive\\n0   1    Self-Seek Test\\n\\n=======================================================\\n\\n120, 170, 210 & 425 AT Jumpers\\n\\nDS  SP  SS   Meaning\\n0   0   0    Slave when the Master is Quantum PRODRIVE other than 40/80A\\n0   0   1    Slave in PRODRIVE 40/80A mode\\n0   1   0    Slave when Master is non Quantum Drive\\n0   1   1    Not Used\\n1   0   1    Master drive PDIAG mode checking DASP for slave\\n1   1   0    Master in PDIAG mode using SP to check if slave present\\n1   1   1    Master in 40/80A mode using SP to check if slave present\\n1   0   0    Single drive\\n\\n=======================================================\\n\\nLPS 52, 80, 105, 120 & 240 AT Jumpers\\nDS  SP  DM*  Meaning\\n0   0   0    Slave in standard PDIAG mode for compatibility with drives that use\\n             PDIAG-line to handle Master/Slave communications\\n0   0   1    Slave in PRODRIVE 40/80A mode compat. without using PDIAG line\\n0   1   0    Self Test\\n0   1   1    Self Test\\n1   0   0    Master in PDIAG mode using DASP to check for Slave\\n1   0   1    Master in 40/80A Mode using DASP to check for Slave\\n1   1   0    Master in PDIAG mode using SP to check for Slave without\\n             checking DASP\\n1   1   1    Master in 40/80A mode using SP to check for Slave without\\n             checking DASP\\n\\n\\n======================================================================\\n* While my Spec form marked the jumper name DM, it is labeled as CS on\\n  my LPS 240AT drive.\\n\\n\\n\\nThe QUANTUM ELS series:\\n\\nModel       Cap     Avg Acc     Cylinders     Heads    Sectors/Track\\n            (MB)     (ms)\\n \\nELS42AT        42        -           968          5             17\\nELS85AT        85        -           977          10            17\\nELS127AT       127       -           919          16            17\\nELS170AT       170       -           1011         15            22\\n\\nWrite precomp = 0 for all Quantum drives ( probably no significance)\\nLanding Zone = Cylinders\\n\\nStraps: If an ELS drive is \\n\\tmaster only, use DS\\n\\tmaster with slave, DS or, DS and SP in some cases\\n\\tslave, no strap\\n\\n\\n***************************   R O D I M E    *********************************\\n\\nInformation for RO 3008A and RO 3009A series hard disk drives:\\n\\nDrive Types\\n\\n   Model\\tCyls\\tHds\\tSectors/Trk\\t No. blocks\\tFormatted Cap.\\n  -------\\t----\\t---\\t-----------\\t ----------\\t--------------\\n  RO3058A\\t868\\t 3\\t    34\\t\\t   88,536\\t 45.33 MByets\\n  RO3088A\\t868\\t 5\\t    34\\t\\t  147,560\\t 75.55 MByets\\n  RO3095A\\t923\\t 5\\t    34\\t\\t  156,910\\t 80.33 MByets\\n  RO3128A\\t868\\t 7\\t    34\\t\\t  206,584\\t105.77 MByets\\n  RO3135A\\t923\\t 7\\t    34\\t\\t  219,674\\t112.47 MByets\\n \\n  RO3059A\\t217\\t15\\t    28\\t\\t   91,158\\t 46.67 MByets\\n  RO3089A\\t325\\t15\\t    28\\t\\t  136,737\\t 70.00 MByets\\n  RO3129A\\t492\\t15\\t    28\\t\\t  206,645\\t105.80 MByets\\n  RO3139A\\t523\\t15\\t    28\\t\\t  219,735\\t112.50 MByets\\n  RO3209A\\t759\\t15\\t    28\\t\\t  319,053\\t163.35 MByets\\n  RO3259A\\t976\\t15\\t    28\\t\\t  410,211\\t210.02 MByets\\n\\n\\nLink Options\\n\\n   In order to install the Rodime Ro 3000A series drives the dumpers for \\nthe single/dual drive and LED operation on the drive need to be set as \\ndescribed in the relevant product specification.\\n   I a single drive environment the drive is described as a Master.\\n   In a dual drive environment the drives are described as a Master and a\\nSlave. This is due to the protocal the takes place between the two drives \\nwhen performing diagnostics.\\n   There are four links, LK1, LK2, LK4 and LK5, adjacent to the 40 way \\ninterface connector. They have the following functions and are described \\nin order as viewed from the end of the drive, with the first jumper \\ndescribed nearest the 40 way interface connector.\\n\\nLK2: LED \\n     When fitted, this jumper connects the LED drive to pin 39 of the\\n     interface. This allows a LED to be connected to the interface. An\\n     external current limiting resistor needs to be fitted in series with\\n     the LED when this option is selected. The value of the resistor will\\n     be dependant on the LED type chosen but will be in the range of 130\\n     Ohms ot 220 Ohms.\\n\\nLK1: Dual Drives\\n     This jumper must be fitted when two drives are attached to a single\\n     bus. It fallows communication across the 40 way interface connector,\\n     indicating, to the Master drive, the presence of a Slave.\\n\\nLK4: Master\\n     When fitted this signifies that the drive jumpered is a Master. If\\n     there are two drives connected on a single bus then only one may be\\n     jumpered in this way.\\n\\nLK5: IOChRdy\\n     When fitted this connects the IOChRdy signal to the drive, it is \\n     fitted when the drive is used in host systems that have a higher\\n     data transfer rate than the drive i.e. greater than 4 MBytes per\\n     second when using 1:1 interleave. This jumper is not normally \\n     fitted as most hosts transfer at a lower rate than 4 MBytes per\\n     second.\\n\\n   There are four possible Master/Slave configurations in which a drive(s)\\nmay be jumpered:\\n\\n     Master, single drive with LED on interface\\t\\tLK2 & LK4 fitted.\\n     Master, single drive without LED on interface\\tLK4 only fitted.\\n     Master, dual drive without LED on interface\\tLK4 & LK1 fitted.\\n     Slave, dual drive without LED on interface\\t\\tNo jumpers fitted.\\n     Master, dual drive with LED on interface\\t\\tLK4, LK1 & LK2 fitted.\\n     Slave, dual drive with LED on interface\\t\\tLK2 only fitted.\\n\\n   The Master drive will delay power-up for approximately two seconds to\\nreduce power surges in applications where dual drives are used.\\n\\n   The other connections for a LED will be found close to the 28 way \\nconnector at the other end of the drive. This LED driver is not affected\\nby the link options. An internal current limiting resistor is on the \\ndrive for this LED driver. Refer to the product specification for further\\ndetails.\\n\\n\\n\\n\\n***************************   S E A G A T E   *************************\\n\\nThere is a list of most Seagate HD (including MFM, SCSI, ESDIand IDE) on\\nevery Simtel mirror under\\n\\n/msdos/dskutl/1seagate.zip\\n\\nIt contains info about the following drives:\\n\\n\\t    st1144a\\tst138a\\t    st274a\\tst3283a\\nst1057a     st1156a\\tst1400a     st280a\\tst351ax\\nst1090a     st1162a\\tst1401a     st3051a\\tst9051a\\nst1102a     st1186a\\tst1480a     st3096a\\tst9077a\\nst1111a     st1201a\\tst157a\\t    st3120a\\tst9096a\\nst1126a     st1239a\\tst2274a     st3144a\\tst9144a\\nst1133a     st125a\\tst2383a     st325ax\\n\\n\\n*********************\\tT E A C   **************\\n\\nModel: SD-3105\\n\\n                Cyls.   Heads   Sect/T  PreCmp  LZone   Capacity\\n                ------  ------  ------  ------  ------  ---------\\nPhysical         1282       4      40       -       -   105021440\\nBIOS (AMI)        641       8      40       0       0   105021440 (100.2M)\\n     (Award)      926      13      17       0       0   104778752  (99.9M)\\n     (Phoenix)    776       8      33       0       0   104890368 (100.0M)\\n\\nConnectors and Jumpers:\\n\\n   +----+                    1           Jumper  Function\\n   |....| +---+ +-------/ /---+   2 0       0    ON:  -ACT selected (ext.LED)\\n   |    | |...| |::::::/ /::::|  ::::            OFF: -SLV PRESENT selected\\n   +----+ +---+ +-----/ /-----+  3 1        1    ON:  Two HDD\\'s\\n     J2     J7  40    J1         ----            OFF: Single HDD\\n   Power (Power)    Signal      Jumpers     2    ON:  Master (/Single)\\n                                                 OFF: Slave (with 2 units used)\\n                                            3    ON:  -I/O CH RDY not output\\n                                                 OFF: -I/O CH RDY is output\\nMaster Slave Settings:\\n\\nJumper no.:   1     2\\n-----------------------\\nSingle....:   0     1                            1, ON  = jumpered\\nMaster....:   1     1                            0, OFF = not jumpered\\nSlave.....:   1     0\\n\\n\\n\\n*********************\\tW E S T E R N\\t D I G I T A L\\t **************\\n\\nCaviar series:\\n\\nName        Size (Mb)    Cylinders   Heads   Sectors\\n----------------------------------------------------\\nWDAC140      40.7         980            5        17\\nWDAC280      81.3         980           10        17\\nWDAC2120    119.0        1024           14        17\\nWDAC2170    162.7        1010            6        55\\nWDAC2200    202.8         989           12        35\\nWDAC2340    325.4        1010           12        55\\n\\nPlease note that these are the *recommended* CMOS parameters. All the disks \\nsupport so-called dynamic translation, and should thus be able to work with\\nany parameters having fewer sectors than the total number of sectors on\\nthe disk.\\n\\nNow, according to the manual, the jumper settings are as follows:\\n\\nJumper                               CP   MA   SL\\n-------------------------------------------------\\nSingle                                0    0    0\\nMaster                                0    1    0\\nSlave                                 0    0    1\\nSlave with Conner CP342 or CP3022     1    0    1   \\n\\n\\nMaybe there are 2 kinds of Caviar\\'s floating around: \\n\\nIf your jumpers read MA SL and SI then use:\\nJumper\\tSI\\tMA\\tSL\\nSingle\\t1\\t0\\t0\\nMaster\\t0\\t1\\t0\\nSlave\\t0\\t0\\t1\\n\\nThere have been reported difficulties in using WD Caviar as Master and\\nNEC drives as slave - the other way it works.\\n> When I installed a Conner CP3204F (203 MB) as master and a WD Caviar 2200\\n> (203 MB) as slave, both with and without the \"CP\" jumper, the Caviar had\\n> seemingly normal behaviour. However, when doing writes to the Caviar, once\\n> in a while it would overwrite directories etc. Using FASTBACK was almost\\n> impossible.\\n> \\n> The workaround is to install the Caviar as the master, and the Conner\\n> as the slave.\\n\\n\\nWD93044-A  (40 MB)\\nBIOS-Settings \\n977 cyln, 5 heads, 17 sect, LZone: 977 ( wenn sie sie braucht )\\n\\n+-------+ +---+---+---+  1: drive is master\\n| cable | | 1 | 2 | 3 |  2: drive is slave\\n+-------+ +---+---+---+  3: second drive is a conner-drive\\n\\nNo jumper set: this is the only drive.\\n\\n\\n\\n********************  Useful telephone numbers...  ********************\\n\\nMiniscribe:     \\n  303-651-6000\\n\\nMaxtor:\\n  Info/tech support: 800-262-9867\\n  FAX-back: 303-678-2618\\n  BBS: 303-678-2222\\n  They list their 800 number as 1(800)2-MAXTOR.\\n\\nQuantum:\\n  408-894-4000\\n  408-944-0410 (Support)\\n  408-894-3218 (FAX)\\n  408-894-3214 (BBS)\\n\\nSeagate:\\n  Info/tech support: 408-438-8222\\n  FAX-back: 408-438-2620\\n  BBS: 408-438-8771\\n\\n\\n*******************   last but not least   *****************\\n\\nIf I could help you with my little collection and if you live in a\\npart of the world far away from me, how about a postcard for my pinboard?\\nI will surely answer!\\n\\nCarsten Grammes\\t\\t\\t\\nExperimental Physics\\t\\t\\nB38 2OG\\nUniversitaet Saarbruecken\\nW-6600 Saarbruecken\\nGermany\\n')\n"
     ]
    }
   ],
   "source": [
    "print(\"=== #1 ===\")\n",
    "print(show_at_1)\n",
    "print()\n",
    "\n",
    "print(\"=== #2 ===\")\n",
    "print(show_at_2)\n",
    "print()\n",
    "\n",
    "print(\"=== #3 ===\")\n",
    "print(show_at_3)"
   ]
  },
  {
   "cell_type": "code",
   "execution_count": 56,
   "metadata": {
    "collapsed": false
   },
   "outputs": [
    {
     "data": {
      "text/plain": [
       "(1.1158920570921735,\n",
       " 'From: \"Altan J. Stalker\" <astalker@nickel.ucs.indiana.edu>\\nSubject: SE/30 Hard Drive Problem\\n\\n\\nI have an SE/30 with a 80 meg HD which dates back to April 1989.  When I\\noriginally purchased it, I experienced the failure to boot problem.  This\\nwas fixed soon after by a ROM upgrade on the hard drive.\\n\\nLately a similar problem has been occuring.  When the computer is\\npowered on the HD light flashes a few times and then I am given\\nthe \"no disk to boot from\" icon.  However, upon turing the\\ncomputer off and on again the drive ALWAYS boots up just fine.  \\nFurthermore, if instead of turning the power on and off I press the reboot \\nbutton the same problem occurs.  But, as I said, turning the power\\noff and on always works.\\n\\nThis problem is different from the 1989 boot problem in that before\\nit often required several power off and ons to get it to boot.\\n\\nDoes anybody have any suggestions as to what the problem is or how\\nit can be fixed?\\n\\nI\\'m wondering if it\\'s getting old and requires more time to \\n\"come up to speed\" now.  Is there a PRAM or SCSI setting that\\nallows me to tell the computer to wait a little longer before \\ntrying to access the HD?\\n\\nThanks!\\n\\n\\nAltan J. Stalker\\nastalker@nickel.ucs.indiana.edu\\nIndiana University\\nComputer Science Dept.\\n\\n\\n')"
      ]
     },
     "execution_count": 56,
     "metadata": {},
     "output_type": "execute_result"
    }
   ],
   "source": [
    "similar[10]"
   ]
  }
 ],
 "metadata": {
  "anaconda-cloud": {},
  "kernelspec": {
   "display_name": "Python [Root]",
   "language": "python",
   "name": "Python [Root]"
  },
  "language_info": {
   "codemirror_mode": {
    "name": "ipython",
    "version": 2
   },
   "file_extension": ".py",
   "mimetype": "text/x-python",
   "name": "python",
   "nbconvert_exporter": "python",
   "pygments_lexer": "ipython2",
   "version": "2.7.12"
  }
 },
 "nbformat": 4,
 "nbformat_minor": 0
}
