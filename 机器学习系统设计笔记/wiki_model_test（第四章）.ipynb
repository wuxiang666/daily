{
 "cells": [
  {
   "cell_type": "code",
   "execution_count": null,
   "metadata": {
    "collapsed": true
   },
   "outputs": [],
   "source": []
  },
  {
   "cell_type": "code",
   "execution_count": 43,
   "metadata": {
    "collapsed": true
   },
   "outputs": [],
   "source": [
    "import gensim\n",
    "from gensim import corpora\n",
    "import codecs\n",
    "import MySQLdb as mdb\n",
    "import pandas as pd\n",
    "import re\n",
    "import jieba\n",
    "from pandas import Series,DataFrame\n",
    "import numpy as np"
   ]
  },
  {
   "cell_type": "markdown",
   "metadata": {},
   "source": [
    "### 准备数据"
   ]
  },
  {
   "cell_type": "code",
   "execution_count": 4,
   "metadata": {
    "collapsed": true
   },
   "outputs": [],
   "source": [
    "def mysql_con():\n",
    "    try:\n",
    "        db = mdb.connect('mysql-slave.communion.net.cn', 'onlyquery', 'jyhc@onlyquery', 'hainan_bigdata', charset='utf8')\n",
    "        cursor = db.cursor()\n",
    "    except:\n",
    "        time.sleep(10)\n",
    "        db = mdb.connect('mysql-slave.communion.net.cn', 'onlyquery', 'jyhc@onlyquery', 'hainan_bigdata', charset='utf8')\n",
    "        cursor = db.cursor()\n",
    "    return cursor,db"
   ]
  },
  {
   "cell_type": "code",
   "execution_count": 19,
   "metadata": {
    "collapsed": false
   },
   "outputs": [],
   "source": [
    "stop_words = set()\n",
    "with codecs.open('stop_words2.txt','r','utf8') as f:\n",
    "    for word in f.readlines():\n",
    "        stop_words.add(word.strip())"
   ]
  },
  {
   "cell_type": "code",
   "execution_count": 159,
   "metadata": {
    "collapsed": true
   },
   "outputs": [],
   "source": [
    "#连接数据库并读取数据\n",
    "cursor,db = mysql_con()\n",
    "article = pd.read_sql('select tbl_book.title as b_title,tbl_book.author,tbl_article.content,tbl_article.title as c_title from tbl_book,tbl_article where tbl_book.id=tbl_article.bookId limit 5000',con=db)"
   ]
  },
  {
   "cell_type": "code",
   "execution_count": 160,
   "metadata": {
    "collapsed": true
   },
   "outputs": [],
   "source": [
    "def seg_words(words,stop_words):\n",
    "    return [word for word in jieba.cut(words) if len(word)>1 and word not in stop_words]\n",
    "#通过正则去掉数字和字母\n",
    "article_content = article.content.apply(lambda x:re.sub(u'[\\s\\w+-.?!]','',x,flags=re.S))"
   ]
  },
  {
   "cell_type": "code",
   "execution_count": 161,
   "metadata": {
    "collapsed": false
   },
   "outputs": [],
   "source": [
    "#对数据库内的美文按照要求进行分词\n",
    "temp = article_content.apply(lambda x:seg_words(x,stop_words)) \n",
    "texts = temp + article.b_title.apply(lambda x:seg_words(x,stop_words)) + article.author.apply(lambda x:seg_words(x,stop_words))+article.c_title.apply(lambda x:seg_words(x,stop_words))"
   ]
  },
  {
   "cell_type": "code",
   "execution_count": 162,
   "metadata": {
    "collapsed": false
   },
   "outputs": [],
   "source": [
    "#把text保存到文本文件，以方便后面的流式处理\n",
    "corpora_texts = texts.apply(lambda x:u' '.join(x))\n",
    "with codecs.open('corpora.texts.txt','w',encoding='utf8') as f:\n",
    "    for doc in corpora_texts:\n",
    "        f.write(doc+'\\n')"
   ]
  },
  {
   "cell_type": "markdown",
   "metadata": {},
   "source": [
    "### 打开建立好的模型及字典"
   ]
  },
  {
   "cell_type": "code",
   "execution_count": 53,
   "metadata": {
    "collapsed": false
   },
   "outputs": [],
   "source": [
    "models = gensim.models.LdaModel.load('wiki/meiwen_lda.pkl', mmap='r')  #注意，模型保存的时候一定是corpus和id2word一起保存。\n",
    "dictionary = gensim.corpora.Dictionary.load_from_text('wiki/wiki_en_output_words.txt')"
   ]
  },
  {
   "cell_type": "code",
   "execution_count": 54,
   "metadata": {
    "collapsed": false
   },
   "outputs": [],
   "source": [
    "#把模型的100个主题和前30个关键词写入wiki_models.txt文本以便查看\n",
    "with codecs.open('wiki_models.txt','w',encoding='utf8') as f:\n",
    "    for i in models.show_topics(100,30):\n",
    "        f.write(i[1]+'\\n')\n",
    "        \n",
    "#从文本中读取这些主题进行查看\n",
    "wiki_model = []\n",
    "with codecs.open('wiki_models.txt','r',encoding='utf8') as f:\n",
    "    for i in f.readlines():\n",
    "        wiki_model.append(i)"
   ]
  },
  {
   "cell_type": "markdown",
   "metadata": {},
   "source": [
    "### 对之前的语料进行测试"
   ]
  },
  {
   "cell_type": "code",
   "execution_count": 163,
   "metadata": {
    "collapsed": true
   },
   "outputs": [],
   "source": [
    "#对文件进行流式处理，这样就不用把文件全部读取到内存中了。并且每次只处理一条语句，每次根据算法循环到yield返回\n",
    "#如果该类没有next()方法，就不能通过next(Mycorpus)进行迭代\n",
    "class Mycorpus(object):\n",
    "    def __iter__(self):\n",
    "        for line in open('corpora.texts.txt'):\n",
    "            yield dictionary.doc2bow(line.split())\n",
    "corpus = Mycorpus()"
   ]
  },
  {
   "cell_type": "code",
   "execution_count": 164,
   "metadata": {
    "collapsed": false
   },
   "outputs": [
    {
     "name": "stdout",
     "output_type": "stream",
     "text": [
      "now the total doc is:0\n",
      "now the total doc is:100\n",
      "now the total doc is:200\n",
      "now the total doc is:300\n",
      "now the total doc is:400\n",
      "now the total doc is:500\n",
      "now the total doc is:600\n",
      "now the total doc is:700\n",
      "now the total doc is:800\n",
      "now the total doc is:900\n",
      "now the total doc is:1000\n",
      "now the total doc is:1100\n",
      "now the total doc is:1200\n",
      "now the total doc is:1300\n",
      "now the total doc is:1400\n",
      "now the total doc is:1500\n",
      "now the total doc is:1600\n",
      "now the total doc is:1700\n",
      "now the total doc is:1800\n",
      "now the total doc is:1900\n",
      "now the total doc is:2000\n",
      "now the total doc is:2100\n",
      "now the total doc is:2200\n",
      "now the total doc is:2300\n",
      "now the total doc is:2400\n",
      "now the total doc is:2500\n",
      "now the total doc is:2600\n",
      "now the total doc is:2700\n",
      "now the total doc is:2800\n",
      "now the total doc is:2900\n",
      "now the total doc is:3000\n",
      "now the total doc is:3100\n",
      "now the total doc is:3200\n",
      "now the total doc is:3300\n",
      "now the total doc is:3400\n",
      "now the total doc is:3500\n",
      "now the total doc is:3600\n",
      "now the total doc is:3700\n",
      "now the total doc is:3800\n",
      "now the total doc is:3900\n",
      "now the total doc is:4000\n",
      "now the total doc is:4100\n",
      "now the total doc is:4200\n",
      "now the total doc is:4300\n",
      "now the total doc is:4400\n",
      "now the total doc is:4500\n",
      "now the total doc is:4600\n",
      "now the total doc is:4700\n",
      "now the total doc is:4800\n",
      "now the total doc is:4900\n"
     ]
    }
   ],
   "source": [
    "thetas = np.zeros((len(texts), 100))  #每一行代表一个语料，每一列代表一个主题\n",
    "for i,c in enumerate(corpus):\n",
    "    if i%100 == 0:\n",
    "        print 'now the total doc is:%s'%i\n",
    "    for ti, v in models[c]:\n",
    "        thetas[i,ti] += v"
   ]
  },
  {
   "cell_type": "code",
   "execution_count": 370,
   "metadata": {
    "collapsed": false
   },
   "outputs": [],
   "source": [
    "thetas.shape\n",
    "#保存theta矩阵\n",
    "np.save('topics_hdp.npy', thetas)"
   ]
  },
  {
   "cell_type": "code",
   "execution_count": 375,
   "metadata": {
    "collapsed": false
   },
   "outputs": [],
   "source": [
    "#load获取theta\n",
    "theta = np.load('topics_hdp.npy')"
   ]
  },
  {
   "cell_type": "code",
   "execution_count": 167,
   "metadata": {
    "collapsed": true
   },
   "outputs": [],
   "source": [
    "#计算矩阵行之间的距离并转化为矩阵\n",
    "from scipy.spatial import distance"
   ]
  },
  {
   "cell_type": "code",
   "execution_count": 174,
   "metadata": {
    "collapsed": true
   },
   "outputs": [],
   "source": [
    "#先把矩阵转化为每个观测值和其余所有值的距离(默认是阿基里的距离)，然后在转化为矩阵\n",
    "#把矩阵对角线（自己和自己）的距离设置为最大（之前肯定是最小的）\n",
    "distances = distance.squareform(distance.pdist(thetas))\n",
    "large = distances.max() + 1\n",
    "for i in range(len(distances)):\n",
    "    distances[i, i] = large"
   ]
  },
  {
   "cell_type": "markdown",
   "metadata": {},
   "source": [
    "### 通过id查询最相似的美文"
   ]
  },
  {
   "cell_type": "code",
   "execution_count": 300,
   "metadata": {
    "collapsed": false
   },
   "outputs": [],
   "source": [
    "query_id = 16"
   ]
  },
  {
   "cell_type": "markdown",
   "metadata": {},
   "source": [
    "##### 根据已有的美文查询"
   ]
  },
  {
   "cell_type": "code",
   "execution_count": 410,
   "metadata": {
    "collapsed": false
   },
   "outputs": [
    {
     "name": "stdout",
     "output_type": "stream",
     "text": [
      "b_title                                                   嚎叫\n",
      "author                                           [美] 艾伦·金斯伯格\n",
      "content         “我们是最工业的城市，我们有最摇滚的战士：\\n    最工业化的号角吹响，在大洋彼...\n",
      "c_title                                         不是每一个男人都如他坦荡\n",
      "Name: 230, dtype: object\n",
      "     “我们是最工业的城市，我们有最摇滚的战士：\n",
      "    最工业化的号角吹响，在大洋彼岸的美利坚；在日耳曼；在菊花国度，在中国。人类的贪婪绑架了机械和自己的灵魂。这是每个人和人类的角力，是天空和火焰；大地同海洋的悬浊—痛苦、和声嘶力竭。\n"
     ]
    }
   ],
   "source": [
    "#查询\n",
    "query_id = 230\n",
    "print article.iloc[query_id]\n",
    "print article.content[query_id]"
   ]
  },
  {
   "cell_type": "code",
   "execution_count": 406,
   "metadata": {
    "collapsed": false
   },
   "outputs": [
    {
     "name": "stdout",
     "output_type": "stream",
     "text": [
      "relevancy is:  0.625334305774\n",
      "0.009*社会 + 0.008*国家 + 0.008*政府 + 0.007*政治 + 0.006*经济 + 0.006*运动 + 0.006*组织 + 0.005*法律 + 0.005*认为 + 0.004*问题 + 0.004*美国 + 0.004*发展 + 0.004*自由 + 0.004*支持 + 0.004*反对 + 0.004*包括 + 0.004*年代 + 0.004*提出 + 0.004*政策 + 0.004*宪法 + 0.003*法案 + 0.003*影响 + 0.003*文化 + 0.003*改革 + 0.003*制度 + 0.003*成为 + 0.003*活动 + 0.003*中国 + 0.003*进行 + 0.003*历史\n",
      "\n",
      "relevancy is:  0.0116747691697\n",
      "0.032*世纪 + 0.021*帝国 + 0.021*王国 + 0.016*时期 + 0.013*王朝 + 0.011*公元前 + 0.009*现今 + 0.009*公元 + 0.008*历史 + 0.008*统治 + 0.008*琉球 + 0.008*时代 + 0.008*部落 + 0.005*波斯 + 0.005*民族 + 0.005*文化 + 0.005*地区 + 0.005*建立 + 0.005*希腊 + 0.004*国王 + 0.004*征服 + 0.004*菲律宾 + 0.004*文明 + 0.004*记载 + 0.004*称为 + 0.004*拜占庭 + 0.003*成为 + 0.003*神庙 + 0.003*西亚 + 0.003*古代\n",
      "\n",
      "relevancy is:  0.176030494418\n",
      "0.012*认为 + 0.005*问题 + 0.004*进行 + 0.004*出现 + 0.004*影响 + 0.004*之后 + 0.004*已经 + 0.004*存在 + 0.003*表示 + 0.003*内容 + 0.003*工作 + 0.003*一种 + 0.003*包括 + 0.003*需要 + 0.003*行为 + 0.003*选择 + 0.003*时间 + 0.003*指出 + 0.003*方式 + 0.003*评价 + 0.003*无法 + 0.002*表现 + 0.002*过程 + 0.002*生活 + 0.002*成为 + 0.002*接受 + 0.002*人们 + 0.002*使用 + 0.002*发生 + 0.002*发现\n",
      "\n",
      "relevancy is:  0.0253465166287\n",
      "0.016*位于 + 0.015*台地 + 0.014*地区 + 0.012*公里 + 0.010*东北 + 0.007*公园 + 0.007*境内 + 0.007*西南 + 0.007*发电厂 + 0.006*西北 + 0.006*公尺 + 0.006*地形 + 0.005*东南 + 0.005*地名 + 0.005*面积 + 0.005*河流 + 0.005*东部 + 0.005*水库 + 0.005*西部 + 0.005*主要 + 0.004*山脉 + 0.004*周边 + 0.004*北部 + 0.004*南部 + 0.004*走向 + 0.004*形成 + 0.004*下游 + 0.004*上游 + 0.004*水坝 + 0.003*国家\n",
      "\n",
      "relevancy is:  0.0937696648144\n",
      "0.041*德国 + 0.022*俄罗斯 + 0.020*苏联 + 0.012*慕尼黑 + 0.012*柏林 + 0.011*波兰 + 0.011*乌克兰 + 0.009*莫斯科 + 0.007*奥地利 + 0.006*俄国 + 0.005*汉堡 + 0.005*匈牙利 + 0.005*科隆 + 0.005*法兰克福 + 0.005*维也纳 + 0.005*勋章 + 0.004*芬兰 + 0.004*费尔德 + 0.004*莱茵 + 0.004*卡尔 + 0.004*格勒 + 0.004*罗马尼亚 + 0.004*立陶宛 + 0.004*尔斯 + 0.003*德军 + 0.003*基辅 + 0.003*斯图加特 + 0.003*联邦 + 0.003*诺夫 + 0.003*欧洲\n",
      "\n"
     ]
    }
   ],
   "source": [
    "#主题\n",
    "for i,v in models[dictionary.doc2bow(texts[query_id])][:5]:\n",
    "    print \"relevancy is: \",v\n",
    "    print wiki_model[i]"
   ]
  },
  {
   "cell_type": "code",
   "execution_count": 407,
   "metadata": {
    "collapsed": false
   },
   "outputs": [
    {
     "name": "stdout",
     "output_type": "stream",
     "text": [
      "index_id: 693    sim value is: 0.0869786099252\n",
      "b_title                    政治经济学的国民体系\n",
      "author                      弗里德里希.李斯特\n",
      "c_title    看来贸易保护措施并不一定都是坏事,不能盲目崇拜...\n",
      "Name: 693, dtype: object\n",
      "content:  1》一国的在自己的工业、农业尚不具备条件和外国成熟企业竞争时，限制性的保护措施不必可少。等待国内的工业足够与外国资本竞争时再实行自由贸易才是历史给我的经验教训。\n",
      "\n",
      "2》看来贸易保护措施并不一定都是坏事\n",
      "****************************************************************************************************\n",
      "index_id: 690    sim value is: 0.102612087239\n",
      "b_title    政治经济学的国民体系\n",
      "author      弗里德里希.李斯特\n",
      "c_title     不单是关税保护制度\n",
      "Name: 690, dtype: object\n",
      "content:  讲到近代德国的统一，在经济方面往往必谈1834年由普鲁士领导形成的德意志关税同盟，这常被看作是德国政治统一在经济上的前提；而当提及德意志关税同盟之时，对于弗里德里希•李斯特又是不能避而不谈的。李斯特被\n",
      "****************************************************************************************************\n",
      "index_id: 3153    sim value is: 0.107884262972\n",
      "b_title    公共领域的结构转型\n",
      "author       （德）哈贝马斯\n",
      "c_title      失落的公共领域\n",
      "Name: 3153, dtype: object\n",
      "content:  尤根·哈贝马斯（Jurgen Habermas），1929生于德国杜塞尔多夫。1949年起，先后在哥廷根、苏黎世、波恩上大学，学习哲学、历史、心理学、文学等，1954年博士学位。1956年，来到法兰克\n",
      "****************************************************************************************************\n",
      "index_id: 328    sim value is: 0.119438272919\n",
      "b_title             古代人的自由与现代人的自由\n",
      "author                 （法）邦雅曼・贡斯当\n",
      "c_title    贡斯当《古代人的自由与现代人的自由）》小摘要\n",
      "Name: 328, dtype: object\n",
      "content:  【按语：贡斯当（Benjamin Constant 1767-1830）出生于瑞士洛桑，部分受教育于苏格兰的爱丁堡大学（汲取了苏格兰政治经济学传统），青年时是花花公子，因反对拿破仑而流亡多年，却在拿破\n",
      "****************************************************************************************************\n",
      "index_id: 3156    sim value is: 0.12967852031\n",
      "b_title       公共领域的结构转型\n",
      "author          （德）哈贝马斯\n",
      "c_title    读《公共领域的结构转型》\n",
      "Name: 3156, dtype: object\n",
      "content:  以资本主义由自由主义阶段向国家干预阶段发展为背景，哈贝马斯的《公共领域的结构转型》一书重点探讨了资本主义公共领域的产生、发展到、变化的动态过程。它是一本半理论，半实证的著作。不幸的是，其晦涩难度并不亚\n",
      "****************************************************************************************************\n",
      "index_id: 3151    sim value is: 0.130861965608\n",
      "b_title    公共领域的结构转型\n",
      "author       （德）哈贝马斯\n",
      "c_title      此书的现实意义\n",
      "Name: 3151, dtype: object\n",
      "content:  我认为哈贝马斯对于公共领域理论的探讨对研究舆论问题、民主等问题有非常重要的借鉴意义，但是不得不承认从这本书中我仍然能感受到一些局限性。哈贝马斯将公共领域化为四个发展阶段其中不乏理想主义的色彩，将公共权\n",
      "****************************************************************************************************\n",
      "index_id: 4355    sim value is: 0.132796236557\n",
      "b_title                       共同体与社会\n",
      "author                   [德] 斐迪南·滕尼斯\n",
      "c_title    秦晖：共同体·社会·大共同体——评滕尼斯《共...\n",
      "Name: 4355, dtype: object\n",
      "content:  转自：\n",
      "爱思想网 \n",
      "<a rel=\"nofollow\" href=\"http://www.aisixiang.com/data/35582.html\" target=\"_blank\">http://w\n",
      "****************************************************************************************************\n",
      "index_id: 691    sim value is: 0.134931433763\n",
      "b_title        政治经济学的国民体系\n",
      "author          弗里德里希.李斯特\n",
      "c_title    李斯特是一个伪贸易保护主义者\n",
      "Name: 691, dtype: object\n",
      "content:  为什么这么说\n",
      "李斯特认同自由贸易的优点\n",
      "但他赞同实施贸易保护主义\n",
      "亮点如下 \n",
      "一，这个世界不是一个自由贸易的世界\n",
      "单方面的实施自由贸易等于找抽\n",
      "二，自由贸易阻止了后进国发展工业\n",
      "这点不利于国家利益\n",
      "并\n",
      "****************************************************************************************************\n",
      "index_id: 2074    sim value is: 0.136788423446\n",
      "b_title                        作为公平的正义\n",
      "author                             罗尔斯\n",
      "c_title    《作为公平的正义——正义新论（2001）》小摘要...\n",
      "Name: 2074, dtype: object\n",
      "content:  【用为索引，算为对《正义论》的补充。卷5太略；罗尔斯的写作清晰而又枯燥（非形而上学家大多有这个特征，甚至Locke的《人类理解论》就是这个风格）。现在想来，《正义论》第七章goodness as ra\n",
      "****************************************************************************************************\n",
      "index_id: 3148    sim value is: 0.139011488869\n",
      "b_title    公共领域的结构转型\n",
      "author       （德）哈贝马斯\n",
      "c_title         读书笔记\n",
      "Name: 3148, dtype: object\n",
      "content:    《公共领域的结构转型》对于法兰克福学派的理论来说是非常具有代表意义的。哈贝马斯在书中阐释了他心目中理想的社会结构，即自由主义经济下公私分明的公共领域范畴。形成这个范畴的前提是私人领域从公共权力机关\n",
      "****************************************************************************************************\n"
     ]
    }
   ],
   "source": [
    "sim_id = distances[query_id].argmin()\n",
    "for sim_id in distances[query_id].argsort()[:10]:\n",
    "    print 'index_id:',sim_id,'  ','sim value is:',distances[query_id][sim_id]\n",
    "    print article[['b_title','author','c_title']].iloc[sim_id]\n",
    "    print 'content: ', article.content[sim_id][:100]\n",
    "    print \"*\"*100"
   ]
  },
  {
   "cell_type": "code",
   "execution_count": 309,
   "metadata": {
    "collapsed": false
   },
   "outputs": [
    {
     "data": {
      "text/plain": [
       "array([ 0.77794578,  0.74031204,  0.63255605, ...,  0.61311509,\n",
       "        0.63483918,  0.66312963])"
      ]
     },
     "execution_count": 309,
     "metadata": {},
     "output_type": "execute_result"
    }
   ],
   "source": [
    "distances[query_id]"
   ]
  },
  {
   "cell_type": "markdown",
   "metadata": {},
   "source": [
    "#### 新增文章实时查询"
   ]
  },
  {
   "cell_type": "code",
   "execution_count": 413,
   "metadata": {
    "collapsed": false
   },
   "outputs": [],
   "source": [
    "query_text = u'瑰丽多姿的少数民族'\n",
    "temp = [dictionary.doc2bow([word]) for word in jieba.cut(query_text,cut_all=True) if len(word)>1 and word not in stop_words]"
   ]
  },
  {
   "cell_type": "code",
   "execution_count": 414,
   "metadata": {
    "collapsed": false
   },
   "outputs": [
    {
     "name": "stdout",
     "output_type": "stream",
     "text": [
      "0.131*香港 + 0.007*硬币 + 0.005*铸币 + 0.005*主席 + 0.004*举行 + 0.004*日报 + 0.003*包括 + 0.003*锦标 + 0.003*第三日 + 0.003*美分 + 0.003*市民 + 0.003*参与 + 0.003*人士 + 0.003*金币 + 0.003*华侨 + 0.003*活动 + 0.002*发行 + 0.002*网上 + 0.002*总会 + 0.002*内地 + 0.002*华人 + 0.002*周年 + 0.002*期间 + 0.002*纪念 + 0.002*英国 + 0.002*传媒 + 0.002*澳门 + 0.002*正面 + 0.002*梁振英 + 0.002*慈善\n",
      "\n",
      "0.015*中国 + 0.010*记载 + 0.005*时期 + 0.005*孔子 + 0.005*古代 + 0.004*朝鲜 + 0.004*历史 + 0.004*出自 + 0.004*学者 + 0.004*姓氏 + 0.004*春秋 + 0.003*文献 + 0.003*高丽 + 0.003*见于 + 0.003*认为 + 0.003*史记 + 0.002*唐代 + 0.002*内容 + 0.002*历代 + 0.002*史料 + 0.002*人物 + 0.002*编纂 + 0.002*天下 + 0.002*楚国 + 0.002*出土 + 0.002*三国 + 0.002*宋代 + 0.002*新罗 + 0.002*中原 + 0.002*公子\n",
      "\n",
      "0.027*语言 + 0.024*英语 + 0.017*使用 + 0.011*方言 + 0.010*字母 + 0.009*法语 + 0.007*发音 + 0.006*动词 + 0.006*范例 + 0.006*日语 + 0.006*名词 + 0.006*汉字 + 0.006*元音 + 0.006*表示 + 0.006*德语 + 0.005*汉语 + 0.005*意思 + 0.005*中文 + 0.004*文字 + 0.004*一种 + 0.004*西班牙语 + 0.004*形式 + 0.004*声母 + 0.004*变化 + 0.003*语音 + 0.003*通常 + 0.003*书写 + 0.003*人称 + 0.003*辅音 + 0.003*词汇\n",
      "\n",
      "0.016*山西省 + 0.016*深圳 + 0.013*四川 + 0.013*广东 + 0.013*广西 + 0.013*西安 + 0.013*中国 + 0.011*湖南 + 0.011*云南 + 0.011*河北 + 0.011*贵州 + 0.010*陕西 + 0.010*江苏 + 0.010*辽宁 + 0.010*河南 + 0.010*陕西省 + 0.009*山西 + 0.009*哈尔滨 + 0.008*湖北 + 0.007*浙江 + 0.007*吉林 + 0.007*内蒙古 + 0.007*辽宁省 + 0.007*重庆 + 0.007*云南省 + 0.007*河北省 + 0.006*昆明 + 0.006*沈阳 + 0.006*黑龙江 + 0.006*甘肃省\n",
      "\n",
      "0.032*世纪 + 0.021*帝国 + 0.021*王国 + 0.016*时期 + 0.013*王朝 + 0.011*公元前 + 0.009*现今 + 0.009*公元 + 0.008*历史 + 0.008*统治 + 0.008*琉球 + 0.008*时代 + 0.008*部落 + 0.005*波斯 + 0.005*民族 + 0.005*文化 + 0.005*地区 + 0.005*建立 + 0.005*希腊 + 0.004*国王 + 0.004*征服 + 0.004*菲律宾 + 0.004*文明 + 0.004*记载 + 0.004*称为 + 0.004*拜占庭 + 0.003*成为 + 0.003*神庙 + 0.003*西亚 + 0.003*古代\n",
      "\n"
     ]
    }
   ],
   "source": [
    "for i in map(lambda x:models[x],temp):\n",
    "    print wiki_model[i[0][0]]"
   ]
  },
  {
   "cell_type": "code",
   "execution_count": null,
   "metadata": {
    "collapsed": true
   },
   "outputs": [],
   "source": []
  },
  {
   "cell_type": "code",
   "execution_count": null,
   "metadata": {
    "collapsed": true
   },
   "outputs": [],
   "source": []
  },
  {
   "cell_type": "markdown",
   "metadata": {},
   "source": [
    "### 知识点  对繁体中文转化为简体"
   ]
  },
  {
   "cell_type": "code",
   "execution_count": null,
   "metadata": {
    "collapsed": true
   },
   "outputs": [],
   "source": [
    "from opencc import OpenCC "
   ]
  },
  {
   "cell_type": "code",
   "execution_count": null,
   "metadata": {
    "collapsed": true
   },
   "outputs": [],
   "source": [
    "# opencc真的很强大，api也很简单，对整个wiki中文进行的转化也只用了半小时\n",
    "converted = openCC.convert(str_line)"
   ]
  }
 ],
 "metadata": {
  "kernelspec": {
   "display_name": "Python [Root]",
   "language": "python",
   "name": "Python [Root]"
  },
  "language_info": {
   "codemirror_mode": {
    "name": "ipython",
    "version": 2
   },
   "file_extension": ".py",
   "mimetype": "text/x-python",
   "name": "python",
   "nbconvert_exporter": "python",
   "pygments_lexer": "ipython2",
   "version": "2.7.12"
  }
 },
 "nbformat": 4,
 "nbformat_minor": 0
}
