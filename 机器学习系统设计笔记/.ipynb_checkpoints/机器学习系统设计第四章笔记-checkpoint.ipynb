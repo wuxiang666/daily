{
 "cells": [
  {
   "cell_type": "code",
   "execution_count": 1,
   "metadata": {
    "collapsed": false
   },
   "outputs": [],
   "source": [
    "from gensim import corpora, models, matutils\n",
    "import matplotlib.pyplot as plt\n",
    "import numpy as np"
   ]
  },
  {
   "cell_type": "code",
   "execution_count": 2,
   "metadata": {
    "collapsed": false
   },
   "outputs": [],
   "source": [
    "corpus = corpora.BleiCorpus('ap.dat','vocab.txt')"
   ]
  },
  {
   "cell_type": "code",
   "execution_count": 137,
   "metadata": {
    "collapsed": false
   },
   "outputs": [
    {
     "data": {
      "text/plain": [
       "{0: u'i',\n",
       " 1: u'new',\n",
       " 2: u'percent',\n",
       " 3: u'people',\n",
       " 4: u'year',\n",
       " 5: u'two',\n",
       " 6: u'million',\n",
       " 7: u'president',\n",
       " 8: u'last',\n",
       " 9: u'government',\n",
       " 10: u'years',\n",
       " 11: u'first',\n",
       " 12: u'police',\n",
       " 13: u'state',\n",
       " 14: u'states',\n",
       " 15: u'officials',\n",
       " 16: u'soviet',\n",
       " 17: u'united',\n",
       " 18: u'bush',\n",
       " 19: u'time',\n",
       " 20: u'three',\n",
       " 21: u'billion',\n",
       " 22: u'today',\n",
       " 23: u'national',\n",
       " 24: u'told',\n",
       " 25: u'american',\n",
       " 26: u'thursday',\n",
       " 27: u'federal',\n",
       " 28: u'house',\n",
       " 29: u'week',\n",
       " 30: u'court',\n",
       " 31: u'day',\n",
       " 32: u'tuesday',\n",
       " 33: u'made',\n",
       " 34: u'news',\n",
       " 35: u'wednesday',\n",
       " 36: u'monday',\n",
       " 37: u'friday',\n",
       " 38: u'say',\n",
       " 39: u'company',\n",
       " 40: u'city',\n",
       " 41: u'party',\n",
       " 42: u'just',\n",
       " 43: u'group',\n",
       " 44: u'york',\n",
       " 45: u'market',\n",
       " 46: u'report',\n",
       " 47: u'department',\n",
       " 48: u'military',\n",
       " 49: u'south',\n",
       " 50: u'union',\n",
       " 51: u'members',\n",
       " 52: u'home',\n",
       " 53: u'west',\n",
       " 54: u'political',\n",
       " 55: u'reported',\n",
       " 56: u'make',\n",
       " 57: u'going',\n",
       " 58: u'office',\n",
       " 59: u'get',\n",
       " 60: u'spokesman',\n",
       " 61: u'dont',\n",
       " 62: u'world',\n",
       " 63: u'like',\n",
       " 64: u'four',\n",
       " 65: u'think',\n",
       " 66: u'committee',\n",
       " 67: u'back',\n",
       " 68: u'work',\n",
       " 69: u'defense',\n",
       " 70: u'says',\n",
       " 71: u'country',\n",
       " 72: u'war',\n",
       " 73: u'congress',\n",
       " 74: u'nations',\n",
       " 75: u'foreign',\n",
       " 76: u'official',\n",
       " 77: u'public',\n",
       " 78: u'trade',\n",
       " 79: u'take',\n",
       " 80: u'prices',\n",
       " 81: u'month',\n",
       " 82: u'general',\n",
       " 83: u'economic',\n",
       " 84: u'five',\n",
       " 85: u'air',\n",
       " 86: u'money',\n",
       " 87: u'stock',\n",
       " 88: u'called',\n",
       " 89: u'found',\n",
       " 90: u'dukakis',\n",
       " 91: u'days',\n",
       " 92: u'campaign',\n",
       " 93: u'law',\n",
       " 94: u'months',\n",
       " 95: u'program',\n",
       " 96: u'case',\n",
       " 97: u'asked',\n",
       " 98: u'workers',\n",
       " 99: u'administration',\n",
       " 100: u'late',\n",
       " 101: u'business',\n",
       " 102: u'east',\n",
       " 103: u'meeting',\n",
       " 104: u'support',\n",
       " 105: u'earlier',\n",
       " 106: u'chief',\n",
       " 107: u'service',\n",
       " 108: u'plan',\n",
       " 109: u'white',\n",
       " 110: u'go',\n",
       " 111: u'help',\n",
       " 112: u'north',\n",
       " 113: u'ago',\n",
       " 114: u'early',\n",
       " 115: u'board',\n",
       " 116: u'major',\n",
       " 117: u'killed',\n",
       " 118: u'oil',\n",
       " 119: u'force',\n",
       " 120: u'expected',\n",
       " 121: u'mrs',\n",
       " 122: u'minister',\n",
       " 123: u'yearold',\n",
       " 124: u'washington',\n",
       " 125: u'john',\n",
       " 126: u'end',\n",
       " 127: u'security',\n",
       " 128: u'good',\n",
       " 129: u'saying',\n",
       " 130: u'international',\n",
       " 131: u'agreement',\n",
       " 132: u'came',\n",
       " 133: u'system',\n",
       " 134: u'democratic',\n",
       " 135: u'bill',\n",
       " 136: u'reagan',\n",
       " 137: u'bank',\n",
       " 138: u'night',\n",
       " 139: u'leader',\n",
       " 140: u'miles',\n",
       " 141: u'man',\n",
       " 142: u'agency',\n",
       " 143: u'senate',\n",
       " 144: u'high',\n",
       " 145: u'attorney',\n",
       " 146: u'drug',\n",
       " 147: u'long',\n",
       " 148: u'sunday',\n",
       " 149: u'school',\n",
       " 150: u'children',\n",
       " 151: u'chairman',\n",
       " 152: u'family',\n",
       " 153: u'left',\n",
       " 154: u'statement',\n",
       " 155: u'talks',\n",
       " 156: u'held',\n",
       " 157: u'higher',\n",
       " 158: u'director',\n",
       " 159: u'number',\n",
       " 160: u'sales',\n",
       " 161: u'judge',\n",
       " 162: u'rose',\n",
       " 163: u'six',\n",
       " 164: u'leaders',\n",
       " 165: u'inc',\n",
       " 166: u'death',\n",
       " 167: u'know',\n",
       " 168: u'rights',\n",
       " 169: u'announced',\n",
       " 170: u'past',\n",
       " 171: u'interest',\n",
       " 172: u'decision',\n",
       " 173: u'see',\n",
       " 174: u'authorities',\n",
       " 175: u'put',\n",
       " 176: u'power',\n",
       " 177: u'control',\n",
       " 178: u'dollar',\n",
       " 179: u'army',\n",
       " 180: u'gorbachev',\n",
       " 181: u'life',\n",
       " 182: u'march',\n",
       " 183: u'black',\n",
       " 184: u'april',\n",
       " 185: u'price',\n",
       " 186: u'charges',\n",
       " 187: u'area',\n",
       " 188: u'vote',\n",
       " 189: u'second',\n",
       " 190: u'central',\n",
       " 191: u'countries',\n",
       " 192: u'vice',\n",
       " 193: u'forces',\n",
       " 194: u'budget',\n",
       " 195: u'center',\n",
       " 196: u'show',\n",
       " 197: u'secretary',\n",
       " 198: u'times',\n",
       " 199: u'pay',\n",
       " 200: u'republican',\n",
       " 201: u'died',\n",
       " 202: u'issue',\n",
       " 203: u'fire',\n",
       " 204: u'economy',\n",
       " 205: u'trial',\n",
       " 206: u'weeks',\n",
       " 207: u'saturday',\n",
       " 208: u'students',\n",
       " 209: u'corp',\n",
       " 210: u'men',\n",
       " 211: u'troops',\n",
       " 212: u'got',\n",
       " 213: u'share',\n",
       " 214: u'come',\n",
       " 215: u'trading',\n",
       " 216: u'co',\n",
       " 217: u'give',\n",
       " 218: u'prison',\n",
       " 219: u'university',\n",
       " 220: u'cents',\n",
       " 221: u'ms',\n",
       " 222: u'right',\n",
       " 223: u'close',\n",
       " 224: u'hospital',\n",
       " 225: u'recent',\n",
       " 226: u'member',\n",
       " 227: u'aid',\n",
       " 228: u'women',\n",
       " 229: u'june',\n",
       " 230: u'lower',\n",
       " 231: u'conference',\n",
       " 232: u'rate',\n",
       " 233: u'german',\n",
       " 234: u'little',\n",
       " 235: u'rates',\n",
       " 236: u'hours',\n",
       " 237: u'problems',\n",
       " 238: u'district',\n",
       " 239: u'presidential',\n",
       " 240: u'increase',\n",
       " 241: u'released',\n",
       " 242: u'industry',\n",
       " 243: u'health',\n",
       " 244: u'policy',\n",
       " 245: u'reporters',\n",
       " 246: u'exchange',\n",
       " 247: u'information',\n",
       " 248: u'issues',\n",
       " 249: u'th',\n",
       " 250: u'im',\n",
       " 251: u'taken',\n",
       " 252: u'away',\n",
       " 253: u'sen',\n",
       " 254: u'went',\n",
       " 255: u'tax',\n",
       " 256: u'top',\n",
       " 257: u'far',\n",
       " 258: u'am',\n",
       " 259: u'food',\n",
       " 260: u'fell',\n",
       " 261: u'record',\n",
       " 262: u'labor',\n",
       " 263: u'capital',\n",
       " 264: u'head',\n",
       " 265: u'communist',\n",
       " 266: u'groups',\n",
       " 267: u'county',\n",
       " 268: u'peace',\n",
       " 269: u'added',\n",
       " 270: u'condition',\n",
       " 271: u'july',\n",
       " 272: u'germany',\n",
       " 273: u'received',\n",
       " 274: u'thats',\n",
       " 275: u'press',\n",
       " 276: u'iraq',\n",
       " 277: u'order',\n",
       " 278: u'financial',\n",
       " 279: u'employees',\n",
       " 280: u'television',\n",
       " 281: u'opposition',\n",
       " 282: u'america',\n",
       " 283: u'california',\n",
       " 284: u'agreed',\n",
       " 285: u'average',\n",
       " 286: u'reports',\n",
       " 287: u'big',\n",
       " 288: u'human',\n",
       " 289: u'eastern',\n",
       " 290: u'george',\n",
       " 291: u'offer',\n",
       " 292: u'election',\n",
       " 293: u'water',\n",
       " 294: u'companies',\n",
       " 295: u'largest',\n",
       " 296: u'place',\n",
       " 297: u'robert',\n",
       " 298: u'outside',\n",
       " 299: u'known',\n",
       " 300: u'point',\n",
       " 301: u'wife',\n",
       " 302: u'job',\n",
       " 303: u'private',\n",
       " 304: u'change',\n",
       " 305: u'europe',\n",
       " 306: u'james',\n",
       " 307: u'san',\n",
       " 308: u'southern',\n",
       " 309: u'services',\n",
       " 310: u'rep',\n",
       " 311: u'didnt',\n",
       " 312: u'attack',\n",
       " 313: u'total',\n",
       " 314: u'jackson',\n",
       " 315: u'local',\n",
       " 316: u'points',\n",
       " 317: u'street',\n",
       " 318: u'plans',\n",
       " 319: u'council',\n",
       " 320: u'cost',\n",
       " 321: u'lost',\n",
       " 322: u'building',\n",
       " 323: u'action',\n",
       " 324: u'japan',\n",
       " 325: u'investigation',\n",
       " 326: u'move',\n",
       " 327: u'community',\n",
       " 328: u'newspaper',\n",
       " 329: u'small',\n",
       " 330: u'scheduled',\n",
       " 331: u'need',\n",
       " 332: u'cut',\n",
       " 333: u'accused',\n",
       " 334: u'believe',\n",
       " 335: u'return',\n",
       " 336: u'index',\n",
       " 337: u'texas',\n",
       " 338: u'seven',\n",
       " 339: u'nation',\n",
       " 340: u'executive',\n",
       " 341: u'israel',\n",
       " 342: u'morning',\n",
       " 343: u'trying',\n",
       " 344: u'arrested',\n",
       " 345: u'half',\n",
       " 346: u'prime',\n",
       " 347: u'association',\n",
       " 348: u'radio',\n",
       " 349: u'sent',\n",
       " 350: u'medical',\n",
       " 351: u'shot',\n",
       " 352: u'gave',\n",
       " 353: u'met',\n",
       " 354: u'eight',\n",
       " 355: u'continue',\n",
       " 356: u'interview',\n",
       " 357: u'won',\n",
       " 358: u'keep',\n",
       " 359: u'americans',\n",
       " 360: u'thousands',\n",
       " 361: u'working',\n",
       " 362: u'possible',\n",
       " 363: u'strong',\n",
       " 364: u'soldiers',\n",
       " 365: u'great',\n",
       " 366: u'free',\n",
       " 367: u'special',\n",
       " 368: u'refused',\n",
       " 369: u'open',\n",
       " 370: u'justice',\n",
       " 371: u'michael',\n",
       " 372: u'third',\n",
       " 373: u'led',\n",
       " 374: u'africa',\n",
       " 375: u'best',\n",
       " 376: u'london',\n",
       " 377: u'deal',\n",
       " 378: u'japanese',\n",
       " 379: u'analysts',\n",
       " 380: u'contract',\n",
       " 381: u'western',\n",
       " 382: u'real',\n",
       " 383: u'face',\n",
       " 384: u'elections',\n",
       " 385: u'call',\n",
       " 386: u'plant',\n",
       " 387: u'yen',\n",
       " 388: u'making',\n",
       " 389: u'filed',\n",
       " 390: u'town',\n",
       " 391: u'study',\n",
       " 392: u'future',\n",
       " 393: u'planned',\n",
       " 394: u'british',\n",
       " 395: u'charged',\n",
       " 396: u'closed',\n",
       " 397: u'production',\n",
       " 398: u'leave',\n",
       " 399: u'important',\n",
       " 400: u'taking',\n",
       " 401: u'problem',\n",
       " 402: u'officer',\n",
       " 403: u'organization',\n",
       " 404: u'officers',\n",
       " 405: u'kuwait',\n",
       " 406: u'spending',\n",
       " 407: u'front',\n",
       " 408: u'likely',\n",
       " 409: u'iraqi',\n",
       " 410: u'de',\n",
       " 411: u'proposal',\n",
       " 412: u'farmers',\n",
       " 413: u'better',\n",
       " 414: u'telephone',\n",
       " 415: u'proposed',\n",
       " 416: u'lot',\n",
       " 417: u'things',\n",
       " 418: u'final',\n",
       " 419: u'wanted',\n",
       " 420: u'based',\n",
       " 421: u'commission',\n",
       " 422: u'allow',\n",
       " 423: u'allowed',\n",
       " 424: u'involved',\n",
       " 425: u'legislation',\n",
       " 426: u'victims',\n",
       " 427: u'space',\n",
       " 428: u'sold',\n",
       " 429: u'senior',\n",
       " 430: u'bid',\n",
       " 431: u'session',\n",
       " 432: u'northern',\n",
       " 433: u'name',\n",
       " 434: u'gold',\n",
       " 435: u'church',\n",
       " 436: u'done',\n",
       " 437: u'release',\n",
       " 438: u'jobs',\n",
       " 439: u'shares',\n",
       " 440: u'failed',\n",
       " 441: u'large',\n",
       " 442: u'seen',\n",
       " 443: u'side',\n",
       " 444: u'sources',\n",
       " 445: u'ordered',\n",
       " 446: u'young',\n",
       " 447: u'moscow',\n",
       " 448: u'continued',\n",
       " 449: u'st',\n",
       " 450: u'futures',\n",
       " 451: u'meet',\n",
       " 452: u'deficit',\n",
       " 453: u'strike',\n",
       " 454: u'negotiations',\n",
       " 455: u'social',\n",
       " 456: u'computer',\n",
       " 457: u'violence',\n",
       " 458: u'supreme',\n",
       " 459: u'research',\n",
       " 460: u'provide',\n",
       " 461: u'areas',\n",
       " 462: u'flight',\n",
       " 463: u'democrats',\n",
       " 464: u'previous',\n",
       " 465: u'old',\n",
       " 466: u'richard',\n",
       " 467: u'despite',\n",
       " 468: u'run',\n",
       " 469: u'car',\n",
       " 470: u'look',\n",
       " 471: u'approved',\n",
       " 472: u'annual',\n",
       " 473: u'calls',\n",
       " 474: u'gulf',\n",
       " 475: u'hope',\n",
       " 476: u'products',\n",
       " 477: u'paid',\n",
       " 478: u'care',\n",
       " 479: u'situation',\n",
       " 480: u'programs',\n",
       " 481: u'level',\n",
       " 482: u'cases',\n",
       " 483: u'markets',\n",
       " 484: u'effort',\n",
       " 485: u'comment',\n",
       " 486: u'plane',\n",
       " 487: u'main',\n",
       " 488: u'hit',\n",
       " 489: u'evidence',\n",
       " 490: u'recently',\n",
       " 491: u'civil',\n",
       " 492: u'quoted',\n",
       " 493: u'rebels',\n",
       " 494: u'william',\n",
       " 495: u'current',\n",
       " 496: u'value',\n",
       " 497: u'estimated',\n",
       " 498: u'brought',\n",
       " 499: u'bushs',\n",
       " 500: u'running',\n",
       " 501: u'safety',\n",
       " 502: u'income',\n",
       " 503: u'european',\n",
       " 504: u'los',\n",
       " 505: u'summer',\n",
       " 506: u'convicted',\n",
       " 507: u'full',\n",
       " 508: u'summit',\n",
       " 509: u'fall',\n",
       " 510: u'iran',\n",
       " 511: u'wall',\n",
       " 512: u'position',\n",
       " 513: u'cause',\n",
       " 514: u'reached',\n",
       " 515: u'theres',\n",
       " 516: u'speech',\n",
       " 517: u'thought',\n",
       " 518: u'changes',\n",
       " 519: u'relations',\n",
       " 520: u'period',\n",
       " 521: u'dollars',\n",
       " 522: u'worked',\n",
       " 523: u'january',\n",
       " 524: u'efforts',\n",
       " 525: u'compared',\n",
       " 526: u'cash',\n",
       " 527: u'appeared',\n",
       " 528: u'hearing',\n",
       " 529: u'able',\n",
       " 530: u'november',\n",
       " 531: u'declined',\n",
       " 532: u'issued',\n",
       " 533: u'really',\n",
       " 534: u'line',\n",
       " 535: u'live',\n",
       " 536: u'saudi',\n",
       " 537: u'management',\n",
       " 538: u'woman',\n",
       " 539: u'african',\n",
       " 540: u'residents',\n",
       " 541: u'weapons',\n",
       " 542: u'legal',\n",
       " 543: u'visit',\n",
       " 544: u'development',\n",
       " 545: u'fighting',\n",
       " 546: u'hes',\n",
       " 547: u'ruling',\n",
       " 548: u'injured',\n",
       " 549: u'stocks',\n",
       " 550: u'aug',\n",
       " 551: u'angeles',\n",
       " 552: u'convention',\n",
       " 553: u'banks',\n",
       " 554: u'signed',\n",
       " 555: u'lead',\n",
       " 556: u'middle',\n",
       " 557: u'spent',\n",
       " 558: u'ended',\n",
       " 559: u'anonymity',\n",
       " 560: u'effect',\n",
       " 561: u'operations',\n",
       " 562: u'governments',\n",
       " 563: u'living',\n",
       " 564: u'taxes',\n",
       " 565: u'august',\n",
       " 566: u'remain',\n",
       " 567: u'equipment',\n",
       " 568: u'jury',\n",
       " 569: u'navy',\n",
       " 570: u'deputy',\n",
       " 571: u'parents',\n",
       " 572: u'education',\n",
       " 573: u'david',\n",
       " 574: u'jr',\n",
       " 575: u'showed',\n",
       " 576: u'israeli',\n",
       " 577: u'immediately',\n",
       " 578: u'increased',\n",
       " 579: u'forced',\n",
       " 580: u'clear',\n",
       " 581: u'measure',\n",
       " 582: u'son',\n",
       " 583: u'society',\n",
       " 584: u'tried',\n",
       " 585: u'chicago',\n",
       " 586: u'oct',\n",
       " 587: u'december',\n",
       " 588: u'ii',\n",
       " 589: u'base',\n",
       " 590: u'murder',\n",
       " 591: u'charge',\n",
       " 592: u'primary',\n",
       " 593: u'questions',\n",
       " 594: u'damage',\n",
       " 595: u'fair',\n",
       " 596: u'seeking',\n",
       " 597: u'september',\n",
       " 598: u'french',\n",
       " 599: u'homes',\n",
       " 600: u'serious',\n",
       " 601: u'soviets',\n",
       " 602: u'believed',\n",
       " 603: u'moved',\n",
       " 604: u'hundreds',\n",
       " 605: u'considered',\n",
       " 606: u'buy',\n",
       " 607: u'staff',\n",
       " 608: u'independent',\n",
       " 609: u'securities',\n",
       " 610: u'investment',\n",
       " 611: u'nuclear',\n",
       " 612: u'cant',\n",
       " 613: u'spoke',\n",
       " 614: u'airport',\n",
       " 615: u'investors',\n",
       " 616: u'doesnt',\n",
       " 617: u'different',\n",
       " 618: u'movement',\n",
       " 619: u'firm',\n",
       " 620: u'killing',\n",
       " 621: u'looking',\n",
       " 622: u'history',\n",
       " 623: u'february',\n",
       " 624: u'hold',\n",
       " 625: u'win',\n",
       " 626: u'cent',\n",
       " 627: u'emergency',\n",
       " 628: u'land',\n",
       " 629: u'start',\n",
       " 630: u'question',\n",
       " 631: u'bring',\n",
       " 632: u'congressional',\n",
       " 633: u'paul',\n",
       " 634: u'claims',\n",
       " 635: u'sell',\n",
       " 636: u'test',\n",
       " 637: u'aids',\n",
       " 638: u'act',\n",
       " 639: u'opened',\n",
       " 640: u'conservative',\n",
       " 641: u'environmental',\n",
       " 642: u'pm',\n",
       " 643: u'returned',\n",
       " 644: u'decided',\n",
       " 645: u'parties',\n",
       " 646: u'daily',\n",
       " 647: u'needed',\n",
       " 648: u'caused',\n",
       " 649: u'followed',\n",
       " 650: u'ground',\n",
       " 651: u'leading',\n",
       " 652: u'denied',\n",
       " 653: u'coast',\n",
       " 654: u'result',\n",
       " 655: u'energy',\n",
       " 656: u'funds',\n",
       " 657: u'october',\n",
       " 658: u'person',\n",
       " 659: u'bond',\n",
       " 660: u'jones',\n",
       " 661: u'getting',\n",
       " 662: u'process',\n",
       " 663: u'nov',\n",
       " 664: u'available',\n",
       " 665: u'nine',\n",
       " 666: u'quarter',\n",
       " 667: u'governor',\n",
       " 668: u'voters',\n",
       " 669: u'offered',\n",
       " 670: u'dec',\n",
       " 671: u'baker',\n",
       " 672: u'aircraft',\n",
       " 673: u'identified',\n",
       " 674: u'majority',\n",
       " 675: u'guilty',\n",
       " 676: u'spokeswoman',\n",
       " 677: u'role',\n",
       " 678: u'farm',\n",
       " 679: u'demand',\n",
       " 680: u'results',\n",
       " 681: u'jan',\n",
       " 682: u'panel',\n",
       " 683: u'gov',\n",
       " 684: u'red',\n",
       " 685: u'orders',\n",
       " 686: u'inflation',\n",
       " 687: u'candidates',\n",
       " 688: u'source',\n",
       " 689: u'alleged',\n",
       " 690: u'costs',\n",
       " 691: u'raised',\n",
       " 692: u'cars',\n",
       " 693: u'started',\n",
       " 694: u'mother',\n",
       " 695: u'college',\n",
       " 696: u'soon',\n",
       " 697: u'systems',\n",
       " 698: u'speaking',\n",
       " 699: u'team',\n",
       " 700: u'growth',\n",
       " 701: u'accident',\n",
       " 702: u'rule',\n",
       " 703: u'survey',\n",
       " 704: u'stop',\n",
       " 705: u'conditions',\n",
       " 706: u'remains',\n",
       " 707: u'turned',\n",
       " 708: u'wants',\n",
       " 709: u'figures',\n",
       " 710: u'armed',\n",
       " 711: u'heart',\n",
       " 712: u'thing',\n",
       " 713: u'park',\n",
       " 714: u'noted',\n",
       " 715: u'king',\n",
       " 716: u'housing',\n",
       " 717: u'border',\n",
       " 718: u'candidate',\n",
       " 719: u'ministry',\n",
       " 720: u'body',\n",
       " 721: u'pentagon',\n",
       " 722: u'secret',\n",
       " 723: u'criminal',\n",
       " 724: u'named',\n",
       " 725: u'un',\n",
       " 726: u'cities',\n",
       " 727: u'network',\n",
       " 728: u'begin',\n",
       " 729: u'claimed',\n",
       " 730: u'let',\n",
       " 731: u'assistant',\n",
       " 732: u'drugs',\n",
       " 733: u'student',\n",
       " 734: u'doing',\n",
       " 735: u'dead',\n",
       " 736: u'arms',\n",
       " 737: u'pressure',\n",
       " 738: u'letter',\n",
       " 739: u'dropped',\n",
       " 740: u'race',\n",
       " 741: u'common',\n",
       " 742: u'population',\n",
       " 743: u'embassy',\n",
       " 744: u'request',\n",
       " 745: u'station',\n",
       " 746: u'key',\n",
       " 747: u'crisis',\n",
       " 748: u'fund',\n",
       " 749: u'documents',\n",
       " 750: u'insurance',\n",
       " 751: u'sept',\n",
       " 752: u'series',\n",
       " 753: u'saw',\n",
       " 754: u'china',\n",
       " 755: u'estate',\n",
       " 756: u'kind',\n",
       " 757: u'wrote',\n",
       " 758: u'addition',\n",
       " 759: u'treaty',\n",
       " 760: u'panama',\n",
       " 761: u'independence',\n",
       " 762: u'date',\n",
       " 763: u'tons',\n",
       " 764: u'project',\n",
       " 765: u'try',\n",
       " 766: u'companys',\n",
       " 767: u'fired',\n",
       " 768: u'debt',\n",
       " 769: u'biggest',\n",
       " 770: u'sale',\n",
       " 771: u'lawyers',\n",
       " 772: u'loss',\n",
       " 773: u'republic',\n",
       " 774: u'trip',\n",
       " 775: u'elected',\n",
       " 776: u'heavy',\n",
       " 777: u'decline',\n",
       " 778: u'review',\n",
       " 779: u'airlines',\n",
       " 780: u'testimony',\n",
       " 781: u'amount',\n",
       " 782: u'industrial',\n",
       " 783: u'reform',\n",
       " 784: u'lives',\n",
       " 785: u'personal',\n",
       " 786: u'schools',\n",
       " 787: u'attempt',\n",
       " 788: u'hard',\n",
       " 789: u'apparently',\n",
       " 790: u'term',\n",
       " 791: u'feet',\n",
       " 792: u'mexico',\n",
       " 793: u'indicated',\n",
       " 794: u'weather',\n",
       " 795: u'supporters',\n",
       " 796: u'means',\n",
       " 797: u'latest',\n",
       " 798: u'gas',\n",
       " 799: u'weve',\n",
       " 800: u'details',\n",
       " 801: u'poor',\n",
       " 802: u'beginning',\n",
       " 803: u'records',\n",
       " 804: u'mayor',\n",
       " 805: u'crime',\n",
       " 806: u'present',\n",
       " 807: u'm',\n",
       " 808: u'rejected',\n",
       " 809: u'france',\n",
       " 810: u'ohio',\n",
       " 811: u'sought',\n",
       " 812: u'difficult',\n",
       " 813: u'arab',\n",
       " 814: u'required',\n",
       " 815: u'protest',\n",
       " 816: u'form',\n",
       " 817: u'wounded',\n",
       " 818: u'child',\n",
       " 819: u'fight',\n",
       " 820: u'mission',\n",
       " 821: u'fact',\n",
       " 822: u'river',\n",
       " 823: u'countrys',\n",
       " 824: u'tokyo',\n",
       " 825: u'helped',\n",
       " 826: u'theyre',\n",
       " 827: u'protection',\n",
       " 828: u'coming',\n",
       " 829: u'volume',\n",
       " 830: u'families',\n",
       " 831: u'feel',\n",
       " 832: u'island',\n",
       " 833: u'bus',\n",
       " 834: u'region',\n",
       " 835: u'terms',\n",
       " 836: u'fiscal',\n",
       " 837: u'film',\n",
       " 838: u'training',\n",
       " 839: u'suggested',\n",
       " 840: u'assets',\n",
       " 841: u'turn',\n",
       " 842: u'described',\n",
       " 843: u'loan',\n",
       " 844: u'debate',\n",
       " 845: u'delegates',\n",
       " 846: u'fitzwater',\n",
       " 847: u'rally',\n",
       " 848: u'tell',\n",
       " 849: u'trust',\n",
       " 850: u'light',\n",
       " 851: u'increases',\n",
       " 852: u'joint',\n",
       " 853: u'britain',\n",
       " 854: u'unions',\n",
       " 855: u'operation',\n",
       " 856: u'fbi',\n",
       " 857: u'hour',\n",
       " 858: u'businesses',\n",
       " 859: u'sure',\n",
       " 860: u'jewish',\n",
       " 861: u'arrived',\n",
       " 862: u'cocaine',\n",
       " 863: u'property',\n",
       " 864: u'seek',\n",
       " 865: u'votes',\n",
       " 866: u'worth',\n",
       " 867: u'dr',\n",
       " 868: u'broke',\n",
       " 869: u'minutes',\n",
       " 870: u'due',\n",
       " 871: u'citizens',\n",
       " 872: u'low',\n",
       " 873: u'ready',\n",
       " 874: u'savings',\n",
       " 875: u'concern',\n",
       " 876: u'additional',\n",
       " 877: u'leaving',\n",
       " 878: u'policies',\n",
       " 879: u'reduce',\n",
       " 880: u'bills',\n",
       " 881: u'age',\n",
       " 882: u'illegal',\n",
       " 883: u'claim',\n",
       " 884: u'shooting',\n",
       " 885: u'room',\n",
       " 886: u'approval',\n",
       " 887: u'lawmakers',\n",
       " 888: u'rest',\n",
       " 889: u'post',\n",
       " 890: u'friends',\n",
       " 891: u'bob',\n",
       " 892: u'treatment',\n",
       " 893: u'reason',\n",
       " 894: u'step',\n",
       " 895: u'calif',\n",
       " 896: u'domestic',\n",
       " 897: u'disease',\n",
       " 898: u'agriculture',\n",
       " 899: u'rain',\n",
       " 900: u'thomas',\n",
       " 901: u'tests',\n",
       " 902: u'poll',\n",
       " 903: u'goods',\n",
       " 904: u'hotel',\n",
       " 905: u'mark',\n",
       " 906: u'leadership',\n",
       " 907: u'matter',\n",
       " 908: u'nationwide',\n",
       " 909: u'appeal',\n",
       " 910: u'message',\n",
       " 911: u'suffered',\n",
       " 912: u'receive',\n",
       " 913: u'carrying',\n",
       " 914: u'discuss',\n",
       " 915: u'sentence',\n",
       " 916: u'published',\n",
       " 917: u'travel',\n",
       " 918: u'afternoon',\n",
       " 919: u'ruled',\n",
       " 920: u'progress',\n",
       " 921: u'passed',\n",
       " 922: u'book',\n",
       " 923: u'short',\n",
       " 924: u'ship',\n",
       " 925: u'selling',\n",
       " 926: u'potential',\n",
       " 927: u'smith',\n",
       " 928: u'headquarters',\n",
       " 929: u'ill',\n",
       " 930: u'threat',\n",
       " 931: u'view',\n",
       " 932: u'treasury',\n",
       " 933: u'list',\n",
       " 934: u'earnings',\n",
       " 935: u'sign',\n",
       " 936: u'joined',\n",
       " 937: u'site',\n",
       " 938: u'dow',\n",
       " 939: u'authority',\n",
       " 940: u'contracts',\n",
       " 941: u'catholic',\n",
       " 942: u'sides',\n",
       " 943: u'arrest',\n",
       " 944: u'holding',\n",
       " 945: u'massachusetts',\n",
       " 946: u'florida',\n",
       " 947: u'bad',\n",
       " 948: u'lines',\n",
       " 949: u'makes',\n",
       " 950: u'francisco',\n",
       " 951: u'b',\n",
       " 952: u'gorbachevs',\n",
       " 953: u'settlement',\n",
       " 954: u'conducted',\n",
       " 955: u'doctors',\n",
       " 956: u'kennedy',\n",
       " 957: u'consider',\n",
       " 958: u'voted',\n",
       " 959: u'todays',\n",
       " 960: u'ban',\n",
       " 961: u'guard',\n",
       " 962: u'rise',\n",
       " 963: u'affairs',\n",
       " 964: u'planes',\n",
       " 965: u'announcement',\n",
       " 966: u'commercial',\n",
       " 967: u'talk',\n",
       " 968: u'course',\n",
       " 969: u'separate',\n",
       " 970: u'grand',\n",
       " 971: u'media',\n",
       " 972: u'jail',\n",
       " 973: u'arabia',\n",
       " 974: u'feb',\n",
       " 975: u'urged',\n",
       " 976: u'invasion',\n",
       " 977: u'freedom',\n",
       " 978: u'attorneys',\n",
       " 979: u'chance',\n",
       " 980: u'sentenced',\n",
       " 981: u'testified',\n",
       " 982: u'longer',\n",
       " 983: u'necessary',\n",
       " 984: u'stay',\n",
       " 985: u'carried',\n",
       " 986: u'growing',\n",
       " 987: u'designed',\n",
       " 988: u'blood',\n",
       " 989: u'charles',\n",
       " 990: u'associated',\n",
       " 991: u'frank',\n",
       " 992: u'season',\n",
       " 993: u'crowd',\n",
       " 994: u'magazine',\n",
       " 995: u'supplies',\n",
       " 996: u'shortly',\n",
       " 997: u'occurred',\n",
       " 998: u'lawyer',\n",
       " 999: u'prosecutors',\n",
       " ...}"
      ]
     },
     "execution_count": 137,
     "metadata": {},
     "output_type": "execute_result"
    }
   ],
   "source": [
    "corpus.id2word"
   ]
  },
  {
   "cell_type": "code",
   "execution_count": 135,
   "metadata": {
    "collapsed": false
   },
   "outputs": [
    {
     "data": {
      "text/plain": [
       "[(0, 1.0),\n",
       " (6144, 1.0),\n",
       " (3586, 2.0),\n",
       " (3, 1.0),\n",
       " (4, 1.0),\n",
       " (1541, 1.0),\n",
       " (8, 1.0),\n",
       " (10, 1.0),\n",
       " (3927, 1.0),\n",
       " (12, 7.0),\n",
       " (4621, 1.0),\n",
       " (527, 1.0),\n",
       " (9232, 1.0),\n",
       " (1112, 2.0),\n",
       " (20, 1.0),\n",
       " (2587, 1.0),\n",
       " (6172, 1.0),\n",
       " (10269, 2.0),\n",
       " (37, 1.0),\n",
       " (42, 1.0),\n",
       " (3117, 1.0),\n",
       " (1582, 1.0),\n",
       " (1585, 3.0),\n",
       " (435, 1.0),\n",
       " (9268, 3.0),\n",
       " (571, 2.0),\n",
       " (60, 1.0),\n",
       " (61, 1.0),\n",
       " (63, 2.0),\n",
       " (64, 2.0),\n",
       " (5185, 1.0),\n",
       " (11, 1.0),\n",
       " (4683, 1.0),\n",
       " (590, 2.0),\n",
       " (1103, 2.0),\n",
       " (592, 1.0),\n",
       " (5718, 1.0),\n",
       " (1623, 2.0),\n",
       " (1624, 4.0),\n",
       " (89, 2.0),\n",
       " (6234, 1.0),\n",
       " (8802, 1.0),\n",
       " (1638, 1.0),\n",
       " (103, 1.0),\n",
       " (600, 1.0),\n",
       " (9404, 1.0),\n",
       " (106, 1.0),\n",
       " (3691, 1.0),\n",
       " (720, 1.0),\n",
       " (2672, 1.0),\n",
       " (113, 1.0),\n",
       " (2165, 1.0),\n",
       " (5751, 1.0),\n",
       " (123, 3.0),\n",
       " (1148, 1.0),\n",
       " (128, 2.0),\n",
       " (1670, 2.0),\n",
       " (4231, 1.0),\n",
       " (1167, 1.0),\n",
       " (144, 1.0),\n",
       " (147, 1.0),\n",
       " (149, 7.0),\n",
       " (3735, 2.0),\n",
       " (5272, 2.0),\n",
       " (1732, 1.0),\n",
       " (673, 2.0),\n",
       " (5282, 1.0),\n",
       " (27, 1.0),\n",
       " (1700, 1.0),\n",
       " (9893, 2.0),\n",
       " (166, 1.0),\n",
       " (167, 1.0),\n",
       " (173, 1.0),\n",
       " (174, 1.0),\n",
       " (2224, 1.0),\n",
       " (2248, 1.0),\n",
       " (372, 2.0),\n",
       " (186, 1.0),\n",
       " (4284, 3.0),\n",
       " (3450, 2.0),\n",
       " (117, 2.0),\n",
       " (203, 1.0),\n",
       " (2244, 1.0),\n",
       " (5320, 1.0),\n",
       " (201, 1.0),\n",
       " (4215, 1.0),\n",
       " (9932, 2.0),\n",
       " (207, 2.0),\n",
       " (208, 5.0),\n",
       " (8914, 1.0),\n",
       " (7898, 1.0),\n",
       " (733, 2.0),\n",
       " (1760, 1.0),\n",
       " (1744, 1.0),\n",
       " (744, 1.0),\n",
       " (234, 1.0),\n",
       " (1259, 2.0),\n",
       " (4287, 1.0),\n",
       " (7254, 1.0),\n",
       " (249, 1.0),\n",
       " (8311, 1.0),\n",
       " (5884, 2.0),\n",
       " (298, 1.0),\n",
       " (254, 1.0),\n",
       " (767, 2.0),\n",
       " (2304, 1.0),\n",
       " (4876, 1.0),\n",
       " (270, 1.0),\n",
       " (557, 1.0),\n",
       " (786, 1.0),\n",
       " (789, 2.0),\n",
       " (2331, 1.0),\n",
       " (287, 1.0),\n",
       " (5409, 1.0),\n",
       " (290, 1.0),\n",
       " (5923, 1.0),\n",
       " (2854, 1.0),\n",
       " (1834, 3.0),\n",
       " (303, 1.0),\n",
       " (3888, 4.0),\n",
       " (817, 2.0),\n",
       " (9523, 1.0),\n",
       " (334, 1.0),\n",
       " (1333, 1.0),\n",
       " (311, 2.0),\n",
       " (1855, 1.0),\n",
       " (1417, 1.0),\n",
       " (325, 1.0),\n",
       " (1870, 7.0),\n",
       " (1361, 1.0),\n",
       " (1362, 1.0),\n",
       " (6995, 1.0),\n",
       " (342, 1.0),\n",
       " (343, 1.0),\n",
       " (344, 1.0),\n",
       " (857, 1.0),\n",
       " (5469, 2.0),\n",
       " (351, 5.0),\n",
       " (1377, 1.0),\n",
       " (2402, 1.0),\n",
       " (487, 1.0),\n",
       " (884, 1.0),\n",
       " (885, 1.0),\n",
       " (890, 1.0),\n",
       " (4477, 1.0),\n",
       " (3455, 1.0),\n",
       " (1410, 1.0),\n",
       " (5099, 1.0),\n",
       " (4489, 1.0),\n",
       " (395, 1.0),\n",
       " (2570, 1.0),\n",
       " (152, 1.0),\n",
       " (404, 1.0),\n",
       " (1429, 1.0),\n",
       " (1430, 1.0),\n",
       " (3992, 1.0),\n",
       " (416, 1.0),\n",
       " (3491, 1.0),\n",
       " (2033, 1.0),\n",
       " (3499, 1.0),\n",
       " (429, 1.0),\n",
       " (3502, 1.0),\n",
       " (5040, 1.0),\n",
       " (433, 2.0),\n",
       " (1971, 4.0),\n",
       " (437, 1.0),\n",
       " (9667, 2.0),\n",
       " (322, 1.0),\n",
       " (7119, 1.0),\n",
       " (8656, 1.0),\n",
       " (1102, 1.0),\n",
       " (985, 1.0),\n",
       " (989, 1.0),\n",
       " (1840, 1.0),\n",
       " (2529, 1.0),\n",
       " (997, 1.0),\n",
       " (2022, 2.0),\n",
       " (4071, 1.0),\n",
       " (2536, 1.0),\n",
       " (10219, 1.0),\n",
       " (1517, 1.0),\n",
       " (1009, 1.0),\n",
       " (221, 1.0),\n",
       " (3059, 1.0),\n",
       " (500, 1.0),\n",
       " (511, 1.0)]"
      ]
     },
     "execution_count": 135,
     "metadata": {},
     "output_type": "execute_result"
    }
   ],
   "source": [
    "iter(corpus).next()"
   ]
  },
  {
   "cell_type": "markdown",
   "metadata": {},
   "source": [
    "个人理解的ap.dat中的数据 第一个是文档id 剩下是该文档中出现的词语的id对应的出现次数"
   ]
  },
  {
   "cell_type": "code",
   "execution_count": 11,
   "metadata": {
    "collapsed": false
   },
   "outputs": [],
   "source": [
    "model = models.ldamodel.LdaModel(corpus,num_topics=100,id2word=corpus.id2word)"
   ]
  },
  {
   "cell_type": "code",
   "execution_count": 33,
   "metadata": {
    "collapsed": false
   },
   "outputs": [],
   "source": [
    "topics = matutils.corpus2dense(model[corpus], num_terms=model.num_topics)"
   ]
  },
  {
   "cell_type": "code",
   "execution_count": 40,
   "metadata": {
    "collapsed": false
   },
   "outputs": [],
   "source": [
    "weight = topics.sum(1)\n",
    "max_topic = weight.argmax()"
   ]
  },
  {
   "cell_type": "code",
   "execution_count": 56,
   "metadata": {
    "collapsed": false
   },
   "outputs": [],
   "source": [
    "words = model.show_topic(max_topic, 64)"
   ]
  },
  {
   "cell_type": "code",
   "execution_count": 57,
   "metadata": {
    "collapsed": false
   },
   "outputs": [],
   "source": [
    "words=[(v,int(w*10000)) for v,w in words]\n",
    "tags = make_tags(words, maxsize=120)"
   ]
  },
  {
   "cell_type": "code",
   "execution_count": 48,
   "metadata": {
    "collapsed": false
   },
   "outputs": [],
   "source": [
    "def create_cloud(oname, words,maxsize=120, fontname='Lobster'):\n",
    "\n",
    "    # gensim returns a weight between 0 and 1 for each word, while pytagcloud\n",
    "    # expects an integer word count. So, we multiply by a large number and\n",
    "    # round. For a visualization this is an adequate approximation.\n",
    "    # We also need to flip the order as gensim returns (value, word), whilst\n",
    "    # pytagcloud expects (word, value):\n",
    "    words = [(w,int(v*10000)) for v,w in words]\n",
    "    tags = makfrom __future__ import print_function\n",
    "warned_of_error = False\n",
    "\n",
    "def create_cloud(oname, words,maxsize=120, fontname='Lobster'):\n",
    "    '''Creates a word cloud (when pytagcloud is installed)\n",
    "\n",
    "    Parameters\n",
    "    ----------\n",
    "    oname : output filename\n",
    "    words : list of (value,str)\n",
    "    maxsize : int, optional\n",
    "        Size of maximum word. The best setting for this parameter will often\n",
    "        require some manual tuning for each input.\n",
    "    fontname : str, optional\n",
    "        Font to use.\n",
    "    '''\n",
    "    try:\n",
    "        from pytagcloud import create_tag_image, make_tags\n",
    "    except ImportError:\n",
    "        if not warned_of_error:\n",
    "            print(\"Could not import pytagcloud. Skipping cloud generation\")\n",
    "        return\n",
    "\n",
    "    # gensim returns a weight between 0 and 1 for each word, while pytagcloud\n",
    "    # expects an integer word count. So, we multiply by a large number and\n",
    "    # round. For a visualization this is an adequate approximation.\n",
    "    # We also need to flip the order as gensim returns (value, word), whilst\n",
    "    # pytagcloud expects (word, value):\n",
    "    words = [(w,int(v*10000)) for v,w in words]\n",
    "    tags = make_tags(words, maxsize=maxsize)\n",
    "    create_tag_image(tags, oname, size=(1800, 1200), fontname=fontname)\n",
    "e_tags(words, maxsize=maxsize)\n",
    "    create_tag_image(tags, oname, size=(1800, 1200), fontname=fontname)\n"
   ]
  },
  {
   "cell_type": "code",
   "execution_count": 49,
   "metadata": {
    "collapsed": false
   },
   "outputs": [
    {
     "ename": "ValueError",
     "evalue": "invalid literal for int() with base 10: 'percentpercentpercentpercentpercentpercentpercentpercentpercentpercentpercentpercentpercentpercentpercentpercentpercentpercentpercentpercentpercentpercentpercentpercentpercentpercentpercentpercentperc'",
     "output_type": "error",
     "traceback": [
      "\u001b[1;31m---------------------------------------------------------------------------\u001b[0m",
      "\u001b[1;31mValueError\u001b[0m                                Traceback (most recent call last)",
      "\u001b[1;32m<ipython-input-49-7a3224a1d52b>\u001b[0m in \u001b[0;36m<module>\u001b[1;34m()\u001b[0m\n\u001b[1;32m----> 1\u001b[1;33m \u001b[0mcreate_cloud\u001b[0m\u001b[1;33m(\u001b[0m\u001b[1;34m'cloud_blei_lda.png'\u001b[0m\u001b[1;33m,\u001b[0m \u001b[0mwords\u001b[0m\u001b[1;33m)\u001b[0m\u001b[1;33m\u001b[0m\u001b[0m\n\u001b[0m",
      "\u001b[1;32m<ipython-input-48-310acc338d4b>\u001b[0m in \u001b[0;36mcreate_cloud\u001b[1;34m(oname, words, maxsize, fontname)\u001b[0m\n\u001b[0;32m      6\u001b[0m     \u001b[1;31m# We also need to flip the order as gensim returns (value, word), whilst\u001b[0m\u001b[1;33m\u001b[0m\u001b[1;33m\u001b[0m\u001b[0m\n\u001b[0;32m      7\u001b[0m     \u001b[1;31m# pytagcloud expects (word, value):\u001b[0m\u001b[1;33m\u001b[0m\u001b[1;33m\u001b[0m\u001b[0m\n\u001b[1;32m----> 8\u001b[1;33m     \u001b[0mwords\u001b[0m \u001b[1;33m=\u001b[0m \u001b[1;33m[\u001b[0m\u001b[1;33m(\u001b[0m\u001b[0mw\u001b[0m\u001b[1;33m,\u001b[0m\u001b[0mint\u001b[0m\u001b[1;33m(\u001b[0m\u001b[0mv\u001b[0m\u001b[1;33m*\u001b[0m\u001b[1;36m10000\u001b[0m\u001b[1;33m)\u001b[0m\u001b[1;33m)\u001b[0m \u001b[1;32mfor\u001b[0m \u001b[0mv\u001b[0m\u001b[1;33m,\u001b[0m\u001b[0mw\u001b[0m \u001b[1;32min\u001b[0m \u001b[0mwords\u001b[0m\u001b[1;33m]\u001b[0m\u001b[1;33m\u001b[0m\u001b[0m\n\u001b[0m\u001b[0;32m      9\u001b[0m     \u001b[0mtags\u001b[0m \u001b[1;33m=\u001b[0m \u001b[0mmake_tags\u001b[0m\u001b[1;33m(\u001b[0m\u001b[0mwords\u001b[0m\u001b[1;33m,\u001b[0m \u001b[0mmaxsize\u001b[0m\u001b[1;33m=\u001b[0m\u001b[0mmaxsize\u001b[0m\u001b[1;33m)\u001b[0m\u001b[1;33m\u001b[0m\u001b[0m\n\u001b[0;32m     10\u001b[0m     \u001b[0mcreate_tag_image\u001b[0m\u001b[1;33m(\u001b[0m\u001b[0mtags\u001b[0m\u001b[1;33m,\u001b[0m \u001b[0moname\u001b[0m\u001b[1;33m,\u001b[0m \u001b[0msize\u001b[0m\u001b[1;33m=\u001b[0m\u001b[1;33m(\u001b[0m\u001b[1;36m1800\u001b[0m\u001b[1;33m,\u001b[0m \u001b[1;36m1200\u001b[0m\u001b[1;33m)\u001b[0m\u001b[1;33m,\u001b[0m \u001b[0mfontname\u001b[0m\u001b[1;33m=\u001b[0m\u001b[0mfontname\u001b[0m\u001b[1;33m)\u001b[0m\u001b[1;33m\u001b[0m\u001b[0m\n",
      "\u001b[1;31mValueError\u001b[0m: invalid literal for int() with base 10: 'percentpercentpercentpercentpercentpercentpercentpercentpercentpercentpercentpercentpercentpercentpercentpercentpercentpercentpercentpercentpercentpercentpercentpercentpercentpercentpercentpercentperc'"
     ]
    }
   ],
   "source": [
    "create_cloud('cloud_blei_lda.png', words)\n"
   ]
  },
  {
   "cell_type": "code",
   "execution_count": 23,
   "metadata": {
    "collapsed": false
   },
   "outputs": [
    {
     "data": {
      "text/plain": [
       "(array([   0.,   37.,   51.,   97.,  126.,  161.,  163.,  213.,  217.,\n",
       "         188.,  215.,  180.,  169.,  109.,  101.,   73.,   66.,   39.,\n",
       "          20.,   18.,    2.,    0.,    1.,    0.,    0.,    0.,    0.,\n",
       "           0.,    0.,    0.,    0.,    0.,    0.,    0.,    0.,    0.,\n",
       "           0.,    0.,    0.,    0.,    0.]),\n",
       " array([ 0,  1,  2,  3,  4,  5,  6,  7,  8,  9, 10, 11, 12, 13, 14, 15, 16,\n",
       "        17, 18, 19, 20, 21, 22, 23, 24, 25, 26, 27, 28, 29, 30, 31, 32, 33,\n",
       "        34, 35, 36, 37, 38, 39, 40, 41]),\n",
       " <a list of 41 Patch objects>)"
      ]
     },
     "execution_count": 23,
     "metadata": {},
     "output_type": "execute_result"
    },
    {
     "data": {
      "image/png": "[encoded data removed]",
      "text/plain": [
       "<matplotlib.figure.Figure at 0x7915fd0>"
      ]
     },
     "metadata": {},
     "output_type": "display_data"
    }
   ],
   "source": [
    "plt.hist(topics,bins = np.arange(42))  #用hist画图，引入numpy数组，相当于bins，给出边缘"
   ]
  },
  {
   "cell_type": "code",
   "execution_count": 22,
   "metadata": {
    "collapsed": false
   },
   "outputs": [],
   "source": [
    "plt.hist?"
   ]
  },
  {
   "cell_type": "code",
   "execution_count": 24,
   "metadata": {
    "collapsed": true
   },
   "outputs": [],
   "source": [
    "model = models.ldamodel.LdaModel(corpus,num_topics=100,id2word=corpus.id2word,alpha=1)"
   ]
  },
  {
   "cell_type": "code",
   "execution_count": 26,
   "metadata": {
    "collapsed": false
   },
   "outputs": [],
   "source": [
    "topics1 = [len(model[c])  for c in corpus]"
   ]
  },
  {
   "cell_type": "code",
   "execution_count": 32,
   "metadata": {
    "collapsed": false
   },
   "outputs": [
    {
     "data": {
      "text/plain": [
       "(array([   0.,    2.,    7.,   12.,    8.,   19.,   15.,   18.,   23.,\n",
       "          14.,   24.,   25.,   29.,   39.,   49.,   61.,   84.,   89.,\n",
       "         125.,  132.,  166.,  167.,  172.,  149.,  140.,  136.,  106.,\n",
       "          93.,   75.,   62.,   46.,   50.,   26.,   27.,   12.,   14.,\n",
       "           6.,    3.,    2.,    7.,    4.]),\n",
       " array([ 0,  1,  2,  3,  4,  5,  6,  7,  8,  9, 10, 11, 12, 13, 14, 15, 16,\n",
       "        17, 18, 19, 20, 21, 22, 23, 24, 25, 26, 27, 28, 29, 30, 31, 32, 33,\n",
       "        34, 35, 36, 37, 38, 39, 40, 41]),\n",
       " <a list of 41 Patch objects>)"
      ]
     },
     "execution_count": 32,
     "metadata": {},
     "output_type": "execute_result"
    },
    {
     "data": {
      "image/png": "[encoded data removed]",
      "text/plain": [
       "<matplotlib.figure.Figure at 0xf4eb208>"
      ]
     },
     "metadata": {},
     "output_type": "display_data"
    }
   ],
   "source": [
    "fig,ax = plt.subplots()\n",
    "ax.hist(topics,bins = np.arange(42),alpha=.5)\n",
    "ax.hist(topics1,bins = np.arange(42),alpha=.5)"
   ]
  },
  {
   "cell_type": "code",
   "execution_count": 39,
   "metadata": {
    "collapsed": false
   },
   "outputs": [
    {
     "data": {
      "text/plain": [
       "[(u'two', 0.0050447548635294999),\n",
       " (u'percent', 0.0049554372391350356),\n",
       " (u'new', 0.0048437872001383759),\n",
       " (u'people', 0.0044004726183238928),\n",
       " (u'i', 0.004356264001921825),\n",
       " (u'government', 0.0043345908488986173),\n",
       " (u'nam', 0.0038090670617838746),\n",
       " (u'united', 0.0031232184322996623),\n",
       " (u'years', 0.0029066753031707195),\n",
       " (u'robertsons', 0.0028551230111813881)]"
      ]
     },
     "execution_count": 39,
     "metadata": {},
     "output_type": "execute_result"
    }
   ],
   "source": [
    "model.show_topic(3)"
   ]
  },
  {
   "cell_type": "code",
   "execution_count": 3,
   "metadata": {
    "collapsed": false
   },
   "outputs": [],
   "source": [
    "from pytagcloud import create_tag_image, make_tags"
   ]
  },
  {
   "cell_type": "code",
   "execution_count": 7,
   "metadata": {
    "collapsed": false
   },
   "outputs": [],
   "source": [
    "make_tags?"
   ]
  },
  {
   "cell_type": "code",
   "execution_count": 51,
   "metadata": {
    "collapsed": true
   },
   "outputs": [],
   "source": [
    "%matplotlib inline"
   ]
  },
  {
   "cell_type": "code",
   "execution_count": 60,
   "metadata": {
    "collapsed": true
   },
   "outputs": [],
   "source": [
    "from pytagcloud import create_tag_image, make_tags\n",
    "from pytagcloud.lang.counter import get_tag_counts\n",
    "\n",
    "YOUR_TEXT = \"A tag cloud is a visual representation for text data, typically\\\n",
    "used to depict keyword metadata on websites, or to visualize free form text.\"\n",
    "\n",
    "# tags = make_tags(get_tag_counts(YOUR_TEXT), maxsize=120)\n",
    "\n",
    "create_tag_image(tags, 'cloud_large.png', size=(900, 600), fontname='Lobster')"
   ]
  },
  {
   "cell_type": "code",
   "execution_count": 54,
   "metadata": {
    "collapsed": false
   },
   "outputs": [
    {
     "data": {
      "text/plain": [
       "[('text', 2),\n",
       " ('depict', 1),\n",
       " ('visualize', 1),\n",
       " ('keyword', 1),\n",
       " ('websites', 1),\n",
       " ('typicallyused', 1),\n",
       " ('visual', 1),\n",
       " ('tag', 1),\n",
       " ('form', 1),\n",
       " ('free', 1),\n",
       " ('representation', 1),\n",
       " ('data', 1),\n",
       " ('cloud', 1),\n",
       " ('metadata', 1)]"
      ]
     },
     "execution_count": 54,
     "metadata": {},
     "output_type": "execute_result"
    }
   ],
   "source": [
    "get_tag_counts(YOUR_TEXT)"
   ]
  },
  {
   "cell_type": "code",
   "execution_count": 58,
   "metadata": {
    "collapsed": false
   },
   "outputs": [
    {
     "data": {
      "text/plain": [
       "[{'color': (124, 167, 120), 'size': 133, 'tag': u'percent'},\n",
       " {'color': (108, 38, 182), 'size': 110, 'tag': u'million'},\n",
       " {'color': (83, 45, 185), 'size': 98, 'tag': u'year'},\n",
       " {'color': (198, 162, 191), 'size': 76, 'tag': u'new'},\n",
       " {'color': (60, 193, 156), 'size': 75, 'tag': u'people'},\n",
       " {'color': (81, 62, 11), 'size': 70, 'tag': u'sales'},\n",
       " {'color': (43, 127, 69), 'size': 65, 'tag': u'states'},\n",
       " {'color': (86, 51, 110), 'size': 62, 'tag': u'national'},\n",
       " {'color': (197, 127, 160), 'size': 59, 'tag': u'last'},\n",
       " {'color': (90, 10, 50), 'size': 59, 'tag': u'two'},\n",
       " {'color': (47, 47, 43), 'size': 58, 'tag': u'pacs'},\n",
       " {'color': (203, 13, 158), 'size': 56, 'tag': u'i'},\n",
       " {'color': (131, 117, 40), 'size': 54, 'tag': u'defense'},\n",
       " {'color': (28, 123, 203), 'size': 52, 'tag': u'years'},\n",
       " {'color': (36, 40, 172), 'size': 52, 'tag': u'government'},\n",
       " {'color': (171, 134, 52), 'size': 51, 'tag': u'billion'},\n",
       " {'color': (44, 128, 100), 'size': 51, 'tag': u'state'},\n",
       " {'color': (84, 149, 85), 'size': 51, 'tag': u'united'},\n",
       " {'color': (194, 161, 38), 'size': 49, 'tag': u'pac'},\n",
       " {'color': (10, 145, 190), 'size': 48, 'tag': u'city'},\n",
       " {'color': (177, 115, 152), 'size': 46, 'tag': u'president'},\n",
       " {'color': (78, 109, 72), 'size': 46, 'tag': u'area'},\n",
       " {'color': (14, 25, 30), 'size': 46, 'tag': u'four'},\n",
       " {'color': (39, 56, 160), 'size': 44, 'tag': u'first'},\n",
       " {'color': (147, 132, 70), 'size': 43, 'tag': u'three'},\n",
       " {'color': (139, 138, 194), 'size': 42, 'tag': u'time'},\n",
       " {'color': (24, 124, 141), 'size': 42, 'tag': u'tuesday'},\n",
       " {'color': (55, 92, 191), 'size': 40, 'tag': u'store'},\n",
       " {'color': (24, 106, 213), 'size': 40, 'tag': u'day'},\n",
       " {'color': (62, 93, 195), 'size': 40, 'tag': u'county'},\n",
       " {'color': (119, 12, 117), 'size': 40, 'tag': u'going'},\n",
       " {'color': (148, 93, 42), 'size': 39, 'tag': u'reported'},\n",
       " {'color': (182, 65, 73), 'size': 39, 'tag': u'officials'},\n",
       " {'color': (89, 202, 133), 'size': 38, 'tag': u'panama'},\n",
       " {'color': (133, 62, 78), 'size': 36, 'tag': u'ago'},\n",
       " {'color': (37, 130, 12), 'size': 36, 'tag': u'friday'},\n",
       " {'color': (94, 45, 175), 'size': 36, 'tag': u'just'},\n",
       " {'color': (128, 18, 128), 'size': 36, 'tag': u'money'},\n",
       " {'color': (90, 192, 212), 'size': 35, 'tag': u'water'},\n",
       " {'color': (32, 191, 215), 'size': 35, 'tag': u'military'},\n",
       " {'color': (203, 167, 25), 'size': 35, 'tag': u'committees'},\n",
       " {'color': (201, 130, 181), 'size': 35, 'tag': u'electoral'},\n",
       " {'color': (63, 30, 100), 'size': 34, 'tag': u'today'},\n",
       " {'color': (18, 218, 42), 'size': 34, 'tag': u'republican'},\n",
       " {'color': (16, 79, 57), 'size': 34, 'tag': u'campaign'},\n",
       " {'color': (199, 136, 220), 'size': 32, 'tag': u'police'},\n",
       " {'color': (25, 208, 149), 'size': 32, 'tag': u'past'},\n",
       " {'color': (146, 94, 183), 'size': 32, 'tag': u'center'},\n",
       " {'color': (201, 121, 76), 'size': 32, 'tag': u'dont'},\n",
       " {'color': (68, 76, 52), 'size': 31, 'tag': u'months'},\n",
       " {'color': (99, 142, 154), 'size': 31, 'tag': u'bush'},\n",
       " {'color': (162, 185, 195), 'size': 31, 'tag': u'american'},\n",
       " {'color': (118, 86, 145), 'size': 31, 'tag': u'force'},\n",
       " {'color': (29, 93, 39), 'size': 31, 'tag': u'high'},\n",
       " {'color': (114, 179, 187), 'size': 31, 'tag': u'miles'},\n",
       " {'color': (38, 84, 85), 'size': 31, 'tag': u'major'},\n",
       " {'color': (163, 174, 172), 'size': 31, 'tag': u'spending'},\n",
       " {'color': (134, 181, 132), 'size': 29, 'tag': u'results'},\n",
       " {'color': (130, 13, 187), 'size': 29, 'tag': u'know'},\n",
       " {'color': (219, 197, 61), 'size': 29, 'tag': u'came'},\n",
       " {'color': (54, 142, 155), 'size': 29, 'tag': u'air'},\n",
       " {'color': (178, 81, 45), 'size': 29, 'tag': u'stores'},\n",
       " {'color': (158, 71, 90), 'size': 29, 'tag': u'country'},\n",
       " {'color': (202, 134, 85), 'size': 28, 'tag': u'votes'}]"
      ]
     },
     "execution_count": 58,
     "metadata": {},
     "output_type": "execute_result"
    }
   ],
   "source": [
    "tags"
   ]
  },
  {
   "cell_type": "code",
   "execution_count": 63,
   "metadata": {
    "collapsed": false
   },
   "outputs": [
    {
     "data": {
      "text/plain": [
       "[(0, 0), (1, 1), (2, 2)]"
      ]
     },
     "execution_count": 63,
     "metadata": {},
     "output_type": "execute_result"
    }
   ],
   "source": [
    "list(enumerate(range(3)))"
   ]
  },
  {
   "cell_type": "code",
   "execution_count": 9,
   "metadata": {
    "collapsed": true
   },
   "outputs": [],
   "source": [
    "from gensim import corpora\n",
    "import gensim"
   ]
  },
  {
   "cell_type": "code",
   "execution_count": 4,
   "metadata": {
    "collapsed": true
   },
   "outputs": [],
   "source": [
    "documents = [\"Human machine interface for lab abc computer applications\",\n",
    "             \"A survey of user opinion of computer system response time\",\n",
    "              \"The EPS user interface management system\",\n",
    "              \"System and human system engineering testing of EPS\",\n",
    "              \"Relation of user perceived response time to error measurement\",\n",
    "              \"The generation of random binary unordered trees\",\n",
    "              \"The intersection graph of paths in trees\",\n",
    "              \"Graph minors IV Widths of trees and well quasi ordering\",\n",
    "              \"Graph minors A survey\"]"
   ]
  },
  {
   "cell_type": "code",
   "execution_count": 5,
   "metadata": {
    "collapsed": false
   },
   "outputs": [],
   "source": [
    "stoplist = set('for a of the and to in'.split())\n",
    "texts = [[word for word in document.lower().split() if word not in stoplist] for document in documents]\n",
    "from collections import defaultdict\n",
    "frequency = defaultdict(int)\n",
    "for text in texts:\n",
    "    for token in text:\n",
    "        frequency[token] += 1  \n",
    "texts = [[token for token in text if frequency[token]>1] for text in texts]"
   ]
  },
  {
   "cell_type": "code",
   "execution_count": 7,
   "metadata": {
    "collapsed": false
   },
   "outputs": [
    {
     "data": {
      "text/plain": [
       "[['human', 'interface', 'computer'],\n",
       " ['survey', 'user', 'computer', 'system', 'response', 'time'],\n",
       " ['eps', 'user', 'interface', 'system'],\n",
       " ['system', 'human', 'system', 'eps'],\n",
       " ['user', 'response', 'time'],\n",
       " ['trees'],\n",
       " ['graph', 'trees'],\n",
       " ['graph', 'minors', 'trees'],\n",
       " ['graph', 'minors', 'survey']]"
      ]
     },
     "execution_count": 7,
     "metadata": {},
     "output_type": "execute_result"
    }
   ],
   "source": [
    "texts"
   ]
  },
  {
   "cell_type": "code",
   "execution_count": 10,
   "metadata": {
    "collapsed": false
   },
   "outputs": [],
   "source": [
    "dictionary = gensim.corpora.Dictionary(texts)"
   ]
  },
  {
   "cell_type": "code",
   "execution_count": 20,
   "metadata": {
    "collapsed": false
   },
   "outputs": [
    {
     "data": {
      "text/plain": [
       "{0: 2, 1: 2, 2: 2, 3: 2, 4: 2, 5: 2, 6: 3, 7: 3, 8: 2, 9: 3, 10: 3, 11: 2}"
      ]
     },
     "execution_count": 20,
     "metadata": {},
     "output_type": "execute_result"
    }
   ],
   "source": [
    "dictionary.dfs"
   ]
  },
  {
   "cell_type": "code",
   "execution_count": 21,
   "metadata": {
    "collapsed": false
   },
   "outputs": [
    {
     "data": {
      "text/plain": [
       "{u'computer': 1,\n",
       " u'eps': 8,\n",
       " u'graph': 10,\n",
       " u'human': 2,\n",
       " u'interface': 0,\n",
       " u'minors': 11,\n",
       " u'response': 3,\n",
       " u'survey': 5,\n",
       " u'system': 6,\n",
       " u'time': 4,\n",
       " u'trees': 9,\n",
       " u'user': 7}"
      ]
     },
     "execution_count": 21,
     "metadata": {},
     "output_type": "execute_result"
    }
   ],
   "source": [
    "dictionary.token2id"
   ]
  },
  {
   "cell_type": "code",
   "execution_count": 17,
   "metadata": {
    "collapsed": true
   },
   "outputs": [],
   "source": [
    "corpus = [dictionary.doc2bow(text) for text in texts]"
   ]
  },
  {
   "cell_type": "code",
   "execution_count": 22,
   "metadata": {
    "collapsed": false
   },
   "outputs": [
    {
     "data": {
      "text/plain": [
       "[[(0, 1), (1, 1), (2, 1)],\n",
       " [(1, 1), (3, 1), (4, 1), (5, 1), (6, 1), (7, 1)],\n",
       " [(0, 1), (6, 1), (7, 1), (8, 1)],\n",
       " [(2, 1), (6, 2), (8, 1)],\n",
       " [(3, 1), (4, 1), (7, 1)],\n",
       " [(9, 1)],\n",
       " [(9, 1), (10, 1)],\n",
       " [(9, 1), (10, 1), (11, 1)],\n",
       " [(5, 1), (10, 1), (11, 1)]]"
      ]
     },
     "execution_count": 22,
     "metadata": {},
     "output_type": "execute_result"
    }
   ],
   "source": [
    "corpus"
   ]
  },
  {
   "cell_type": "code",
   "execution_count": 31,
   "metadata": {
    "collapsed": true
   },
   "outputs": [],
   "source": [
    "model = gensim.models.LdaModel(corpus,num_topics=5,id2word=dict(dictionary.iteritems()))"
   ]
  },
  {
   "cell_type": "code",
   "execution_count": 34,
   "metadata": {
    "collapsed": false
   },
   "outputs": [
    {
     "data": {
      "text/plain": [
       "[(0,\n",
       "  u'0.261*graph + 0.259*trees + 0.143*minors + 0.143*survey + 0.025*system + 0.024*user + 0.024*human + 0.024*interface + 0.024*eps + 0.024*computer'),\n",
       " (1,\n",
       "  u'0.233*system + 0.128*trees + 0.127*human + 0.127*graph + 0.127*eps + 0.127*minors + 0.022*user + 0.022*interface + 0.022*time + 0.022*response'),\n",
       " (2,\n",
       "  u'0.220*time + 0.220*response + 0.220*user + 0.039*trees + 0.038*graph + 0.038*system + 0.038*minors + 0.038*interface + 0.037*computer + 0.037*survey'),\n",
       " (3,\n",
       "  u'0.177*system + 0.177*user + 0.097*survey + 0.097*time + 0.097*computer + 0.097*response + 0.097*interface + 0.096*eps + 0.017*trees + 0.017*graph'),\n",
       " (4,\n",
       "  u'0.220*computer + 0.220*human + 0.220*interface + 0.039*trees + 0.038*graph + 0.038*user + 0.038*minors + 0.038*system + 0.037*response + 0.037*survey')]"
      ]
     },
     "execution_count": 34,
     "metadata": {},
     "output_type": "execute_result"
    }
   ],
   "source": [
    "model.show_topics(num_topics=10,num_words=10)"
   ]
  },
  {
   "cell_type": "code",
   "execution_count": 38,
   "metadata": {
    "collapsed": false
   },
   "outputs": [
    {
     "data": {
      "text/plain": [
       "['Human machine interface for lab abc computer applications',\n",
       " 'A survey of user opinion of computer system response time',\n",
       " 'The EPS user interface management system',\n",
       " 'System and human system engineering testing of EPS',\n",
       " 'Relation of user perceived response time to error measurement',\n",
       " 'The generation of random binary unordered trees',\n",
       " 'The intersection graph of paths in trees',\n",
       " 'Graph minors IV Widths of trees and well quasi ordering',\n",
       " 'Graph minors A survey']"
      ]
     },
     "execution_count": 38,
     "metadata": {},
     "output_type": "execute_result"
    }
   ],
   "source": [
    "documents"
   ]
  },
  {
   "cell_type": "code",
   "execution_count": 46,
   "metadata": {
    "collapsed": false
   },
   "outputs": [],
   "source": [
    "texts = model.show_topic(0)"
   ]
  },
  {
   "cell_type": "code",
   "execution_count": 40,
   "metadata": {
    "collapsed": true
   },
   "outputs": [],
   "source": [
    "from pytagcloud import create_tag_image, make_tags\n",
    "from pytagcloud.lang.counter import get_tag_counts"
   ]
  },
  {
   "cell_type": "code",
   "execution_count": 50,
   "metadata": {
    "collapsed": true
   },
   "outputs": [],
   "source": [
    "YOUR_TEXT = \"A tag cloud is a visual representation for text data, typically\\\n",
    "used to depict keyword metadata on websites, or to visualize free form text.\"\n",
    "\n",
    "tags = make_tags(texts, maxsize=120)\n"
   ]
  },
  {
   "cell_type": "code",
   "execution_count": 51,
   "metadata": {
    "collapsed": false
   },
   "outputs": [
    {
     "data": {
      "text/plain": [
       "[{'color': (18, 49, 26), 'size': 129, 'tag': u'graph'},\n",
       " {'color': (146, 123, 47), 'size': 128, 'tag': u'trees'},\n",
       " {'color': (102, 132, 50), 'size': 81, 'tag': u'minors'},\n",
       " {'color': (148, 47, 71), 'size': 81, 'tag': u'survey'},\n",
       " {'color': (142, 198, 177), 'size': 22, 'tag': u'system'},\n",
       " {'color': (192, 79, 44), 'size': 21, 'tag': u'user'},\n",
       " {'color': (130, 212, 173), 'size': 21, 'tag': u'human'},\n",
       " {'color': (214, 206, 40), 'size': 21, 'tag': u'interface'},\n",
       " {'color': (81, 148, 149), 'size': 21, 'tag': u'eps'},\n",
       " {'color': (169, 21, 67), 'size': 21, 'tag': u'computer'}]"
      ]
     },
     "execution_count": 51,
     "metadata": {},
     "output_type": "execute_result"
    }
   ],
   "source": [
    "tags"
   ]
  },
  {
   "cell_type": "code",
   "execution_count": 54,
   "metadata": {
    "collapsed": true
   },
   "outputs": [],
   "source": [
    "create_tag_image(tags, 'cloud_large.png', size=(900, 600))"
   ]
  },
  {
   "cell_type": "code",
   "execution_count": 53,
   "metadata": {
    "collapsed": false
   },
   "outputs": [],
   "source": [
    "create_tag_image?"
   ]
  },
  {
   "cell_type": "code",
   "execution_count": 49,
   "metadata": {
    "collapsed": false
   },
   "outputs": [
    {
     "data": {
      "text/plain": [
       "[(u'graph', 0.26106448397887805),\n",
       " (u'trees', 0.25857943037630465),\n",
       " (u'minors', 0.14294517579191277),\n",
       " (u'survey', 0.14273301233952601),\n",
       " (u'system', 0.02459873602909797),\n",
       " (u'user', 0.024357652011576036),\n",
       " (u'human', 0.024354963065646291),\n",
       " (u'interface', 0.024303535997550006),\n",
       " (u'eps', 0.024301874603322515),\n",
       " (u'computer', 0.024293051563111349)]"
      ]
     },
     "execution_count": 49,
     "metadata": {},
     "output_type": "execute_result"
    }
   ],
   "source": [
    "texts"
   ]
  },
  {
   "cell_type": "code",
   "execution_count": null,
   "metadata": {
    "collapsed": true
   },
   "outputs": [],
   "source": []
  },
  {
   "cell_type": "code",
   "execution_count": null,
   "metadata": {
    "collapsed": true
   },
   "outputs": [],
   "source": []
  },
  {
   "cell_type": "code",
   "execution_count": 197,
   "metadata": {
    "collapsed": false
   },
   "outputs": [],
   "source": [
    "with open('data/vocab.txt','w') as f:\n",
    "    for i in dictionary.token2id.iterkeys():\n",
    "        f.write(i+'\\n')"
   ]
  },
  {
   "cell_type": "code",
   "execution_count": 194,
   "metadata": {
    "collapsed": false
   },
   "outputs": [
    {
     "data": {
      "text/plain": [
       "{}"
      ]
     },
     "execution_count": 194,
     "metadata": {},
     "output_type": "execute_result"
    }
   ],
   "source": [
    "dictionary.id2token"
   ]
  },
  {
   "cell_type": "code",
   "execution_count": 200,
   "metadata": {
    "collapsed": false
   },
   "outputs": [
    {
     "data": {
      "text/plain": [
       "[[(0, 1), (1, 1), (2, 1)],\n",
       " [(1, 1), (3, 1), (4, 1), (5, 1), (6, 1), (7, 1)],\n",
       " [(0, 1), (6, 1), (7, 1), (8, 1)],\n",
       " [(2, 1), (6, 2), (8, 1)],\n",
       " [(3, 1), (4, 1), (7, 1)],\n",
       " [(9, 1)],\n",
       " [(9, 1), (10, 1)],\n",
       " [(9, 1), (10, 1), (11, 1)],\n",
       " [(5, 1), (10, 1), (11, 1)]]"
      ]
     },
     "execution_count": 200,
     "metadata": {},
     "output_type": "execute_result"
    }
   ],
   "source": [
    "corpora.BleiCorpus.serialize('data/deerwester.lda-c',corpus)\n",
    "corpus"
   ]
  },
  {
   "cell_type": "code",
   "execution_count": 203,
   "metadata": {
    "collapsed": false
   },
   "outputs": [
    {
     "data": {
      "text/plain": [
       "{0: u'minors',\n",
       " 1: u'graph',\n",
       " 2: u'system',\n",
       " 3: u'trees',\n",
       " 4: u'eps',\n",
       " 5: u'computer',\n",
       " 6: u'survey',\n",
       " 7: u'user',\n",
       " 8: u'human',\n",
       " 9: u'time',\n",
       " 10: u'interface',\n",
       " 11: u'response'}"
      ]
     },
     "execution_count": 203,
     "metadata": {},
     "output_type": "execute_result"
    }
   ],
   "source": [
    "corpus = corpora.BleiCorpus('data/deerwester.lda-c','data/vocab.txt')\n",
    "corpus.id2word"
   ]
  },
  {
   "cell_type": "code",
   "execution_count": 84,
   "metadata": {
    "collapsed": false
   },
   "outputs": [
    {
     "data": {
      "text/plain": [
       "{0: u'interface',\n",
       " 1: u'computer',\n",
       " 2: u'human',\n",
       " 3: u'response',\n",
       " 4: u'time',\n",
       " 5: u'survey',\n",
       " 6: u'system',\n",
       " 7: u'user',\n",
       " 8: u'eps',\n",
       " 9: u'trees',\n",
       " 10: u'graph',\n",
       " 11: u'minors'}"
      ]
     },
     "execution_count": 84,
     "metadata": {},
     "output_type": "execute_result"
    }
   ],
   "source": [
    "dict(dictionary.iteritems())"
   ]
  },
  {
   "cell_type": "code",
   "execution_count": 85,
   "metadata": {
    "collapsed": false
   },
   "outputs": [
    {
     "data": {
      "text/plain": [
       "{0: u'interface',\n",
       " 1: u'computer',\n",
       " 2: u'human',\n",
       " 3: u'response',\n",
       " 4: u'time',\n",
       " 5: u'survey',\n",
       " 6: u'system',\n",
       " 7: u'user',\n",
       " 8: u'eps',\n",
       " 9: u'trees',\n",
       " 10: u'graph',\n",
       " 11: u'minors'}"
      ]
     },
     "execution_count": 85,
     "metadata": {},
     "output_type": "execute_result"
    }
   ],
   "source": [
    "dictionary.id2token"
   ]
  },
  {
   "cell_type": "code",
   "execution_count": 72,
   "metadata": {
    "collapsed": false
   },
   "outputs": [],
   "source": [
    "model = gensim.models.LdaModel(corpus,num_topics=5,id2word=dict(dictionary.iteritems()))"
   ]
  },
  {
   "cell_type": "code",
   "execution_count": 73,
   "metadata": {
    "collapsed": false
   },
   "outputs": [
    {
     "data": {
      "text/plain": [
       "[(0, u'0.231*trees + 0.128*user + 0.128*system + 0.128*interface + 0.128*eps'),\n",
       " (1,\n",
       "  u'0.152*response + 0.152*user + 0.152*computer + 0.152*time + 0.084*system'),\n",
       " (2,\n",
       "  u'0.260*graph + 0.260*minors + 0.143*trees + 0.142*survey + 0.025*system'),\n",
       " (3, u'0.341*system + 0.186*human + 0.186*eps + 0.033*trees + 0.032*graph'),\n",
       " (4,\n",
       "  u'0.086*trees + 0.085*graph + 0.083*computer + 0.083*human + 0.083*system')]"
      ]
     },
     "execution_count": 73,
     "metadata": {},
     "output_type": "execute_result"
    }
   ],
   "source": [
    "model.show_topics(num_topics=5,num_words=5)"
   ]
  },
  {
   "cell_type": "code",
   "execution_count": 75,
   "metadata": {
    "collapsed": false
   },
   "outputs": [
    {
     "data": {
      "text/plain": [
       "[(0, 0.38933770517330807),\n",
       " (1, 0.23744547819235201),\n",
       " (2, 0.29193456748018021),\n",
       " (3, 0.041206303188095164),\n",
       " (4, 0.04007594596606455)]"
      ]
     },
     "execution_count": 75,
     "metadata": {},
     "output_type": "execute_result"
    }
   ],
   "source": [
    "query = 'minors computer EPS trees'.lower().split()\n",
    "query = dictionary.doc2bow(query)\n",
    "model[query]"
   ]
  },
  {
   "cell_type": "code",
   "execution_count": 78,
   "metadata": {
    "collapsed": false
   },
   "outputs": [
    {
     "data": {
      "text/plain": [
       "{0: u'interface',\n",
       " 1: u'computer',\n",
       " 2: u'human',\n",
       " 3: u'response',\n",
       " 4: u'time',\n",
       " 5: u'survey',\n",
       " 6: u'system',\n",
       " 7: u'user',\n",
       " 8: u'eps',\n",
       " 9: u'trees',\n",
       " 10: u'graph',\n",
       " 11: u'minors'}"
      ]
     },
     "execution_count": 78,
     "metadata": {},
     "output_type": "execute_result"
    }
   ],
   "source": []
  },
  {
   "cell_type": "markdown",
   "metadata": {
    "collapsed": true
   },
   "source": [
    "[主题模型参考连接](http://christop.club/2014/05/06/using-gensim-for-lda/)"
   ]
  },
  {
   "cell_type": "code",
   "execution_count": 2,
   "metadata": {
    "collapsed": false
   },
   "outputs": [],
   "source": [
    "import gensim"
   ]
  },
  {
   "cell_type": "code",
   "execution_count": 33,
   "metadata": {
    "collapsed": false
   },
   "outputs": [],
   "source": [
    "corpus = gensim.corpora.MalletCorpus('android.mallet')"
   ]
  },
  {
   "cell_type": "code",
   "execution_count": 34,
   "metadata": {
    "collapsed": false
   },
   "outputs": [
    {
     "data": {
      "text/plain": [
       "[(6936, 1), (15314, 1), (300, 1), (10981, 1)]"
      ]
     },
     "execution_count": 34,
     "metadata": {},
     "output_type": "execute_result"
    }
   ],
   "source": [
    "next(iter(corpus)"
   ]
  },
  {
   "cell_type": "code",
   "execution_count": 35,
   "metadata": {
    "collapsed": false
   },
   "outputs": [
    {
     "name": "stdout",
     "output_type": "stream",
     "text": [
      "incorrect 1\n",
      "url 1\n",
      "address 1\n",
      "project 1\n"
     ]
    }
   ],
   "source": [
    "for word_id, freq in next(iter(corpus)):\n",
    "    print corpus.id2word[word_id],freq"
   ]
  },
  {
   "cell_type": "code",
   "execution_count": null,
   "metadata": {
    "collapsed": false
   },
   "outputs": [],
   "source": []
  },
  {
   "cell_type": "code",
   "execution_count": 29,
   "metadata": {
    "collapsed": false
   },
   "outputs": [],
   "source": [
    "model = gensim.models.LdaModel(corpus, id2word=corpus.id2word,alpha='auto',num_topics=25)"
   ]
  },
  {
   "cell_type": "code",
   "execution_count": 30,
   "metadata": {
    "collapsed": false
   },
   "outputs": [],
   "source": [
    "model.save('android.lda')"
   ]
  },
  {
   "cell_type": "code",
   "execution_count": 38,
   "metadata": {
    "collapsed": false
   },
   "outputs": [
    {
     "data": {
      "text/plain": [
       "[(19,\n",
       "  u'0.056*bluetooth + 0.053*rotate + 0.042*device + 0.041*appears + 0.039*tapping'),\n",
       " (7,\n",
       "  u'0.041*image + 0.036*activity + 0.036*orientation + 0.032*changing + 0.031*talkback'),\n",
       " (20,\n",
       "  u'0.152*force + 0.152*close + 0.078*device + 0.058*google + 0.036*store'),\n",
       " (9, u'0.084*search + 0.067*app + 0.061*apps + 0.043*android + 0.033*google'),\n",
       " (14,\n",
       "  u'0.110*screen + 0.083*display + 0.061*talk + 0.041*google + 0.036*message')]"
      ]
     },
     "execution_count": 38,
     "metadata": {},
     "output_type": "execute_result"
    }
   ],
   "source": [
    "model.show_topics(num_topics=5,num_words=5)"
   ]
  },
  {
   "cell_type": "code",
   "execution_count": 42,
   "metadata": {
    "collapsed": false
   },
   "outputs": [
    {
     "data": {
      "text/plain": [
       "['google', 'maps', 'broken', 'navigation']"
      ]
     },
     "execution_count": 42,
     "metadata": {},
     "output_type": "execute_result"
    }
   ],
   "source": [
    "query = 'google maps broken navigation'\n",
    "query = query.split()\n",
    "query"
   ]
  },
  {
   "cell_type": "code",
   "execution_count": 44,
   "metadata": {
    "collapsed": false
   },
   "outputs": [],
   "source": [
    "id2word = gensim.corpora.Dictionary()"
   ]
  },
  {
   "cell_type": "code",
   "execution_count": 48,
   "metadata": {
    "collapsed": false
   },
   "outputs": [],
   "source": [
    "_ = id2word.merge_with(corpus.id2word)"
   ]
  },
  {
   "cell_type": "code",
   "execution_count": 53,
   "metadata": {
    "collapsed": false
   },
   "outputs": [],
   "source": [
    "query = id2word.doc2bow(query)"
   ]
  },
  {
   "cell_type": "code",
   "execution_count": 54,
   "metadata": {
    "collapsed": false
   },
   "outputs": [
    {
     "data": {
      "text/plain": [
       "[(1754, 1), (6081, 1), (8441, 1), (9208, 1)]"
      ]
     },
     "execution_count": 54,
     "metadata": {},
     "output_type": "execute_result"
    }
   ],
   "source": [
    "query"
   ]
  },
  {
   "cell_type": "code",
   "execution_count": 55,
   "metadata": {
    "collapsed": false
   },
   "outputs": [
    {
     "data": {
      "text/plain": [
       "[(2, 0.21279077701609347),\n",
       " (6, 0.34903476228841951),\n",
       " (9, 0.22977590024952316),\n",
       " (14, 0.011128732897349128),\n",
       " (18, 0.010500770252321833),\n",
       " (20, 0.010615757919780026),\n",
       " (24, 0.010113419773976966)]"
      ]
     },
     "execution_count": 55,
     "metadata": {},
     "output_type": "execute_result"
    }
   ],
   "source": [
    "model[query]"
   ]
  },
  {
   "cell_type": "code",
   "execution_count": 56,
   "metadata": {
    "collapsed": true
   },
   "outputs": [],
   "source": [
    "a = list(sorted(model[query],key=lambda x:x[1]))"
   ]
  },
  {
   "cell_type": "code",
   "execution_count": 60,
   "metadata": {
    "collapsed": false
   },
   "outputs": [
    {
     "data": {
      "text/plain": [
       "u'0.147*galaxy + 0.081*error + 0.061*samsung + 0.053*video + 0.042*sync + 0.027*usb + 0.020*tab + 0.018*playing + 0.015*youtube + 0.015*won'"
      ]
     },
     "execution_count": 60,
     "metadata": {},
     "output_type": "execute_result"
    }
   ],
   "source": [
    "model.print_topic(a[0][0])"
   ]
  },
  {
   "cell_type": "code",
   "execution_count": 61,
   "metadata": {
    "collapsed": false
   },
   "outputs": [
    {
     "data": {
      "text/plain": [
       "u'0.126*maps + 0.097*google + 0.031*issues + 0.025*library + 0.022*android + 0.021*map + 0.020*code + 0.020*http + 0.019*audio + 0.019*cut'"
      ]
     },
     "execution_count": 61,
     "metadata": {},
     "output_type": "execute_result"
    }
   ],
   "source": [
    "model.print_topic(a[-1][0])"
   ]
  },
  {
   "cell_type": "code",
   "execution_count": null,
   "metadata": {
    "collapsed": true
   },
   "outputs": [],
   "source": []
  },
  {
   "cell_type": "code",
   "execution_count": null,
   "metadata": {
    "collapsed": true
   },
   "outputs": [],
   "source": []
  },
  {
   "cell_type": "code",
   "execution_count": null,
   "metadata": {
    "collapsed": true
   },
   "outputs": [],
   "source": []
  },
  {
   "cell_type": "code",
   "execution_count": null,
   "metadata": {
    "collapsed": true
   },
   "outputs": [],
   "source": []
  },
  {
   "cell_type": "code",
   "execution_count": null,
   "metadata": {
    "collapsed": true
   },
   "outputs": [],
   "source": []
  },
  {
   "cell_type": "code",
   "execution_count": null,
   "metadata": {
    "collapsed": true
   },
   "outputs": [],
   "source": []
  },
  {
   "cell_type": "code",
   "execution_count": null,
   "metadata": {
    "collapsed": true
   },
   "outputs": [],
   "source": []
  },
  {
   "cell_type": "markdown",
   "metadata": {},
   "source": [
    "word2vec   \n",
    "[参考文档](https://rare-technologies.com/word2vec-tutorial/)"
   ]
  },
  {
   "cell_type": "code",
   "execution_count": 65,
   "metadata": {
    "collapsed": true
   },
   "outputs": [],
   "source": [
    "sentences = [['first', 'sentence'], ['second', 'sentence']]\n",
    "# train word2vec on the two sentences\n",
    "model = gensim.models.Word2Vec(sentences, min_count=1)"
   ]
  },
  {
   "cell_type": "code",
   "execution_count": 66,
   "metadata": {
    "collapsed": false
   },
   "outputs": [
    {
     "data": {
      "text/plain": [
       "<gensim.models.word2vec.Word2Vec at 0x898a080>"
      ]
     },
     "execution_count": 66,
     "metadata": {},
     "output_type": "execute_result"
    }
   ],
   "source": [
    "model"
   ]
  },
  {
   "cell_type": "code",
   "execution_count": 67,
   "metadata": {
    "collapsed": true
   },
   "outputs": [],
   "source": [
    "import gensim, logging\n",
    "logging.basicConfig(format='%(asctime)s : %(levelname)s : %(message)s', level=logging.INFO)\n"
   ]
  },
  {
   "cell_type": "code",
   "execution_count": 68,
   "metadata": {
    "collapsed": true
   },
   "outputs": [],
   "source": [
    "sentences = [['first', 'sentence'], ['second', 'sentence']]"
   ]
  },
  {
   "cell_type": "code",
   "execution_count": 69,
   "metadata": {
    "collapsed": true
   },
   "outputs": [],
   "source": [
    "model = gensim.models.Word2Vec(sentences, min_count=1)"
   ]
  },
  {
   "cell_type": "code",
   "execution_count": 71,
   "metadata": {
    "collapsed": false
   },
   "outputs": [],
   "source": [
    "import os"
   ]
  },
  {
   "cell_type": "code",
   "execution_count": 78,
   "metadata": {
    "collapsed": false
   },
   "outputs": [],
   "source": [
    "path = u'C:/机器学习与数据处理/机器学习与系统设计/ch03/data/379/raw/alt.atheism'"
   ]
  },
  {
   "cell_type": "code",
   "execution_count": 79,
   "metadata": {
    "collapsed": true
   },
   "outputs": [],
   "source": [
    "class MySentences(object):\n",
    "    def __init__(self,dirname):\n",
    "        self.dirname = dirname\n",
    "        \n",
    "    def __iter__(self):\n",
    "        for fname in os.listdir(self.dirname):\n",
    "            for line in open(os.path.join(self.dirname,fname)):\n",
    "                yield line.split()"
   ]
  },
  {
   "cell_type": "code",
   "execution_count": 83,
   "metadata": {
    "collapsed": false
   },
   "outputs": [],
   "source": [
    "sentence = MySentences(path)\n",
    "model = gensim.models.Word2Vec(sentence,min_count=5,size=100,workers=4)"
   ]
  },
  {
   "cell_type": "code",
   "execution_count": 88,
   "metadata": {
    "collapsed": false
   },
   "outputs": [
    {
     "data": {
      "text/plain": [
       "[('theism.', 0.9937639236450195)]"
      ]
     },
     "execution_count": 88,
     "metadata": {},
     "output_type": "execute_result"
    }
   ],
   "source": [
    "model.most_similar(positive=['woman', 'king'], negative=['man'], topn=1)"
   ]
  },
  {
   "cell_type": "code",
   "execution_count": 97,
   "metadata": {
    "collapsed": false
   },
   "outputs": [
    {
     "data": {
      "text/plain": [
       "array([-0.0027178 ,  0.05918064, -0.06189532,  0.00907266, -0.08397242,\n",
       "        0.05338817,  0.01529701, -0.01749658,  0.00540508,  0.00269244,\n",
       "       -0.0220203 , -0.03849806, -0.08271151, -0.05464442,  0.01380851,\n",
       "        0.08228371,  0.03584717, -0.00431925, -0.00129583, -0.06132043,\n",
       "       -0.02048909,  0.01641259, -0.013035  ,  0.04619684,  0.03818746,\n",
       "        0.00607216, -0.02680536,  0.00349478, -0.05934826, -0.08449085,\n",
       "       -0.05203914,  0.07651855, -0.02497313, -0.02956362, -0.01962879,\n",
       "        0.04709732,  0.0045994 ,  0.05149817,  0.02439816, -0.07303267,\n",
       "       -0.05347825, -0.00451079, -0.04885635, -0.03220316, -0.013047  ,\n",
       "       -0.01085811, -0.02565059, -0.00866326,  0.01757615,  0.03724797,\n",
       "        0.00110219,  0.00061661,  0.01732209, -0.0432818 , -0.03118575,\n",
       "        0.0043029 ,  0.01539845,  0.00929784,  0.02832262, -0.04309537,\n",
       "        0.02651683,  0.04500728,  0.04416023, -0.01968707,  0.04053949,\n",
       "       -0.04333499, -0.05187358,  0.03895269,  0.03010694, -0.00587121,\n",
       "       -0.04329779,  0.03521654, -0.07527686,  0.03140154, -0.0197887 ,\n",
       "       -0.01145018, -0.01347083,  0.03482791,  0.03482076,  0.07558581,\n",
       "       -0.00582268,  0.03656635, -0.02806356, -0.02872045,  0.02633793,\n",
       "       -0.01214247, -0.0517408 , -0.06076487,  0.03310553, -0.05296801,\n",
       "       -0.05886283, -0.02454048, -0.05041558,  0.01978371, -0.00608291,\n",
       "       -0.00622237,  0.00940731,  0.02363649,  0.03097612,  0.01573638], dtype=float32)"
      ]
     },
     "execution_count": 97,
     "metadata": {},
     "output_type": "execute_result"
    }
   ],
   "source": [
    "model['computer']"
   ]
  },
  {
   "cell_type": "code",
   "execution_count": null,
   "metadata": {
    "collapsed": true
   },
   "outputs": [],
   "source": []
  },
  {
   "cell_type": "code",
   "execution_count": null,
   "metadata": {
    "collapsed": true
   },
   "outputs": [],
   "source": []
  },
  {
   "cell_type": "code",
   "execution_count": null,
   "metadata": {
    "collapsed": true
   },
   "outputs": [],
   "source": []
  },
  {
   "cell_type": "markdown",
   "metadata": {
    "collapsed": true
   },
   "source": [
    "目标：\n",
    "1. 去掉英文字母\n",
    "2. 去掉中文停用词\n",
    "3. 考虑是否加入图书标签"
   ]
  },
  {
   "cell_type": "code",
   "execution_count": 247,
   "metadata": {
    "collapsed": true
   },
   "outputs": [],
   "source": [
    "import pandas as pd\n",
    "import numpy as np\n",
    "import jieba\n",
    "import re"
   ]
  },
  {
   "cell_type": "code",
   "execution_count": 248,
   "metadata": {
    "collapsed": true
   },
   "outputs": [],
   "source": [
    "import MySQLdb as mdb\n",
    "from pandas import Series,DataFrame"
   ]
  },
  {
   "cell_type": "code",
   "execution_count": 249,
   "metadata": {
    "collapsed": true
   },
   "outputs": [],
   "source": [
    "def mysql_con():\n",
    "    try:\n",
    "        db = mdb.connect('mysql-slave.communion.net.cn', 'onlyquery', 'jyhc@onlyquery', 'hainan_bigdata', charset='utf8')\n",
    "        cursor = db.cursor()\n",
    "    except:\n",
    "        time.sleep(10)\n",
    "        db = mdb.connect('mysql-slave.communion.net.cn', 'onlyquery', 'jyhc@onlyquery', 'hainan_bigdata', charset='utf8')\n",
    "        cursor = db.cursor()\n",
    "    return cursor,db"
   ]
  },
  {
   "cell_type": "code",
   "execution_count": 250,
   "metadata": {
    "collapsed": false
   },
   "outputs": [],
   "source": [
    "cursor,db = mysql_con()"
   ]
  },
  {
   "cell_type": "code",
   "execution_count": 251,
   "metadata": {
    "collapsed": false
   },
   "outputs": [],
   "source": [
    "article = pd.read_sql('select id,content from tbl_article limit 5000',index_col='id',con=db)"
   ]
  },
  {
   "cell_type": "code",
   "execution_count": 281,
   "metadata": {
    "collapsed": false
   },
   "outputs": [],
   "source": [
    "#去掉空白字符及数字、字母\n",
    "result = re.sub(r'[\\s\\w]','',article.content.values[13],flags=re.S)"
   ]
  },
  {
   "cell_type": "code",
   "execution_count": 288,
   "metadata": {
    "collapsed": false
   },
   "outputs": [
    {
     "ename": "KeyboardInterrupt",
     "evalue": "",
     "output_type": "error",
     "traceback": [
      "Traceback (most recent call last):\n",
      "  File \"C:\\Anaconda2\\lib\\site-packages\\ipykernel\\ipkernel.py\", line 199, in do_execute\n    shell.run_cell(code, store_history=store_history, silent=silent)\n",
      "  File \"C:\\Anaconda2\\lib\\site-packages\\IPython\\core\\interactiveshell.py\", line 2653, in run_cell\n    cell = self.input_transformer_manager.transform_cell(raw_cell)\n",
      "  File \"C:\\Anaconda2\\lib\\site-packages\\IPython\\core\\inputsplitter.py\", line 597, in transform_cell\n    self.push(cell)\n",
      "  File \"C:\\Anaconda2\\lib\\site-packages\\IPython\\core\\inputsplitter.py\", line 641, in push\n    out = self.push_line(line)\n",
      "  File \"C:\\Anaconda2\\lib\\site-packages\\IPython\\core\\inputsplitter.py\", line 682, in push_line\n    return super(IPythonInputSplitter, self).push(line)\n",
      "  File \"C:\\Anaconda2\\lib\\site-packages\\IPython\\core\\inputsplitter.py\", line 307, in push\n    if source.endswith('\\\\\\n'):\n",
      "KeyboardInterrupt\n"
     ]
    }
   ],
   "source": [
    "content = ' '.join(jieba.cut(result))\n",
    "print content"
   ]
  },
  {
   "cell_type": "code",
   "execution_count": 288,
   "metadata": {
    "collapsed": true
   },
   "outputs": [],
   "source": [
    "from sklearn.feature_extraction.text import CountVectorizer\n",
    "vectorizer = CountVectorizer(min_df=1)"
   ]
  },
  {
   "cell_type": "code",
   "execution_count": null,
   "metadata": {
    "collapsed": true
   },
   "outputs": [],
   "source": [
    "X = vectorizer.fit_transform(content)"
   ]
  },
  {
   "cell_type": "code",
   "execution_count": null,
   "metadata": {
    "collapsed": true
   },
   "outputs": [],
   "source": []
  },
  {
   "cell_type": "code",
   "execution_count": null,
   "metadata": {
    "collapsed": true
   },
   "outputs": [],
   "source": []
  },
  {
   "cell_type": "code",
   "execution_count": null,
   "metadata": {
    "collapsed": true
   },
   "outputs": [],
   "source": []
  },
  {
   "cell_type": "code",
   "execution_count": null,
   "metadata": {
    "collapsed": true
   },
   "outputs": [],
   "source": []
  },
  {
   "cell_type": "code",
   "execution_count": null,
   "metadata": {
    "collapsed": true
   },
   "outputs": [],
   "source": []
  },
  {
   "cell_type": "code",
   "execution_count": null,
   "metadata": {
    "collapsed": true
   },
   "outputs": [],
   "source": []
  },
  {
   "cell_type": "code",
   "execution_count": null,
   "metadata": {
    "collapsed": true
   },
   "outputs": [],
   "source": []
  },
  {
   "cell_type": "code",
   "execution_count": null,
   "metadata": {
    "collapsed": true
   },
   "outputs": [],
   "source": []
  },
  {
   "cell_type": "code",
   "execution_count": 234,
   "metadata": {
    "collapsed": false
   },
   "outputs": [
    {
     "ename": "KeyboardInterrupt",
     "evalue": "",
     "output_type": "error",
     "traceback": [
      "\u001b[1;31m---------------------------------------------------------------------------\u001b[0m",
      "\u001b[1;31mKeyboardInterrupt\u001b[0m                         Traceback (most recent call last)",
      "\u001b[1;32m<ipython-input-234-3049fc84b969>\u001b[0m in \u001b[0;36m<module>\u001b[1;34m()\u001b[0m\n\u001b[1;32m----> 1\u001b[1;33m \u001b[0mtemp\u001b[0m \u001b[1;33m=\u001b[0m \u001b[0marticle\u001b[0m\u001b[1;33m.\u001b[0m\u001b[0mcontent\u001b[0m\u001b[1;33m.\u001b[0m\u001b[0mapply\u001b[0m\u001b[1;33m(\u001b[0m\u001b[1;32mlambda\u001b[0m \u001b[0mx\u001b[0m\u001b[1;33m:\u001b[0m\u001b[1;33m[\u001b[0m\u001b[0mword\u001b[0m \u001b[1;32mfor\u001b[0m \u001b[0mword\u001b[0m \u001b[1;32min\u001b[0m \u001b[0mjieba\u001b[0m\u001b[1;33m.\u001b[0m\u001b[0mcut\u001b[0m\u001b[1;33m(\u001b[0m\u001b[0mx\u001b[0m\u001b[1;33m,\u001b[0m \u001b[0mcut_all\u001b[0m\u001b[1;33m=\u001b[0m\u001b[0mTrue\u001b[0m\u001b[1;33m)\u001b[0m \u001b[1;32mif\u001b[0m \u001b[0mlen\u001b[0m\u001b[1;33m(\u001b[0m\u001b[0mword\u001b[0m\u001b[1;33m)\u001b[0m \u001b[1;33m>=\u001b[0m \u001b[1;36m2\u001b[0m \u001b[1;32mand\u001b[0m \u001b[0mword\u001b[0m\u001b[1;33m.\u001b[0m\u001b[0misdigit\u001b[0m\u001b[1;33m(\u001b[0m\u001b[1;33m)\u001b[0m \u001b[1;33m==\u001b[0m \u001b[0mFalse\u001b[0m\u001b[1;33m]\u001b[0m\u001b[1;33m)\u001b[0m\u001b[1;33m\u001b[0m\u001b[0m\n\u001b[0m",
      "\u001b[1;32mC:\\Anaconda2\\lib\\site-packages\\pandas\\core\\series.pyc\u001b[0m in \u001b[0;36mapply\u001b[1;34m(self, func, convert_dtype, args, **kwds)\u001b[0m\n\u001b[0;32m   2218\u001b[0m         \u001b[1;32melse\u001b[0m\u001b[1;33m:\u001b[0m\u001b[1;33m\u001b[0m\u001b[0m\n\u001b[0;32m   2219\u001b[0m             \u001b[0mvalues\u001b[0m \u001b[1;33m=\u001b[0m \u001b[0mself\u001b[0m\u001b[1;33m.\u001b[0m\u001b[0masobject\u001b[0m\u001b[1;33m\u001b[0m\u001b[0m\n\u001b[1;32m-> 2220\u001b[1;33m             \u001b[0mmapped\u001b[0m \u001b[1;33m=\u001b[0m \u001b[0mlib\u001b[0m\u001b[1;33m.\u001b[0m\u001b[0mmap_infer\u001b[0m\u001b[1;33m(\u001b[0m\u001b[0mvalues\u001b[0m\u001b[1;33m,\u001b[0m \u001b[0mf\u001b[0m\u001b[1;33m,\u001b[0m \u001b[0mconvert\u001b[0m\u001b[1;33m=\u001b[0m\u001b[0mconvert_dtype\u001b[0m\u001b[1;33m)\u001b[0m\u001b[1;33m\u001b[0m\u001b[0m\n\u001b[0m\u001b[0;32m   2221\u001b[0m \u001b[1;33m\u001b[0m\u001b[0m\n\u001b[0;32m   2222\u001b[0m         \u001b[1;32mif\u001b[0m \u001b[0mlen\u001b[0m\u001b[1;33m(\u001b[0m\u001b[0mmapped\u001b[0m\u001b[1;33m)\u001b[0m \u001b[1;32mand\u001b[0m \u001b[0misinstance\u001b[0m\u001b[1;33m(\u001b[0m\u001b[0mmapped\u001b[0m\u001b[1;33m[\u001b[0m\u001b[1;36m0\u001b[0m\u001b[1;33m]\u001b[0m\u001b[1;33m,\u001b[0m \u001b[0mSeries\u001b[0m\u001b[1;33m)\u001b[0m\u001b[1;33m:\u001b[0m\u001b[1;33m\u001b[0m\u001b[0m\n",
      "\u001b[1;32mpandas\\src\\inference.pyx\u001b[0m in \u001b[0;36mpandas.lib.map_infer (pandas\\lib.c:62658)\u001b[1;34m()\u001b[0m\n",
      "\u001b[1;32m<ipython-input-234-3049fc84b969>\u001b[0m in \u001b[0;36m<lambda>\u001b[1;34m(x)\u001b[0m\n\u001b[1;32m----> 1\u001b[1;33m \u001b[0mtemp\u001b[0m \u001b[1;33m=\u001b[0m \u001b[0marticle\u001b[0m\u001b[1;33m.\u001b[0m\u001b[0mcontent\u001b[0m\u001b[1;33m.\u001b[0m\u001b[0mapply\u001b[0m\u001b[1;33m(\u001b[0m\u001b[1;32mlambda\u001b[0m \u001b[0mx\u001b[0m\u001b[1;33m:\u001b[0m\u001b[1;33m[\u001b[0m\u001b[0mword\u001b[0m \u001b[1;32mfor\u001b[0m \u001b[0mword\u001b[0m \u001b[1;32min\u001b[0m \u001b[0mjieba\u001b[0m\u001b[1;33m.\u001b[0m\u001b[0mcut\u001b[0m\u001b[1;33m(\u001b[0m\u001b[0mx\u001b[0m\u001b[1;33m,\u001b[0m \u001b[0mcut_all\u001b[0m\u001b[1;33m=\u001b[0m\u001b[0mTrue\u001b[0m\u001b[1;33m)\u001b[0m \u001b[1;32mif\u001b[0m \u001b[0mlen\u001b[0m\u001b[1;33m(\u001b[0m\u001b[0mword\u001b[0m\u001b[1;33m)\u001b[0m \u001b[1;33m>=\u001b[0m \u001b[1;36m2\u001b[0m \u001b[1;32mand\u001b[0m \u001b[0mword\u001b[0m\u001b[1;33m.\u001b[0m\u001b[0misdigit\u001b[0m\u001b[1;33m(\u001b[0m\u001b[1;33m)\u001b[0m \u001b[1;33m==\u001b[0m \u001b[0mFalse\u001b[0m\u001b[1;33m]\u001b[0m\u001b[1;33m)\u001b[0m\u001b[1;33m\u001b[0m\u001b[0m\n\u001b[0m",
      "\u001b[1;32mC:\\Anaconda2\\lib\\site-packages\\jieba\\__init__.pyc\u001b[0m in \u001b[0;36mcut\u001b[1;34m(self, sentence, cut_all, HMM)\u001b[0m\n\u001b[0;32m    299\u001b[0m                 \u001b[1;32mcontinue\u001b[0m\u001b[1;33m\u001b[0m\u001b[0m\n\u001b[0;32m    300\u001b[0m             \u001b[1;32mif\u001b[0m \u001b[0mre_han\u001b[0m\u001b[1;33m.\u001b[0m\u001b[0mmatch\u001b[0m\u001b[1;33m(\u001b[0m\u001b[0mblk\u001b[0m\u001b[1;33m)\u001b[0m\u001b[1;33m:\u001b[0m\u001b[1;33m\u001b[0m\u001b[0m\n\u001b[1;32m--> 301\u001b[1;33m                 \u001b[1;32mfor\u001b[0m \u001b[0mword\u001b[0m \u001b[1;32min\u001b[0m \u001b[0mcut_block\u001b[0m\u001b[1;33m(\u001b[0m\u001b[0mblk\u001b[0m\u001b[1;33m)\u001b[0m\u001b[1;33m:\u001b[0m\u001b[1;33m\u001b[0m\u001b[0m\n\u001b[0m\u001b[0;32m    302\u001b[0m                     \u001b[1;32myield\u001b[0m \u001b[0mword\u001b[0m\u001b[1;33m\u001b[0m\u001b[0m\n\u001b[0;32m    303\u001b[0m             \u001b[1;32melse\u001b[0m\u001b[1;33m:\u001b[0m\u001b[1;33m\u001b[0m\u001b[0m\n",
      "\u001b[1;32mC:\\Anaconda2\\lib\\site-packages\\jieba\\__init__.pyc\u001b[0m in \u001b[0;36m__cut_all\u001b[1;34m(self, sentence)\u001b[0m\n\u001b[0;32m    198\u001b[0m         \u001b[0mold_j\u001b[0m \u001b[1;33m=\u001b[0m \u001b[1;33m-\u001b[0m\u001b[1;36m1\u001b[0m\u001b[1;33m\u001b[0m\u001b[0m\n\u001b[0;32m    199\u001b[0m         \u001b[1;32mfor\u001b[0m \u001b[0mk\u001b[0m\u001b[1;33m,\u001b[0m \u001b[0mL\u001b[0m \u001b[1;32min\u001b[0m \u001b[0miteritems\u001b[0m\u001b[1;33m(\u001b[0m\u001b[0mdag\u001b[0m\u001b[1;33m)\u001b[0m\u001b[1;33m:\u001b[0m\u001b[1;33m\u001b[0m\u001b[0m\n\u001b[1;32m--> 200\u001b[1;33m             \u001b[1;32mif\u001b[0m \u001b[0mlen\u001b[0m\u001b[1;33m(\u001b[0m\u001b[0mL\u001b[0m\u001b[1;33m)\u001b[0m \u001b[1;33m==\u001b[0m \u001b[1;36m1\u001b[0m \u001b[1;32mand\u001b[0m \u001b[0mk\u001b[0m \u001b[1;33m>\u001b[0m \u001b[0mold_j\u001b[0m\u001b[1;33m:\u001b[0m\u001b[1;33m\u001b[0m\u001b[0m\n\u001b[0m\u001b[0;32m    201\u001b[0m                 \u001b[1;32myield\u001b[0m \u001b[0msentence\u001b[0m\u001b[1;33m[\u001b[0m\u001b[0mk\u001b[0m\u001b[1;33m:\u001b[0m\u001b[0mL\u001b[0m\u001b[1;33m[\u001b[0m\u001b[1;36m0\u001b[0m\u001b[1;33m]\u001b[0m \u001b[1;33m+\u001b[0m \u001b[1;36m1\u001b[0m\u001b[1;33m]\u001b[0m\u001b[1;33m\u001b[0m\u001b[0m\n\u001b[0;32m    202\u001b[0m                 \u001b[0mold_j\u001b[0m \u001b[1;33m=\u001b[0m \u001b[0mL\u001b[0m\u001b[1;33m[\u001b[0m\u001b[1;36m0\u001b[0m\u001b[1;33m]\u001b[0m\u001b[1;33m\u001b[0m\u001b[0m\n",
      "\u001b[1;31mKeyboardInterrupt\u001b[0m: "
     ]
    }
   ],
   "source": [
    "temp = article.content.apply(lambda x:[word for word in jieba.cut(x, cut_all=True) if len(word) >= 2 and word.isdigit() == False])"
   ]
  },
  {
   "cell_type": "code",
   "execution_count": null,
   "metadata": {
    "collapsed": false
   },
   "outputs": [],
   "source": [
    "temp = temp.values.tolist()"
   ]
  },
  {
   "cell_type": "code",
   "execution_count": null,
   "metadata": {
    "collapsed": false
   },
   "outputs": [],
   "source": [
    "dictionary = gensim.corpora.Dictionary(temp)"
   ]
  },
  {
   "cell_type": "code",
   "execution_count": null,
   "metadata": {
    "collapsed": false
   },
   "outputs": [],
   "source": [
    "corpus = [dictionary.doc2bow(text) for text in temp]"
   ]
  },
  {
   "cell_type": "code",
   "execution_count": null,
   "metadata": {
    "collapsed": false
   },
   "outputs": [],
   "source": [
    "model = gensim.models.LdaModel(corpus,num_topics=500,id2word=dict(dictionary.iteritems()))"
   ]
  },
  {
   "cell_type": "code",
   "execution_count": 204,
   "metadata": {
    "collapsed": false
   },
   "outputs": [
    {
     "data": {
      "text/plain": [
       "[(342,\n",
       "  u'0.017*\\u5b8b\\u5b66 + 0.015*\\u5b66\\u672f + 0.009*\\u6c49\\u5b66 + 0.007*\\u4e2d\\u56fd + 0.006*\\u6587\\u5b66'),\n",
       " (252,\n",
       "  u'0.012*\\u56f4\\u57ce + 0.009*\\u751f\\u6bcd + 0.009*\\u6c49\\u6587 + 0.009*\\u6211\\u4eec + 0.008*\\u540c\\u4e3a'),\n",
       " (278,\n",
       "  u'0.025*\\u4e70\\u5230 + 0.014*\\u59e8\\u5988 + 0.012*\\u88ab\\u4fd8 + 0.011*\\u5947\\u5e7b + 0.010*\\u6c11\\u65cf\\u5927\\u4e49'),\n",
       " (256,\n",
       "  u'0.022*\\u4ee3\\u8868\\u4f5c\\u54c1 + 0.021*\\u6559\\u7687 + 0.017*\\u8001\\u592b + 0.014*\\u8001\\u592b\\u5b50 + 0.012*\\u5316\\u51fa'),\n",
       " (496,\n",
       "  u'0.011*\\u4e00\\u4e2a + 0.010*\\n\\n + 0.006*\\u6211\\u4eec + 0.006*\\u53ef\\u4ee5 + 0.005*\\u95ee\\u9898')]"
      ]
     },
     "execution_count": 204,
     "metadata": {},
     "output_type": "execute_result"
    }
   ],
   "source": [
    "model.show_topics(num_topics=5,num_words=5)"
   ]
  },
  {
   "cell_type": "code",
   "execution_count": 224,
   "metadata": {
    "collapsed": false
   },
   "outputs": [
    {
     "data": {
      "text/plain": [
       "0      (天文, 0.0520484389667)\n",
       "1      (数学, 0.0481501642149)\n",
       "2      (十全, 0.0119629145926)\n",
       "3      (著称, 0.0118229513518)\n",
       "4      (多几, 0.0116066352684)\n",
       "5      (喜好, 0.0115809298341)\n",
       "6    (十全十美, 0.0114911710324)\n",
       "7      (文法, 0.0107060483353)\n",
       "8      (数学家, 0.010465392656)\n",
       "9     (残留, 0.00909555463013)\n",
       "dtype: object"
      ]
     },
     "execution_count": 224,
     "metadata": {},
     "output_type": "execute_result"
    }
   ],
   "source": [
    "Series(model.show_topic(20))"
   ]
  },
  {
   "cell_type": "code",
   "execution_count": 241,
   "metadata": {
    "collapsed": false
   },
   "outputs": [
    {
     "name": "stdout",
     "output_type": "stream",
     "text": [
      "       断断续续花了一周，终于在春节前啃完了这本《政治无意识》，了却夙愿。这两年几次翻开这本书，又几次在术语和作品的迷宫里走失，不得要领地匆匆合上。\n",
      "      不得不说，读詹姆逊的痛苦和乐趣，都来自他理论视野的广阔。《政治无意识》立足马克思主义，同时借鉴并批判二战后形形色色的“理论”：“无意识”和“白日梦”的概念借自弗洛伊德和拉康的精神分析，叙事结构的政治寓言性来自列维•斯特劳斯的结构主义和本雅明，“历史的文本化”来自福柯、德勒兹、德里达的后结构主义，乌托邦和意识形态的辩证法来自涂尔干的宗教论和恩斯特•布洛克对 “希望”的分析。循着这个庞大的理论对话的谱系，詹姆逊反思了马克思主义文化批评的核心问题，即“作品与现实”的关系问题，着重批评了其两大理论“死结”：一是“文艺作品反映社会现实”的反映论，二是“文艺服务意识形态”的工具论。这两项批判集中在本书的序言和结论，单序言便长达八十多页，足可见这一理论问题在詹姆逊文化批评中的重要位置。在詹姆逊看来，作品与现实的关系本质是语言与历史的关系。（后）结构主义视“语言”为本体，马克思主义视“历史”为本体，要解决这一矛盾，必须抓住语言走向历史的起点：“叙事”。\n",
      "       在詹姆逊看来，反映论固然是庸俗的唯物论，但其解决方案并非简单的后结构主义“转向”，即对历史和实在的彻底否定（“文本之外无他物”），否则无异于走向了另一种“结构主义的意识形态”。从“叙事”角度，詹姆逊对反映论提出两点修正：1）意识形态恰恰隐藏在叙事形式之中，詹姆逊称为 “ideology of form”， 而“人物”或“故事内容”，不过是叙事的装置和效果。2）作品并非机械的“反映”某一阶级观念，而是一种政治“寓言”，是对现有的不可解决的社会矛盾的象征性、想象性的“解决”（类似列维斯特劳斯描述的巴西印第安部落对称性面饰是对部落不平等关系的想象性解决）。在这一意义上，文本参与组织现实，重构现实（这里的“现实”，不是传统的背景式的context，而是詹姆逊命名的subtext）。\n",
      "       “工具论”则来自马克思主义传统对意识形态的偏见，将意识形态简单理解为阶级统治的工具。詹姆逊引用本雅明的名言 “Every document of civilization is at the same time a document of barbarism”, 反其道而用之，认为成功的意识形态总是蕴含了社会乌托邦的愿景和冲动（Utopian impulse）（例如纳粹的成功在于其理念迎合了战后德国民众对国家和社会重建的期待）。马克思主义需要思考意识形态如何成功，发掘其中乌托邦的面向，詹姆逊称之为“积极阐释”。\n",
      "       雷蒙德•威廉斯的弟子伊格尔顿曾经说过，批评理论兴起并非文本阅读“荒废”的罪魁，大批评家从不空谈理论，多为细读的高手，如巴特之于巴尔扎克，詹姆逊之于康拉德，德里达之于卢梭和波德莱尔。带着理论对话的视野，詹姆逊游刃于现实主义和现代主义的代表性文本之间，展开了“症候式”解读。巴尔扎克的小说《老姑娘》中，贵族老头、资产阶级、和穷年轻诗人争相追求拥有乡村豪宅的老姑娘科尔蒙小姐。科尔蒙小姐嫁给了精力充沛的资产阶级代表波斯奎尔，却发现此人性无能。在詹姆逊看来，这不啻是大革命后法国社会矛盾的隐喻：贵族体面却无力行动，布尔乔亚进取却成事不足，拿破仑时代的权势已经逝去，而剧中唯一集多种政治优势于一身的婚配候选人，却是“已婚”的伯爵。小说的结局：科尔蒙小姐结婚了，然而她依然是一位“老处女”。无性之婚，便是法国社会改革的“想象性解决”，也是历史悲剧的喜剧性解决。这是寓言的力量，是任何政治檄文都难以言传的“政治无意识”。\n"
     ]
    }
   ],
   "source": [
    "id = 10\n",
    "temp_text = article.content.values[id]\n",
    "print article.content.values[id]"
   ]
  },
  {
   "cell_type": "code",
   "execution_count": 242,
   "metadata": {
    "collapsed": false
   },
   "outputs": [],
   "source": [
    "temp_text = [word for word in jieba.cut(temp_text, cut_all=False) if len(word) >= 2 and word.isdigit() == False]"
   ]
  },
  {
   "cell_type": "code",
   "execution_count": 243,
   "metadata": {
    "collapsed": false
   },
   "outputs": [],
   "source": [
    "query_bow = dictionary.doc2bow(temp_text)"
   ]
  },
  {
   "cell_type": "code",
   "execution_count": 244,
   "metadata": {
    "collapsed": false
   },
   "outputs": [
    {
     "name": "stdout",
     "output_type": "stream",
     "text": [
      "[(28, 0.019240884230657933), (115, 0.036023090902547329), (196, 0.086139651455947264), (197, 0.57360926360994458), (245, 0.014453650282155166), (353, 0.01276608083098291), (409, 0.025138541680818926), (433, 0.032755856291901808), (454, 0.0221859591144856), (496, 0.12182269458363143), (498, 0.014498521777422498)]\n"
     ]
    }
   ],
   "source": [
    "print model[query_bow]\n",
    "topic_id = model[query_bow][0][0]"
   ]
  },
  {
   "cell_type": "code",
   "execution_count": 245,
   "metadata": {
    "collapsed": false
   },
   "outputs": [
    {
     "data": {
      "text/plain": [
       "0       (另类, 0.0117977913891)\n",
       "1       (拉美, 0.0105638690574)\n",
       "2      (一个, 0.00975037229343)\n",
       "3      (自己, 0.00935625435531)\n",
       "4    (\\n\\n, 0.00756861409036)\n",
       "5      (小说, 0.00589571477877)\n",
       "6      (我们, 0.00487683943112)\n",
       "7      (就是, 0.00475890138767)\n",
       "8      (这样, 0.00401048643812)\n",
       "9      (没有, 0.00386270603317)\n",
       "dtype: object"
      ]
     },
     "execution_count": 245,
     "metadata": {},
     "output_type": "execute_result"
    }
   ],
   "source": [
    "Series(model.show_topic(topic_id))"
   ]
  },
  {
   "cell_type": "code",
   "execution_count": 246,
   "metadata": {
    "collapsed": false
   },
   "outputs": [
    {
     "data": {
      "text/plain": [
       "[(28, 0.018870130139376821),\n",
       " (115, 0.030197052963947431),\n",
       " (196, 0.085842179766294754),\n",
       " (197, 0.57094322189326263),\n",
       " (245, 0.014466801286607288),\n",
       " (353, 0.012775475253266829),\n",
       " (409, 0.025331075150485022),\n",
       " (433, 0.033751554590482569),\n",
       " (454, 0.022179555665716236),\n",
       " (496, 0.12173825148163277),\n",
       " (498, 0.014481059946748297)]"
      ]
     },
     "execution_count": 246,
     "metadata": {},
     "output_type": "execute_result"
    }
   ],
   "source": [
    "model[query_bow]"
   ]
  },
  {
   "cell_type": "code",
   "execution_count": null,
   "metadata": {
    "collapsed": true
   },
   "outputs": [],
   "source": []
  },
  {
   "cell_type": "code",
   "execution_count": null,
   "metadata": {
    "collapsed": true
   },
   "outputs": [],
   "source": []
  },
  {
   "cell_type": "code",
   "execution_count": null,
   "metadata": {
    "collapsed": true
   },
   "outputs": [],
   "source": []
  }
 ],
 "metadata": {
  "anaconda-cloud": {},
  "kernelspec": {
   "display_name": "Python [Root]",
   "language": "python",
   "name": "Python [Root]"
  },
  "language_info": {
   "codemirror_mode": {
    "name": "ipython",
    "version": 2
   },
   "file_extension": ".py",
   "mimetype": "text/x-python",
   "name": "python",
   "nbconvert_exporter": "python",
   "pygments_lexer": "ipython2",
   "version": "2.7.12"
  }
 },
 "nbformat": 4,
 "nbformat_minor": 0
}
