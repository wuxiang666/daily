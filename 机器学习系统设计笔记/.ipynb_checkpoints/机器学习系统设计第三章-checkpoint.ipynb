{
 "cells": [
  {
   "cell_type": "markdown",
   "metadata": {},
   "source": [
    "将原始文本转化为词袋"
   ]
  },
  {
   "cell_type": "code",
   "execution_count": 1,
   "metadata": {
    "collapsed": true
   },
   "outputs": [],
   "source": [
    "from sklearn.feature_extraction.text import CountVectorizer"
   ]
  },
  {
   "cell_type": "code",
   "execution_count": 2,
   "metadata": {
    "collapsed": true
   },
   "outputs": [],
   "source": [
    "vectorizer = CountVectorizer(min_df=1)"
   ]
  },
  {
   "cell_type": "code",
   "execution_count": 3,
   "metadata": {
    "collapsed": false
   },
   "outputs": [],
   "source": [
    "# vectorizer.build_analyzer()"
   ]
  },
  {
   "cell_type": "code",
   "execution_count": 4,
   "metadata": {
    "collapsed": false
   },
   "outputs": [],
   "source": [
    "content = ['how to format my hard disk.','hard disk format a problems.']"
   ]
  },
  {
   "cell_type": "code",
   "execution_count": 5,
   "metadata": {
    "collapsed": true
   },
   "outputs": [],
   "source": [
    "X = vectorizer.fit_transform(content)"
   ]
  },
  {
   "cell_type": "code",
   "execution_count": 6,
   "metadata": {
    "collapsed": false
   },
   "outputs": [
    {
     "data": {
      "text/plain": [
       "CountVectorizer(analyzer=u'word', binary=False, decode_error=u'strict',\n",
       "        dtype=<type 'numpy.int64'>, encoding=u'utf-8', input=u'content',\n",
       "        lowercase=True, max_df=1.0, max_features=None, min_df=1,\n",
       "        ngram_range=(1, 1), preprocessor=None, stop_words=None,\n",
       "        strip_accents=None, token_pattern=u'(?u)\\\\b\\\\w\\\\w+\\\\b',\n",
       "        tokenizer=None, vocabulary=None)"
      ]
     },
     "execution_count": 6,
     "metadata": {},
     "output_type": "execute_result"
    }
   ],
   "source": [
    "vectorizer"
   ]
  },
  {
   "cell_type": "code",
   "execution_count": 7,
   "metadata": {
    "collapsed": false
   },
   "outputs": [
    {
     "data": {
      "text/plain": [
       "array([[1, 1, 1, 1, 1, 0, 1],\n",
       "       [1, 1, 1, 0, 0, 1, 0]], dtype=int64)"
      ]
     },
     "execution_count": 7,
     "metadata": {},
     "output_type": "execute_result"
    }
   ],
   "source": [
    "X.toarray()"
   ]
  },
  {
   "cell_type": "code",
   "execution_count": 8,
   "metadata": {
    "collapsed": false
   },
   "outputs": [
    {
     "data": {
      "text/plain": [
       "[u'disk', u'format', u'hard', u'how', u'my', u'problems', u'to']"
      ]
     },
     "execution_count": 8,
     "metadata": {},
     "output_type": "execute_result"
    }
   ],
   "source": [
    "vectorizer.get_feature_names()"
   ]
  },
  {
   "cell_type": "code",
   "execution_count": 25,
   "metadata": {
    "collapsed": true
   },
   "outputs": [],
   "source": [
    "path = r'C:\\python\\BuildingMachineLearningSystemsWithPython-master\\ch03\\data\\toy'"
   ]
  },
  {
   "cell_type": "code",
   "execution_count": 26,
   "metadata": {
    "collapsed": true
   },
   "outputs": [],
   "source": [
    "import os"
   ]
  },
  {
   "cell_type": "code",
   "execution_count": 27,
   "metadata": {
    "collapsed": false
   },
   "outputs": [],
   "source": [
    "#获取文件夹下的所有文件信息\n",
    "path = r'C:\\python\\BuildingMachineLearningSystemsWithPython-master\\ch03\\data\\toy'\n",
    "posts = [open(os.path.join(path,i)).read() for i in os.listdir(path)]"
   ]
  },
  {
   "cell_type": "code",
   "execution_count": 28,
   "metadata": {
    "collapsed": false
   },
   "outputs": [
    {
     "data": {
      "text/plain": [
       "['This is a toy post about machine learning. Actually, it contains not much interesting stuff.',\n",
       " 'Imaging databases provide storage capabilities.',\n",
       " 'Most imaging databases save images permanently.\\n',\n",
       " 'Imaging databases store data.',\n",
       " 'Imaging databases store data. Imaging databases store data. Imaging databases store data.']"
      ]
     },
     "execution_count": 28,
     "metadata": {},
     "output_type": "execute_result"
    }
   ],
   "source": [
    "posts"
   ]
  },
  {
   "cell_type": "code",
   "execution_count": 29,
   "metadata": {
    "collapsed": false
   },
   "outputs": [],
   "source": [
    "vectorizer = CountVectorizer(min_df=1)"
   ]
  },
  {
   "cell_type": "code",
   "execution_count": 30,
   "metadata": {
    "collapsed": false
   },
   "outputs": [],
   "source": [
    "X_train = vectorizer.fit_transform(posts)"
   ]
  },
  {
   "cell_type": "code",
   "execution_count": 33,
   "metadata": {
    "collapsed": false
   },
   "outputs": [
    {
     "data": {
      "text/plain": [
       "array([[1, 1, 0, 1, 0, 0, 0, 0, 1, 1, 1, 1, 1, 0, 1, 1, 0, 1, 0, 0, 0, 0,\n",
       "        1, 1, 1],\n",
       "       [0, 0, 1, 0, 0, 1, 0, 1, 0, 0, 0, 0, 0, 0, 0, 0, 0, 0, 1, 0, 1, 0,\n",
       "        0, 0, 0],\n",
       "       [0, 0, 0, 0, 0, 1, 1, 1, 0, 0, 0, 0, 0, 1, 0, 0, 1, 0, 0, 1, 0, 0,\n",
       "        0, 0, 0],\n",
       "       [0, 0, 0, 0, 1, 1, 0, 1, 0, 0, 0, 0, 0, 0, 0, 0, 0, 0, 0, 0, 0, 1,\n",
       "        0, 0, 0],\n",
       "       [0, 0, 0, 0, 3, 3, 0, 3, 0, 0, 0, 0, 0, 0, 0, 0, 0, 0, 0, 0, 0, 3,\n",
       "        0, 0, 0]], dtype=int64)"
      ]
     },
     "execution_count": 33,
     "metadata": {},
     "output_type": "execute_result"
    }
   ],
   "source": [
    "X_train.toarray()"
   ]
  },
  {
   "cell_type": "code",
   "execution_count": 17,
   "metadata": {
    "collapsed": false
   },
   "outputs": [
    {
     "name": "stdout",
     "output_type": "stream",
     "text": [
      "[u'about', u'actually', u'capabilities', u'contains', u'data', u'databases', u'images', u'imaging', u'interesting', u'is', u'it', u'learning', u'machine', u'most', u'much', u'not', u'permanently', u'post', u'provide', u'save', u'storage', u'store', u'stuff', u'this', u'toy']\n"
     ]
    }
   ],
   "source": [
    "print vectorizer.get_feature_names()"
   ]
  },
  {
   "cell_type": "code",
   "execution_count": 34,
   "metadata": {
    "collapsed": false
   },
   "outputs": [
    {
     "name": "stdout",
     "output_type": "stream",
     "text": [
      "5 25\n"
     ]
    }
   ],
   "source": [
    "num_samples, num_features = X_train.shape\n",
    "print num_samples,num_features"
   ]
  },
  {
   "cell_type": "code",
   "execution_count": 35,
   "metadata": {
    "collapsed": true
   },
   "outputs": [],
   "source": [
    "#增加一个新帖子\n",
    "new_post = 'imaging databases'\n",
    "new_post_vec = vectorizer.transform([new_post])"
   ]
  },
  {
   "cell_type": "markdown",
   "metadata": {},
   "source": [
    "注意  在进行transform时候一定要加括号，因为不加括号，程序会人为是字符串中的每个字符。如果加括号就会被人为是一个帖子进行转化。"
   ]
  },
  {
   "cell_type": "code",
   "execution_count": 36,
   "metadata": {
    "collapsed": false
   },
   "outputs": [
    {
     "name": "stdout",
     "output_type": "stream",
     "text": [
      "  (0, 5)\t1\n",
      "  (0, 7)\t1\n"
     ]
    }
   ],
   "source": [
    "print new_post_vec"
   ]
  },
  {
   "cell_type": "code",
   "execution_count": 37,
   "metadata": {
    "collapsed": false
   },
   "outputs": [
    {
     "name": "stdout",
     "output_type": "stream",
     "text": [
      "[[0 0 0 0 0 1 0 1 0 0 0 0 0 0 0 0 0 0 0 0 0 0 0 0 0]]\n"
     ]
    }
   ],
   "source": [
    "print new_post_vec.toarray()"
   ]
  },
  {
   "cell_type": "code",
   "execution_count": 20,
   "metadata": {
    "collapsed": false
   },
   "outputs": [],
   "source": [
    "#计算两个向量之间的欧氏距离\n",
    "import scipy as sp\n",
    "def dist_raw(v1,v2):\n",
    "    delta = v1 - v2\n",
    "    return sp.linalg.norm(delta.toarray())"
   ]
  },
  {
   "cell_type": "markdown",
   "metadata": {},
   "source": [
    "norm()函数用于计算欧几里得范数"
   ]
  },
  {
   "cell_type": "code",
   "execution_count": 48,
   "metadata": {
    "collapsed": false
   },
   "outputs": [
    {
     "name": "stdout",
     "output_type": "stream",
     "text": [
      "imaging databases\n",
      "0 This is a toy post about machine learning. Actually, it contains not much interesting stuff. the simility to new post is: 4.00\n",
      "1 Imaging databases provide storage capabilities. the simility to new post is: 1.73\n",
      "2 Most imaging databases save images permanently.\n",
      "the simility to new post is: 2.00\n",
      "3 Imaging databases store data. the simility to new post is: 1.41\n",
      "4 Imaging databases store data. Imaging databases store data. Imaging databases store data. the simility to new post is: 5.10\n"
     ]
    }
   ],
   "source": [
    "result = [dist_raw(i,new_post_vec) for i in X_train]\n",
    "print new_post\n",
    "count = 0\n",
    "for i,v in zip(posts,result):\n",
    "    print count,i,\"the simility to new post is:\",\"%.2f\" % v\n",
    "    count+=1"
   ]
  },
  {
   "cell_type": "code",
   "execution_count": 22,
   "metadata": {
    "collapsed": false
   },
   "outputs": [
    {
     "name": "stdout",
     "output_type": "stream",
     "text": [
      "[[0 0 0 0 3 3 0 3 0 0 0 0 0 0 0 0 0 0 0 0 0 3 0 0 0]]\n",
      "[[0 0 0 0 1 1 0 1 0 0 0 0 0 0 0 0 0 0 0 0 0 1 0 0 0]]\n"
     ]
    }
   ],
   "source": [
    "#我们看到，帖子1和新帖子是非常相似的，但不是最相似，因为他比帖子3多了1个未出现在新帖子中的词语。然后，帖子三和帖子4内容一样，但重复了三次。\n",
    "print X_train[4].toarray()\n",
    "print X_train[3].toarray()"
   ]
  },
  {
   "cell_type": "markdown",
   "metadata": {},
   "source": [
    "很明显，如果只是统计词频的化太过于简单了，没有进行归一化的化虽然最后一个帖子是对第三个帖子进行的三次重复，但是计算相似性却差别非常大。所以有必要对帖子进行一次归一化，修改函数，不要再原始函数上进行，而是在归一化后的向量上进行，把各个维度上的向量都统一到单位向量上进行度量"
   ]
  },
  {
   "cell_type": "code",
   "execution_count": 49,
   "metadata": {
    "collapsed": true
   },
   "outputs": [],
   "source": [
    "def dist_norm(v1,v2):\n",
    "    v1_normalized = v1/sp.linalg.norm(v1.toarray())\n",
    "    v2_normalized = v2/sp.linalg.norm(v2.toarray())\n",
    "    delta = v1_normalized - v2_normalized\n",
    "    return sp.linalg.norm(delta.toarray())"
   ]
  },
  {
   "cell_type": "code",
   "execution_count": 51,
   "metadata": {
    "collapsed": false
   },
   "outputs": [
    {
     "name": "stdout",
     "output_type": "stream",
     "text": [
      "imaging databases\n",
      "0 This is a toy post about machine learning. Actually, it contains not much interesting stuff. the simility to new post is: 1.41\n",
      "1 Imaging databases provide storage capabilities. the simility to new post is: 0.86\n",
      "2 Most imaging databases save images permanently.\n",
      "the simility to new post is: 0.92\n",
      "3 Imaging databases store data. the simility to new post is: 0.77\n",
      "4 Imaging databases store data. Imaging databases store data. Imaging databases store data. the simility to new post is: 0.77\n"
     ]
    }
   ],
   "source": [
    "result = [dist_norm(i,new_post_vec) for i in X_train]\n",
    "print new_post\n",
    "count = 0\n",
    "for i,v in zip(posts,result):\n",
    "    print count,i,\"the simility to new post is:\",\"%.2f\" % v\n",
    "    count+=1"
   ]
  },
  {
   "cell_type": "markdown",
   "metadata": {},
   "source": [
    "对于帖子2，不包含在新帖子中的词语有most safe images permanently 事实上，他们在帖子中的重要性并不相同，想most这样的词语经常出现在各种不同文本中，这种词叫做停用词。他们并未承载很多信息量，因此不该赋予images这样不京城出现在各个文本中的词语一样的权重。最佳的选择应该是删除这样的高频词语"
   ]
  },
  {
   "cell_type": "code",
   "execution_count": 25,
   "metadata": {
    "collapsed": true
   },
   "outputs": [],
   "source": [
    "vectorizer = CountVectorizer(min_df=1)"
   ]
  },
  {
   "cell_type": "code",
   "execution_count": 26,
   "metadata": {
    "collapsed": false
   },
   "outputs": [],
   "source": [
    "words= [u'我，今天，非常的，开心',u'你，今天， 同样的 很 开心 你搜房搜房#对哦，你好 武']"
   ]
  },
  {
   "cell_type": "code",
   "execution_count": 27,
   "metadata": {
    "collapsed": false
   },
   "outputs": [
    {
     "name": "stdout",
     "output_type": "stream",
     "text": [
      "武\n"
     ]
    }
   ],
   "source": [
    "print u'\\u6b66'"
   ]
  },
  {
   "cell_type": "code",
   "execution_count": 28,
   "metadata": {
    "collapsed": false
   },
   "outputs": [],
   "source": [
    "train_x = vectorizer.fit_transform(words)"
   ]
  },
  {
   "cell_type": "code",
   "execution_count": 29,
   "metadata": {
    "collapsed": false
   },
   "outputs": [
    {
     "name": "stdout",
     "output_type": "stream",
     "text": [
      "今天\n",
      "你好\n",
      "你搜房搜房\n",
      "同样的\n",
      "对哦\n",
      "开心\n",
      "非常的\n"
     ]
    }
   ],
   "source": [
    "for i in vectorizer.get_feature_names():\n",
    "    print i"
   ]
  },
  {
   "cell_type": "code",
   "execution_count": 30,
   "metadata": {
    "collapsed": false
   },
   "outputs": [],
   "source": [
    "new_post_vec = vectorizer.transform([u'妈饿 就是 老子 开心'])"
   ]
  },
  {
   "cell_type": "code",
   "execution_count": 31,
   "metadata": {
    "collapsed": false
   },
   "outputs": [
    {
     "data": {
      "text/plain": [
       "array([[0, 0, 0, 0, 0, 1, 0]], dtype=int64)"
      ]
     },
     "execution_count": 31,
     "metadata": {},
     "output_type": "execute_result"
    }
   ],
   "source": [
    "new_post_vec.toarray()"
   ]
  },
  {
   "cell_type": "code",
   "execution_count": 32,
   "metadata": {
    "collapsed": false
   },
   "outputs": [
    {
     "name": "stdout",
     "output_type": "stream",
     "text": [
      "你搜房搜房\n"
     ]
    }
   ],
   "source": [
    "print vectorizer.get_feature_names()[2]"
   ]
  },
  {
   "cell_type": "code",
   "execution_count": 33,
   "metadata": {
    "collapsed": false
   },
   "outputs": [
    {
     "data": {
      "text/plain": [
       "[1.4142135623730951, 2.2360679774997898]"
      ]
     },
     "execution_count": 33,
     "metadata": {},
     "output_type": "execute_result"
    }
   ],
   "source": [
    "[dist_raw(i,new_post_vec) for i in train_x]"
   ]
  },
  {
   "cell_type": "markdown",
   "metadata": {},
   "source": [
    "经过实践证明，vectorizer分词既可以识别出空格，对于汉字一个字的会进行过滤，也可是识别出逗号。真牛逼！"
   ]
  },
  {
   "cell_type": "markdown",
   "metadata": {},
   "source": [
    "这里接着停用词部分继续"
   ]
  },
  {
   "cell_type": "code",
   "execution_count": 54,
   "metadata": {
    "collapsed": true
   },
   "outputs": [],
   "source": [
    "vectorizer = CountVectorizer(min_df=1,stop_words='english')"
   ]
  },
  {
   "cell_type": "code",
   "execution_count": 58,
   "metadata": {
    "collapsed": false
   },
   "outputs": [
    {
     "data": {
      "text/plain": [
       "['all',\n",
       " 'six',\n",
       " 'less',\n",
       " 'being',\n",
       " 'indeed',\n",
       " 'over',\n",
       " 'move',\n",
       " 'anyway',\n",
       " 'four',\n",
       " 'not',\n",
       " 'own',\n",
       " 'through',\n",
       " 'yourselves',\n",
       " 'fify',\n",
       " 'where',\n",
       " 'mill',\n",
       " 'only',\n",
       " 'find',\n",
       " 'before',\n",
       " 'one']"
      ]
     },
     "execution_count": 58,
     "metadata": {},
     "output_type": "execute_result"
    }
   ],
   "source": [
    "list(vectorizer.get_stop_words())[:20]"
   ]
  },
  {
   "cell_type": "code",
   "execution_count": 62,
   "metadata": {
    "collapsed": true
   },
   "outputs": [],
   "source": [
    "vectorizer = CountVectorizer(min_df=1,stop_words='english')"
   ]
  },
  {
   "cell_type": "code",
   "execution_count": 64,
   "metadata": {
    "collapsed": false
   },
   "outputs": [],
   "source": [
    "X_train = vectorizer.fit_transform(posts)"
   ]
  },
  {
   "cell_type": "code",
   "execution_count": 65,
   "metadata": {
    "collapsed": false
   },
   "outputs": [
    {
     "data": {
      "text/plain": [
       "18"
      ]
     },
     "execution_count": 65,
     "metadata": {},
     "output_type": "execute_result"
    }
   ],
   "source": [
    "len(vectorizer.get_feature_names())\n",
    "#加入停用词后，新词语列表就减少了7个词语"
   ]
  },
  {
   "cell_type": "code",
   "execution_count": 66,
   "metadata": {
    "collapsed": true
   },
   "outputs": [],
   "source": [
    "new_post = 'imaging databases'\n",
    "new_post_vec = vectorizer.transform([new_post])"
   ]
  },
  {
   "cell_type": "code",
   "execution_count": 67,
   "metadata": {
    "collapsed": true
   },
   "outputs": [],
   "source": [
    "def dist_norm(v1,v2):\n",
    "    v1_normalized = v1/sp.linalg.norm(v1.toarray())\n",
    "    v2_normalized = v2/sp.linalg.norm(v2.toarray())\n",
    "    delta = v1_normalized - v2_normalized\n",
    "    return sp.linalg.norm(delta.toarray())"
   ]
  },
  {
   "cell_type": "code",
   "execution_count": 68,
   "metadata": {
    "collapsed": false
   },
   "outputs": [
    {
     "name": "stdout",
     "output_type": "stream",
     "text": [
      "imaging databases\n",
      "0 This is a toy post about machine learning. Actually, it contains not much interesting stuff. the simility to new post is: 1.41\n",
      "1 Imaging databases provide storage capabilities. the simility to new post is: 0.86\n",
      "2 Most imaging databases save images permanently.\n",
      "the simility to new post is: 0.86\n",
      "3 Imaging databases store data. the simility to new post is: 0.77\n",
      "4 Imaging databases store data. Imaging databases store data. Imaging databases store data. the simility to new post is: 0.77\n"
     ]
    }
   ],
   "source": [
    "result = [dist_norm(i,new_post_vec) for i in X_train]\n",
    "print new_post\n",
    "count = 0\n",
    "for i,v in zip(posts,result):\n",
    "    print count,i,\"the simility to new post is:\",\"%.2f\" % v\n",
    "    count+=1"
   ]
  },
  {
   "cell_type": "markdown",
   "metadata": {},
   "source": [
    "第二篇和第三篇帖子看起来旗鼓相当，总和来说，效果并没有明显改变。但如果帖子很长 效果还是非常明显的。通过删除词语的方式，留下的词语的权重就都是一样的了"
   ]
  },
  {
   "cell_type": "code",
   "execution_count": 231,
   "metadata": {
    "collapsed": false
   },
   "outputs": [
    {
     "name": "stdout",
     "output_type": "stream",
     "text": [
      "[[0 0 0 0 1 0 1 0 0 0 0 0 0 0 0 0 0 0]]\n",
      "[[0 0 0 0 1 1 1 0 0 0 1 0 0 1 0 0 0 0]\n",
      " [0 0 0 1 1 0 1 0 0 0 0 0 0 0 0 1 0 0]]\n"
     ]
    }
   ],
   "source": [
    "print new_post_vec.toarray()\n",
    "print X_train.toarray()[[2,3]]"
   ]
  },
  {
   "cell_type": "markdown",
   "metadata": {},
   "source": [
    "语意分析，词干处理。例如对于计算机和电脑  应该归于一类做词频统计，这样更合理"
   ]
  },
  {
   "cell_type": "code",
   "execution_count": 69,
   "metadata": {
    "collapsed": true
   },
   "outputs": [],
   "source": [
    "import nltk.stem"
   ]
  },
  {
   "cell_type": "code",
   "execution_count": 71,
   "metadata": {
    "collapsed": false
   },
   "outputs": [],
   "source": [
    "s = nltk.stem.SnowballStemmer('english')"
   ]
  },
  {
   "cell_type": "code",
   "execution_count": 72,
   "metadata": {
    "collapsed": false
   },
   "outputs": [
    {
     "name": "stdout",
     "output_type": "stream",
     "text": [
      "graphic\n",
      "imag\n",
      "imag\n",
      "imagin\n"
     ]
    }
   ],
   "source": [
    "print s.stem('graphics')\n",
    "print s.stem('imaging')\n",
    "print s.stem('image')\n",
    "print s.stem('imagine')"
   ]
  },
  {
   "cell_type": "code",
   "execution_count": 122,
   "metadata": {
    "collapsed": false
   },
   "outputs": [],
   "source": [
    "import nltk.stem\n",
    "english_stemmer = nltk.stem.SnowballStemmer('english')\n",
    "class StemmedCountVectorizer(CountVectorizer):\n",
    "    def build_analyzer(self):\n",
    "        analyzer = super(StemmedCountVectorizer, self).build_analyzer()\n",
    "        return lambda doc: (english_stemmer.stem(w) for w in analyzer(doc))\n",
    "vectorizer = StemmedCountVectorizer(min_df=1,stop_words='english')"
   ]
  },
  {
   "cell_type": "code",
   "execution_count": 123,
   "metadata": {
    "collapsed": false
   },
   "outputs": [
    {
     "name": "stdout",
     "output_type": "stream",
     "text": [
      "<generator object <genexpr> at 0x000000000911F090>\n"
     ]
    },
    {
     "data": {
      "text/plain": [
       "'This is a toy post about machine learning. Actually, it contains not much interesting stuff.'"
      ]
     },
     "execution_count": 123,
     "metadata": {},
     "output_type": "execute_result"
    }
   ],
   "source": [
    "print vectorizer.build_analyzer()(posts[0])   #build_analyzer的作用是用于分词，并且去停用词\n",
    "posts[0]"
   ]
  },
  {
   "cell_type": "code",
   "execution_count": 124,
   "metadata": {
    "collapsed": false
   },
   "outputs": [],
   "source": [
    "X = vectorizer.fit_transform(posts)"
   ]
  },
  {
   "cell_type": "code",
   "execution_count": 125,
   "metadata": {
    "collapsed": false
   },
   "outputs": [
    {
     "name": "stdout",
     "output_type": "stream",
     "text": [
      "[[1 0 1 0 0 0 1 1 1 0 1 0 0 0 0 1 1]\n",
      " [0 1 0 0 1 1 0 0 0 0 0 1 0 1 0 0 0]\n",
      " [0 0 0 0 1 2 0 0 0 1 0 0 1 0 0 0 0]\n",
      " [0 0 0 1 1 1 0 0 0 0 0 0 0 0 1 0 0]\n",
      " [0 0 0 3 3 3 0 0 0 0 0 0 0 0 3 0 0]]\n"
     ]
    }
   ],
   "source": [
    "print X.toarray()"
   ]
  },
  {
   "cell_type": "code",
   "execution_count": 126,
   "metadata": {
    "collapsed": false
   },
   "outputs": [
    {
     "name": "stdout",
     "output_type": "stream",
     "text": [
      "[[1 0 1 0 0 0 0 1 1 1 0 1 0 0 0 0 1 1]\n",
      " [0 1 0 0 1 0 1 0 0 0 0 0 1 0 1 0 0 0]\n",
      " [0 0 0 0 1 1 1 0 0 0 1 0 0 1 0 0 0 0]\n",
      " [0 0 0 1 1 0 1 0 0 0 0 0 0 0 0 1 0 0]\n",
      " [0 0 0 3 3 0 3 0 0 0 0 0 0 0 0 3 0 0]]\n"
     ]
    }
   ],
   "source": [
    "print X_train.toarray()"
   ]
  },
  {
   "cell_type": "code",
   "execution_count": 127,
   "metadata": {
    "collapsed": false
   },
   "outputs": [
    {
     "data": {
      "text/plain": [
       "[u'actual',\n",
       " u'capabl',\n",
       " u'contain',\n",
       " u'data',\n",
       " u'databas',\n",
       " u'imag',\n",
       " u'interest',\n",
       " u'learn',\n",
       " u'machin',\n",
       " u'perman',\n",
       " u'post',\n",
       " u'provid',\n",
       " u'save',\n",
       " u'storag',\n",
       " u'store',\n",
       " u'stuff',\n",
       " u'toy']"
      ]
     },
     "execution_count": 127,
     "metadata": {},
     "output_type": "execute_result"
    }
   ],
   "source": [
    "vectorizer.get_feature_names()"
   ]
  },
  {
   "cell_type": "code",
   "execution_count": 129,
   "metadata": {
    "collapsed": false
   },
   "outputs": [],
   "source": [
    "new_post = 'imaging databases'\n",
    "new_post_vec = vectorizer.transform([new_post])"
   ]
  },
  {
   "cell_type": "code",
   "execution_count": 130,
   "metadata": {
    "collapsed": true
   },
   "outputs": [],
   "source": [
    "def dist_norm(v1,v2):\n",
    "    v1_normalized = v1/sp.linalg.norm(v1.toarray())\n",
    "    v2_normalized = v2/sp.linalg.norm(v2.toarray())\n",
    "    delta = v1_normalized - v2_normalized\n",
    "    return sp.linalg.norm(delta.toarray())"
   ]
  },
  {
   "cell_type": "code",
   "execution_count": 132,
   "metadata": {
    "collapsed": false
   },
   "outputs": [
    {
     "name": "stdout",
     "output_type": "stream",
     "text": [
      "imaging databases\n",
      "0 This is a toy post about machine learning. Actually, it contains not much interesting stuff. the simility to new post is: 1.41\n",
      "1 Imaging databases provide storage capabilities. the simility to new post is: 0.86\n",
      "2 Most imaging databases save images permanently.\n",
      "the simility to new post is: 0.63\n",
      "3 Imaging databases store data. the simility to new post is: 0.77\n",
      "4 Imaging databases store data. Imaging databases store data. Imaging databases store data. the simility to new post is: 0.77\n"
     ]
    }
   ],
   "source": [
    "result = [dist_norm(i,new_post_vec) for i in X]\n",
    "print new_post\n",
    "count = 0\n",
    "for i,v in zip(posts,result):\n",
    "    print count,i,\"the simility to new post is:\",\"%.2f\" % v\n",
    "    count+=1"
   ]
  },
  {
   "cell_type": "markdown",
   "metadata": {},
   "source": [
    "牛逼  通过词干的处理，我们找到了最终最为相似的帖子"
   ]
  },
  {
   "cell_type": "markdown",
   "metadata": {
    "collapsed": true
   },
   "source": [
    "Tf-Idf   词频-反文档频率\n",
    "- 词频是指在当前文档中该词出现的次数 比 所有文档中出现该词的次数\n",
    "- 反文档频率是指 所有文档数量 比 所有文档中出现该词文档的次数\n",
    "tf-idf的目的是赋予语料库中每个词语不同的权重，对于容易区分的词语赋予权重更大，总出现的词语赋予较低的权重。这样，如果索引词语出现了容易区分的词语，那么和有该词语的帖子就应该有更高的相似度"
   ]
  },
  {
   "cell_type": "code",
   "execution_count": 116,
   "metadata": {
    "collapsed": true
   },
   "outputs": [],
   "source": [
    "import scipy as sp\n",
    "import math\n",
    "def tfidf(term,doc,docset):\n",
    "    tf = float(doc.count(term))/sum(doc.count(term) for doc in docset)  #利用迭代器的方式  真牛鼻！\n",
    "    idf = math.log(float(len(docset))/ (len([doc for doc in docset if term in doc])))\n",
    "    print tf,idf\n",
    "    return tf*idf"
   ]
  },
  {
   "cell_type": "code",
   "execution_count": 115,
   "metadata": {
    "collapsed": false
   },
   "outputs": [
    {
     "data": {
      "text/plain": [
       "[['\\xe4\\xb8\\xad\\xe5\\x9b\\xbd'],\n",
       " ['\\xe4\\xb8\\xad\\xe5\\x9b\\xbd',\n",
       "  '\\xe7\\xbe\\x8e\\xe5\\x9b\\xbd',\n",
       "  '\\xe7\\xbe\\x8e\\xe5\\x9b\\xbd'],\n",
       " ['\\xe4\\xb8\\xad\\xe5\\x9b\\xbd',\n",
       "  '\\xe7\\xbe\\x8e\\xe5\\x9b\\xbd',\n",
       "  '\\xe5\\x8f\\xa4\\xe5\\xb7\\xb4']]"
      ]
     },
     "execution_count": 115,
     "metadata": {},
     "output_type": "execute_result"
    }
   ],
   "source": [
    "a,abb,abc = ['中国'],['中国','美国','美国'],['中国','美国','古巴']\n",
    "D = [a,abb,abc]\n",
    "D"
   ]
  },
  {
   "cell_type": "code",
   "execution_count": 120,
   "metadata": {
    "collapsed": false
   },
   "outputs": [
    {
     "name": "stdout",
     "output_type": "stream",
     "text": [
      "1.0 1.09861228867\n",
      "1.09861228867\n"
     ]
    }
   ],
   "source": [
    "print tfidf('古巴',abc,D)\n",
    "#這个例子很恰当啊"
   ]
  },
  {
   "cell_type": "code",
   "execution_count": 121,
   "metadata": {
    "collapsed": true
   },
   "outputs": [],
   "source": [
    "from sklearn.feature_extraction.text import CountVectorizer\n",
    "from sklearn.feature_extraction.text import TfidfVectorizer"
   ]
  },
  {
   "cell_type": "code",
   "execution_count": 166,
   "metadata": {
    "collapsed": true
   },
   "outputs": [],
   "source": [
    "class StemmedTfidfVectorizer(TfidfVectorizer):\n",
    "    def build_aualyzer(self):\n",
    "        analyzer = supper(TfidfVectorizer,self).build_aualyzer()  #前半句是和自己实例化\n",
    "        return lambda doc:(english_stemmer.stem(w) for w in analyzer(doc))"
   ]
  },
  {
   "cell_type": "code",
   "execution_count": 167,
   "metadata": {
    "collapsed": false
   },
   "outputs": [],
   "source": [
    "vectorizer = StemmedTfidfVectorizer(min_df=1,stop_words='english')"
   ]
  },
  {
   "cell_type": "code",
   "execution_count": 169,
   "metadata": {
    "collapsed": false
   },
   "outputs": [],
   "source": [
    "X_train = vectorizer.fit_transform(posts)"
   ]
  },
  {
   "cell_type": "code",
   "execution_count": 170,
   "metadata": {
    "collapsed": true
   },
   "outputs": [],
   "source": [
    "new_post = 'imaging databases'\n",
    "new_post_vec = vectorizer.transform([new_post])"
   ]
  },
  {
   "cell_type": "code",
   "execution_count": 180,
   "metadata": {
    "collapsed": false
   },
   "outputs": [
    {
     "name": "stdout",
     "output_type": "stream",
     "text": [
      "[[ 0.35355339  0.          0.35355339  0.          0.          0.          0.\n",
      "   0.35355339  0.35355339  0.35355339  0.          0.35355339  0.          0.\n",
      "   0.          0.          0.35355339  0.35355339]\n",
      " [ 0.          0.52451722  0.          0.          0.29550385  0.\n",
      "   0.29550385  0.          0.          0.          0.          0.\n",
      "   0.52451722  0.          0.52451722  0.          0.          0.        ]\n",
      " [ 0.          0.          0.          0.          0.29550385  0.52451722\n",
      "   0.29550385  0.          0.          0.          0.52451722  0.          0.\n",
      "   0.52451722  0.          0.          0.          0.        ]\n",
      " [ 0.          0.          0.          0.57974759  0.40483667  0.\n",
      "   0.40483667  0.          0.          0.          0.          0.          0.\n",
      "   0.          0.          0.57974759  0.          0.        ]\n",
      " [ 0.          0.          0.          0.57974759  0.40483667  0.\n",
      "   0.40483667  0.          0.          0.          0.          0.          0.\n",
      "   0.          0.          0.57974759  0.          0.        ]]\n",
      "------------------------------------------------------------------------------------------------------------\n",
      "[[ 0.          0.          0.          0.          0.70710678  0.\n",
      "   0.70710678  0.          0.          0.          0.          0.          0.\n",
      "   0.          0.          0.          0.          0.        ]]\n"
     ]
    }
   ],
   "source": [
    "print X_train.toarray()\n",
    "print '---'*36\n",
    "print new_post_vec.toarray()"
   ]
  },
  {
   "cell_type": "code",
   "execution_count": 171,
   "metadata": {
    "collapsed": true
   },
   "outputs": [],
   "source": [
    "def dist_norm(v1,v2):\n",
    "    v1_normalized = v1/sp.linalg.norm(v1.toarray())\n",
    "    v2_normalized = v2/sp.linalg.norm(v2.toarray())\n",
    "    delta = v1_normalized - v2_normalized\n",
    "    return sp.linalg.norm(delta.toarray())"
   ]
  },
  {
   "cell_type": "code",
   "execution_count": 172,
   "metadata": {
    "collapsed": false
   },
   "outputs": [
    {
     "name": "stdout",
     "output_type": "stream",
     "text": [
      "imaging databases\n",
      "0 This is a toy post about machine learning. Actually, it contains not much interesting stuff. the simility to new post is: 1.41\n",
      "1 Imaging databases provide storage capabilities. the simility to new post is: 1.08\n",
      "2 Most imaging databases save images permanently.\n",
      "the simility to new post is: 1.08\n",
      "3 Imaging databases store data. the simility to new post is: 0.92\n",
      "4 Imaging databases store data. Imaging databases store data. Imaging databases store data. the simility to new post is: 0.92\n"
     ]
    }
   ],
   "source": [
    "result = [dist_norm(i,new_post_vec) for i in X_train]\n",
    "print new_post\n",
    "count = 0\n",
    "for i,v in zip(posts,result):\n",
    "    print count,i,\"the simility to new post is:\",\"%.2f\" % v\n",
    "    count+=1"
   ]
  },
  {
   "cell_type": "markdown",
   "metadata": {
    "collapsed": true
   },
   "source": [
    "如果不进行词干处理，直接通过tf-idf进行运算，结果会怎样呢？"
   ]
  },
  {
   "cell_type": "code",
   "execution_count": null,
   "metadata": {
    "collapsed": true
   },
   "outputs": [],
   "source": [
    "from sklearn.feature_extraction.text import CountVectorizer\n",
    "from sklearn.feature_extraction.text import TfidfVectorizer"
   ]
  },
  {
   "cell_type": "code",
   "execution_count": 187,
   "metadata": {
    "collapsed": true
   },
   "outputs": [],
   "source": [
    "vectorizer = TfidfVectorizer(min_df=1,stop_words='english')\n",
    "X_train = vectorizer.fit_transform(posts)"
   ]
  },
  {
   "cell_type": "code",
   "execution_count": 188,
   "metadata": {
    "collapsed": false
   },
   "outputs": [],
   "source": [
    "new_post = 'imaging databases'\n",
    "new_post_vec = vectorizer.transform([new_post])"
   ]
  },
  {
   "cell_type": "code",
   "execution_count": 189,
   "metadata": {
    "collapsed": true
   },
   "outputs": [],
   "source": [
    "def dist_norm(v1,v2):\n",
    "    v1_normalized = v1/sp.linalg.norm(v1.toarray())\n",
    "    v2_normalized = v2/sp.linalg.norm(v2.toarray())\n",
    "    delta = v1_normalized - v2_normalized\n",
    "    return sp.linalg.norm(delta.toarray())"
   ]
  },
  {
   "cell_type": "code",
   "execution_count": 186,
   "metadata": {
    "collapsed": false
   },
   "outputs": [
    {
     "name": "stdout",
     "output_type": "stream",
     "text": [
      "imaging databases\n",
      "0 This is a toy post about machine learning. Actually, it contains not much interesting stuff. the simility to new post is: 1.41\n",
      "1 Imaging databases provide storage capabilities. the simility to new post is: 1.08\n",
      "2 Most imaging databases save images permanently.\n",
      "the simility to new post is: 1.08\n",
      "3 Imaging databases store data. the simility to new post is: 0.92\n",
      "4 Imaging databases store data. Imaging databases store data. Imaging databases store data. the simility to new post is: 0.92\n"
     ]
    }
   ],
   "source": [
    "result = [dist_norm(i,new_post_vec) for i in X_train]\n",
    "print new_post\n",
    "count = 0\n",
    "for i,v in zip(posts,result):\n",
    "    print count,i,\"the simility to new post is:\",\"%.2f\" % v\n",
    "    count+=1"
   ]
  },
  {
   "cell_type": "markdown",
   "metadata": {},
   "source": [
    "文本预处理，包含以下步骤：\n",
    "1. 切分文本；\n",
    "2. 扔掉出现频率过于频繁而又对检测相关帖子没有帮助的词语\n",
    "3. 扔掉出现频率过于低，只有很小可能出现在未来帖子中的词语\n",
    "4. 统计剩余词语\n",
    "5. 考虑整个语料库集合，从词频统计中计算tf-idf值"
   ]
  },
  {
   "cell_type": "markdown",
   "metadata": {},
   "source": [
    "词袋模型的缺点：\n",
    "1. 它不涵盖词语之间的关联关系\n",
    "2. 无法正确捕捉否定关系\n",
    "3. 对于拼写错误的词语会处理失败"
   ]
  },
  {
   "cell_type": "markdown",
   "metadata": {},
   "source": [
    "### 聚类"
   ]
  },
  {
   "cell_type": "code",
   "execution_count": 228,
   "metadata": {
    "collapsed": true
   },
   "outputs": [],
   "source": [
    "import os\n",
    "import scipy as sp\n",
    "from scipy.stats import norm\n",
    "from matplotlib import pylab\n",
    "from sklearn.cluster import KMeans\n",
    "import matplotlib.pyplot as plt\n",
    "import seaborn as sns"
   ]
  },
  {
   "cell_type": "code",
   "execution_count": 205,
   "metadata": {
    "collapsed": true
   },
   "outputs": [],
   "source": [
    "xw1 = norm(loc=0.3, scale=.15).rvs(20)\n",
    "yw1 = norm(loc=0.3, scale=.15).rvs(20)\n",
    "\n",
    "xw2 = norm(loc=0.7, scale=.15).rvs(20)\n",
    "yw2 = norm(loc=0.7, scale=.15).rvs(20)\n",
    "\n",
    "xw3 = norm(loc=0.2, scale=.15).rvs(20)\n",
    "yw3 = norm(loc=0.8, scale=.15).rvs(20)\n",
    "\n",
    "x = sp.append(sp.append(xw1, xw2), xw3)\n",
    "y = sp.append(sp.append(yw1, yw2), yw3)"
   ]
  },
  {
   "cell_type": "code",
   "execution_count": 208,
   "metadata": {
    "collapsed": true
   },
   "outputs": [],
   "source": [
    "%matplotlib inline"
   ]
  },
  {
   "cell_type": "code",
   "execution_count": 225,
   "metadata": {
    "collapsed": false
   },
   "outputs": [
    {
     "data": {
      "text/plain": [
       "<matplotlib.collections.PathCollection at 0xbcae828>"
      ]
     },
     "execution_count": 225,
     "metadata": {},
     "output_type": "execute_result"
    },
    {
     "data": {
      "image/png": "[encoded data removed]",
      "text/plain": [
       "<matplotlib.figure.Figure at 0xb9e3588>"
      ]
     },
     "metadata": {},
     "output_type": "display_data"
    }
   ],
   "source": [
    "plt.scatter(xw1,yw1,c = 'g')\n",
    "plt.scatter(xw2,yw2,c='r')\n",
    "plt.scatter(xw3,yw3,c='b')"
   ]
  },
  {
   "cell_type": "code",
   "execution_count": 238,
   "metadata": {
    "collapsed": false
   },
   "outputs": [
    {
     "data": {
      "text/html": [
       "<div>\n",
       "<table border=\"1\" class=\"dataframe\">\n",
       "  <thead>\n",
       "    <tr style=\"text-align: right;\">\n",
       "      <th></th>\n",
       "      <th>total_bill</th>\n",
       "      <th>tip</th>\n",
       "      <th>sex</th>\n",
       "      <th>smoker</th>\n",
       "      <th>day</th>\n",
       "      <th>time</th>\n",
       "      <th>size</th>\n",
       "    </tr>\n",
       "  </thead>\n",
       "  <tbody>\n",
       "    <tr>\n",
       "      <th>0</th>\n",
       "      <td>16.99</td>\n",
       "      <td>1.01</td>\n",
       "      <td>Female</td>\n",
       "      <td>No</td>\n",
       "      <td>Sun</td>\n",
       "      <td>Dinner</td>\n",
       "      <td>2</td>\n",
       "    </tr>\n",
       "    <tr>\n",
       "      <th>1</th>\n",
       "      <td>10.34</td>\n",
       "      <td>1.66</td>\n",
       "      <td>Male</td>\n",
       "      <td>No</td>\n",
       "      <td>Sun</td>\n",
       "      <td>Dinner</td>\n",
       "      <td>3</td>\n",
       "    </tr>\n",
       "    <tr>\n",
       "      <th>2</th>\n",
       "      <td>21.01</td>\n",
       "      <td>3.50</td>\n",
       "      <td>Male</td>\n",
       "      <td>No</td>\n",
       "      <td>Sun</td>\n",
       "      <td>Dinner</td>\n",
       "      <td>3</td>\n",
       "    </tr>\n",
       "    <tr>\n",
       "      <th>3</th>\n",
       "      <td>23.68</td>\n",
       "      <td>3.31</td>\n",
       "      <td>Male</td>\n",
       "      <td>No</td>\n",
       "      <td>Sun</td>\n",
       "      <td>Dinner</td>\n",
       "      <td>2</td>\n",
       "    </tr>\n",
       "    <tr>\n",
       "      <th>4</th>\n",
       "      <td>24.59</td>\n",
       "      <td>3.61</td>\n",
       "      <td>Female</td>\n",
       "      <td>No</td>\n",
       "      <td>Sun</td>\n",
       "      <td>Dinner</td>\n",
       "      <td>4</td>\n",
       "    </tr>\n",
       "  </tbody>\n",
       "</table>\n",
       "</div>"
      ],
      "text/plain": [
       "   total_bill   tip     sex smoker  day    time  size\n",
       "0       16.99  1.01  Female     No  Sun  Dinner     2\n",
       "1       10.34  1.66    Male     No  Sun  Dinner     3\n",
       "2       21.01  3.50    Male     No  Sun  Dinner     3\n",
       "3       23.68  3.31    Male     No  Sun  Dinner     2\n",
       "4       24.59  3.61  Female     No  Sun  Dinner     4"
      ]
     },
     "execution_count": 238,
     "metadata": {},
     "output_type": "execute_result"
    }
   ],
   "source": [
    "tips = sns.load_dataset(\"tips\")\n",
    "tips.head()"
   ]
  },
  {
   "cell_type": "code",
   "execution_count": 280,
   "metadata": {
    "collapsed": false
   },
   "outputs": [
    {
     "data": {
      "image/png": "[encoded data removed]",
      "text/plain": [
       "<matplotlib.figure.Figure at 0x11c60dd8>"
      ]
     },
     "metadata": {},
     "output_type": "display_data"
    }
   ],
   "source": [
    "# sns.set(style=\"white\", color_codes=True)\n",
    "ax = sns.jointplot(x=xw1,y=yw1,kind='scatter',color='red');\n",
    "ax."
   ]
  },
  {
   "cell_type": "code",
   "execution_count": 287,
   "metadata": {
    "collapsed": true
   },
   "outputs": [],
   "source": [
    "import seaborn as sns\n",
    "import numpy as np\n",
    "from numpy.random import randn\n",
    "import matplotlib as mpl\n",
    "import matplotlib.pyplot as plt\n",
    "from scipy import stats"
   ]
  },
  {
   "cell_type": "code",
   "execution_count": 288,
   "metadata": {
    "collapsed": true
   },
   "outputs": [],
   "source": [
    "sns.set_palette('deep', desat=.6)\n",
    "sns.set_context(rc={'figure.figsize': (8, 5) } )\n",
    "np.random.seed(1425)"
   ]
  },
  {
   "cell_type": "code",
   "execution_count": 289,
   "metadata": {
    "collapsed": false
   },
   "outputs": [
    {
     "data": {
      "text/plain": [
       "(array([  2.,   5.,   4.,  10.,  12.,  16.,   7.,   7.,   6.,   6.]),\n",
       " array([-2.04713616, -1.64185099, -1.23656582, -0.83128065, -0.42599548,\n",
       "        -0.02071031,  0.38457486,  0.78986003,  1.1951452 ,  1.60043037,\n",
       "         2.00571554]),\n",
       " <a list of 10 Patch objects>)"
      ]
     },
     "execution_count": 289,
     "metadata": {},
     "output_type": "execute_result"
    },
    {
     "data": {
      "image/png": "[encoded data removed]",
      "text/plain": [
       "<matplotlib.figure.Figure at 0xf726b70>"
      ]
     },
     "metadata": {},
     "output_type": "display_data"
    }
   ],
   "source": [
    "data = randn(75)\n",
    "plt.hist(data)"
   ]
  },
  {
   "cell_type": "code",
   "execution_count": 290,
   "metadata": {
    "collapsed": false
   },
   "outputs": [
    {
     "data": {
      "text/plain": [
       "(array([  3.,   6.,   8.,  10.,  14.,  15.,  15.,  11.,   7.,   7.,   2.,\n",
       "          2.]),\n",
       " array([-2.19974846, -1.78742423, -1.3751    , -0.96277576, -0.55045153,\n",
       "        -0.1381273 ,  0.27419693,  0.68652116,  1.09884539,  1.51116962,\n",
       "         1.92349385,  2.33581809,  2.74814232]),\n",
       " <a list of 12 Patch objects>)"
      ]
     },
     "execution_count": 290,
     "metadata": {},
     "output_type": "execute_result"
    },
    {
     "data": {
      "image/png": "[encoded data removed]",
      "text/plain": [
       "<matplotlib.figure.Figure at 0x10c1c518>"
      ]
     },
     "metadata": {},
     "output_type": "display_data"
    }
   ],
   "source": [
    "data = randn(100)\n",
    "plt.hist(data, bins=12, color=sns.desaturate(\"indianred\", .8), alpha=.4)\n"
   ]
  },
  {
   "cell_type": "code",
   "execution_count": 291,
   "metadata": {
    "collapsed": true
   },
   "outputs": [],
   "source": [
    "data1 = stats.poisson(2).rvs(100)\n",
    "data2 = stats.poisson(5).rvs(500)"
   ]
  },
  {
   "cell_type": "code",
   "execution_count": 292,
   "metadata": {
    "collapsed": true
   },
   "outputs": [],
   "source": [
    "max_data = np.r_[data1, data2].max()"
   ]
  },
  {
   "cell_type": "code",
   "execution_count": 311,
   "metadata": {
    "collapsed": false
   },
   "outputs": [
    {
     "data": {
      "text/plain": [
       "(array([ 0.012,  0.04 ,  0.074,  0.15 ,  0.164,  0.174,  0.15 ,  0.098,\n",
       "         0.074,  0.038,  0.012,  0.008,  0.002,  0.004]),\n",
       " array([  0.,   1.,   2.,   3.,   4.,   5.,   6.,   7.,   8.,   9.,  10.,\n",
       "         11.,  12.,  13.,  14.]),\n",
       " <a list of 14 Patch objects>)"
      ]
     },
     "execution_count": 311,
     "metadata": {},
     "output_type": "execute_result"
    },
    {
     "data": {
      "image/png": "[encoded data removed]",
      "text/plain": [
       "<matplotlib.figure.Figure at 0x125bb668>"
      ]
     },
     "metadata": {},
     "output_type": "display_data"
    },
    {
     "data": {
      "image/png": "[encoded data removed]",
      "text/plain": [
       "<matplotlib.figure.Figure at 0x125bb518>"
      ]
     },
     "metadata": {},
     "output_type": "display_data"
    }
   ],
   "source": [
    "bins = np.linspace(0, max_data, max_data+1)\n",
    "plt.hist(data1, bins, normed=True, color=\"#FF0000\", alpha=.9)\n",
    "plt.figure()\n",
    "plt.hist(data2, bins, normed=True, color=\"#C1F320\", alpha=.5)"
   ]
  },
  {
   "cell_type": "code",
   "execution_count": 308,
   "metadata": {
    "collapsed": false
   },
   "outputs": [],
   "source": [
    "bins = bins[:10]"
   ]
  },
  {
   "cell_type": "code",
   "execution_count": 312,
   "metadata": {
    "collapsed": false
   },
   "outputs": [
    {
     "data": {
      "text/plain": [
       "(array([ 0.012,  0.04 ,  0.074,  0.15 ,  0.164,  0.174,  0.15 ,  0.098,\n",
       "         0.074,  0.038,  0.012,  0.008,  0.002,  0.004]),\n",
       " array([  0.,   1.,   2.,   3.,   4.,   5.,   6.,   7.,   8.,   9.,  10.,\n",
       "         11.,  12.,  13.,  14.]),\n",
       " <a list of 14 Patch objects>)"
      ]
     },
     "execution_count": 312,
     "metadata": {},
     "output_type": "execute_result"
    },
    {
     "data": {
      "image/png": "[encoded data removed]",
      "text/plain": [
       "<matplotlib.figure.Figure at 0x106cef28>"
      ]
     },
     "metadata": {},
     "output_type": "display_data"
    }
   ],
   "source": [
    "plt.hist(data1, bins, normed=True, color=\"#FF0000\", alpha=.9)\n",
    "plt.hist(data2, bins, normed=True, color=\"#C1F320\", alpha=.5)"
   ]
  },
  {
   "cell_type": "code",
   "execution_count": 303,
   "metadata": {
    "collapsed": false
   },
   "outputs": [],
   "source": [
    "plt.hist?"
   ]
  },
  {
   "cell_type": "code",
   "execution_count": 313,
   "metadata": {
    "collapsed": true
   },
   "outputs": [],
   "source": [
    "x = stats.gamma(3).rvs(5000);"
   ]
  },
  {
   "cell_type": "code",
   "execution_count": 317,
   "metadata": {
    "collapsed": false
   },
   "outputs": [
    {
     "data": {
      "text/plain": [
       "(array([  19.,   54.,   74.,  127.,  145.,  219.,  190.,  227.,  268.,\n",
       "         236.,  274.,  224.,  254.,  246.,  222.,  208.,  214.,  171.,\n",
       "         183.,  152.,  161.,  117.,  117.,   99.,   87.,   82.,   71.,\n",
       "          64.,   68.,   60.,   43.,   40.,   34.,   27.,   28.,   31.,\n",
       "          21.,   15.,   14.,   15.,   13.,   11.,   10.,    9.,    7.,\n",
       "           8.,    6.,    4.,    3.,    2.,    5.,    1.,    2.,    2.,\n",
       "           0.,    1.,    0.,    2.,    2.,    2.,    1.,    0.,    0.,\n",
       "           1.,    2.,    1.,    0.,    0.,    2.,    0.,    0.,    0.,\n",
       "           0.,    1.,    0.,    0.,    0.,    0.,    0.,    1.]),\n",
       " array([  0.10465498,   0.29346305,   0.48227112,   0.67107919,\n",
       "          0.85988726,   1.04869533,   1.2375034 ,   1.42631148,\n",
       "          1.61511955,   1.80392762,   1.99273569,   2.18154376,\n",
       "          2.37035183,   2.5591599 ,   2.74796797,   2.93677604,\n",
       "          3.12558412,   3.31439219,   3.50320026,   3.69200833,\n",
       "          3.8808164 ,   4.06962447,   4.25843254,   4.44724061,\n",
       "          4.63604868,   4.82485676,   5.01366483,   5.2024729 ,\n",
       "          5.39128097,   5.58008904,   5.76889711,   5.95770518,\n",
       "          6.14651325,   6.33532132,   6.5241294 ,   6.71293747,\n",
       "          6.90174554,   7.09055361,   7.27936168,   7.46816975,\n",
       "          7.65697782,   7.84578589,   8.03459397,   8.22340204,\n",
       "          8.41221011,   8.60101818,   8.78982625,   8.97863432,\n",
       "          9.16744239,   9.35625046,   9.54505853,   9.73386661,\n",
       "          9.92267468,  10.11148275,  10.30029082,  10.48909889,\n",
       "         10.67790696,  10.86671503,  11.0555231 ,  11.24433117,\n",
       "         11.43313925,  11.62194732,  11.81075539,  11.99956346,\n",
       "         12.18837153,  12.3771796 ,  12.56598767,  12.75479574,\n",
       "         12.94360382,  13.13241189,  13.32121996,  13.51002803,\n",
       "         13.6988361 ,  13.88764417,  14.07645224,  14.26526031,\n",
       "         14.45406838,  14.64287646,  14.83168453,  15.0204926 ,  15.20930067]),\n",
       " <a list of 1 Patch objects>)"
      ]
     },
     "execution_count": 317,
     "metadata": {},
     "output_type": "execute_result"
    },
    {
     "data": {
      "image/png": "[encoded data removed]",
      "text/plain": [
       "<matplotlib.figure.Figure at 0xf7cedd8>"
      ]
     },
     "metadata": {},
     "output_type": "display_data"
    }
   ],
   "source": [
    "plt.hist(x, bins=80, histtype=\"stepfilled\", alpha=.8)"
   ]
  },
  {
   "cell_type": "code",
   "execution_count": null,
   "metadata": {
    "collapsed": true
   },
   "outputs": [],
   "source": []
  },
  {
   "cell_type": "code",
   "execution_count": null,
   "metadata": {
    "collapsed": true
   },
   "outputs": [],
   "source": []
  },
  {
   "cell_type": "code",
   "execution_count": null,
   "metadata": {
    "collapsed": true
   },
   "outputs": [],
   "source": []
  },
  {
   "cell_type": "code",
   "execution_count": null,
   "metadata": {
    "collapsed": true
   },
   "outputs": [],
   "source": []
  },
  {
   "cell_type": "code",
   "execution_count": null,
   "metadata": {
    "collapsed": true
   },
   "outputs": [],
   "source": []
  }
 ],
 "metadata": {
  "anaconda-cloud": {},
  "kernelspec": {
   "display_name": "Python [Root]",
   "language": "python",
   "name": "Python [Root]"
  },
  "language_info": {
   "codemirror_mode": {
    "name": "ipython",
    "version": 2
   },
   "file_extension": ".py",
   "mimetype": "text/x-python",
   "name": "python",
   "nbconvert_exporter": "python",
   "pygments_lexer": "ipython2",
   "version": "2.7.12"
  }
 },
 "nbformat": 4,
 "nbformat_minor": 0
}
