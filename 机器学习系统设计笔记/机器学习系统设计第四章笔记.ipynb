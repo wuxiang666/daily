{
 "cells": [
  {
   "cell_type": "code",
   "execution_count": 5,
   "metadata": {
    "collapsed": false
   },
   "outputs": [],
   "source": [
    "from gensim import corpora, models, matutils\n",
    "import matplotlib.pyplot as plt\n",
    "import numpy as np\n",
    "from collections import Iterable,Iterator"
   ]
  },
  {
   "cell_type": "markdown",
   "metadata": {},
   "source": [
    "个人理解的ap.dat中的数据 第一个是文档id 剩下是该文档中出现的词语的id对应的出现次数"
   ]
  },
  {
   "cell_type": "code",
   "execution_count": 2,
   "metadata": {
    "collapsed": false
   },
   "outputs": [],
   "source": [
    "corpus = corpora.BleiCorpus('charpter_4_data/ap.dat','charpter_4_data/vocab.txt')"
   ]
  },
  {
   "cell_type": "markdown",
   "metadata": {},
   "source": [
    "从文件读取的corpus可以迭代，但并不是生成器。因为没有next()内置函数\n",
    "生成器可迭代最大的区别就是生成器可以根据算法，输出next的值。两者都可以使用for in 来获得内部数据"
   ]
  },
  {
   "cell_type": "code",
   "execution_count": 9,
   "metadata": {
    "collapsed": false
   },
   "outputs": [
    {
     "name": "stdout",
     "output_type": "stream",
     "text": [
      "<class 'gensim.corpora.bleicorpus.BleiCorpus'>\n",
      "True\n"
     ]
    },
    {
     "data": {
      "text/plain": [
       "False"
      ]
     },
     "execution_count": 9,
     "metadata": {},
     "output_type": "execute_result"
    }
   ],
   "source": [
    "print type(corpus)\n",
    "print isinstance(corpus,Iterable)\n",
    "isinstance(corpus,Iterator)"
   ]
  },
  {
   "cell_type": "code",
   "execution_count": 12,
   "metadata": {
    "collapsed": false
   },
   "outputs": [
    {
     "name": "stdout",
     "output_type": "stream",
     "text": [
      "True\n"
     ]
    }
   ],
   "source": [
    "corpus_test = iter(corpus)\n",
    "print isinstance(corpus_test,Iterator)  #这样就把语料转化为生成器了。可以使用next获得下个值\n",
    "# next(corpus_test)"
   ]
  },
  {
   "cell_type": "code",
   "execution_count": 13,
   "metadata": {
    "collapsed": false
   },
   "outputs": [],
   "source": [
    "model = models.ldamodel.LdaModel(corpus,num_topics=100,id2word=corpus.id2word)"
   ]
  },
  {
   "cell_type": "markdown",
   "metadata": {},
   "source": [
    "matutils.corpus2dense 可以把[topic_id,value),...]类型数据转化为稠密矩阵。"
   ]
  },
  {
   "cell_type": "code",
   "execution_count": 23,
   "metadata": {
    "collapsed": false
   },
   "outputs": [],
   "source": [
    "topics = matutils.corpus2dense(model[corpus], num_terms=model.num_topics)  #主题是行，每一列是每一篇文档"
   ]
  },
  {
   "cell_type": "code",
   "execution_count": 29,
   "metadata": {
    "collapsed": false
   },
   "outputs": [
    {
     "name": "stdout",
     "output_type": "stream",
     "text": [
      "(100L, 2246L)\n"
     ]
    },
    {
     "data": {
      "text/plain": [
       "array([[ 0.        ,  0.        ,  0.        , ...,  0.        ,\n",
       "         0.24493136,  0.        ],\n",
       "       [ 0.        ,  0.        ,  0.        , ...,  0.        ,\n",
       "         0.        ,  0.        ],\n",
       "       [ 0.        ,  0.        ,  0.        , ...,  0.        ,\n",
       "         0.        ,  0.        ],\n",
       "       ..., \n",
       "       [ 0.        ,  0.        ,  0.        , ...,  0.        ,\n",
       "         0.        ,  0.        ],\n",
       "       [ 0.        ,  0.16200054,  0.        , ...,  0.        ,\n",
       "         0.        ,  0.        ],\n",
       "       [ 0.        ,  0.        ,  0.        , ...,  0.        ,\n",
       "         0.        ,  0.3140634 ]], dtype=float32)"
      ]
     },
     "execution_count": 29,
     "metadata": {},
     "output_type": "execute_result"
    }
   ],
   "source": [
    "print topics.shape\n",
    "topics"
   ]
  },
  {
   "cell_type": "code",
   "execution_count": 31,
   "metadata": {
    "collapsed": false
   },
   "outputs": [
    {
     "data": {
      "text/plain": [
       "(100L,)"
      ]
     },
     "execution_count": 31,
     "metadata": {},
     "output_type": "execute_result"
    }
   ],
   "source": [
    "topics.sum(1).shape"
   ]
  },
  {
   "cell_type": "code",
   "execution_count": 35,
   "metadata": {
    "collapsed": false
   },
   "outputs": [
    {
     "name": "stdout",
     "output_type": "stream",
     "text": [
      "53\n"
     ]
    }
   ],
   "source": [
    "weight = topics.sum(1)   #(1)代表行相加\n",
    "max_topic = weight.argmax()\n",
    "print max_topic  #最大主题的值的id"
   ]
  },
  {
   "cell_type": "code",
   "execution_count": 39,
   "metadata": {
    "collapsed": false
   },
   "outputs": [
    {
     "data": {
      "text/plain": [
       "[(u'i', 0.0082389711719977367),\n",
       " (u'people', 0.0067621366889760483),\n",
       " (u'percent', 0.0051110561063062018),\n",
       " (u'year', 0.0045013158104237859),\n",
       " (u'state', 0.0043854486053452463)]"
      ]
     },
     "execution_count": 39,
     "metadata": {},
     "output_type": "execute_result"
    }
   ],
   "source": [
    "words = model.show_topic(max_topic, 64)\n",
    "words[:5]  # 当前主题的名称及该名称和该主题的关联程度"
   ]
  },
  {
   "cell_type": "code",
   "execution_count": 41,
   "metadata": {
    "collapsed": false
   },
   "outputs": [
    {
     "ename": "NameError",
     "evalue": "name 'fontname' is not defined",
     "output_type": "error",
     "traceback": [
      "\u001b[1;31m---------------------------------------------------------------------------\u001b[0m",
      "\u001b[1;31mNameError\u001b[0m                                 Traceback (most recent call last)",
      "\u001b[1;32m<ipython-input-41-7671a61bebf4>\u001b[0m in \u001b[0;36m<module>\u001b[1;34m()\u001b[0m\n\u001b[0;32m      2\u001b[0m \u001b[0mwords\u001b[0m\u001b[1;33m=\u001b[0m\u001b[1;33m[\u001b[0m\u001b[1;33m(\u001b[0m\u001b[0mv\u001b[0m\u001b[1;33m,\u001b[0m\u001b[0mint\u001b[0m\u001b[1;33m(\u001b[0m\u001b[0mw\u001b[0m\u001b[1;33m*\u001b[0m\u001b[1;36m10000\u001b[0m\u001b[1;33m)\u001b[0m\u001b[1;33m)\u001b[0m \u001b[1;32mfor\u001b[0m \u001b[0mv\u001b[0m\u001b[1;33m,\u001b[0m\u001b[0mw\u001b[0m \u001b[1;32min\u001b[0m \u001b[0mwords\u001b[0m\u001b[1;33m]\u001b[0m\u001b[1;33m\u001b[0m\u001b[0m\n\u001b[0;32m      3\u001b[0m \u001b[0mtags\u001b[0m \u001b[1;33m=\u001b[0m \u001b[0mmake_tags\u001b[0m\u001b[1;33m(\u001b[0m\u001b[0mwords\u001b[0m\u001b[1;33m,\u001b[0m \u001b[0mmaxsize\u001b[0m\u001b[1;33m=\u001b[0m\u001b[1;36m120\u001b[0m\u001b[1;33m)\u001b[0m\u001b[1;33m\u001b[0m\u001b[0m\n\u001b[1;32m----> 4\u001b[1;33m \u001b[0mcreate_tag_image\u001b[0m\u001b[1;33m(\u001b[0m\u001b[0mtags\u001b[0m\u001b[1;33m,\u001b[0m \u001b[1;34m'charpter_4_tagcloud'\u001b[0m\u001b[1;33m,\u001b[0m \u001b[0msize\u001b[0m\u001b[1;33m=\u001b[0m\u001b[1;33m(\u001b[0m\u001b[1;36m1800\u001b[0m\u001b[1;33m,\u001b[0m \u001b[1;36m1200\u001b[0m\u001b[1;33m)\u001b[0m\u001b[1;33m,\u001b[0m \u001b[0mfontname\u001b[0m\u001b[1;33m=\u001b[0m\u001b[0mfontname\u001b[0m\u001b[1;33m)\u001b[0m\u001b[1;33m\u001b[0m\u001b[0m\n\u001b[0m",
      "\u001b[1;31mNameError\u001b[0m: name 'fontname' is not defined"
     ]
    }
   ],
   "source": [
    "from pytagcloud import create_tag_image, make_tags   #建立次云的函数\n",
    "words=[(v,int(w*10000)) for v,w in words]\n",
    "tags = make_tags(words, maxsize=120)\n",
    "create_tag_image(tags, 'charpter_4_tagcloud', size=(1800, 1200), fontname=fontname)"
   ]
  },
  {
   "cell_type": "code",
   "execution_count": 48,
   "metadata": {
    "collapsed": false
   },
   "outputs": [],
   "source": [
    "def create_cloud(oname, words,maxsize=120, fontname='Lobster'):\n",
    "\n",
    "    # gensim returns a weight between 0 and 1 for each word, while pytagcloud\n",
    "    # expects an integer word count. So, we multiply by a large number and\n",
    "    # round. For a visualization this is an adequate approximation.\n",
    "    # We also need to flip the order as gensim returns (value, word), whilst\n",
    "    # pytagcloud expects (word, value):\n",
    "    words = [(w,int(v*10000)) for v,w in words]\n",
    "    tags = makfrom __future__ import print_function\n",
    "warned_of_error = False\n",
    "\n",
    "def create_cloud(oname, words,maxsize=120, fontname='Lobster'):\n",
    "    '''Creates a word cloud (when pytagcloud is installed)\n",
    "\n",
    "    Parameters\n",
    "    ----------\n",
    "    oname : output filename\n",
    "    words : list of (value,str)\n",
    "    maxsize : int, optional\n",
    "        Size of maximum word. The best setting for this parameter will often\n",
    "        require some manual tuning for each input.\n",
    "    fontname : str, optional\n",
    "        Font to use.\n",
    "    '''\n",
    "    try:\n",
    "        from pytagcloud import create_tag_image, make_tags\n",
    "    except ImportError:\n",
    "        if not warned_of_error:\n",
    "            print(\"Could not import pytagcloud. Skipping cloud generation\")\n",
    "        return\n",
    "\n",
    "    # gensim returns a weight between 0 and 1 for each word, while pytagcloud\n",
    "    # expects an integer word count. So, we multiply by a large number and\n",
    "    # round. For a visualization this is an adequate approximation.\n",
    "    # We also need to flip the order as gensim returns (value, word), whilst\n",
    "    # pytagcloud expects (word, value):\n",
    "    words = [(w,int(v*10000)) for v,w in words]\n",
    "    tags = make_tags(words, maxsize=maxsize)\n",
    "    create_tag_image(tags, oname, size=(1800, 1200), fontname=fontname)\n",
    "e_tags(words, maxsize=maxsize)\n",
    "    create_tag_image(tags, oname, size=(1800, 1200), fontname=fontname)\n"
   ]
  },
  {
   "cell_type": "code",
   "execution_count": 49,
   "metadata": {
    "collapsed": false
   },
   "outputs": [
    {
     "ename": "ValueError",
     "evalue": "invalid literal for int() with base 10: 'percentpercentpercentpercentpercentpercentpercentpercentpercentpercentpercentpercentpercentpercentpercentpercentpercentpercentpercentpercentpercentpercentpercentpercentpercentpercentpercentpercentperc'",
     "output_type": "error",
     "traceback": [
      "\u001b[1;31m---------------------------------------------------------------------------\u001b[0m",
      "\u001b[1;31mValueError\u001b[0m                                Traceback (most recent call last)",
      "\u001b[1;32m<ipython-input-49-7a3224a1d52b>\u001b[0m in \u001b[0;36m<module>\u001b[1;34m()\u001b[0m\n\u001b[1;32m----> 1\u001b[1;33m \u001b[0mcreate_cloud\u001b[0m\u001b[1;33m(\u001b[0m\u001b[1;34m'cloud_blei_lda.png'\u001b[0m\u001b[1;33m,\u001b[0m \u001b[0mwords\u001b[0m\u001b[1;33m)\u001b[0m\u001b[1;33m\u001b[0m\u001b[0m\n\u001b[0m",
      "\u001b[1;32m<ipython-input-48-310acc338d4b>\u001b[0m in \u001b[0;36mcreate_cloud\u001b[1;34m(oname, words, maxsize, fontname)\u001b[0m\n\u001b[0;32m      6\u001b[0m     \u001b[1;31m# We also need to flip the order as gensim returns (value, word), whilst\u001b[0m\u001b[1;33m\u001b[0m\u001b[1;33m\u001b[0m\u001b[0m\n\u001b[0;32m      7\u001b[0m     \u001b[1;31m# pytagcloud expects (word, value):\u001b[0m\u001b[1;33m\u001b[0m\u001b[1;33m\u001b[0m\u001b[0m\n\u001b[1;32m----> 8\u001b[1;33m     \u001b[0mwords\u001b[0m \u001b[1;33m=\u001b[0m \u001b[1;33m[\u001b[0m\u001b[1;33m(\u001b[0m\u001b[0mw\u001b[0m\u001b[1;33m,\u001b[0m\u001b[0mint\u001b[0m\u001b[1;33m(\u001b[0m\u001b[0mv\u001b[0m\u001b[1;33m*\u001b[0m\u001b[1;36m10000\u001b[0m\u001b[1;33m)\u001b[0m\u001b[1;33m)\u001b[0m \u001b[1;32mfor\u001b[0m \u001b[0mv\u001b[0m\u001b[1;33m,\u001b[0m\u001b[0mw\u001b[0m \u001b[1;32min\u001b[0m \u001b[0mwords\u001b[0m\u001b[1;33m]\u001b[0m\u001b[1;33m\u001b[0m\u001b[0m\n\u001b[0m\u001b[0;32m      9\u001b[0m     \u001b[0mtags\u001b[0m \u001b[1;33m=\u001b[0m \u001b[0mmake_tags\u001b[0m\u001b[1;33m(\u001b[0m\u001b[0mwords\u001b[0m\u001b[1;33m,\u001b[0m \u001b[0mmaxsize\u001b[0m\u001b[1;33m=\u001b[0m\u001b[0mmaxsize\u001b[0m\u001b[1;33m)\u001b[0m\u001b[1;33m\u001b[0m\u001b[0m\n\u001b[0;32m     10\u001b[0m     \u001b[0mcreate_tag_image\u001b[0m\u001b[1;33m(\u001b[0m\u001b[0mtags\u001b[0m\u001b[1;33m,\u001b[0m \u001b[0moname\u001b[0m\u001b[1;33m,\u001b[0m \u001b[0msize\u001b[0m\u001b[1;33m=\u001b[0m\u001b[1;33m(\u001b[0m\u001b[1;36m1800\u001b[0m\u001b[1;33m,\u001b[0m \u001b[1;36m1200\u001b[0m\u001b[1;33m)\u001b[0m\u001b[1;33m,\u001b[0m \u001b[0mfontname\u001b[0m\u001b[1;33m=\u001b[0m\u001b[0mfontname\u001b[0m\u001b[1;33m)\u001b[0m\u001b[1;33m\u001b[0m\u001b[0m\n",
      "\u001b[1;31mValueError\u001b[0m: invalid literal for int() with base 10: 'percentpercentpercentpercentpercentpercentpercentpercentpercentpercentpercentpercentpercentpercentpercentpercentpercentpercentpercentpercentpercentpercentpercentpercentpercentpercentpercentpercentperc'"
     ]
    }
   ],
   "source": [
    "create_cloud('cloud_blei_lda.png', words)\n"
   ]
  },
  {
   "cell_type": "code",
   "execution_count": 23,
   "metadata": {
    "collapsed": false
   },
   "outputs": [
    {
     "data": {
      "text/plain": [
       "(array([   0.,   37.,   51.,   97.,  126.,  161.,  163.,  213.,  217.,\n",
       "         188.,  215.,  180.,  169.,  109.,  101.,   73.,   66.,   39.,\n",
       "          20.,   18.,    2.,    0.,    1.,    0.,    0.,    0.,    0.,\n",
       "           0.,    0.,    0.,    0.,    0.,    0.,    0.,    0.,    0.,\n",
       "           0.,    0.,    0.,    0.,    0.]),\n",
       " array([ 0,  1,  2,  3,  4,  5,  6,  7,  8,  9, 10, 11, 12, 13, 14, 15, 16,\n",
       "        17, 18, 19, 20, 21, 22, 23, 24, 25, 26, 27, 28, 29, 30, 31, 32, 33,\n",
       "        34, 35, 36, 37, 38, 39, 40, 41]),\n",
       " <a list of 41 Patch objects>)"
      ]
     },
     "execution_count": 23,
     "metadata": {},
     "output_type": "execute_result"
    },
    {
     "data": {
      "image/png": "[encoded data removed]",
      "text/plain": [
       "<matplotlib.figure.Figure at 0x7915fd0>"
      ]
     },
     "metadata": {},
     "output_type": "display_data"
    }
   ],
   "source": [
    "plt.hist(topics,bins = np.arange(42))  #用hist画图，引入numpy数组，相当于bins，给出边缘"
   ]
  },
  {
   "cell_type": "code",
   "execution_count": 22,
   "metadata": {
    "collapsed": false
   },
   "outputs": [],
   "source": [
    "plt.hist?"
   ]
  },
  {
   "cell_type": "code",
   "execution_count": 24,
   "metadata": {
    "collapsed": true
   },
   "outputs": [],
   "source": [
    "model = models.ldamodel.LdaModel(corpus,num_topics=100,id2word=corpus.id2word,alpha=1)"
   ]
  },
  {
   "cell_type": "code",
   "execution_count": 26,
   "metadata": {
    "collapsed": false
   },
   "outputs": [],
   "source": [
    "topics1 = [len(model[c])  for c in corpus]"
   ]
  },
  {
   "cell_type": "code",
   "execution_count": 32,
   "metadata": {
    "collapsed": false
   },
   "outputs": [
    {
     "data": {
      "text/plain": [
       "(array([   0.,    2.,    7.,   12.,    8.,   19.,   15.,   18.,   23.,\n",
       "          14.,   24.,   25.,   29.,   39.,   49.,   61.,   84.,   89.,\n",
       "         125.,  132.,  166.,  167.,  172.,  149.,  140.,  136.,  106.,\n",
       "          93.,   75.,   62.,   46.,   50.,   26.,   27.,   12.,   14.,\n",
       "           6.,    3.,    2.,    7.,    4.]),\n",
       " array([ 0,  1,  2,  3,  4,  5,  6,  7,  8,  9, 10, 11, 12, 13, 14, 15, 16,\n",
       "        17, 18, 19, 20, 21, 22, 23, 24, 25, 26, 27, 28, 29, 30, 31, 32, 33,\n",
       "        34, 35, 36, 37, 38, 39, 40, 41]),\n",
       " <a list of 41 Patch objects>)"
      ]
     },
     "execution_count": 32,
     "metadata": {},
     "output_type": "execute_result"
    },
    {
     "data": {
      "image/png": "[encoded data removed]",
      "text/plain": [
       "<matplotlib.figure.Figure at 0xf4eb208>"
      ]
     },
     "metadata": {},
     "output_type": "display_data"
    }
   ],
   "source": [
    "fig,ax = plt.subplots()\n",
    "ax.hist(topics,bins = np.arange(42),alpha=.5)\n",
    "ax.hist(topics1,bins = np.arange(42),alpha=.5)"
   ]
  },
  {
   "cell_type": "code",
   "execution_count": 39,
   "metadata": {
    "collapsed": false
   },
   "outputs": [
    {
     "data": {
      "text/plain": [
       "[(u'two', 0.0050447548635294999),\n",
       " (u'percent', 0.0049554372391350356),\n",
       " (u'new', 0.0048437872001383759),\n",
       " (u'people', 0.0044004726183238928),\n",
       " (u'i', 0.004356264001921825),\n",
       " (u'government', 0.0043345908488986173),\n",
       " (u'nam', 0.0038090670617838746),\n",
       " (u'united', 0.0031232184322996623),\n",
       " (u'years', 0.0029066753031707195),\n",
       " (u'robertsons', 0.0028551230111813881)]"
      ]
     },
     "execution_count": 39,
     "metadata": {},
     "output_type": "execute_result"
    }
   ],
   "source": [
    "model.show_topic(3)"
   ]
  },
  {
   "cell_type": "code",
   "execution_count": 3,
   "metadata": {
    "collapsed": false
   },
   "outputs": [],
   "source": [
    "from pytagcloud import create_tag_image, make_tags"
   ]
  },
  {
   "cell_type": "code",
   "execution_count": 7,
   "metadata": {
    "collapsed": false
   },
   "outputs": [],
   "source": [
    "make_tags?"
   ]
  },
  {
   "cell_type": "code",
   "execution_count": 51,
   "metadata": {
    "collapsed": true
   },
   "outputs": [],
   "source": [
    "%matplotlib inline"
   ]
  },
  {
   "cell_type": "code",
   "execution_count": 60,
   "metadata": {
    "collapsed": true
   },
   "outputs": [],
   "source": [
    "from pytagcloud import create_tag_image, make_tags\n",
    "from pytagcloud.lang.counter import get_tag_counts\n",
    "\n",
    "YOUR_TEXT = \"A tag cloud is a visual representation for text data, typically\\\n",
    "used to depict keyword metadata on websites, or to visualize free form text.\"\n",
    "\n",
    "# tags = make_tags(get_tag_counts(YOUR_TEXT), maxsize=120)\n",
    "\n",
    "create_tag_image(tags, 'cloud_large.png', size=(900, 600), fontname='Lobster')"
   ]
  },
  {
   "cell_type": "code",
   "execution_count": 54,
   "metadata": {
    "collapsed": false
   },
   "outputs": [
    {
     "data": {
      "text/plain": [
       "[('text', 2),\n",
       " ('depict', 1),\n",
       " ('visualize', 1),\n",
       " ('keyword', 1),\n",
       " ('websites', 1),\n",
       " ('typicallyused', 1),\n",
       " ('visual', 1),\n",
       " ('tag', 1),\n",
       " ('form', 1),\n",
       " ('free', 1),\n",
       " ('representation', 1),\n",
       " ('data', 1),\n",
       " ('cloud', 1),\n",
       " ('metadata', 1)]"
      ]
     },
     "execution_count": 54,
     "metadata": {},
     "output_type": "execute_result"
    }
   ],
   "source": [
    "get_tag_counts(YOUR_TEXT)"
   ]
  },
  {
   "cell_type": "code",
   "execution_count": 58,
   "metadata": {
    "collapsed": false
   },
   "outputs": [
    {
     "data": {
      "text/plain": [
       "[{'color': (124, 167, 120), 'size': 133, 'tag': u'percent'},\n",
       " {'color': (108, 38, 182), 'size': 110, 'tag': u'million'},\n",
       " {'color': (83, 45, 185), 'size': 98, 'tag': u'year'},\n",
       " {'color': (198, 162, 191), 'size': 76, 'tag': u'new'},\n",
       " {'color': (60, 193, 156), 'size': 75, 'tag': u'people'},\n",
       " {'color': (81, 62, 11), 'size': 70, 'tag': u'sales'},\n",
       " {'color': (43, 127, 69), 'size': 65, 'tag': u'states'},\n",
       " {'color': (86, 51, 110), 'size': 62, 'tag': u'national'},\n",
       " {'color': (197, 127, 160), 'size': 59, 'tag': u'last'},\n",
       " {'color': (90, 10, 50), 'size': 59, 'tag': u'two'},\n",
       " {'color': (47, 47, 43), 'size': 58, 'tag': u'pacs'},\n",
       " {'color': (203, 13, 158), 'size': 56, 'tag': u'i'},\n",
       " {'color': (131, 117, 40), 'size': 54, 'tag': u'defense'},\n",
       " {'color': (28, 123, 203), 'size': 52, 'tag': u'years'},\n",
       " {'color': (36, 40, 172), 'size': 52, 'tag': u'government'},\n",
       " {'color': (171, 134, 52), 'size': 51, 'tag': u'billion'},\n",
       " {'color': (44, 128, 100), 'size': 51, 'tag': u'state'},\n",
       " {'color': (84, 149, 85), 'size': 51, 'tag': u'united'},\n",
       " {'color': (194, 161, 38), 'size': 49, 'tag': u'pac'},\n",
       " {'color': (10, 145, 190), 'size': 48, 'tag': u'city'},\n",
       " {'color': (177, 115, 152), 'size': 46, 'tag': u'president'},\n",
       " {'color': (78, 109, 72), 'size': 46, 'tag': u'area'},\n",
       " {'color': (14, 25, 30), 'size': 46, 'tag': u'four'},\n",
       " {'color': (39, 56, 160), 'size': 44, 'tag': u'first'},\n",
       " {'color': (147, 132, 70), 'size': 43, 'tag': u'three'},\n",
       " {'color': (139, 138, 194), 'size': 42, 'tag': u'time'},\n",
       " {'color': (24, 124, 141), 'size': 42, 'tag': u'tuesday'},\n",
       " {'color': (55, 92, 191), 'size': 40, 'tag': u'store'},\n",
       " {'color': (24, 106, 213), 'size': 40, 'tag': u'day'},\n",
       " {'color': (62, 93, 195), 'size': 40, 'tag': u'county'},\n",
       " {'color': (119, 12, 117), 'size': 40, 'tag': u'going'},\n",
       " {'color': (148, 93, 42), 'size': 39, 'tag': u'reported'},\n",
       " {'color': (182, 65, 73), 'size': 39, 'tag': u'officials'},\n",
       " {'color': (89, 202, 133), 'size': 38, 'tag': u'panama'},\n",
       " {'color': (133, 62, 78), 'size': 36, 'tag': u'ago'},\n",
       " {'color': (37, 130, 12), 'size': 36, 'tag': u'friday'},\n",
       " {'color': (94, 45, 175), 'size': 36, 'tag': u'just'},\n",
       " {'color': (128, 18, 128), 'size': 36, 'tag': u'money'},\n",
       " {'color': (90, 192, 212), 'size': 35, 'tag': u'water'},\n",
       " {'color': (32, 191, 215), 'size': 35, 'tag': u'military'},\n",
       " {'color': (203, 167, 25), 'size': 35, 'tag': u'committees'},\n",
       " {'color': (201, 130, 181), 'size': 35, 'tag': u'electoral'},\n",
       " {'color': (63, 30, 100), 'size': 34, 'tag': u'today'},\n",
       " {'color': (18, 218, 42), 'size': 34, 'tag': u'republican'},\n",
       " {'color': (16, 79, 57), 'size': 34, 'tag': u'campaign'},\n",
       " {'color': (199, 136, 220), 'size': 32, 'tag': u'police'},\n",
       " {'color': (25, 208, 149), 'size': 32, 'tag': u'past'},\n",
       " {'color': (146, 94, 183), 'size': 32, 'tag': u'center'},\n",
       " {'color': (201, 121, 76), 'size': 32, 'tag': u'dont'},\n",
       " {'color': (68, 76, 52), 'size': 31, 'tag': u'months'},\n",
       " {'color': (99, 142, 154), 'size': 31, 'tag': u'bush'},\n",
       " {'color': (162, 185, 195), 'size': 31, 'tag': u'american'},\n",
       " {'color': (118, 86, 145), 'size': 31, 'tag': u'force'},\n",
       " {'color': (29, 93, 39), 'size': 31, 'tag': u'high'},\n",
       " {'color': (114, 179, 187), 'size': 31, 'tag': u'miles'},\n",
       " {'color': (38, 84, 85), 'size': 31, 'tag': u'major'},\n",
       " {'color': (163, 174, 172), 'size': 31, 'tag': u'spending'},\n",
       " {'color': (134, 181, 132), 'size': 29, 'tag': u'results'},\n",
       " {'color': (130, 13, 187), 'size': 29, 'tag': u'know'},\n",
       " {'color': (219, 197, 61), 'size': 29, 'tag': u'came'},\n",
       " {'color': (54, 142, 155), 'size': 29, 'tag': u'air'},\n",
       " {'color': (178, 81, 45), 'size': 29, 'tag': u'stores'},\n",
       " {'color': (158, 71, 90), 'size': 29, 'tag': u'country'},\n",
       " {'color': (202, 134, 85), 'size': 28, 'tag': u'votes'}]"
      ]
     },
     "execution_count": 58,
     "metadata": {},
     "output_type": "execute_result"
    }
   ],
   "source": [
    "tags"
   ]
  },
  {
   "cell_type": "code",
   "execution_count": 63,
   "metadata": {
    "collapsed": false
   },
   "outputs": [
    {
     "data": {
      "text/plain": [
       "[(0, 0), (1, 1), (2, 2)]"
      ]
     },
     "execution_count": 63,
     "metadata": {},
     "output_type": "execute_result"
    }
   ],
   "source": [
    "list(enumerate(range(3)))"
   ]
  },
  {
   "cell_type": "code",
   "execution_count": 9,
   "metadata": {
    "collapsed": true
   },
   "outputs": [],
   "source": [
    "from gensim import corpora\n",
    "import gensim"
   ]
  },
  {
   "cell_type": "code",
   "execution_count": 4,
   "metadata": {
    "collapsed": true
   },
   "outputs": [],
   "source": [
    "documents = [\"Human machine interface for lab abc computer applications\",\n",
    "             \"A survey of user opinion of computer system response time\",\n",
    "              \"The EPS user interface management system\",\n",
    "              \"System and human system engineering testing of EPS\",\n",
    "              \"Relation of user perceived response time to error measurement\",\n",
    "              \"The generation of random binary unordered trees\",\n",
    "              \"The intersection graph of paths in trees\",\n",
    "              \"Graph minors IV Widths of trees and well quasi ordering\",\n",
    "              \"Graph minors A survey\"]"
   ]
  },
  {
   "cell_type": "code",
   "execution_count": 5,
   "metadata": {
    "collapsed": false
   },
   "outputs": [],
   "source": [
    "stoplist = set('for a of the and to in'.split())\n",
    "texts = [[word for word in document.lower().split() if word not in stoplist] for document in documents]\n",
    "from collections import defaultdict\n",
    "frequency = defaultdict(int)\n",
    "for text in texts:\n",
    "    for token in text:\n",
    "        frequency[token] += 1  \n",
    "texts = [[token for token in text if frequency[token]>1] for text in texts]"
   ]
  },
  {
   "cell_type": "code",
   "execution_count": 7,
   "metadata": {
    "collapsed": false
   },
   "outputs": [
    {
     "data": {
      "text/plain": [
       "[['human', 'interface', 'computer'],\n",
       " ['survey', 'user', 'computer', 'system', 'response', 'time'],\n",
       " ['eps', 'user', 'interface', 'system'],\n",
       " ['system', 'human', 'system', 'eps'],\n",
       " ['user', 'response', 'time'],\n",
       " ['trees'],\n",
       " ['graph', 'trees'],\n",
       " ['graph', 'minors', 'trees'],\n",
       " ['graph', 'minors', 'survey']]"
      ]
     },
     "execution_count": 7,
     "metadata": {},
     "output_type": "execute_result"
    }
   ],
   "source": [
    "texts"
   ]
  },
  {
   "cell_type": "code",
   "execution_count": 10,
   "metadata": {
    "collapsed": false
   },
   "outputs": [],
   "source": [
    "dictionary = gensim.corpora.Dictionary(texts)"
   ]
  },
  {
   "cell_type": "code",
   "execution_count": 20,
   "metadata": {
    "collapsed": false
   },
   "outputs": [
    {
     "data": {
      "text/plain": [
       "{0: 2, 1: 2, 2: 2, 3: 2, 4: 2, 5: 2, 6: 3, 7: 3, 8: 2, 9: 3, 10: 3, 11: 2}"
      ]
     },
     "execution_count": 20,
     "metadata": {},
     "output_type": "execute_result"
    }
   ],
   "source": [
    "dictionary.dfs"
   ]
  },
  {
   "cell_type": "code",
   "execution_count": 21,
   "metadata": {
    "collapsed": false
   },
   "outputs": [
    {
     "data": {
      "text/plain": [
       "{u'computer': 1,\n",
       " u'eps': 8,\n",
       " u'graph': 10,\n",
       " u'human': 2,\n",
       " u'interface': 0,\n",
       " u'minors': 11,\n",
       " u'response': 3,\n",
       " u'survey': 5,\n",
       " u'system': 6,\n",
       " u'time': 4,\n",
       " u'trees': 9,\n",
       " u'user': 7}"
      ]
     },
     "execution_count": 21,
     "metadata": {},
     "output_type": "execute_result"
    }
   ],
   "source": [
    "dictionary.token2id"
   ]
  },
  {
   "cell_type": "code",
   "execution_count": 17,
   "metadata": {
    "collapsed": true
   },
   "outputs": [],
   "source": [
    "corpus = [dictionary.doc2bow(text) for text in texts]"
   ]
  },
  {
   "cell_type": "code",
   "execution_count": 22,
   "metadata": {
    "collapsed": false
   },
   "outputs": [
    {
     "data": {
      "text/plain": [
       "[[(0, 1), (1, 1), (2, 1)],\n",
       " [(1, 1), (3, 1), (4, 1), (5, 1), (6, 1), (7, 1)],\n",
       " [(0, 1), (6, 1), (7, 1), (8, 1)],\n",
       " [(2, 1), (6, 2), (8, 1)],\n",
       " [(3, 1), (4, 1), (7, 1)],\n",
       " [(9, 1)],\n",
       " [(9, 1), (10, 1)],\n",
       " [(9, 1), (10, 1), (11, 1)],\n",
       " [(5, 1), (10, 1), (11, 1)]]"
      ]
     },
     "execution_count": 22,
     "metadata": {},
     "output_type": "execute_result"
    }
   ],
   "source": [
    "corpus"
   ]
  },
  {
   "cell_type": "code",
   "execution_count": 31,
   "metadata": {
    "collapsed": true
   },
   "outputs": [],
   "source": [
    "model = gensim.models.LdaModel(corpus,num_topics=5,id2word=dict(dictionary.iteritems()))"
   ]
  },
  {
   "cell_type": "code",
   "execution_count": 34,
   "metadata": {
    "collapsed": false
   },
   "outputs": [
    {
     "data": {
      "text/plain": [
       "[(0,\n",
       "  u'0.261*graph + 0.259*trees + 0.143*minors + 0.143*survey + 0.025*system + 0.024*user + 0.024*human + 0.024*interface + 0.024*eps + 0.024*computer'),\n",
       " (1,\n",
       "  u'0.233*system + 0.128*trees + 0.127*human + 0.127*graph + 0.127*eps + 0.127*minors + 0.022*user + 0.022*interface + 0.022*time + 0.022*response'),\n",
       " (2,\n",
       "  u'0.220*time + 0.220*response + 0.220*user + 0.039*trees + 0.038*graph + 0.038*system + 0.038*minors + 0.038*interface + 0.037*computer + 0.037*survey'),\n",
       " (3,\n",
       "  u'0.177*system + 0.177*user + 0.097*survey + 0.097*time + 0.097*computer + 0.097*response + 0.097*interface + 0.096*eps + 0.017*trees + 0.017*graph'),\n",
       " (4,\n",
       "  u'0.220*computer + 0.220*human + 0.220*interface + 0.039*trees + 0.038*graph + 0.038*user + 0.038*minors + 0.038*system + 0.037*response + 0.037*survey')]"
      ]
     },
     "execution_count": 34,
     "metadata": {},
     "output_type": "execute_result"
    }
   ],
   "source": [
    "model.show_topics(num_topics=10,num_words=10)"
   ]
  },
  {
   "cell_type": "code",
   "execution_count": 38,
   "metadata": {
    "collapsed": false
   },
   "outputs": [
    {
     "data": {
      "text/plain": [
       "['Human machine interface for lab abc computer applications',\n",
       " 'A survey of user opinion of computer system response time',\n",
       " 'The EPS user interface management system',\n",
       " 'System and human system engineering testing of EPS',\n",
       " 'Relation of user perceived response time to error measurement',\n",
       " 'The generation of random binary unordered trees',\n",
       " 'The intersection graph of paths in trees',\n",
       " 'Graph minors IV Widths of trees and well quasi ordering',\n",
       " 'Graph minors A survey']"
      ]
     },
     "execution_count": 38,
     "metadata": {},
     "output_type": "execute_result"
    }
   ],
   "source": [
    "documents"
   ]
  },
  {
   "cell_type": "code",
   "execution_count": 46,
   "metadata": {
    "collapsed": false
   },
   "outputs": [],
   "source": [
    "texts = model.show_topic(0)"
   ]
  },
  {
   "cell_type": "code",
   "execution_count": 40,
   "metadata": {
    "collapsed": true
   },
   "outputs": [],
   "source": [
    "from pytagcloud import create_tag_image, make_tags\n",
    "from pytagcloud.lang.counter import get_tag_counts"
   ]
  },
  {
   "cell_type": "code",
   "execution_count": 50,
   "metadata": {
    "collapsed": true
   },
   "outputs": [],
   "source": [
    "YOUR_TEXT = \"A tag cloud is a visual representation for text data, typically\\\n",
    "used to depict keyword metadata on websites, or to visualize free form text.\"\n",
    "\n",
    "tags = make_tags(texts, maxsize=120)\n"
   ]
  },
  {
   "cell_type": "code",
   "execution_count": 51,
   "metadata": {
    "collapsed": false
   },
   "outputs": [
    {
     "data": {
      "text/plain": [
       "[{'color': (18, 49, 26), 'size': 129, 'tag': u'graph'},\n",
       " {'color': (146, 123, 47), 'size': 128, 'tag': u'trees'},\n",
       " {'color': (102, 132, 50), 'size': 81, 'tag': u'minors'},\n",
       " {'color': (148, 47, 71), 'size': 81, 'tag': u'survey'},\n",
       " {'color': (142, 198, 177), 'size': 22, 'tag': u'system'},\n",
       " {'color': (192, 79, 44), 'size': 21, 'tag': u'user'},\n",
       " {'color': (130, 212, 173), 'size': 21, 'tag': u'human'},\n",
       " {'color': (214, 206, 40), 'size': 21, 'tag': u'interface'},\n",
       " {'color': (81, 148, 149), 'size': 21, 'tag': u'eps'},\n",
       " {'color': (169, 21, 67), 'size': 21, 'tag': u'computer'}]"
      ]
     },
     "execution_count": 51,
     "metadata": {},
     "output_type": "execute_result"
    }
   ],
   "source": [
    "tags"
   ]
  },
  {
   "cell_type": "code",
   "execution_count": 54,
   "metadata": {
    "collapsed": true
   },
   "outputs": [],
   "source": [
    "create_tag_image(tags, 'cloud_large.png', size=(900, 600))"
   ]
  },
  {
   "cell_type": "code",
   "execution_count": 53,
   "metadata": {
    "collapsed": false
   },
   "outputs": [],
   "source": [
    "create_tag_image?"
   ]
  },
  {
   "cell_type": "code",
   "execution_count": 49,
   "metadata": {
    "collapsed": false
   },
   "outputs": [
    {
     "data": {
      "text/plain": [
       "[(u'graph', 0.26106448397887805),\n",
       " (u'trees', 0.25857943037630465),\n",
       " (u'minors', 0.14294517579191277),\n",
       " (u'survey', 0.14273301233952601),\n",
       " (u'system', 0.02459873602909797),\n",
       " (u'user', 0.024357652011576036),\n",
       " (u'human', 0.024354963065646291),\n",
       " (u'interface', 0.024303535997550006),\n",
       " (u'eps', 0.024301874603322515),\n",
       " (u'computer', 0.024293051563111349)]"
      ]
     },
     "execution_count": 49,
     "metadata": {},
     "output_type": "execute_result"
    }
   ],
   "source": [
    "texts"
   ]
  },
  {
   "cell_type": "code",
   "execution_count": null,
   "metadata": {
    "collapsed": true
   },
   "outputs": [],
   "source": []
  },
  {
   "cell_type": "code",
   "execution_count": null,
   "metadata": {
    "collapsed": true
   },
   "outputs": [],
   "source": []
  },
  {
   "cell_type": "code",
   "execution_count": 197,
   "metadata": {
    "collapsed": false
   },
   "outputs": [],
   "source": [
    "with open('data/vocab.txt','w') as f:\n",
    "    for i in dictionary.token2id.iterkeys():\n",
    "        f.write(i+'\\n')"
   ]
  },
  {
   "cell_type": "code",
   "execution_count": 194,
   "metadata": {
    "collapsed": false
   },
   "outputs": [
    {
     "data": {
      "text/plain": [
       "{}"
      ]
     },
     "execution_count": 194,
     "metadata": {},
     "output_type": "execute_result"
    }
   ],
   "source": [
    "dictionary.id2token"
   ]
  },
  {
   "cell_type": "code",
   "execution_count": 200,
   "metadata": {
    "collapsed": false
   },
   "outputs": [
    {
     "data": {
      "text/plain": [
       "[[(0, 1), (1, 1), (2, 1)],\n",
       " [(1, 1), (3, 1), (4, 1), (5, 1), (6, 1), (7, 1)],\n",
       " [(0, 1), (6, 1), (7, 1), (8, 1)],\n",
       " [(2, 1), (6, 2), (8, 1)],\n",
       " [(3, 1), (4, 1), (7, 1)],\n",
       " [(9, 1)],\n",
       " [(9, 1), (10, 1)],\n",
       " [(9, 1), (10, 1), (11, 1)],\n",
       " [(5, 1), (10, 1), (11, 1)]]"
      ]
     },
     "execution_count": 200,
     "metadata": {},
     "output_type": "execute_result"
    }
   ],
   "source": [
    "corpora.BleiCorpus.serialize('data/deerwester.lda-c',corpus)\n",
    "corpus"
   ]
  },
  {
   "cell_type": "code",
   "execution_count": 203,
   "metadata": {
    "collapsed": false
   },
   "outputs": [
    {
     "data": {
      "text/plain": [
       "{0: u'minors',\n",
       " 1: u'graph',\n",
       " 2: u'system',\n",
       " 3: u'trees',\n",
       " 4: u'eps',\n",
       " 5: u'computer',\n",
       " 6: u'survey',\n",
       " 7: u'user',\n",
       " 8: u'human',\n",
       " 9: u'time',\n",
       " 10: u'interface',\n",
       " 11: u'response'}"
      ]
     },
     "execution_count": 203,
     "metadata": {},
     "output_type": "execute_result"
    }
   ],
   "source": [
    "corpus = corpora.BleiCorpus('data/deerwester.lda-c','data/vocab.txt')\n",
    "corpus.id2word"
   ]
  },
  {
   "cell_type": "code",
   "execution_count": 84,
   "metadata": {
    "collapsed": false
   },
   "outputs": [
    {
     "data": {
      "text/plain": [
       "{0: u'interface',\n",
       " 1: u'computer',\n",
       " 2: u'human',\n",
       " 3: u'response',\n",
       " 4: u'time',\n",
       " 5: u'survey',\n",
       " 6: u'system',\n",
       " 7: u'user',\n",
       " 8: u'eps',\n",
       " 9: u'trees',\n",
       " 10: u'graph',\n",
       " 11: u'minors'}"
      ]
     },
     "execution_count": 84,
     "metadata": {},
     "output_type": "execute_result"
    }
   ],
   "source": [
    "dict(dictionary.iteritems())"
   ]
  },
  {
   "cell_type": "code",
   "execution_count": 85,
   "metadata": {
    "collapsed": false
   },
   "outputs": [
    {
     "data": {
      "text/plain": [
       "{0: u'interface',\n",
       " 1: u'computer',\n",
       " 2: u'human',\n",
       " 3: u'response',\n",
       " 4: u'time',\n",
       " 5: u'survey',\n",
       " 6: u'system',\n",
       " 7: u'user',\n",
       " 8: u'eps',\n",
       " 9: u'trees',\n",
       " 10: u'graph',\n",
       " 11: u'minors'}"
      ]
     },
     "execution_count": 85,
     "metadata": {},
     "output_type": "execute_result"
    }
   ],
   "source": [
    "dictionary.id2token"
   ]
  },
  {
   "cell_type": "code",
   "execution_count": 72,
   "metadata": {
    "collapsed": false
   },
   "outputs": [],
   "source": [
    "model = gensim.models.LdaModel(corpus,num_topics=5,id2word=dict(dictionary.iteritems()))"
   ]
  },
  {
   "cell_type": "code",
   "execution_count": 73,
   "metadata": {
    "collapsed": false
   },
   "outputs": [
    {
     "data": {
      "text/plain": [
       "[(0, u'0.231*trees + 0.128*user + 0.128*system + 0.128*interface + 0.128*eps'),\n",
       " (1,\n",
       "  u'0.152*response + 0.152*user + 0.152*computer + 0.152*time + 0.084*system'),\n",
       " (2,\n",
       "  u'0.260*graph + 0.260*minors + 0.143*trees + 0.142*survey + 0.025*system'),\n",
       " (3, u'0.341*system + 0.186*human + 0.186*eps + 0.033*trees + 0.032*graph'),\n",
       " (4,\n",
       "  u'0.086*trees + 0.085*graph + 0.083*computer + 0.083*human + 0.083*system')]"
      ]
     },
     "execution_count": 73,
     "metadata": {},
     "output_type": "execute_result"
    }
   ],
   "source": [
    "model.show_topics(num_topics=5,num_words=5)"
   ]
  },
  {
   "cell_type": "code",
   "execution_count": 75,
   "metadata": {
    "collapsed": false
   },
   "outputs": [
    {
     "data": {
      "text/plain": [
       "[(0, 0.38933770517330807),\n",
       " (1, 0.23744547819235201),\n",
       " (2, 0.29193456748018021),\n",
       " (3, 0.041206303188095164),\n",
       " (4, 0.04007594596606455)]"
      ]
     },
     "execution_count": 75,
     "metadata": {},
     "output_type": "execute_result"
    }
   ],
   "source": [
    "query = 'minors computer EPS trees'.lower().split()\n",
    "query = dictionary.doc2bow(query)\n",
    "model[query]"
   ]
  },
  {
   "cell_type": "code",
   "execution_count": 78,
   "metadata": {
    "collapsed": false
   },
   "outputs": [
    {
     "data": {
      "text/plain": [
       "{0: u'interface',\n",
       " 1: u'computer',\n",
       " 2: u'human',\n",
       " 3: u'response',\n",
       " 4: u'time',\n",
       " 5: u'survey',\n",
       " 6: u'system',\n",
       " 7: u'user',\n",
       " 8: u'eps',\n",
       " 9: u'trees',\n",
       " 10: u'graph',\n",
       " 11: u'minors'}"
      ]
     },
     "execution_count": 78,
     "metadata": {},
     "output_type": "execute_result"
    }
   ],
   "source": []
  },
  {
   "cell_type": "markdown",
   "metadata": {
    "collapsed": true
   },
   "source": [
    "[主题模型参考连接](http://christop.club/2014/05/06/using-gensim-for-lda/)"
   ]
  },
  {
   "cell_type": "code",
   "execution_count": 2,
   "metadata": {
    "collapsed": false
   },
   "outputs": [],
   "source": [
    "import gensim"
   ]
  },
  {
   "cell_type": "code",
   "execution_count": 33,
   "metadata": {
    "collapsed": false
   },
   "outputs": [],
   "source": [
    "corpus = gensim.corpora.MalletCorpus('android.mallet')"
   ]
  },
  {
   "cell_type": "code",
   "execution_count": 34,
   "metadata": {
    "collapsed": false
   },
   "outputs": [
    {
     "data": {
      "text/plain": [
       "[(6936, 1), (15314, 1), (300, 1), (10981, 1)]"
      ]
     },
     "execution_count": 34,
     "metadata": {},
     "output_type": "execute_result"
    }
   ],
   "source": [
    "next(iter(corpus)"
   ]
  },
  {
   "cell_type": "code",
   "execution_count": 35,
   "metadata": {
    "collapsed": false
   },
   "outputs": [
    {
     "name": "stdout",
     "output_type": "stream",
     "text": [
      "incorrect 1\n",
      "url 1\n",
      "address 1\n",
      "project 1\n"
     ]
    }
   ],
   "source": [
    "for word_id, freq in next(iter(corpus)):\n",
    "    print corpus.id2word[word_id],freq"
   ]
  },
  {
   "cell_type": "code",
   "execution_count": null,
   "metadata": {
    "collapsed": false
   },
   "outputs": [],
   "source": []
  },
  {
   "cell_type": "code",
   "execution_count": 29,
   "metadata": {
    "collapsed": false
   },
   "outputs": [],
   "source": [
    "model = gensim.models.LdaModel(corpus, id2word=corpus.id2word,alpha='auto',num_topics=25)"
   ]
  },
  {
   "cell_type": "code",
   "execution_count": 30,
   "metadata": {
    "collapsed": false
   },
   "outputs": [],
   "source": [
    "model.save('android.lda')"
   ]
  },
  {
   "cell_type": "code",
   "execution_count": 38,
   "metadata": {
    "collapsed": false
   },
   "outputs": [
    {
     "data": {
      "text/plain": [
       "[(19,\n",
       "  u'0.056*bluetooth + 0.053*rotate + 0.042*device + 0.041*appears + 0.039*tapping'),\n",
       " (7,\n",
       "  u'0.041*image + 0.036*activity + 0.036*orientation + 0.032*changing + 0.031*talkback'),\n",
       " (20,\n",
       "  u'0.152*force + 0.152*close + 0.078*device + 0.058*google + 0.036*store'),\n",
       " (9, u'0.084*search + 0.067*app + 0.061*apps + 0.043*android + 0.033*google'),\n",
       " (14,\n",
       "  u'0.110*screen + 0.083*display + 0.061*talk + 0.041*google + 0.036*message')]"
      ]
     },
     "execution_count": 38,
     "metadata": {},
     "output_type": "execute_result"
    }
   ],
   "source": [
    "model.show_topics(num_topics=5,num_words=5)"
   ]
  },
  {
   "cell_type": "code",
   "execution_count": 42,
   "metadata": {
    "collapsed": false
   },
   "outputs": [
    {
     "data": {
      "text/plain": [
       "['google', 'maps', 'broken', 'navigation']"
      ]
     },
     "execution_count": 42,
     "metadata": {},
     "output_type": "execute_result"
    }
   ],
   "source": [
    "query = 'google maps broken navigation'\n",
    "query = query.split()\n",
    "query"
   ]
  },
  {
   "cell_type": "code",
   "execution_count": 44,
   "metadata": {
    "collapsed": false
   },
   "outputs": [],
   "source": [
    "id2word = gensim.corpora.Dictionary()"
   ]
  },
  {
   "cell_type": "code",
   "execution_count": 48,
   "metadata": {
    "collapsed": false
   },
   "outputs": [],
   "source": [
    "_ = id2word.merge_with(corpus.id2word)"
   ]
  },
  {
   "cell_type": "code",
   "execution_count": 53,
   "metadata": {
    "collapsed": false
   },
   "outputs": [],
   "source": [
    "query = id2word.doc2bow(query)"
   ]
  },
  {
   "cell_type": "code",
   "execution_count": 54,
   "metadata": {
    "collapsed": false
   },
   "outputs": [
    {
     "data": {
      "text/plain": [
       "[(1754, 1), (6081, 1), (8441, 1), (9208, 1)]"
      ]
     },
     "execution_count": 54,
     "metadata": {},
     "output_type": "execute_result"
    }
   ],
   "source": [
    "query"
   ]
  },
  {
   "cell_type": "code",
   "execution_count": 55,
   "metadata": {
    "collapsed": false
   },
   "outputs": [
    {
     "data": {
      "text/plain": [
       "[(2, 0.21279077701609347),\n",
       " (6, 0.34903476228841951),\n",
       " (9, 0.22977590024952316),\n",
       " (14, 0.011128732897349128),\n",
       " (18, 0.010500770252321833),\n",
       " (20, 0.010615757919780026),\n",
       " (24, 0.010113419773976966)]"
      ]
     },
     "execution_count": 55,
     "metadata": {},
     "output_type": "execute_result"
    }
   ],
   "source": [
    "model[query]"
   ]
  },
  {
   "cell_type": "code",
   "execution_count": 56,
   "metadata": {
    "collapsed": true
   },
   "outputs": [],
   "source": [
    "a = list(sorted(model[query],key=lambda x:x[1]))"
   ]
  },
  {
   "cell_type": "code",
   "execution_count": 60,
   "metadata": {
    "collapsed": false
   },
   "outputs": [
    {
     "data": {
      "text/plain": [
       "u'0.147*galaxy + 0.081*error + 0.061*samsung + 0.053*video + 0.042*sync + 0.027*usb + 0.020*tab + 0.018*playing + 0.015*youtube + 0.015*won'"
      ]
     },
     "execution_count": 60,
     "metadata": {},
     "output_type": "execute_result"
    }
   ],
   "source": [
    "model.print_topic(a[0][0])"
   ]
  },
  {
   "cell_type": "code",
   "execution_count": 61,
   "metadata": {
    "collapsed": false
   },
   "outputs": [
    {
     "data": {
      "text/plain": [
       "u'0.126*maps + 0.097*google + 0.031*issues + 0.025*library + 0.022*android + 0.021*map + 0.020*code + 0.020*http + 0.019*audio + 0.019*cut'"
      ]
     },
     "execution_count": 61,
     "metadata": {},
     "output_type": "execute_result"
    }
   ],
   "source": [
    "model.print_topic(a[-1][0])"
   ]
  },
  {
   "cell_type": "code",
   "execution_count": null,
   "metadata": {
    "collapsed": true
   },
   "outputs": [],
   "source": []
  },
  {
   "cell_type": "code",
   "execution_count": null,
   "metadata": {
    "collapsed": true
   },
   "outputs": [],
   "source": []
  },
  {
   "cell_type": "code",
   "execution_count": null,
   "metadata": {
    "collapsed": true
   },
   "outputs": [],
   "source": []
  },
  {
   "cell_type": "code",
   "execution_count": null,
   "metadata": {
    "collapsed": true
   },
   "outputs": [],
   "source": []
  },
  {
   "cell_type": "code",
   "execution_count": null,
   "metadata": {
    "collapsed": true
   },
   "outputs": [],
   "source": []
  },
  {
   "cell_type": "code",
   "execution_count": null,
   "metadata": {
    "collapsed": true
   },
   "outputs": [],
   "source": []
  },
  {
   "cell_type": "code",
   "execution_count": null,
   "metadata": {
    "collapsed": true
   },
   "outputs": [],
   "source": []
  },
  {
   "cell_type": "markdown",
   "metadata": {},
   "source": [
    "word2vec   \n",
    "[参考文档](https://rare-technologies.com/word2vec-tutorial/)"
   ]
  },
  {
   "cell_type": "code",
   "execution_count": 65,
   "metadata": {
    "collapsed": true
   },
   "outputs": [],
   "source": [
    "sentences = [['first', 'sentence'], ['second', 'sentence']]\n",
    "# train word2vec on the two sentences\n",
    "model = gensim.models.Word2Vec(sentences, min_count=1)"
   ]
  },
  {
   "cell_type": "code",
   "execution_count": 66,
   "metadata": {
    "collapsed": false
   },
   "outputs": [
    {
     "data": {
      "text/plain": [
       "<gensim.models.word2vec.Word2Vec at 0x898a080>"
      ]
     },
     "execution_count": 66,
     "metadata": {},
     "output_type": "execute_result"
    }
   ],
   "source": [
    "model"
   ]
  },
  {
   "cell_type": "code",
   "execution_count": 67,
   "metadata": {
    "collapsed": true
   },
   "outputs": [],
   "source": [
    "import gensim, logging\n",
    "logging.basicConfig(format='%(asctime)s : %(levelname)s : %(message)s', level=logging.INFO)\n"
   ]
  },
  {
   "cell_type": "code",
   "execution_count": 68,
   "metadata": {
    "collapsed": true
   },
   "outputs": [],
   "source": [
    "sentences = [['first', 'sentence'], ['second', 'sentence']]"
   ]
  },
  {
   "cell_type": "code",
   "execution_count": 69,
   "metadata": {
    "collapsed": true
   },
   "outputs": [],
   "source": [
    "model = gensim.models.Word2Vec(sentences, min_count=1)"
   ]
  },
  {
   "cell_type": "code",
   "execution_count": 71,
   "metadata": {
    "collapsed": false
   },
   "outputs": [],
   "source": [
    "import os"
   ]
  },
  {
   "cell_type": "code",
   "execution_count": 78,
   "metadata": {
    "collapsed": false
   },
   "outputs": [],
   "source": [
    "path = u'C:/机器学习与数据处理/机器学习与系统设计/ch03/data/379/raw/alt.atheism'"
   ]
  },
  {
   "cell_type": "code",
   "execution_count": 79,
   "metadata": {
    "collapsed": true
   },
   "outputs": [],
   "source": [
    "class MySentences(object):\n",
    "    def __init__(self,dirname):\n",
    "        self.dirname = dirname\n",
    "        \n",
    "    def __iter__(self):\n",
    "        for fname in os.listdir(self.dirname):\n",
    "            for line in open(os.path.join(self.dirname,fname)):\n",
    "                yield line.split()"
   ]
  },
  {
   "cell_type": "code",
   "execution_count": 83,
   "metadata": {
    "collapsed": false
   },
   "outputs": [],
   "source": [
    "sentence = MySentences(path)\n",
    "model = gensim.models.Word2Vec(sentence,min_count=5,size=100,workers=4)"
   ]
  },
  {
   "cell_type": "code",
   "execution_count": 88,
   "metadata": {
    "collapsed": false
   },
   "outputs": [
    {
     "data": {
      "text/plain": [
       "[('theism.', 0.9937639236450195)]"
      ]
     },
     "execution_count": 88,
     "metadata": {},
     "output_type": "execute_result"
    }
   ],
   "source": [
    "model.most_similar(positive=['woman', 'king'], negative=['man'], topn=1)"
   ]
  },
  {
   "cell_type": "code",
   "execution_count": 97,
   "metadata": {
    "collapsed": false
   },
   "outputs": [
    {
     "data": {
      "text/plain": [
       "array([-0.0027178 ,  0.05918064, -0.06189532,  0.00907266, -0.08397242,\n",
       "        0.05338817,  0.01529701, -0.01749658,  0.00540508,  0.00269244,\n",
       "       -0.0220203 , -0.03849806, -0.08271151, -0.05464442,  0.01380851,\n",
       "        0.08228371,  0.03584717, -0.00431925, -0.00129583, -0.06132043,\n",
       "       -0.02048909,  0.01641259, -0.013035  ,  0.04619684,  0.03818746,\n",
       "        0.00607216, -0.02680536,  0.00349478, -0.05934826, -0.08449085,\n",
       "       -0.05203914,  0.07651855, -0.02497313, -0.02956362, -0.01962879,\n",
       "        0.04709732,  0.0045994 ,  0.05149817,  0.02439816, -0.07303267,\n",
       "       -0.05347825, -0.00451079, -0.04885635, -0.03220316, -0.013047  ,\n",
       "       -0.01085811, -0.02565059, -0.00866326,  0.01757615,  0.03724797,\n",
       "        0.00110219,  0.00061661,  0.01732209, -0.0432818 , -0.03118575,\n",
       "        0.0043029 ,  0.01539845,  0.00929784,  0.02832262, -0.04309537,\n",
       "        0.02651683,  0.04500728,  0.04416023, -0.01968707,  0.04053949,\n",
       "       -0.04333499, -0.05187358,  0.03895269,  0.03010694, -0.00587121,\n",
       "       -0.04329779,  0.03521654, -0.07527686,  0.03140154, -0.0197887 ,\n",
       "       -0.01145018, -0.01347083,  0.03482791,  0.03482076,  0.07558581,\n",
       "       -0.00582268,  0.03656635, -0.02806356, -0.02872045,  0.02633793,\n",
       "       -0.01214247, -0.0517408 , -0.06076487,  0.03310553, -0.05296801,\n",
       "       -0.05886283, -0.02454048, -0.05041558,  0.01978371, -0.00608291,\n",
       "       -0.00622237,  0.00940731,  0.02363649,  0.03097612,  0.01573638], dtype=float32)"
      ]
     },
     "execution_count": 97,
     "metadata": {},
     "output_type": "execute_result"
    }
   ],
   "source": [
    "model['computer']"
   ]
  },
  {
   "cell_type": "code",
   "execution_count": null,
   "metadata": {
    "collapsed": true
   },
   "outputs": [],
   "source": []
  },
  {
   "cell_type": "code",
   "execution_count": null,
   "metadata": {
    "collapsed": true
   },
   "outputs": [],
   "source": []
  },
  {
   "cell_type": "code",
   "execution_count": null,
   "metadata": {
    "collapsed": true
   },
   "outputs": [],
   "source": []
  },
  {
   "cell_type": "markdown",
   "metadata": {
    "collapsed": true
   },
   "source": [
    "目标：\n",
    "1. 去掉英文字母\n",
    "2. 去掉中文停用词\n",
    "3. 考虑是否加入图书标签"
   ]
  },
  {
   "cell_type": "code",
   "execution_count": 83,
   "metadata": {
    "collapsed": true
   },
   "outputs": [],
   "source": [
    "import pandas as pd\n",
    "import numpy as np\n",
    "import jieba\n",
    "import re\n",
    "import gensim"
   ]
  },
  {
   "cell_type": "code",
   "execution_count": 8,
   "metadata": {
    "collapsed": true
   },
   "outputs": [],
   "source": [
    "import MySQLdb as mdb\n",
    "from pandas import Series,DataFrame\n",
    "from sklearn.feature_extraction.text import CountVectorizer"
   ]
  },
  {
   "cell_type": "code",
   "execution_count": 3,
   "metadata": {
    "collapsed": true
   },
   "outputs": [],
   "source": [
    "def mysql_con():\n",
    "    try:\n",
    "        db = mdb.connect('mysql-slave.communion.net.cn', 'onlyquery', 'jyhc@onlyquery', 'hainan_bigdata', charset='utf8')\n",
    "        cursor = db.cursor()\n",
    "    except:\n",
    "        time.sleep(10)\n",
    "        db = mdb.connect('mysql-slave.communion.net.cn', 'onlyquery', 'jyhc@onlyquery', 'hainan_bigdata', charset='utf8')\n",
    "        cursor = db.cursor()\n",
    "    return cursor,db"
   ]
  },
  {
   "cell_type": "code",
   "execution_count": 4,
   "metadata": {
    "collapsed": false
   },
   "outputs": [],
   "source": [
    "cursor,db = mysql_con()"
   ]
  },
  {
   "cell_type": "code",
   "execution_count": 5,
   "metadata": {
    "collapsed": false
   },
   "outputs": [],
   "source": [
    "article = pd.read_sql('select id,content from tbl_article limit 5000',index_col='id',con=db)"
   ]
  },
  {
   "cell_type": "code",
   "execution_count": 6,
   "metadata": {
    "collapsed": false
   },
   "outputs": [],
   "source": [
    "#去掉空白字符及数字、字母\n",
    "result = re.sub(r'[\\s\\w]','',article.content.values[13],flags=re.S)"
   ]
  },
  {
   "cell_type": "code",
   "execution_count": 136,
   "metadata": {
    "collapsed": false
   },
   "outputs": [],
   "source": [
    "stop_words = []\n",
    "with codecs.open('stop_words.txt','r','utf8') as fp:\n",
    "    for word in fp.readlines():\n",
    "        if word.strip() == u'':\n",
    "            continue\n",
    "        stop_words.append(word.strip())"
   ]
  },
  {
   "cell_type": "code",
   "execution_count": 137,
   "metadata": {
    "collapsed": false
   },
   "outputs": [
    {
     "data": {
      "text/plain": [
       "[u'\\u2014\\u2014\\u2014',\n",
       " u'\\u300b\\uff09\\uff0c',\n",
       " u'\\uff09\\xf7\\uff08\\uff11\\uff0d',\n",
       " u'\\u201d\\uff0c',\n",
       " u'\\uff09\\u3001',\n",
       " u'\\uff1d\\uff08',\n",
       " u':',\n",
       " u'\\u2192',\n",
       " u'\\u2103',\n",
       " u'&',\n",
       " u'*',\n",
       " u'\\u4e00\\u4e00',\n",
       " u'~~~~',\n",
       " u'\\u2019',\n",
       " u'.',\n",
       " u'\\u300e',\n",
       " u'.\\u4e00',\n",
       " u'./',\n",
       " u'--',\n",
       " u'\\u300f',\n",
       " u'\\uff1d\\u2033',\n",
       " u'\\u3010',\n",
       " u'\\uff3b\\uff0a\\uff3d',\n",
       " u'\\uff5d\\uff1e',\n",
       " u'\\uff3b\\u2464\\uff3d\\uff3d',\n",
       " u'\\uff3b\\u2460\\uff24\\uff3d',\n",
       " u'\\uff43\\uff3d',\n",
       " u'\\uff4e\\uff47\\u6609',\n",
       " u'\\uff0a',\n",
       " u'//',\n",
       " u'\\uff3b',\n",
       " u'\\uff3d',\n",
       " u'\\uff3b\\u2461\\uff45\\uff3d',\n",
       " u'\\uff3b\\u2461\\uff47\\uff3d',\n",
       " u'\\uff1d\\uff5b',\n",
       " u'}',\n",
       " u'\\uff0c\\u4e5f',\n",
       " u'\\u2018',\n",
       " u'\\uff21',\n",
       " u'\\uff3b\\u2460\\u2465\\uff3d',\n",
       " u'\\uff3b\\u2461\\uff22\\uff3d',\n",
       " u'\\uff3b\\u2460\\uff41\\uff3d',\n",
       " u'\\uff3b\\u2463\\uff41\\uff3d',\n",
       " u'\\uff3b\\u2460\\u2462\\uff3d',\n",
       " u'\\uff3b\\u2462\\uff48\\uff3d',\n",
       " u'\\u2462\\uff3d',\n",
       " u'\\uff11\\uff0e',\n",
       " u'\\uff0d\\uff0d',\n",
       " u'\\uff3b\\u2461\\uff42\\uff3d',\n",
       " u'\\u2019\\u2018',\n",
       " u'\\xd7\\xd7\\xd7',\n",
       " u'\\uff3b\\u2460\\u2467\\uff3d',\n",
       " u'\\uff10\\uff1a\\uff12',\n",
       " u'\\uff1d\\uff3b',\n",
       " u'\\uff3b\\u2464\\uff42\\uff3d',\n",
       " u'\\uff3b\\u2461\\uff43\\uff3d',\n",
       " u'\\uff3b\\u2463\\uff42\\uff3d',\n",
       " u'\\uff3b\\u2461\\u2462\\uff3d',\n",
       " u'\\uff3b\\u2462\\uff41\\uff3d',\n",
       " u'\\uff3b\\u2463\\uff43\\uff3d',\n",
       " u'\\uff3b\\u2460\\u2464\\uff3d',\n",
       " u'\\uff3b\\u2460\\u2466\\uff3d',\n",
       " u'\\uff3b\\u2460\\uff47\\uff3d',\n",
       " u'\\u2208\\uff3b',\n",
       " u'\\uff3b\\u2460\\u2468\\uff3d',\n",
       " u'\\uff3b\\u2460\\u2463\\uff3d',\n",
       " u'\\uff3b\\u2460\\uff43\\uff3d',\n",
       " u'\\uff3b\\u2461\\uff46\\uff3d',\n",
       " u'\\uff3b\\u2461\\u2467\\uff3d',\n",
       " u'\\uff3b\\u2461\\u2460\\uff3d',\n",
       " u'\\uff3b\\u2460\\uff23\\uff3d',\n",
       " u'\\uff3b\\u2462\\uff43\\uff3d',\n",
       " u'\\uff3b\\u2462\\uff47\\uff3d',\n",
       " u'\\uff3b\\u2461\\u2464\\uff3d',\n",
       " u'\\uff3b\\u2461\\u2461\\uff3d',\n",
       " u'\\u4e00.',\n",
       " u'\\uff3b\\u2460\\uff48\\uff3d',\n",
       " u'.\\u6570',\n",
       " u'\\uff3b\\uff3d',\n",
       " u'\\uff3b\\u2460\\uff22\\uff3d',\n",
       " u'\\u6570/',\n",
       " u'\\uff3b\\u2460\\uff49\\uff3d',\n",
       " u'\\uff3b\\u2462\\uff45\\uff3d',\n",
       " u'\\uff3b\\u2460\\u2460\\uff3d',\n",
       " u'\\uff3b\\u2463\\uff44\\uff3d',\n",
       " u'\\uff3b\\u2463\\uff45\\uff3d',\n",
       " u'\\uff3b\\u2462\\uff42\\uff3d',\n",
       " u'\\uff3b\\u2464\\uff41\\uff3d',\n",
       " u'\\uff3b\\u2460\\uff21\\uff3d',\n",
       " u'\\uff3b\\u2461\\u2467\\uff3d',\n",
       " u'\\uff3b\\u2461\\u2466\\uff3d',\n",
       " u'\\uff3b\\u2460\\uff44\\uff3d',\n",
       " u'\\uff3b\\u2461\\uff4a\\uff3d',\n",
       " u'\\u3015\\u3014',\n",
       " u'\\uff3d\\uff3b',\n",
       " u'://',\n",
       " u'\\u2032\\u2208',\n",
       " u'\\uff3b\\u2461\\u2463',\n",
       " u'\\uff3b\\u2464\\uff45\\uff3d',\n",
       " u'\\uff11\\uff12\\uff05',\n",
       " u'\\uff42\\uff3d',\n",
       " u'...',\n",
       " u'...................',\n",
       " u'\\u2026\\u2026\\u2026\\u2026\\u2026\\u2026\\u2026\\u2026\\u2026\\u2026\\u2026\\u2026\\u2026\\u2026\\u2026\\u2026\\u2026\\u2026\\u2026\\u2462',\n",
       " u'\\uff3a\\uff38\\uff26\\uff29\\uff34\\uff2c',\n",
       " u'\\uff3b\\u2462\\uff26\\uff3d',\n",
       " u'\\u300d',\n",
       " u'\\uff3b\\u2460\\uff4f\\uff3d',\n",
       " u'\\uff3d\\u2227\\u2032\\uff1d\\uff3b',\n",
       " u'\\u222a\\u03c6\\u2208',\n",
       " u'\\u2032\\uff5c',\n",
       " u'\\uff5b\\uff0d',\n",
       " u'\\u2461\\uff43',\n",
       " u'\\uff5d',\n",
       " u'\\uff3b\\u2462\\u2460\\uff3d',\n",
       " u'\\uff32\\uff0e\\uff2c\\uff0e',\n",
       " u'\\uff3b\\u2460\\uff25\\uff3d',\n",
       " u'\\u03a8',\n",
       " u'\\uff0d\\uff3b\\uff0a\\uff3d\\uff0d',\n",
       " u'\\u2191',\n",
       " u'.\\u65e5',\n",
       " u'\\uff3b\\u2461\\uff44\\uff3d',\n",
       " u'\\uff3b\\u2461',\n",
       " u'\\uff3b\\u2461\\u2466\\uff3d',\n",
       " u'\\uff3b\\u2461\\u2461\\uff3d',\n",
       " u'\\uff3b\\u2462\\uff45\\uff3d',\n",
       " u'\\uff3b\\u2460\\uff49\\uff3d',\n",
       " u'\\uff3b\\u2460\\uff22\\uff3d',\n",
       " u'\\uff3b\\u2460\\uff48\\uff3d',\n",
       " u'\\uff3b\\u2460\\uff44\\uff3d',\n",
       " u'\\uff3b\\u2460\\uff47\\uff3d',\n",
       " u'\\uff3b\\u2460\\u2461\\uff3d',\n",
       " u'\\uff3b\\u2461\\uff41\\uff3d',\n",
       " u'\\uff46\\uff3d',\n",
       " u'\\uff3b\\u2469\\uff3d',\n",
       " u'\\uff41\\uff3d',\n",
       " u'\\uff3b\\u2460\\uff45\\uff3d',\n",
       " u'\\uff3b\\u2461\\uff48\\uff3d',\n",
       " u'\\uff3b\\u2461\\u2465\\uff3d',\n",
       " u'\\uff3b\\u2462\\uff44\\uff3d',\n",
       " u'\\uff3b\\u2461\\u2469\\uff3d',\n",
       " u'\\uff45\\uff3d',\n",
       " u'\\u3009',\n",
       " u'\\u3011',\n",
       " u'\\u5143\\uff0f\\u5428',\n",
       " u'\\uff3b\\u2461\\u2469\\uff3d',\n",
       " u'\\uff12\\uff0e\\uff13\\uff05',\n",
       " u'\\uff15\\uff1a\\uff10',\n",
       " u'\\uff3b\\u2460\\uff3d',\n",
       " u'::',\n",
       " u'\\uff3b\\u2461\\uff3d',\n",
       " u'\\uff3b\\u2462\\uff3d',\n",
       " u'\\uff3b\\u2463\\uff3d',\n",
       " u'\\uff3b\\u2464\\uff3d',\n",
       " u'\\uff3b\\u2465\\uff3d',\n",
       " u'\\uff3b\\u2466\\uff3d',\n",
       " u'\\uff3b\\u2467\\uff3d',\n",
       " u'\\uff3b\\u2468\\uff3d',\n",
       " u'\\u2026\\u2026',\n",
       " u'\\u2014\\u2014',\n",
       " u'?',\n",
       " u'\\u3001',\n",
       " u'\\u3002',\n",
       " u'\\u201c',\n",
       " u'\\u201d',\n",
       " u'\\u300a',\n",
       " u'\\u300b',\n",
       " u'\\uff01',\n",
       " u'\\uff0c',\n",
       " u'\\uff1a',\n",
       " u'\\uff1b',\n",
       " u'\\uff1f',\n",
       " u'\\uff0e',\n",
       " u',',\n",
       " u'\\uff0e',\n",
       " u\"'\",\n",
       " u'?',\n",
       " u'\\xb7',\n",
       " u'\\u2014\\u2014\\u2014',\n",
       " u'\\u2500\\u2500',\n",
       " u'?',\n",
       " u'\\u2014',\n",
       " u'<',\n",
       " u'>',\n",
       " u'\\uff08',\n",
       " u'\\uff09',\n",
       " u'\\u3014',\n",
       " u'\\u3015',\n",
       " u'[',\n",
       " u']',\n",
       " u'(',\n",
       " u')',\n",
       " u'-',\n",
       " u'+',\n",
       " u'\\uff5e',\n",
       " u'\\xd7',\n",
       " u'\\uff0f',\n",
       " u'/',\n",
       " u'\\u2460',\n",
       " u'\\u2461',\n",
       " u'\\u2462',\n",
       " u'\\u2463',\n",
       " u'\\u2464',\n",
       " u'\\u2465',\n",
       " u'\\u2466',\n",
       " u'\\u2467',\n",
       " u'\\u2468',\n",
       " u'\\u2469',\n",
       " u'\\u2162',\n",
       " u'\\u0412',\n",
       " u'\"',\n",
       " u';',\n",
       " u'#',\n",
       " u'@',\n",
       " u'\\u03b3',\n",
       " u'\\u03bc',\n",
       " u'\\u03c6',\n",
       " u'\\u03c6\\uff0e',\n",
       " u'\\xd7',\n",
       " u'\\u0394',\n",
       " u'\\u25a0',\n",
       " u'\\u25b2',\n",
       " u'sub',\n",
       " u'exp',\n",
       " u'sup',\n",
       " u'sub',\n",
       " u'Lex',\n",
       " u'\\uff03',\n",
       " u'\\uff05',\n",
       " u'\\uff06',\n",
       " u'\\uff07',\n",
       " u'\\uff0b',\n",
       " u'\\uff0b\\u03be',\n",
       " u'\\uff0b\\uff0b',\n",
       " u'\\uff0d',\n",
       " u'\\uff0d\\u03b2',\n",
       " u'\\uff1c',\n",
       " u'\\uff1c\\xb1',\n",
       " u'\\uff1c\\u0394',\n",
       " u'\\uff1c\\u03bb',\n",
       " u'\\uff1c\\u03c6',\n",
       " u'\\uff1c\\uff1c',\n",
       " u'=',\n",
       " u'\\uff1d',\n",
       " u'\\uff1d\\u2606',\n",
       " u'\\uff1d\\uff0d',\n",
       " u'\\uff1e',\n",
       " u'\\uff1e\\u03bb',\n",
       " u'\\uff3f',\n",
       " u'\\uff5e\\xb1',\n",
       " u'\\uff5e\\uff0b',\n",
       " u'\\uff3b\\u2464\\uff46\\uff3d',\n",
       " u'\\uff3b\\u2464\\uff44\\uff3d',\n",
       " u'\\uff3b\\u2461\\uff49\\uff3d',\n",
       " u'\\u2248',\n",
       " u'\\uff3b\\u2461\\uff27\\uff3d',\n",
       " u'\\uff3b\\u2460\\uff46\\uff3d',\n",
       " u'\\uff2c\\uff29',\n",
       " u'\\u3227',\n",
       " u'\\uff3b\\uff0d',\n",
       " u'......',\n",
       " u'\\u3009',\n",
       " u'\\uff3b\\u2462\\u2469\\uff3d',\n",
       " u'\\u7b2c\\u4e8c',\n",
       " u'\\u4e00\\u756a',\n",
       " u'\\u4e00\\u76f4',\n",
       " u'\\u4e00\\u4e2a',\n",
       " u'\\u4e00\\u4e9b',\n",
       " u'\\u8bb8\\u591a',\n",
       " u'\\u79cd',\n",
       " u'\\u6709\\u7684\\u662f',\n",
       " u'\\u4e5f\\u5c31\\u662f\\u8bf4',\n",
       " u'\\u672b##\\u672b',\n",
       " u'\\u554a',\n",
       " u'\\u963f',\n",
       " u'\\u54ce',\n",
       " u'\\u54ce\\u5440',\n",
       " u'\\u54ce\\u54df',\n",
       " u'\\u5509',\n",
       " u'\\u4ffa',\n",
       " u'\\u4ffa\\u4eec',\n",
       " u'\\u6309',\n",
       " u'\\u6309\\u7167',\n",
       " u'\\u5427',\n",
       " u'\\u5427\\u54d2',\n",
       " u'\\u628a',\n",
       " u'\\u7f62\\u4e86',\n",
       " u'\\u88ab',\n",
       " u'\\u672c',\n",
       " u'\\u672c\\u7740',\n",
       " u'\\u6bd4',\n",
       " u'\\u6bd4\\u65b9',\n",
       " u'\\u6bd4\\u5982',\n",
       " u'\\u9119\\u4eba',\n",
       " u'\\u5f7c',\n",
       " u'\\u5f7c\\u6b64',\n",
       " u'\\u8fb9',\n",
       " u'\\u522b',\n",
       " u'\\u522b\\u7684',\n",
       " u'\\u522b\\u8bf4',\n",
       " u'\\u5e76',\n",
       " u'\\u5e76\\u4e14',\n",
       " u'\\u4e0d\\u6bd4',\n",
       " u'\\u4e0d\\u6210',\n",
       " u'\\u4e0d\\u5355',\n",
       " u'\\u4e0d\\u4f46',\n",
       " u'\\u4e0d\\u72ec',\n",
       " u'\\u4e0d\\u7ba1',\n",
       " u'\\u4e0d\\u5149',\n",
       " u'\\u4e0d\\u8fc7',\n",
       " u'\\u4e0d\\u4ec5',\n",
       " u'\\u4e0d\\u62d8',\n",
       " u'\\u4e0d\\u8bba',\n",
       " u'\\u4e0d\\u6015',\n",
       " u'\\u4e0d\\u7136',\n",
       " u'\\u4e0d\\u5982',\n",
       " u'\\u4e0d\\u7279',\n",
       " u'\\u4e0d\\u60df',\n",
       " u'\\u4e0d\\u95ee',\n",
       " u'\\u4e0d\\u53ea',\n",
       " u'\\u671d',\n",
       " u'\\u671d\\u7740',\n",
       " u'\\u8d81',\n",
       " u'\\u8d81\\u7740',\n",
       " u'\\u4e58',\n",
       " u'\\u51b2',\n",
       " u'\\u9664',\n",
       " u'\\u9664\\u6b64\\u4e4b\\u5916',\n",
       " u'\\u9664\\u975e',\n",
       " u'\\u9664\\u4e86',\n",
       " u'\\u6b64',\n",
       " u'\\u6b64\\u95f4',\n",
       " u'\\u6b64\\u5916',\n",
       " u'\\u4ece',\n",
       " u'\\u4ece\\u800c',\n",
       " u'\\u6253',\n",
       " u'\\u5f85',\n",
       " u'\\u4f46',\n",
       " u'\\u4f46\\u662f',\n",
       " u'\\u5f53',\n",
       " u'\\u5f53\\u7740',\n",
       " u'\\u5230',\n",
       " u'\\u5f97',\n",
       " u'\\u7684',\n",
       " u'\\u7684\\u8bdd',\n",
       " u'\\u7b49',\n",
       " u'\\u7b49\\u7b49',\n",
       " u'\\u5730',\n",
       " u'\\u7b2c',\n",
       " u'\\u53ee\\u549a',\n",
       " u'\\u5bf9',\n",
       " u'\\u5bf9\\u4e8e',\n",
       " u'\\u591a',\n",
       " u'\\u591a\\u5c11',\n",
       " u'\\u800c',\n",
       " u'\\u800c\\u51b5',\n",
       " u'\\u800c\\u4e14',\n",
       " u'\\u800c\\u662f',\n",
       " u'\\u800c\\u5916',\n",
       " u'\\u800c\\u8a00',\n",
       " u'\\u800c\\u5df2',\n",
       " u'\\u5c14\\u540e',\n",
       " u'\\u53cd\\u8fc7\\u6765',\n",
       " u'\\u53cd\\u8fc7\\u6765\\u8bf4',\n",
       " u'\\u53cd\\u4e4b',\n",
       " u'\\u975e\\u4f46',\n",
       " u'\\u975e\\u5f92',\n",
       " u'\\u5426\\u5219',\n",
       " u'\\u560e',\n",
       " u'\\u560e\\u767b',\n",
       " u'\\u8be5',\n",
       " u'\\u8d76',\n",
       " u'\\u4e2a',\n",
       " u'\\u5404',\n",
       " u'\\u5404\\u4e2a',\n",
       " u'\\u5404\\u4f4d',\n",
       " u'\\u5404\\u79cd',\n",
       " u'\\u5404\\u81ea',\n",
       " u'\\u7ed9',\n",
       " u'\\u6839\\u636e',\n",
       " u'\\u8ddf',\n",
       " u'\\u6545',\n",
       " u'\\u6545\\u6b64',\n",
       " u'\\u56fa\\u7136',\n",
       " u'\\u5173\\u4e8e',\n",
       " u'\\u7ba1',\n",
       " u'\\u5f52',\n",
       " u'\\u679c\\u7136',\n",
       " u'\\u679c\\u771f',\n",
       " u'\\u8fc7',\n",
       " u'\\u54c8',\n",
       " u'\\u54c8\\u54c8',\n",
       " u'\\u5475',\n",
       " u'\\u548c',\n",
       " u'\\u4f55',\n",
       " u'\\u4f55\\u5904',\n",
       " u'\\u4f55\\u51b5',\n",
       " u'\\u4f55\\u65f6',\n",
       " u'\\u563f',\n",
       " u'\\u54fc',\n",
       " u'\\u54fc\\u5537',\n",
       " u'\\u547c\\u54e7',\n",
       " u'\\u4e4e',\n",
       " u'\\u54d7',\n",
       " u'\\u8fd8\\u662f',\n",
       " u'\\u8fd8\\u6709',\n",
       " u'\\u6362\\u53e5\\u8bdd\\u8bf4',\n",
       " u'\\u6362\\u8a00\\u4e4b',\n",
       " u'\\u6216',\n",
       " u'\\u6216\\u662f',\n",
       " u'\\u6216\\u8005',\n",
       " u'\\u6781\\u4e86',\n",
       " u'\\u53ca',\n",
       " u'\\u53ca\\u5176',\n",
       " u'\\u53ca\\u81f3',\n",
       " u'\\u5373',\n",
       " u'\\u5373\\u4fbf',\n",
       " u'\\u5373\\u6216',\n",
       " u'\\u5373\\u4ee4',\n",
       " u'\\u5373\\u82e5',\n",
       " u'\\u5373\\u4f7f',\n",
       " u'\\u51e0',\n",
       " u'\\u51e0\\u65f6',\n",
       " u'\\u5df1',\n",
       " u'\\u65e2',\n",
       " u'\\u65e2\\u7136',\n",
       " u'\\u65e2\\u662f',\n",
       " u'\\u7ee7\\u800c',\n",
       " u'\\u52a0\\u4e4b',\n",
       " u'\\u5047\\u5982',\n",
       " u'\\u5047\\u82e5',\n",
       " u'\\u5047\\u4f7f',\n",
       " u'\\u9274\\u4e8e',\n",
       " u'\\u5c06',\n",
       " u'\\u8f83',\n",
       " u'\\u8f83\\u4e4b',\n",
       " u'\\u53eb',\n",
       " u'\\u63a5\\u7740',\n",
       " u'\\u7ed3\\u679c',\n",
       " u'\\u501f',\n",
       " u'\\u7d27\\u63a5\\u7740',\n",
       " u'\\u8fdb\\u800c',\n",
       " u'\\u5c3d',\n",
       " u'\\u5c3d\\u7ba1',\n",
       " u'\\u7ecf',\n",
       " u'\\u7ecf\\u8fc7',\n",
       " u'\\u5c31',\n",
       " u'\\u5c31\\u662f',\n",
       " u'\\u5c31\\u662f\\u8bf4',\n",
       " u'\\u636e',\n",
       " u'\\u5177\\u4f53\\u5730\\u8bf4',\n",
       " u'\\u5177\\u4f53\\u8bf4\\u6765',\n",
       " u'\\u5f00\\u59cb',\n",
       " u'\\u5f00\\u5916',\n",
       " u'\\u9760',\n",
       " u'\\u54b3',\n",
       " u'\\u53ef',\n",
       " u'\\u53ef\\u89c1',\n",
       " u'\\u53ef\\u662f',\n",
       " u'\\u53ef\\u4ee5',\n",
       " u'\\u51b5\\u4e14',\n",
       " u'\\u5566',\n",
       " u'\\u6765',\n",
       " u'\\u6765\\u7740',\n",
       " u'\\u79bb',\n",
       " u'\\u4f8b\\u5982',\n",
       " u'\\u54e9',\n",
       " u'\\u8fde',\n",
       " u'\\u8fde\\u540c',\n",
       " u'\\u4e24\\u8005',\n",
       " u'\\u4e86',\n",
       " u'\\u4e34',\n",
       " u'\\u53e6',\n",
       " u'\\u53e6\\u5916',\n",
       " u'\\u53e6\\u4e00\\u65b9\\u9762',\n",
       " u'\\u8bba',\n",
       " u'\\u561b',\n",
       " u'\\u5417',\n",
       " u'\\u6162\\u8bf4',\n",
       " u'\\u6f2b\\u8bf4',\n",
       " u'\\u5192',\n",
       " u'\\u4e48',\n",
       " u'\\u6bcf',\n",
       " u'\\u6bcf\\u5f53',\n",
       " u'\\u4eec',\n",
       " u'\\u83ab\\u82e5',\n",
       " u'\\u67d0',\n",
       " u'\\u67d0\\u4e2a',\n",
       " u'\\u67d0\\u4e9b',\n",
       " u'\\u62ff',\n",
       " u'\\u54ea',\n",
       " u'\\u54ea\\u8fb9',\n",
       " u'\\u54ea\\u513f',\n",
       " u'\\u54ea\\u4e2a',\n",
       " u'\\u54ea\\u91cc',\n",
       " u'\\u54ea\\u5e74',\n",
       " u'\\u54ea\\u6015',\n",
       " u'\\u54ea\\u5929',\n",
       " u'\\u54ea\\u4e9b',\n",
       " u'\\u54ea\\u6837',\n",
       " u'\\u90a3',\n",
       " u'\\u90a3\\u8fb9',\n",
       " u'\\u90a3\\u513f',\n",
       " u'\\u90a3\\u4e2a',\n",
       " u'\\u90a3\\u4f1a\\u513f',\n",
       " u'\\u90a3\\u91cc',\n",
       " u'\\u90a3\\u4e48',\n",
       " u'\\u90a3\\u4e48\\u4e9b',\n",
       " u'\\u90a3\\u4e48\\u6837',\n",
       " u'\\u90a3\\u65f6',\n",
       " u'\\u90a3\\u4e9b',\n",
       " u'\\u90a3\\u6837',\n",
       " u'\\u4e43',\n",
       " u'\\u4e43\\u81f3',\n",
       " u'\\u5462',\n",
       " u'\\u80fd',\n",
       " u'\\u4f60',\n",
       " u'\\u4f60\\u4eec',\n",
       " u'\\u60a8',\n",
       " u'\\u5b81',\n",
       " u'\\u5b81\\u53ef',\n",
       " u'\\u5b81\\u80af',\n",
       " u'\\u5b81\\u613f',\n",
       " u'\\u54e6',\n",
       " u'\\u5455',\n",
       " u'\\u556a\\u8fbe',\n",
       " u'\\u65c1\\u4eba',\n",
       " u'\\u5478',\n",
       " u'\\u51ed',\n",
       " u'\\u51ed\\u501f',\n",
       " u'\\u5176',\n",
       " u'\\u5176\\u6b21',\n",
       " u'\\u5176\\u4e8c',\n",
       " u'\\u5176\\u4ed6',\n",
       " u'\\u5176\\u5b83',\n",
       " u'\\u5176\\u4e00',\n",
       " u'\\u5176\\u4f59',\n",
       " u'\\u5176\\u4e2d',\n",
       " u'\\u8d77',\n",
       " u'\\u8d77\\u89c1',\n",
       " u'\\u8d77\\u89c1',\n",
       " u'\\u5c82\\u4f46',\n",
       " u'\\u6070\\u6070\\u76f8\\u53cd',\n",
       " u'\\u524d\\u540e',\n",
       " u'\\u524d\\u8005',\n",
       " u'\\u4e14',\n",
       " u'\\u7136\\u800c',\n",
       " u'\\u7136\\u540e',\n",
       " u'\\u7136\\u5219',\n",
       " u'\\u8ba9',\n",
       " u'\\u4eba\\u5bb6',\n",
       " u'\\u4efb',\n",
       " u'\\u4efb\\u4f55',\n",
       " u'\\u4efb\\u51ed',\n",
       " u'\\u5982',\n",
       " u'\\u5982\\u6b64',\n",
       " u'\\u5982\\u679c',\n",
       " u'\\u5982\\u4f55',\n",
       " u'\\u5982\\u5176',\n",
       " u'\\u5982\\u82e5',\n",
       " u'\\u5982\\u4e0a\\u6240\\u8ff0',\n",
       " u'\\u82e5',\n",
       " u'\\u82e5\\u975e',\n",
       " u'\\u82e5\\u662f',\n",
       " u'\\u5565',\n",
       " u'\\u4e0a\\u4e0b',\n",
       " u'\\u5c1a\\u4e14',\n",
       " u'\\u8bbe\\u82e5',\n",
       " u'\\u8bbe\\u4f7f',\n",
       " u'\\u751a\\u800c',\n",
       " u'\\u751a\\u4e48',\n",
       " u'\\u751a\\u81f3',\n",
       " u'\\u7701\\u5f97',\n",
       " u'\\u65f6\\u5019',\n",
       " u'\\u4ec0\\u4e48',\n",
       " u'\\u4ec0\\u4e48\\u6837',\n",
       " u'\\u4f7f\\u5f97',\n",
       " u'\\u662f',\n",
       " u'\\u662f\\u7684',\n",
       " u'\\u9996\\u5148',\n",
       " u'\\u8c01',\n",
       " u'\\u8c01\\u77e5',\n",
       " u'\\u987a',\n",
       " u'\\u987a\\u7740',\n",
       " u'\\u4f3c\\u7684',\n",
       " u'\\u867d',\n",
       " u'\\u867d\\u7136',\n",
       " u'\\u867d\\u8bf4',\n",
       " u'\\u867d\\u5219',\n",
       " u'\\u968f',\n",
       " u'\\u968f\\u7740',\n",
       " u'\\u6240',\n",
       " u'\\u6240\\u4ee5',\n",
       " u'\\u4ed6',\n",
       " u'\\u4ed6\\u4eec',\n",
       " u'\\u4ed6\\u4eba',\n",
       " u'\\u5b83',\n",
       " u'\\u5b83\\u4eec',\n",
       " u'\\u5979',\n",
       " u'\\u5979\\u4eec',\n",
       " u'\\u5018',\n",
       " u'\\u5018\\u6216',\n",
       " u'\\u5018\\u7136',\n",
       " u'\\u5018\\u82e5',\n",
       " u'\\u5018\\u4f7f',\n",
       " u'\\u817e',\n",
       " u'\\u66ff',\n",
       " u'\\u901a\\u8fc7',\n",
       " u'\\u540c',\n",
       " u'\\u540c\\u65f6',\n",
       " u'\\u54c7',\n",
       " u'\\u4e07\\u4e00',\n",
       " u'\\u5f80',\n",
       " u'\\u671b',\n",
       " u'\\u4e3a',\n",
       " u'\\u4e3a\\u4f55',\n",
       " u'\\u4e3a\\u4e86',\n",
       " u'\\u4e3a\\u4ec0\\u4e48',\n",
       " u'\\u4e3a\\u7740',\n",
       " u'\\u5582',\n",
       " u'\\u55e1\\u55e1',\n",
       " u'\\u6211',\n",
       " u'\\u6211\\u4eec',\n",
       " u'\\u545c',\n",
       " u'\\u545c\\u547c',\n",
       " u'\\u4e4c\\u4e4e',\n",
       " u'\\u65e0\\u8bba',\n",
       " u'\\u65e0\\u5b81',\n",
       " u'\\u6bcb\\u5b81',\n",
       " u'\\u563b',\n",
       " u'\\u5413',\n",
       " u'\\u76f8\\u5bf9\\u800c\\u8a00',\n",
       " u'\\u50cf',\n",
       " u'\\u5411',\n",
       " u'\\u5411\\u7740',\n",
       " u'\\u5618',\n",
       " u'\\u5440',\n",
       " u'\\u7109',\n",
       " u'\\u6cbf',\n",
       " u'\\u6cbf\\u7740',\n",
       " u'\\u8981',\n",
       " u'\\u8981\\u4e0d',\n",
       " u'\\u8981\\u4e0d\\u7136',\n",
       " u'\\u8981\\u4e0d\\u662f',\n",
       " u'\\u8981\\u4e48',\n",
       " u'\\u8981\\u662f',\n",
       " u'\\u4e5f',\n",
       " u'\\u4e5f\\u7f62',\n",
       " u'\\u4e5f\\u597d',\n",
       " u'\\u4e00',\n",
       " u'\\u4e00\\u822c',\n",
       " u'\\u4e00\\u65e6',\n",
       " u'\\u4e00\\u65b9\\u9762',\n",
       " u'\\u4e00\\u6765',\n",
       " u'\\u4e00\\u5207',\n",
       " u'\\u4e00\\u6837',\n",
       " u'\\u4e00\\u5219',\n",
       " u'\\u4f9d',\n",
       " u'\\u4f9d\\u7167',\n",
       " u'\\u77e3',\n",
       " u'\\u4ee5',\n",
       " u'\\u4ee5\\u4fbf',\n",
       " u'\\u4ee5\\u53ca',\n",
       " u'\\u4ee5\\u514d',\n",
       " u'\\u4ee5\\u81f3',\n",
       " u'\\u4ee5\\u81f3\\u4e8e',\n",
       " u'\\u4ee5\\u81f4',\n",
       " u'\\u6291\\u6216',\n",
       " u'\\u56e0',\n",
       " u'\\u56e0\\u6b64',\n",
       " u'\\u56e0\\u800c',\n",
       " u'\\u56e0\\u4e3a',\n",
       " u'\\u54df',\n",
       " u'\\u7528',\n",
       " u'\\u7531',\n",
       " u'\\u7531\\u6b64\\u53ef\\u89c1',\n",
       " u'\\u7531\\u4e8e',\n",
       " u'\\u6709',\n",
       " u'\\u6709\\u7684',\n",
       " u'\\u6709\\u5173',\n",
       " u'\\u6709\\u4e9b',\n",
       " u'\\u53c8',\n",
       " u'\\u4e8e',\n",
       " u'\\u4e8e\\u662f',\n",
       " u'\\u4e8e\\u662f\\u4e4e',\n",
       " u'\\u4e0e',\n",
       " u'\\u4e0e\\u6b64\\u540c\\u65f6',\n",
       " u'\\u4e0e\\u5426',\n",
       " u'\\u4e0e\\u5176',\n",
       " u'\\u8d8a\\u662f',\n",
       " u'\\u4e91\\u4e91',\n",
       " u'\\u54c9',\n",
       " u'\\u518d\\u8bf4',\n",
       " u'\\u518d\\u8005',\n",
       " u'\\u5728',\n",
       " u'\\u5728\\u4e0b',\n",
       " u'\\u54b1',\n",
       " u'\\u54b1\\u4eec',\n",
       " u'\\u5219',\n",
       " u'\\u600e',\n",
       " u'\\u600e\\u4e48',\n",
       " u'\\u600e\\u4e48\\u529e',\n",
       " u'\\u600e\\u4e48\\u6837',\n",
       " u'\\u600e\\u6837',\n",
       " u'\\u548b',\n",
       " u'\\u7167',\n",
       " u'\\u7167\\u7740',\n",
       " u'\\u8005',\n",
       " u'\\u8fd9',\n",
       " u'\\u8fd9\\u8fb9',\n",
       " u'\\u8fd9\\u513f',\n",
       " u'\\u8fd9\\u4e2a',\n",
       " u'\\u8fd9\\u4f1a\\u513f',\n",
       " u'\\u8fd9\\u5c31\\u662f\\u8bf4',\n",
       " u'\\u8fd9\\u91cc',\n",
       " u'\\u8fd9\\u4e48',\n",
       " u'\\u8fd9\\u4e48\\u70b9\\u513f',\n",
       " u'\\u8fd9\\u4e48\\u4e9b',\n",
       " u'\\u8fd9\\u4e48\\u6837',\n",
       " u'\\u8fd9\\u65f6',\n",
       " u'\\u8fd9\\u4e9b',\n",
       " u'\\u8fd9\\u6837',\n",
       " u'\\u6b63\\u5982',\n",
       " u'\\u5431',\n",
       " u'\\u4e4b',\n",
       " u'\\u4e4b\\u7c7b',\n",
       " u'\\u4e4b\\u6240\\u4ee5',\n",
       " u'\\u4e4b\\u4e00',\n",
       " u'\\u53ea\\u662f',\n",
       " u'\\u53ea\\u9650',\n",
       " u'\\u53ea\\u8981',\n",
       " u'\\u53ea\\u6709',\n",
       " u'\\u81f3',\n",
       " u'\\u81f3\\u4e8e',\n",
       " u'\\u8bf8\\u4f4d',\n",
       " u'\\u7740',\n",
       " u'\\u7740\\u5462',\n",
       " u'\\u81ea',\n",
       " u'\\u81ea\\u4ece',\n",
       " u'\\u81ea\\u4e2a\\u513f',\n",
       " u'\\u81ea\\u5404\\u513f',\n",
       " u'\\u81ea\\u5df1',\n",
       " u'\\u81ea\\u5bb6',\n",
       " u'\\u81ea\\u8eab',\n",
       " u'\\u7efc\\u4e0a\\u6240\\u8ff0',\n",
       " u'\\u603b\\u7684\\u6765\\u770b',\n",
       " u'\\u603b\\u7684\\u6765\\u8bf4',\n",
       " u'\\u603b\\u7684\\u8bf4\\u6765',\n",
       " u'\\u603b\\u800c\\u8a00\\u4e4b',\n",
       " u'\\u603b\\u4e4b',\n",
       " u'\\u7eb5',\n",
       " u'\\u7eb5\\u4ee4',\n",
       " u'\\u7eb5\\u7136',\n",
       " u'\\u7eb5\\u4f7f',\n",
       " u'\\u9075\\u7167',\n",
       " u'\\u4f5c\\u4e3a',\n",
       " u'\\u516e',\n",
       " u'\\u5443',\n",
       " u'\\u5457',\n",
       " u'\\u549a',\n",
       " u'\\u54a6',\n",
       " u'\\u558f',\n",
       " u'\\u5550',\n",
       " u'\\u5594\\u5537',\n",
       " u'\\u55ec',\n",
       " u'\\u55ef',\n",
       " u'\\u55f3,',\n",
       " u'?',\n",
       " u'\\u3001',\n",
       " u'\\u3002',\n",
       " u'\\u201c',\n",
       " u'\\u201d',\n",
       " u'\\u300a',\n",
       " u'\\u300b',\n",
       " u'\\uff01',\n",
       " u'\\uff0c',\n",
       " u'\\uff1a',\n",
       " u'\\uff1b',\n",
       " u'\\uff1f',\n",
       " u'\\u4eba\\u6c11',\n",
       " u'\\u672b##\\u672b',\n",
       " u'\\u554a',\n",
       " u'\\u963f',\n",
       " u'\\u54ce',\n",
       " u'\\u54ce\\u5440',\n",
       " u'\\u54ce\\u54df',\n",
       " u'\\u5509',\n",
       " u'\\u4ffa',\n",
       " u'\\u4ffa\\u4eec',\n",
       " u'\\u6309',\n",
       " u'\\u6309\\u7167',\n",
       " u'\\u5427',\n",
       " u'\\u5427\\u54d2',\n",
       " u'\\u628a',\n",
       " u'\\u7f62\\u4e86',\n",
       " u'\\u88ab',\n",
       " u'\\u672c',\n",
       " u'\\u672c\\u7740',\n",
       " u'\\u6bd4',\n",
       " u'\\u6bd4\\u65b9',\n",
       " u'\\u6bd4\\u5982',\n",
       " u'\\u9119\\u4eba',\n",
       " u'\\u5f7c',\n",
       " u'\\u5f7c\\u6b64',\n",
       " u'\\u8fb9',\n",
       " u'\\u522b',\n",
       " u'\\u522b\\u7684',\n",
       " u'\\u522b\\u8bf4',\n",
       " u'\\u5e76',\n",
       " u'\\u5e76\\u4e14',\n",
       " u'\\u4e0d\\u6bd4',\n",
       " u'\\u4e0d\\u6210',\n",
       " u'\\u4e0d\\u5355',\n",
       " u'\\u4e0d\\u4f46',\n",
       " u'\\u4e0d\\u72ec',\n",
       " u'\\u4e0d\\u7ba1',\n",
       " u'\\u4e0d\\u5149',\n",
       " u'\\u4e0d\\u8fc7',\n",
       " u'\\u4e0d\\u4ec5',\n",
       " u'\\u4e0d\\u62d8',\n",
       " u'\\u4e0d\\u8bba',\n",
       " u'\\u4e0d\\u6015',\n",
       " u'\\u4e0d\\u7136',\n",
       " u'\\u4e0d\\u5982',\n",
       " u'\\u4e0d\\u7279',\n",
       " u'\\u4e0d\\u60df',\n",
       " u'\\u4e0d\\u95ee',\n",
       " u'\\u4e0d\\u53ea',\n",
       " u'\\u671d',\n",
       " u'\\u671d\\u7740',\n",
       " u'\\u8d81',\n",
       " u'\\u8d81\\u7740',\n",
       " u'\\u4e58',\n",
       " u'\\u51b2',\n",
       " u'\\u9664',\n",
       " u'\\u9664\\u6b64\\u4e4b\\u5916',\n",
       " u'\\u9664\\u975e',\n",
       " u'\\u9664\\u4e86',\n",
       " u'\\u6b64',\n",
       " u'\\u6b64\\u95f4',\n",
       " u'\\u6b64\\u5916',\n",
       " u'\\u4ece',\n",
       " u'\\u4ece\\u800c',\n",
       " u'\\u6253',\n",
       " u'\\u5f85',\n",
       " u'\\u4f46',\n",
       " u'\\u4f46\\u662f',\n",
       " u'\\u5f53',\n",
       " u'\\u5f53\\u7740',\n",
       " u'\\u5230',\n",
       " u'\\u5f97',\n",
       " u'\\u7684',\n",
       " u'\\u7684\\u8bdd',\n",
       " u'\\u7b49',\n",
       " u'\\u7b49\\u7b49',\n",
       " u'\\u5730',\n",
       " u'\\u7b2c',\n",
       " u'\\u53ee\\u549a',\n",
       " u'\\u5bf9',\n",
       " u'\\u5bf9\\u4e8e',\n",
       " u'\\u591a',\n",
       " u'\\u591a\\u5c11',\n",
       " u'\\u800c',\n",
       " u'\\u800c\\u51b5',\n",
       " u'\\u800c\\u4e14',\n",
       " u'\\u800c\\u662f',\n",
       " u'\\u800c\\u5916',\n",
       " u'\\u800c\\u8a00',\n",
       " u'\\u800c\\u5df2',\n",
       " u'\\u5c14\\u540e',\n",
       " u'\\u53cd\\u8fc7\\u6765',\n",
       " u'\\u53cd\\u8fc7\\u6765\\u8bf4',\n",
       " u'\\u53cd\\u4e4b',\n",
       " u'\\u975e\\u4f46',\n",
       " u'\\u975e\\u5f92',\n",
       " u'\\u5426\\u5219',\n",
       " u'\\u560e',\n",
       " u'\\u560e\\u767b',\n",
       " u'\\u8be5',\n",
       " u'\\u8d76',\n",
       " u'\\u4e2a',\n",
       " u'\\u5404',\n",
       " u'\\u5404\\u4e2a',\n",
       " u'\\u5404\\u4f4d',\n",
       " u'\\u5404\\u79cd',\n",
       " u'\\u5404\\u81ea',\n",
       " u'\\u7ed9',\n",
       " u'\\u6839\\u636e',\n",
       " u'\\u8ddf',\n",
       " u'\\u6545',\n",
       " u'\\u6545\\u6b64',\n",
       " u'\\u56fa\\u7136',\n",
       " u'\\u5173\\u4e8e',\n",
       " u'\\u7ba1',\n",
       " u'\\u5f52',\n",
       " u'\\u679c\\u7136',\n",
       " u'\\u679c\\u771f',\n",
       " u'\\u8fc7',\n",
       " u'\\u54c8',\n",
       " u'\\u54c8\\u54c8',\n",
       " u'\\u5475',\n",
       " u'\\u548c',\n",
       " u'\\u4f55',\n",
       " u'\\u4f55\\u5904',\n",
       " u'\\u4f55\\u51b5',\n",
       " u'\\u4f55\\u65f6',\n",
       " u'\\u563f',\n",
       " u'\\u54fc',\n",
       " u'\\u54fc\\u5537',\n",
       " u'\\u547c\\u54e7',\n",
       " u'\\u4e4e',\n",
       " u'\\u54d7',\n",
       " u'\\u8fd8\\u662f',\n",
       " u'\\u8fd8\\u6709',\n",
       " u'\\u6362\\u53e5\\u8bdd\\u8bf4',\n",
       " u'\\u6362\\u8a00\\u4e4b',\n",
       " u'\\u6216',\n",
       " u'\\u6216\\u662f',\n",
       " u'\\u6216\\u8005',\n",
       " u'\\u6781\\u4e86',\n",
       " u'\\u53ca',\n",
       " u'\\u53ca\\u5176',\n",
       " u'\\u53ca\\u81f3',\n",
       " u'\\u5373',\n",
       " u'\\u5373\\u4fbf',\n",
       " u'\\u5373\\u6216',\n",
       " u'\\u5373\\u4ee4',\n",
       " u'\\u5373\\u82e5',\n",
       " u'\\u5373\\u4f7f',\n",
       " u'\\u51e0',\n",
       " u'\\u51e0\\u65f6',\n",
       " u'\\u5df1',\n",
       " u'\\u65e2',\n",
       " u'\\u65e2\\u7136',\n",
       " u'\\u65e2\\u662f',\n",
       " u'\\u7ee7\\u800c',\n",
       " u'\\u52a0\\u4e4b',\n",
       " u'\\u5047\\u5982',\n",
       " u'\\u5047\\u82e5',\n",
       " u'\\u5047\\u4f7f',\n",
       " u'\\u9274\\u4e8e',\n",
       " u'\\u5c06',\n",
       " u'\\u8f83',\n",
       " u'\\u8f83\\u4e4b',\n",
       " u'\\u53eb',\n",
       " u'\\u63a5\\u7740',\n",
       " u'\\u7ed3\\u679c',\n",
       " u'\\u501f',\n",
       " u'\\u7d27\\u63a5\\u7740',\n",
       " u'\\u8fdb\\u800c',\n",
       " u'\\u5c3d',\n",
       " u'\\u5c3d\\u7ba1',\n",
       " u'\\u7ecf',\n",
       " u'\\u7ecf\\u8fc7',\n",
       " u'\\u5c31',\n",
       " u'\\u5c31\\u662f',\n",
       " u'\\u5c31\\u662f\\u8bf4',\n",
       " u'\\u636e',\n",
       " u'\\u5177\\u4f53\\u5730\\u8bf4',\n",
       " u'\\u5177\\u4f53\\u8bf4\\u6765',\n",
       " u'\\u5f00\\u59cb',\n",
       " u'\\u5f00\\u5916',\n",
       " u'\\u9760',\n",
       " u'\\u54b3',\n",
       " u'\\u53ef',\n",
       " u'\\u53ef\\u89c1',\n",
       " u'\\u53ef\\u662f',\n",
       " u'\\u53ef\\u4ee5',\n",
       " u'\\u51b5\\u4e14',\n",
       " u'\\u5566',\n",
       " u'\\u6765',\n",
       " u'\\u6765\\u7740',\n",
       " u'\\u79bb',\n",
       " u'\\u4f8b\\u5982',\n",
       " u'\\u54e9',\n",
       " u'\\u8fde',\n",
       " u'\\u8fde\\u540c',\n",
       " u'\\u4e24\\u8005',\n",
       " u'\\u4e86',\n",
       " u'\\u4e34',\n",
       " u'\\u53e6',\n",
       " u'\\u53e6\\u5916',\n",
       " u'\\u53e6\\u4e00\\u65b9\\u9762',\n",
       " u'\\u8bba',\n",
       " u'\\u561b',\n",
       " u'\\u5417',\n",
       " u'\\u6162\\u8bf4',\n",
       " u'\\u6f2b\\u8bf4',\n",
       " u'\\u5192',\n",
       " u'\\u4e48',\n",
       " u'\\u6bcf',\n",
       " u'\\u6bcf\\u5f53',\n",
       " u'\\u4eec',\n",
       " u'\\u83ab\\u82e5',\n",
       " u'\\u67d0',\n",
       " u'\\u67d0\\u4e2a',\n",
       " u'\\u67d0\\u4e9b',\n",
       " u'\\u62ff',\n",
       " u'\\u54ea',\n",
       " u'\\u54ea\\u8fb9',\n",
       " ...]"
      ]
     },
     "execution_count": 137,
     "metadata": {},
     "output_type": "execute_result"
    }
   ],
   "source": [
    "jieba.cut"
   ]
  },
  {
   "cell_type": "code",
   "execution_count": 141,
   "metadata": {
    "collapsed": false
   },
   "outputs": [],
   "source": [
    "with codecs.open('stop_words2.txt','w','utf8') as f:\n",
    "    for i in stop_words:\n",
    "        f.write(i+'\\n')"
   ]
  },
  {
   "cell_type": "code",
   "execution_count": null,
   "metadata": {
    "collapsed": true
   },
   "outputs": [],
   "source": []
  },
  {
   "cell_type": "code",
   "execution_count": null,
   "metadata": {
    "collapsed": true
   },
   "outputs": [],
   "source": []
  },
  {
   "cell_type": "code",
   "execution_count": null,
   "metadata": {
    "collapsed": true
   },
   "outputs": [],
   "source": []
  },
  {
   "cell_type": "code",
   "execution_count": null,
   "metadata": {
    "collapsed": true
   },
   "outputs": [],
   "source": []
  },
  {
   "cell_type": "code",
   "execution_count": null,
   "metadata": {
    "collapsed": true
   },
   "outputs": [],
   "source": []
  },
  {
   "cell_type": "code",
   "execution_count": 234,
   "metadata": {
    "collapsed": false
   },
   "outputs": [
    {
     "ename": "KeyboardInterrupt",
     "evalue": "",
     "output_type": "error",
     "traceback": [
      "\u001b[1;31m---------------------------------------------------------------------------\u001b[0m",
      "\u001b[1;31mKeyboardInterrupt\u001b[0m                         Traceback (most recent call last)",
      "\u001b[1;32m<ipython-input-234-3049fc84b969>\u001b[0m in \u001b[0;36m<module>\u001b[1;34m()\u001b[0m\n\u001b[1;32m----> 1\u001b[1;33m \u001b[0mtemp\u001b[0m \u001b[1;33m=\u001b[0m \u001b[0marticle\u001b[0m\u001b[1;33m.\u001b[0m\u001b[0mcontent\u001b[0m\u001b[1;33m.\u001b[0m\u001b[0mapply\u001b[0m\u001b[1;33m(\u001b[0m\u001b[1;32mlambda\u001b[0m \u001b[0mx\u001b[0m\u001b[1;33m:\u001b[0m\u001b[1;33m[\u001b[0m\u001b[0mword\u001b[0m \u001b[1;32mfor\u001b[0m \u001b[0mword\u001b[0m \u001b[1;32min\u001b[0m \u001b[0mjieba\u001b[0m\u001b[1;33m.\u001b[0m\u001b[0mcut\u001b[0m\u001b[1;33m(\u001b[0m\u001b[0mx\u001b[0m\u001b[1;33m,\u001b[0m \u001b[0mcut_all\u001b[0m\u001b[1;33m=\u001b[0m\u001b[0mTrue\u001b[0m\u001b[1;33m)\u001b[0m \u001b[1;32mif\u001b[0m \u001b[0mlen\u001b[0m\u001b[1;33m(\u001b[0m\u001b[0mword\u001b[0m\u001b[1;33m)\u001b[0m \u001b[1;33m>=\u001b[0m \u001b[1;36m2\u001b[0m \u001b[1;32mand\u001b[0m \u001b[0mword\u001b[0m\u001b[1;33m.\u001b[0m\u001b[0misdigit\u001b[0m\u001b[1;33m(\u001b[0m\u001b[1;33m)\u001b[0m \u001b[1;33m==\u001b[0m \u001b[0mFalse\u001b[0m\u001b[1;33m]\u001b[0m\u001b[1;33m)\u001b[0m\u001b[1;33m\u001b[0m\u001b[0m\n\u001b[0m",
      "\u001b[1;32mC:\\Anaconda2\\lib\\site-packages\\pandas\\core\\series.pyc\u001b[0m in \u001b[0;36mapply\u001b[1;34m(self, func, convert_dtype, args, **kwds)\u001b[0m\n\u001b[0;32m   2218\u001b[0m         \u001b[1;32melse\u001b[0m\u001b[1;33m:\u001b[0m\u001b[1;33m\u001b[0m\u001b[0m\n\u001b[0;32m   2219\u001b[0m             \u001b[0mvalues\u001b[0m \u001b[1;33m=\u001b[0m \u001b[0mself\u001b[0m\u001b[1;33m.\u001b[0m\u001b[0masobject\u001b[0m\u001b[1;33m\u001b[0m\u001b[0m\n\u001b[1;32m-> 2220\u001b[1;33m             \u001b[0mmapped\u001b[0m \u001b[1;33m=\u001b[0m \u001b[0mlib\u001b[0m\u001b[1;33m.\u001b[0m\u001b[0mmap_infer\u001b[0m\u001b[1;33m(\u001b[0m\u001b[0mvalues\u001b[0m\u001b[1;33m,\u001b[0m \u001b[0mf\u001b[0m\u001b[1;33m,\u001b[0m \u001b[0mconvert\u001b[0m\u001b[1;33m=\u001b[0m\u001b[0mconvert_dtype\u001b[0m\u001b[1;33m)\u001b[0m\u001b[1;33m\u001b[0m\u001b[0m\n\u001b[0m\u001b[0;32m   2221\u001b[0m \u001b[1;33m\u001b[0m\u001b[0m\n\u001b[0;32m   2222\u001b[0m         \u001b[1;32mif\u001b[0m \u001b[0mlen\u001b[0m\u001b[1;33m(\u001b[0m\u001b[0mmapped\u001b[0m\u001b[1;33m)\u001b[0m \u001b[1;32mand\u001b[0m \u001b[0misinstance\u001b[0m\u001b[1;33m(\u001b[0m\u001b[0mmapped\u001b[0m\u001b[1;33m[\u001b[0m\u001b[1;36m0\u001b[0m\u001b[1;33m]\u001b[0m\u001b[1;33m,\u001b[0m \u001b[0mSeries\u001b[0m\u001b[1;33m)\u001b[0m\u001b[1;33m:\u001b[0m\u001b[1;33m\u001b[0m\u001b[0m\n",
      "\u001b[1;32mpandas\\src\\inference.pyx\u001b[0m in \u001b[0;36mpandas.lib.map_infer (pandas\\lib.c:62658)\u001b[1;34m()\u001b[0m\n",
      "\u001b[1;32m<ipython-input-234-3049fc84b969>\u001b[0m in \u001b[0;36m<lambda>\u001b[1;34m(x)\u001b[0m\n\u001b[1;32m----> 1\u001b[1;33m \u001b[0mtemp\u001b[0m \u001b[1;33m=\u001b[0m \u001b[0marticle\u001b[0m\u001b[1;33m.\u001b[0m\u001b[0mcontent\u001b[0m\u001b[1;33m.\u001b[0m\u001b[0mapply\u001b[0m\u001b[1;33m(\u001b[0m\u001b[1;32mlambda\u001b[0m \u001b[0mx\u001b[0m\u001b[1;33m:\u001b[0m\u001b[1;33m[\u001b[0m\u001b[0mword\u001b[0m \u001b[1;32mfor\u001b[0m \u001b[0mword\u001b[0m \u001b[1;32min\u001b[0m \u001b[0mjieba\u001b[0m\u001b[1;33m.\u001b[0m\u001b[0mcut\u001b[0m\u001b[1;33m(\u001b[0m\u001b[0mx\u001b[0m\u001b[1;33m,\u001b[0m \u001b[0mcut_all\u001b[0m\u001b[1;33m=\u001b[0m\u001b[0mTrue\u001b[0m\u001b[1;33m)\u001b[0m \u001b[1;32mif\u001b[0m \u001b[0mlen\u001b[0m\u001b[1;33m(\u001b[0m\u001b[0mword\u001b[0m\u001b[1;33m)\u001b[0m \u001b[1;33m>=\u001b[0m \u001b[1;36m2\u001b[0m \u001b[1;32mand\u001b[0m \u001b[0mword\u001b[0m\u001b[1;33m.\u001b[0m\u001b[0misdigit\u001b[0m\u001b[1;33m(\u001b[0m\u001b[1;33m)\u001b[0m \u001b[1;33m==\u001b[0m \u001b[0mFalse\u001b[0m\u001b[1;33m]\u001b[0m\u001b[1;33m)\u001b[0m\u001b[1;33m\u001b[0m\u001b[0m\n\u001b[0m",
      "\u001b[1;32mC:\\Anaconda2\\lib\\site-packages\\jieba\\__init__.pyc\u001b[0m in \u001b[0;36mcut\u001b[1;34m(self, sentence, cut_all, HMM)\u001b[0m\n\u001b[0;32m    299\u001b[0m                 \u001b[1;32mcontinue\u001b[0m\u001b[1;33m\u001b[0m\u001b[0m\n\u001b[0;32m    300\u001b[0m             \u001b[1;32mif\u001b[0m \u001b[0mre_han\u001b[0m\u001b[1;33m.\u001b[0m\u001b[0mmatch\u001b[0m\u001b[1;33m(\u001b[0m\u001b[0mblk\u001b[0m\u001b[1;33m)\u001b[0m\u001b[1;33m:\u001b[0m\u001b[1;33m\u001b[0m\u001b[0m\n\u001b[1;32m--> 301\u001b[1;33m                 \u001b[1;32mfor\u001b[0m \u001b[0mword\u001b[0m \u001b[1;32min\u001b[0m \u001b[0mcut_block\u001b[0m\u001b[1;33m(\u001b[0m\u001b[0mblk\u001b[0m\u001b[1;33m)\u001b[0m\u001b[1;33m:\u001b[0m\u001b[1;33m\u001b[0m\u001b[0m\n\u001b[0m\u001b[0;32m    302\u001b[0m                     \u001b[1;32myield\u001b[0m \u001b[0mword\u001b[0m\u001b[1;33m\u001b[0m\u001b[0m\n\u001b[0;32m    303\u001b[0m             \u001b[1;32melse\u001b[0m\u001b[1;33m:\u001b[0m\u001b[1;33m\u001b[0m\u001b[0m\n",
      "\u001b[1;32mC:\\Anaconda2\\lib\\site-packages\\jieba\\__init__.pyc\u001b[0m in \u001b[0;36m__cut_all\u001b[1;34m(self, sentence)\u001b[0m\n\u001b[0;32m    198\u001b[0m         \u001b[0mold_j\u001b[0m \u001b[1;33m=\u001b[0m \u001b[1;33m-\u001b[0m\u001b[1;36m1\u001b[0m\u001b[1;33m\u001b[0m\u001b[0m\n\u001b[0;32m    199\u001b[0m         \u001b[1;32mfor\u001b[0m \u001b[0mk\u001b[0m\u001b[1;33m,\u001b[0m \u001b[0mL\u001b[0m \u001b[1;32min\u001b[0m \u001b[0miteritems\u001b[0m\u001b[1;33m(\u001b[0m\u001b[0mdag\u001b[0m\u001b[1;33m)\u001b[0m\u001b[1;33m:\u001b[0m\u001b[1;33m\u001b[0m\u001b[0m\n\u001b[1;32m--> 200\u001b[1;33m             \u001b[1;32mif\u001b[0m \u001b[0mlen\u001b[0m\u001b[1;33m(\u001b[0m\u001b[0mL\u001b[0m\u001b[1;33m)\u001b[0m \u001b[1;33m==\u001b[0m \u001b[1;36m1\u001b[0m \u001b[1;32mand\u001b[0m \u001b[0mk\u001b[0m \u001b[1;33m>\u001b[0m \u001b[0mold_j\u001b[0m\u001b[1;33m:\u001b[0m\u001b[1;33m\u001b[0m\u001b[0m\n\u001b[0m\u001b[0;32m    201\u001b[0m                 \u001b[1;32myield\u001b[0m \u001b[0msentence\u001b[0m\u001b[1;33m[\u001b[0m\u001b[0mk\u001b[0m\u001b[1;33m:\u001b[0m\u001b[0mL\u001b[0m\u001b[1;33m[\u001b[0m\u001b[1;36m0\u001b[0m\u001b[1;33m]\u001b[0m \u001b[1;33m+\u001b[0m \u001b[1;36m1\u001b[0m\u001b[1;33m]\u001b[0m\u001b[1;33m\u001b[0m\u001b[0m\n\u001b[0;32m    202\u001b[0m                 \u001b[0mold_j\u001b[0m \u001b[1;33m=\u001b[0m \u001b[0mL\u001b[0m\u001b[1;33m[\u001b[0m\u001b[1;36m0\u001b[0m\u001b[1;33m]\u001b[0m\u001b[1;33m\u001b[0m\u001b[0m\n",
      "\u001b[1;31mKeyboardInterrupt\u001b[0m: "
     ]
    }
   ],
   "source": [
    "temp = article.content.apply(lambda x:[word for word in jieba.cut(x, cut_all=True) if len(word) >= 2 and word.isdigit() == False])"
   ]
  },
  {
   "cell_type": "code",
   "execution_count": null,
   "metadata": {
    "collapsed": false
   },
   "outputs": [],
   "source": [
    "temp = temp.values.tolist()"
   ]
  },
  {
   "cell_type": "code",
   "execution_count": null,
   "metadata": {
    "collapsed": false
   },
   "outputs": [],
   "source": [
    "dictionary = gensim.corpora.Dictionary(temp)"
   ]
  },
  {
   "cell_type": "code",
   "execution_count": null,
   "metadata": {
    "collapsed": false
   },
   "outputs": [],
   "source": [
    "corpus = [dictionary.doc2bow(text) for text in temp]"
   ]
  },
  {
   "cell_type": "code",
   "execution_count": null,
   "metadata": {
    "collapsed": false
   },
   "outputs": [],
   "source": [
    "model = gensim.models.LdaModel(corpus,num_topics=500,id2word=dict(dictionary.iteritems()))"
   ]
  },
  {
   "cell_type": "code",
   "execution_count": 204,
   "metadata": {
    "collapsed": false
   },
   "outputs": [
    {
     "data": {
      "text/plain": [
       "[(342,\n",
       "  u'0.017*\\u5b8b\\u5b66 + 0.015*\\u5b66\\u672f + 0.009*\\u6c49\\u5b66 + 0.007*\\u4e2d\\u56fd + 0.006*\\u6587\\u5b66'),\n",
       " (252,\n",
       "  u'0.012*\\u56f4\\u57ce + 0.009*\\u751f\\u6bcd + 0.009*\\u6c49\\u6587 + 0.009*\\u6211\\u4eec + 0.008*\\u540c\\u4e3a'),\n",
       " (278,\n",
       "  u'0.025*\\u4e70\\u5230 + 0.014*\\u59e8\\u5988 + 0.012*\\u88ab\\u4fd8 + 0.011*\\u5947\\u5e7b + 0.010*\\u6c11\\u65cf\\u5927\\u4e49'),\n",
       " (256,\n",
       "  u'0.022*\\u4ee3\\u8868\\u4f5c\\u54c1 + 0.021*\\u6559\\u7687 + 0.017*\\u8001\\u592b + 0.014*\\u8001\\u592b\\u5b50 + 0.012*\\u5316\\u51fa'),\n",
       " (496,\n",
       "  u'0.011*\\u4e00\\u4e2a + 0.010*\\n\\n + 0.006*\\u6211\\u4eec + 0.006*\\u53ef\\u4ee5 + 0.005*\\u95ee\\u9898')]"
      ]
     },
     "execution_count": 204,
     "metadata": {},
     "output_type": "execute_result"
    }
   ],
   "source": [
    "model.show_topics(num_topics=5,num_words=5)"
   ]
  },
  {
   "cell_type": "code",
   "execution_count": 224,
   "metadata": {
    "collapsed": false
   },
   "outputs": [
    {
     "data": {
      "text/plain": [
       "0      (天文, 0.0520484389667)\n",
       "1      (数学, 0.0481501642149)\n",
       "2      (十全, 0.0119629145926)\n",
       "3      (著称, 0.0118229513518)\n",
       "4      (多几, 0.0116066352684)\n",
       "5      (喜好, 0.0115809298341)\n",
       "6    (十全十美, 0.0114911710324)\n",
       "7      (文法, 0.0107060483353)\n",
       "8      (数学家, 0.010465392656)\n",
       "9     (残留, 0.00909555463013)\n",
       "dtype: object"
      ]
     },
     "execution_count": 224,
     "metadata": {},
     "output_type": "execute_result"
    }
   ],
   "source": [
    "Series(model.show_topic(20))"
   ]
  },
  {
   "cell_type": "code",
   "execution_count": 241,
   "metadata": {
    "collapsed": false
   },
   "outputs": [
    {
     "name": "stdout",
     "output_type": "stream",
     "text": [
      "       断断续续花了一周，终于在春节前啃完了这本《政治无意识》，了却夙愿。这两年几次翻开这本书，又几次在术语和作品的迷宫里走失，不得要领地匆匆合上。\n",
      "      不得不说，读詹姆逊的痛苦和乐趣，都来自他理论视野的广阔。《政治无意识》立足马克思主义，同时借鉴并批判二战后形形色色的“理论”：“无意识”和“白日梦”的概念借自弗洛伊德和拉康的精神分析，叙事结构的政治寓言性来自列维•斯特劳斯的结构主义和本雅明，“历史的文本化”来自福柯、德勒兹、德里达的后结构主义，乌托邦和意识形态的辩证法来自涂尔干的宗教论和恩斯特•布洛克对 “希望”的分析。循着这个庞大的理论对话的谱系，詹姆逊反思了马克思主义文化批评的核心问题，即“作品与现实”的关系问题，着重批评了其两大理论“死结”：一是“文艺作品反映社会现实”的反映论，二是“文艺服务意识形态”的工具论。这两项批判集中在本书的序言和结论，单序言便长达八十多页，足可见这一理论问题在詹姆逊文化批评中的重要位置。在詹姆逊看来，作品与现实的关系本质是语言与历史的关系。（后）结构主义视“语言”为本体，马克思主义视“历史”为本体，要解决这一矛盾，必须抓住语言走向历史的起点：“叙事”。\n",
      "       在詹姆逊看来，反映论固然是庸俗的唯物论，但其解决方案并非简单的后结构主义“转向”，即对历史和实在的彻底否定（“文本之外无他物”），否则无异于走向了另一种“结构主义的意识形态”。从“叙事”角度，詹姆逊对反映论提出两点修正：1）意识形态恰恰隐藏在叙事形式之中，詹姆逊称为 “ideology of form”， 而“人物”或“故事内容”，不过是叙事的装置和效果。2）作品并非机械的“反映”某一阶级观念，而是一种政治“寓言”，是对现有的不可解决的社会矛盾的象征性、想象性的“解决”（类似列维斯特劳斯描述的巴西印第安部落对称性面饰是对部落不平等关系的想象性解决）。在这一意义上，文本参与组织现实，重构现实（这里的“现实”，不是传统的背景式的context，而是詹姆逊命名的subtext）。\n",
      "       “工具论”则来自马克思主义传统对意识形态的偏见，将意识形态简单理解为阶级统治的工具。詹姆逊引用本雅明的名言 “Every document of civilization is at the same time a document of barbarism”, 反其道而用之，认为成功的意识形态总是蕴含了社会乌托邦的愿景和冲动（Utopian impulse）（例如纳粹的成功在于其理念迎合了战后德国民众对国家和社会重建的期待）。马克思主义需要思考意识形态如何成功，发掘其中乌托邦的面向，詹姆逊称之为“积极阐释”。\n",
      "       雷蒙德•威廉斯的弟子伊格尔顿曾经说过，批评理论兴起并非文本阅读“荒废”的罪魁，大批评家从不空谈理论，多为细读的高手，如巴特之于巴尔扎克，詹姆逊之于康拉德，德里达之于卢梭和波德莱尔。带着理论对话的视野，詹姆逊游刃于现实主义和现代主义的代表性文本之间，展开了“症候式”解读。巴尔扎克的小说《老姑娘》中，贵族老头、资产阶级、和穷年轻诗人争相追求拥有乡村豪宅的老姑娘科尔蒙小姐。科尔蒙小姐嫁给了精力充沛的资产阶级代表波斯奎尔，却发现此人性无能。在詹姆逊看来，这不啻是大革命后法国社会矛盾的隐喻：贵族体面却无力行动，布尔乔亚进取却成事不足，拿破仑时代的权势已经逝去，而剧中唯一集多种政治优势于一身的婚配候选人，却是“已婚”的伯爵。小说的结局：科尔蒙小姐结婚了，然而她依然是一位“老处女”。无性之婚，便是法国社会改革的“想象性解决”，也是历史悲剧的喜剧性解决。这是寓言的力量，是任何政治檄文都难以言传的“政治无意识”。\n"
     ]
    }
   ],
   "source": [
    "id = 10\n",
    "temp_text = article.content.values[id]\n",
    "print article.content.values[id]"
   ]
  },
  {
   "cell_type": "code",
   "execution_count": 242,
   "metadata": {
    "collapsed": false
   },
   "outputs": [],
   "source": [
    "temp_text = [word for word in jieba.cut(temp_text, cut_all=False) if len(word) >= 2 and word.isdigit() == False]"
   ]
  },
  {
   "cell_type": "code",
   "execution_count": 243,
   "metadata": {
    "collapsed": false
   },
   "outputs": [],
   "source": [
    "query_bow = dictionary.doc2bow(temp_text)"
   ]
  },
  {
   "cell_type": "code",
   "execution_count": 244,
   "metadata": {
    "collapsed": false
   },
   "outputs": [
    {
     "name": "stdout",
     "output_type": "stream",
     "text": [
      "[(28, 0.019240884230657933), (115, 0.036023090902547329), (196, 0.086139651455947264), (197, 0.57360926360994458), (245, 0.014453650282155166), (353, 0.01276608083098291), (409, 0.025138541680818926), (433, 0.032755856291901808), (454, 0.0221859591144856), (496, 0.12182269458363143), (498, 0.014498521777422498)]\n"
     ]
    }
   ],
   "source": [
    "print model[query_bow]\n",
    "topic_id = model[query_bow][0][0]"
   ]
  },
  {
   "cell_type": "code",
   "execution_count": 245,
   "metadata": {
    "collapsed": false
   },
   "outputs": [
    {
     "data": {
      "text/plain": [
       "0       (另类, 0.0117977913891)\n",
       "1       (拉美, 0.0105638690574)\n",
       "2      (一个, 0.00975037229343)\n",
       "3      (自己, 0.00935625435531)\n",
       "4    (\\n\\n, 0.00756861409036)\n",
       "5      (小说, 0.00589571477877)\n",
       "6      (我们, 0.00487683943112)\n",
       "7      (就是, 0.00475890138767)\n",
       "8      (这样, 0.00401048643812)\n",
       "9      (没有, 0.00386270603317)\n",
       "dtype: object"
      ]
     },
     "execution_count": 245,
     "metadata": {},
     "output_type": "execute_result"
    }
   ],
   "source": [
    "Series(model.show_topic(topic_id))"
   ]
  },
  {
   "cell_type": "code",
   "execution_count": 246,
   "metadata": {
    "collapsed": false
   },
   "outputs": [
    {
     "data": {
      "text/plain": [
       "[(28, 0.018870130139376821),\n",
       " (115, 0.030197052963947431),\n",
       " (196, 0.085842179766294754),\n",
       " (197, 0.57094322189326263),\n",
       " (245, 0.014466801286607288),\n",
       " (353, 0.012775475253266829),\n",
       " (409, 0.025331075150485022),\n",
       " (433, 0.033751554590482569),\n",
       " (454, 0.022179555665716236),\n",
       " (496, 0.12173825148163277),\n",
       " (498, 0.014481059946748297)]"
      ]
     },
     "execution_count": 246,
     "metadata": {},
     "output_type": "execute_result"
    }
   ],
   "source": [
    "model[query_bow]"
   ]
  },
  {
   "cell_type": "code",
   "execution_count": null,
   "metadata": {
    "collapsed": true
   },
   "outputs": [],
   "source": []
  },
  {
   "cell_type": "code",
   "execution_count": 1,
   "metadata": {
    "collapsed": true
   },
   "outputs": [],
   "source": [
    "import jieba"
   ]
  },
  {
   "cell_type": "code",
   "execution_count": 6,
   "metadata": {
    "collapsed": false
   },
   "outputs": [
    {
     "name": "stdout",
     "output_type": "stream",
     "text": [
      "喂 , 我 爱 北京 天安门\n"
     ]
    }
   ],
   "source": [
    "print ' '.join(jieba.cut(u'喂,我爱北京天安门'))"
   ]
  },
  {
   "cell_type": "code",
   "execution_count": null,
   "metadata": {
    "collapsed": true
   },
   "outputs": [],
   "source": []
  }
 ],
 "metadata": {
  "anaconda-cloud": {},
  "kernelspec": {
   "display_name": "Python [Root]",
   "language": "python",
   "name": "Python [Root]"
  },
  "language_info": {
   "codemirror_mode": {
    "name": "ipython",
    "version": 2
   },
   "file_extension": ".py",
   "mimetype": "text/x-python",
   "name": "python",
   "nbconvert_exporter": "python",
   "pygments_lexer": "ipython2",
   "version": "2.7.12"
  }
 },
 "nbformat": 4,
 "nbformat_minor": 0
}
